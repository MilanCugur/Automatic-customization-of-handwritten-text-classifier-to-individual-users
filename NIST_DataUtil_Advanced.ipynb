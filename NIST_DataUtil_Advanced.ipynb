{
  "nbformat": 4,
  "nbformat_minor": 0,
  "metadata": {
    "colab": {
      "name": "NIST_DataUtil_Advanced.ipynb",
      "version": "0.3.2",
      "provenance": [],
      "collapsed_sections": [
        "nNVUTqUyZQuE"
      ],
      "toc_visible": true,
      "include_colab_link": true
    },
    "kernelspec": {
      "name": "python3",
      "display_name": "Python 3"
    },
    "accelerator": "GPU"
  },
  "cells": [
    {
      "cell_type": "markdown",
      "metadata": {
        "id": "view-in-github",
        "colab_type": "text"
      },
      "source": [
        "<a href=\"https://colab.research.google.com/github/MilanCugur/Offline_Writer_Identification/blob/master/NIST_DataUtil_Advanced.ipynb\" target=\"_parent\"><img src=\"https://colab.research.google.com/assets/colab-badge.svg\" alt=\"Open In Colab\"/></a>"
      ]
    },
    {
      "metadata": {
        "id": "cUcz2S69s4vW",
        "colab_type": "code",
        "colab": {}
      },
      "cell_type": "code",
      "source": [
        "from google.colab import drive\n",
        "drive.mount('/content/drive')"
      ],
      "execution_count": 0,
      "outputs": []
    },
    {
      "metadata": {
        "id": "pykiTh2etEda",
        "colab_type": "code",
        "colab": {}
      },
      "cell_type": "code",
      "source": [
        "!rm -r ./sample_data/"
      ],
      "execution_count": 0,
      "outputs": []
    },
    {
      "metadata": {
        "id": "m3-v5r7KtROx",
        "colab_type": "code",
        "colab": {}
      },
      "cell_type": "code",
      "source": [
        "!df"
      ],
      "execution_count": 0,
      "outputs": []
    },
    {
      "metadata": {
        "id": "TTbi2vwatS5N",
        "colab_type": "code",
        "colab": {}
      },
      "cell_type": "code",
      "source": [
        "import os\n",
        "from zipfile import ZipFile"
      ],
      "execution_count": 0,
      "outputs": []
    },
    {
      "metadata": {
        "id": "kmkLziLWtV0j",
        "colab_type": "text"
      },
      "cell_type": "markdown",
      "source": [
        "# Extract Files"
      ]
    },
    {
      "metadata": {
        "id": "cgmLuPtutU_K",
        "colab_type": "code",
        "colab": {}
      },
      "cell_type": "code",
      "source": [
        "%%time\n",
        "\n",
        "path = \"drive/My Drive/HMath/NIST/by_write.zip\"\n",
        "archive = ZipFile(path, 'r')\n",
        "archive.extractall('./')  \n",
        "archive.close()"
      ],
      "execution_count": 0,
      "outputs": []
    },
    {
      "metadata": {
        "id": "OXqwq1NdvZOG",
        "colab_type": "text"
      },
      "cell_type": "markdown",
      "source": [
        "# Convert one image"
      ]
    },
    {
      "metadata": {
        "id": "mCBqys23w4i1",
        "colab_type": "code",
        "colab": {}
      },
      "cell_type": "code",
      "source": [
        "import numpy as np\n",
        "from skimage.io import imread, imsave\n",
        "from skimage.color import rgb2gray\n",
        "from scipy.misc import imresize\n",
        "from scipy import ndimage\n",
        "\n",
        "import matplotlib.pyplot as plt\n",
        "import matplotlib.image as mpimg\n",
        "\n",
        "from skimage import io\n",
        "from skimage import transform\n",
        "\n",
        "from cv2 import resize\n",
        "import cv2"
      ],
      "execution_count": 0,
      "outputs": []
    },
    {
      "metadata": {
        "id": "MxPHd9TXwe3Z",
        "colab_type": "code",
        "colab": {}
      },
      "cell_type": "code",
      "source": [
        "check_path = './by_write/hsf_4/f2471_82/d2471_82/d2471_82_00003.png'  # label = 2\n",
        "check_path = './by_write/hsf_2/f1009_29/u1009_29/u1009_29_00010.png'  # label = E\n",
        "BOX_SIZE = 28"
      ],
      "execution_count": 0,
      "outputs": []
    },
    {
      "metadata": {
        "id": "Ub-bXn48vYju",
        "colab_type": "code",
        "colab": {}
      },
      "cell_type": "code",
      "source": [
        "# Original images\n",
        "img = imread(check_path)\n",
        "print(img.shape)\n",
        "plt.imshow(img)\n",
        "plt.show()"
      ],
      "execution_count": 0,
      "outputs": []
    },
    {
      "metadata": {
        "id": "XeTZ8nwYuLtR",
        "colab_type": "code",
        "colab": {}
      },
      "cell_type": "code",
      "source": [
        "# Just converted to Gray-Scale\n",
        "img = rgb2gray(imread(check_path))\n",
        "print(img.shape)\n",
        "plt.imshow(img)\n",
        "plt.show()"
      ],
      "execution_count": 0,
      "outputs": []
    },
    {
      "metadata": {
        "id": "LNhLHyNM3Cla",
        "colab_type": "code",
        "colab": {}
      },
      "cell_type": "code",
      "source": [
        "# Already implemented simple hack\n",
        "img = rgb2gray(io.imread(check_path))[32:96, 32:96]\n",
        "plt.imshow(img)\n",
        "plt.show()"
      ],
      "execution_count": 0,
      "outputs": []
    },
    {
      "metadata": {
        "id": "_HtJbIrYw_d-",
        "colab_type": "code",
        "colab": {}
      },
      "cell_type": "code",
      "source": [
        "# Preimplemented 'resize' module from skimage\n",
        "img = rgb2gray(transform.resize(imread(check_path), (BOX_SIZE, BOX_SIZE)))\n",
        "print(img.shape)\n",
        "plt.imshow(img)\n",
        "plt.show()"
      ],
      "execution_count": 0,
      "outputs": []
    },
    {
      "metadata": {
        "id": "52q_WLtfHHzA",
        "colab_type": "text"
      },
      "cell_type": "markdown",
      "source": [
        "# Paper method"
      ]
    },
    {
      "metadata": {
        "id": "M9sj1vBWEwEv",
        "colab_type": "code",
        "colab": {}
      },
      "cell_type": "code",
      "source": [
        "def add_gaussian_noise(img):\n",
        "  return ndimage.gaussian_filter(img, sigma=1)"
      ],
      "execution_count": 0,
      "outputs": []
    },
    {
      "metadata": {
        "id": "X4k5rVoQ2rm9",
        "colab_type": "code",
        "colab": {}
      },
      "cell_type": "code",
      "source": [
        "# Add Gaussian noise and Crop image\n",
        "def crop_image(path_to_image, pad=1):\n",
        "  img = rgb2gray(imread(path_to_image))\n",
        "  #print(img.shape)\n",
        "  #plt.imshow(img)\n",
        "  #plt.show()\n",
        "\n",
        "  for v in range(0, 128):\n",
        "    if not (np.all(img[v])==1):\n",
        "      break\n",
        "  v_min = v\n",
        "  for v in range(127, -1, -1):\n",
        "    if not (np.all(img[v])==1):\n",
        "      break\n",
        "  v_max = v\n",
        " \n",
        "  for k in range(0, 128):\n",
        "    if not np.all(img[:,k])==1:\n",
        "      break;\n",
        "  k_min = k\n",
        "  for k in range(127, -1, -1):\n",
        "    if not np.all(img[:,k])==1:\n",
        "      break;\n",
        "  k_max = k\n",
        "  \n",
        "  img = ndimage.gaussian_filter(img, sigma=1)\n",
        "\n",
        "  #img[v_min] = [0 for _ in range(128)]\n",
        "  #img[v_max] =  [0 for _ in range(128)]\n",
        "  #img[:,k_min] = [0 for _ in range(128)]\n",
        "  #img[:,k_max] = [0 for _ in range(128)]  \n",
        "\n",
        "  v_min = max(0, v_min-pad)\n",
        "  v_max = min(128, v_max+pad)\n",
        "  k_min = max(0, k_min-pad)\n",
        "  k_max = min(128, k_max+pad)\n",
        "  img = img[v_min:v_max+1, k_min:k_max+1]\n",
        "  \n",
        "  #print(img.shape)\n",
        "  #plt.imshow(img)\n",
        "  #plt.show()\n",
        "  \n",
        "  return img"
      ],
      "execution_count": 0,
      "outputs": []
    },
    {
      "metadata": {
        "id": "aWmkA594N8v5",
        "colab_type": "code",
        "colab": {}
      },
      "cell_type": "code",
      "source": [
        "def square_image(img, pad=2):\n",
        "  height, width = img.shape\n",
        "  box_size = pad + max(height, width)\n",
        "  new_img = np.ones(shape=(box_size, box_size))\n",
        "  \n",
        "  left = (box_size-height)//2\n",
        "  right = (box_size-width)//2\n",
        "  new_img[left:left+height, right:right+width] = img\n",
        "  return new_img"
      ],
      "execution_count": 0,
      "outputs": []
    },
    {
      "metadata": {
        "id": "GfAcmnMyZ1KS",
        "colab_type": "code",
        "colab": {}
      },
      "cell_type": "code",
      "source": [
        "def resize_image(img, box_size):\n",
        "  new_img = np.zeros(shape=(box_size, box_size), dtype=np.uint8)\n",
        "  new_img.fill(255)\n",
        "  tmp_img = imresize(arr=img, size=box_size/img.shape[0], interp='bicubic')\n",
        "  new_img[0:tmp_img.shape[0], 0:tmp_img.shape[1]] = tmp_img\n",
        "  return new_img\n",
        "  #return resize(img, dsize=(box_size, box_size), interpolation=cv2.INTER_CUBIC)\n",
        "  #return imresize(arr=img, size=box_size/img.shape[0], interp='bicubic')"
      ],
      "execution_count": 0,
      "outputs": []
    },
    {
      "metadata": {
        "id": "kvgvb4G6ba3G",
        "colab_type": "code",
        "colab": {}
      },
      "cell_type": "code",
      "source": [
        "img = crop_image('./by_write/hsf_2/f1009_29/u1009_29/u1009_29_00010.png')\n",
        "img = square_image(img)\n",
        "img = resize_image(img, BOX_SIZE)\n",
        "\n",
        "print(img)\n",
        "print(img.shape)\n",
        "plt.imshow(img)\n",
        "plt.plot()"
      ],
      "execution_count": 0,
      "outputs": []
    },
    {
      "metadata": {
        "id": "KmKK8IAqLE_O",
        "colab_type": "code",
        "colab": {}
      },
      "cell_type": "code",
      "source": [
        "img = crop_image('./by_write/hsf_4/f2471_82/d2471_82/d2471_82_00003.png')\n",
        "img = square_image(img)\n",
        "img = resize_image(img, BOX_SIZE)\n",
        "\n",
        "print(img)\n",
        "print(img.shape)\n",
        "plt.imshow(img)\n",
        "plt.plot()"
      ],
      "execution_count": 0,
      "outputs": []
    },
    {
      "metadata": {
        "id": "ynmlVyZVeXJi",
        "colab_type": "text"
      },
      "cell_type": "markdown",
      "source": [
        "# Create Folder ImgDiscAdvanced"
      ]
    },
    {
      "metadata": {
        "id": "nhM4ExpTfVTK",
        "colab_type": "code",
        "colab": {}
      },
      "cell_type": "code",
      "source": [
        "# Modules imported before\n",
        "BOX_SIZE = 28"
      ],
      "execution_count": 0,
      "outputs": []
    },
    {
      "metadata": {
        "id": "ccGgNcMIev_j",
        "colab_type": "code",
        "colab": {}
      },
      "cell_type": "code",
      "source": [
        "%%time\n",
        "\n",
        "ImgDisk = './ImgDiskAdvanced_V2'\n",
        "if not os.path.exists(ImgDisk):\n",
        "  os.makedirs(ImgDisk)\n",
        "\n",
        "for root, dirs, files in os.walk(\"./by_write\"):\n",
        "  for d in dirs:\n",
        "    if d[0] == 'h':\n",
        "      continue\n",
        "    elif d[0] == 'f':\n",
        "      tmppath = os.path.join(ImgDisk, d)\n",
        "      if not os.path.exists(tmppath):\n",
        "        os.makedirs(tmppath)\n",
        "    elif d[0] in ['d', 'l', 'u', 'c']:\n",
        "      mediumpath = root.split('/')[-1]\n",
        "      tmppath = os.path.join(os.path.join(ImgDisk, mediumpath), d)\n",
        "      if not os.path.exists(tmppath):\n",
        "        os.makedirs(tmppath)\n",
        "    else:\n",
        "      raise Exception('Invalid folder in directory \\\"by_write\\\"')\n",
        "    \n",
        "  \n",
        "  for f in files:\n",
        "    if f.endswith('.png'):\n",
        "      tmp_path = os.path.join(root, f)\n",
        "      tmp_path_splitted = tmp_path.split('/')\n",
        "      new_path = os.path.join(ImgDisk, tmp_path_splitted[3]+'/'+tmp_path_splitted[4]+'/'+tmp_path_splitted[5])\n",
        "      \n",
        "      #img = rgb2gray(imread(tmp_path))[32:96, 32:96]  \n",
        "      img = crop_image(tmp_path)\n",
        "      img = square_image(img)\n",
        "      img = resize_image(img, BOX_SIZE)\n",
        "      \n",
        "      imsave(new_path, img)"
      ],
      "execution_count": 0,
      "outputs": []
    },
    {
      "metadata": {
        "id": "irYJ2V8KexSd",
        "colab_type": "code",
        "colab": {}
      },
      "cell_type": "code",
      "source": [
        "# Small test\n",
        "total = 0\n",
        "for root, dirs, files in os.walk(\"./ImgDiskAdvanced_V2\"):\n",
        "  for f in files:\n",
        "    total += 1\n",
        "\n",
        "print(total)"
      ],
      "execution_count": 0,
      "outputs": []
    },
    {
      "metadata": {
        "id": "a357pIbtexGL",
        "colab_type": "code",
        "colab": {}
      },
      "cell_type": "code",
      "source": [
        "!ls ./ImgDiskAdvanced_V2/ | wc -l  # Its ok! 500+500+500+598+499+500"
      ],
      "execution_count": 0,
      "outputs": []
    },
    {
      "metadata": {
        "id": "RNWuRqd5r2g-",
        "colab_type": "text"
      },
      "cell_type": "markdown",
      "source": [
        "# Write images to Disc"
      ]
    },
    {
      "metadata": {
        "id": "lSK0ziClew4w",
        "colab_type": "code",
        "colab": {}
      },
      "cell_type": "code",
      "source": [
        "%%time\n",
        "\n",
        "import shutil\n",
        "shutil.make_archive(\"CompressedImgDiskAdvanced_V2\", 'zip', \"ImgDiskAdvanced_V2\")"
      ],
      "execution_count": 0,
      "outputs": []
    },
    {
      "metadata": {
        "id": "lIev7-Siev6c",
        "colab_type": "code",
        "colab": {}
      },
      "cell_type": "code",
      "source": [
        "!ls -lsh"
      ],
      "execution_count": 0,
      "outputs": []
    },
    {
      "metadata": {
        "id": "8vUpwlyvev1s",
        "colab_type": "code",
        "colab": {}
      },
      "cell_type": "code",
      "source": [
        "!mv ./CompressedImgDiskAdvanced_V2.zip './drive/My Drive/HMath/NIST/'"
      ],
      "execution_count": 0,
      "outputs": []
    },
    {
      "metadata": {
        "id": "_ZHNggfaevwe",
        "colab_type": "code",
        "colab": {}
      },
      "cell_type": "code",
      "source": [
        "!ls -lsh './drive/My Drive/HMath/NIST/'"
      ],
      "execution_count": 0,
      "outputs": []
    },
    {
      "metadata": {
        "id": "nNVUTqUyZQuE",
        "colab_type": "text"
      },
      "cell_type": "markdown",
      "source": [
        "# DOCUMENTATION"
      ]
    },
    {
      "metadata": {
        "id": "T1nuhsdHZTHv",
        "colab_type": "code",
        "colab": {}
      },
      "cell_type": "code",
      "source": [
        "pad = 2\n",
        "img = rgb2gray(imread(check_path))\n",
        "print(img.shape)\n",
        "plt.imshow(img)\n",
        "plt.show()\n",
        "\n",
        "for v in range(0, 128):\n",
        "  if not (np.all(img[v])==1):\n",
        "    break\n",
        "v_min = v\n",
        "for v in range(127, -1, -1):\n",
        "  if not (np.all(img[v])==1):\n",
        "    break\n",
        "v_max = v\n",
        "\n",
        "for k in range(0, 128):\n",
        "  if not np.all(img[:,k])==1:\n",
        "    break;\n",
        "k_min = k\n",
        "for k in range(127, -1, -1):\n",
        "  if not np.all(img[:,k])==1:\n",
        "    break;\n",
        "k_max = k\n",
        "  \n",
        "img = ndimage.gaussian_filter(img, sigma=1)\n",
        "\n",
        "#img[v_min] = [0 for _ in range(128)]\n",
        "#img[v_max] =  [0 for _ in range(128)]\n",
        "#img[:,k_min] = [0 for _ in range(128)]\n",
        "#img[:,k_max] = [0 for _ in range(128)]  \n",
        "\n",
        "v_min = max(0, v_min-pad)\n",
        "v_max = min(128, v_max+pad)\n",
        "k_min = max(0, k_min-pad)\n",
        "k_max = min(128, k_max+pad)\n",
        "img = img[v_min:v_max+1, k_min:k_max+1]\n",
        " \n",
        "print(img.shape)\n",
        "plt.imshow(img)\n",
        "plt.show()"
      ],
      "execution_count": 0,
      "outputs": []
    },
    {
      "metadata": {
        "id": "n5I3YRLHSgfb",
        "colab_type": "code",
        "colab": {}
      },
      "cell_type": "code",
      "source": [
        "plt.imshow(square_image(crop_image(check_path)))"
      ],
      "execution_count": 0,
      "outputs": []
    },
    {
      "metadata": {
        "id": "P1GNGbGWTOxH",
        "colab_type": "code",
        "colab": {}
      },
      "cell_type": "code",
      "source": [
        "img = np.zeros(shape=(50, 100))\n",
        "plt.imshow(square_image(img))\n",
        "plt.show()"
      ],
      "execution_count": 0,
      "outputs": []
    },
    {
      "metadata": {
        "id": "pZRBJmsaWZ5b",
        "colab_type": "code",
        "colab": {}
      },
      "cell_type": "code",
      "source": [
        "img = square_image(img)\n",
        "plt.imshow(imresize(arr=img, size=32.0/img.shape[0], interp='bicubic'))\n",
        "plt.show()\n",
        "\n",
        "img = square_image(crop_image(check_path))\n",
        "img = resize_image(img, BOX_SIZE)\n",
        "plt.show()"
      ],
      "execution_count": 0,
      "outputs": []
    },
    {
      "metadata": {
        "id": "q0ffpVTCXP0d",
        "colab_type": "code",
        "colab": {}
      },
      "cell_type": "code",
      "source": [
        ""
      ],
      "execution_count": 0,
      "outputs": []
    }
  ]
}