{
  "nbformat": 4,
  "nbformat_minor": 0,
  "metadata": {
    "colab": {
      "name": "CVL_Single_Digit_Dataset.ipynb",
      "version": "0.3.2",
      "provenance": [],
      "collapsed_sections": [],
      "toc_visible": true,
      "include_colab_link": true
    },
    "kernelspec": {
      "name": "python3",
      "display_name": "Python 3"
    },
    "accelerator": "GPU"
  },
  "cells": [
    {
      "cell_type": "markdown",
      "metadata": {
        "id": "view-in-github",
        "colab_type": "text"
      },
      "source": [
        "<a href=\"https://colab.research.google.com/github/MilanCugur/PUBLISH_ME/blob/master/CVL_Single_Digit_Dataset.ipynb\" target=\"_parent\"><img src=\"https://colab.research.google.com/assets/colab-badge.svg\" alt=\"Open In Colab\"/></a>"
      ]
    },
    {
      "metadata": {
        "id": "eXJpWfXZfMff",
        "colab_type": "text"
      },
      "cell_type": "markdown",
      "source": [
        "# Mount"
      ]
    },
    {
      "metadata": {
        "id": "cajl3IpVeyRe",
        "colab_type": "code",
        "outputId": "a24af9e6-5737-4f38-9605-163c9aa2a63e",
        "colab": {
          "base_uri": "https://localhost:8080/",
          "height": 122
        }
      },
      "cell_type": "code",
      "source": [
        "from google.colab import drive\n",
        "drive.mount('/content/drive')"
      ],
      "execution_count": 1,
      "outputs": [
        {
          "output_type": "stream",
          "text": [
            "Go to this URL in a browser: https://accounts.google.com/o/oauth2/auth?client_id=947318989803-6bn6qk8qdgf4n4g3pfee6491hc0brc4i.apps.googleusercontent.com&redirect_uri=urn%3Aietf%3Awg%3Aoauth%3A2.0%3Aoob&scope=email%20https%3A%2F%2Fwww.googleapis.com%2Fauth%2Fdocs.test%20https%3A%2F%2Fwww.googleapis.com%2Fauth%2Fdrive%20https%3A%2F%2Fwww.googleapis.com%2Fauth%2Fdrive.photos.readonly%20https%3A%2F%2Fwww.googleapis.com%2Fauth%2Fpeopleapi.readonly&response_type=code\n",
            "\n",
            "Enter your authorization code:\n",
            "··········\n",
            "Mounted at /content/drive\n"
          ],
          "name": "stdout"
        }
      ]
    },
    {
      "metadata": {
        "id": "cF0IoL8Egk3O",
        "colab_type": "code",
        "outputId": "e5a3ea52-da22-4b83-abba-af774e5440e0",
        "colab": {
          "base_uri": "https://localhost:8080/",
          "height": 34
        }
      },
      "cell_type": "code",
      "source": [
        "import os\n",
        "import numpy as np\n",
        "from zipfile import ZipFile\n",
        "\n",
        "from keras.utils import Sequence\n",
        "from random import shuffle\n",
        "\n",
        "import matplotlib.pyplot as plt\n",
        "import matplotlib.image as mpimg\n",
        "from skimage import io\n",
        "import cv2\n",
        "from sklearn.utils import shuffle"
      ],
      "execution_count": 2,
      "outputs": [
        {
          "output_type": "stream",
          "text": [
            "Using TensorFlow backend.\n"
          ],
          "name": "stderr"
        }
      ]
    },
    {
      "metadata": {
        "id": "sBFKGPeNg1Pu",
        "colab_type": "text"
      },
      "cell_type": "markdown",
      "source": [
        "# Load Dataset"
      ]
    },
    {
      "metadata": {
        "id": "TmkB5dWAg0I4",
        "colab_type": "code",
        "outputId": "67fac769-c6ea-4d26-cb6f-ec3de25418a9",
        "colab": {
          "base_uri": "https://localhost:8080/",
          "height": 51
        }
      },
      "cell_type": "code",
      "source": [
        "%%time\n",
        "# Extract images to 'ImageDisk' folder\n",
        "\n",
        "path = './drive/My Drive/CVL_datasets/CVL_Single_Digits_Dataset.zip'  # Different .zip folder with images\n",
        "archive = ZipFile(path, 'r')\n",
        "archive.extractall('./ImageDisk')  \n",
        "archive.close()"
      ],
      "execution_count": 3,
      "outputs": [
        {
          "output_type": "stream",
          "text": [
            "CPU times: user 4.45 s, sys: 2.04 s, total: 6.49 s\n",
            "Wall time: 8.12 s\n"
          ],
          "name": "stdout"
        }
      ]
    },
    {
      "metadata": {
        "id": "hlcnsJyeheBg",
        "colab_type": "code",
        "outputId": "acd9ee74-d9f6-4f4c-c9f4-14ee2bd64c4a",
        "colab": {
          "base_uri": "https://localhost:8080/",
          "height": 156
        }
      },
      "cell_type": "code",
      "source": [
        "!cat './ImageDisk/cvl-single-digits/readme-single.txt'"
      ],
      "execution_count": 4,
      "outputs": [
        {
          "output_type": "stream",
          "text": [
            "The CVL Single Digit dataset consists of 7000 single digits (700 digits per class) written by approximately 60 different writers. The validation set has the same size but different writers. The validation set may be used for parameter estimation and validation but not for supervised training. \r\n",
            "\r\n",
            "File Naming:\r\n",
            "The numbers before the first minus are the respective class labels succeeded by an unique ID.\r\n",
            "\r\n",
            "\t* 2-0202-21-04.png is an image that contains a single digit with groundtruth 2\r\n",
            "\t* 135579-0001-10.png is an image that contains the digit string 135579\r\n"
          ],
          "name": "stdout"
        }
      ]
    },
    {
      "metadata": {
        "id": "88pzIARwsDUz",
        "colab_type": "text"
      },
      "cell_type": "markdown",
      "source": [
        "# OneHot"
      ]
    },
    {
      "metadata": {
        "id": "RNTuzuRol3wO",
        "colab_type": "code",
        "colab": {}
      },
      "cell_type": "code",
      "source": [
        "# OneHot Encoding\n",
        "class OneHot():  \n",
        "  # classes = list of classes : 0-9, a-z, A-Z\n",
        "  # n = number of classes     : 62\n",
        "  \n",
        "  def __init__(self, classes):\n",
        "    self.classes = classes\n",
        "    self.n = len(classes)\n",
        "    \n",
        "  def encode(self, class_name):\n",
        "    one_hot = np.zeros(shape=(self.n), dtype=np.int8)\n",
        "    class_index = self.classes.index(class_name)\n",
        "    one_hot[class_index] = 1\n",
        "    return one_hot\n",
        "  \n",
        "  def encode_all(self, list_class_names):\n",
        "    return np.array([self.encode(class_name) for class_name in list_class_names])\n",
        "  \n",
        "  def decode(self, one_hot):\n",
        "    class_index = one_hot.argmax()\n",
        "    return self.classes[class_index]\n",
        "  \n",
        "  def decode_all(self, list_one_hots):\n",
        "    return np.array([self.decode(one_hot) for one_hot in list_one_hots])"
      ],
      "execution_count": 0,
      "outputs": []
    },
    {
      "metadata": {
        "id": "GlAhNGfxsKpO",
        "colab_type": "code",
        "outputId": "29a3f30a-9927-4b63-88ec-3095c97142d2",
        "colab": {
          "base_uri": "https://localhost:8080/",
          "height": 51
        }
      },
      "cell_type": "code",
      "source": [
        "labels = set(np.arange(0, 10))\n",
        "\n",
        "print(sorted(labels))  # 62 ascii codes in string format\n",
        "print(len(labels))"
      ],
      "execution_count": 6,
      "outputs": [
        {
          "output_type": "stream",
          "text": [
            "[0, 1, 2, 3, 4, 5, 6, 7, 8, 9]\n",
            "10\n"
          ],
          "name": "stdout"
        }
      ]
    },
    {
      "metadata": {
        "id": "w7U_c_rpsTtu",
        "colab_type": "code",
        "colab": {}
      },
      "cell_type": "code",
      "source": [
        "OH_L = OneHot(sorted(labels))"
      ],
      "execution_count": 0,
      "outputs": []
    },
    {
      "metadata": {
        "id": "ypzEKs4zkzmW",
        "colab_type": "text"
      },
      "cell_type": "markdown",
      "source": [
        "# Load Train/Validation/Test "
      ]
    },
    {
      "metadata": {
        "id": "OTmBYXbEh87G",
        "colab_type": "code",
        "colab": {}
      },
      "cell_type": "code",
      "source": [
        "#!ls './ImageDisk/cvl-single-digits/train/'"
      ],
      "execution_count": 0,
      "outputs": []
    },
    {
      "metadata": {
        "id": "YbktGL9Ojt8S",
        "colab_type": "code",
        "outputId": "9a8fd83e-7c29-4a74-d1c8-011d7ff2af3b",
        "colab": {
          "base_uri": "https://localhost:8080/",
          "height": 365
        }
      },
      "cell_type": "code",
      "source": [
        "# Read image as RGB\n",
        "PATH = './ImageDisk/cvl-single-digits/train/7-0213-01-01.png'\n",
        "img = io.imread(PATH)\n",
        "print(img.shape)\n",
        "plt.imshow(img)\n",
        "plt.show()"
      ],
      "execution_count": 9,
      "outputs": [
        {
          "output_type": "stream",
          "text": [
            "(48, 29, 3)\n"
          ],
          "name": "stdout"
        },
        {
          "output_type": "display_data",
          "data": {
            "image/png": "[encoded data removed]",
            "text/plain": [
              "<Figure size 576x396 with 1 Axes>"
            ]
          },
          "metadata": {
            "tags": []
          }
        }
      ]
    },
    {
      "metadata": {
        "id": "dX0RlYQMjw0O",
        "colab_type": "code",
        "outputId": "8baaec28-1534-4121-f5ae-db8f610b8b6c",
        "colab": {
          "base_uri": "https://localhost:8080/",
          "height": 365
        }
      },
      "cell_type": "code",
      "source": [
        "# Read image as Grayscale\n",
        "PATH = './ImageDisk/cvl-single-digits/train/7-0213-01-01.png'\n",
        "img = cv2.imread(PATH, cv2.IMREAD_GRAYSCALE)\n",
        "\n",
        "print(img.shape)\n",
        "plt.imshow(img)\n",
        "plt.show()"
      ],
      "execution_count": 10,
      "outputs": [
        {
          "output_type": "stream",
          "text": [
            "(48, 29)\n"
          ],
          "name": "stdout"
        },
        {
          "output_type": "display_data",
          "data": {
            "image/png": "[encoded data removed]",
            "text/plain": [
              "<Figure size 576x396 with 1 Axes>"
            ]
          },
          "metadata": {
            "tags": []
          }
        }
      ]
    },
    {
      "metadata": {
        "id": "u4S5gXXgkhwX",
        "colab_type": "code",
        "colab": {}
      },
      "cell_type": "code",
      "source": [
        "from skimage import color, io, transform  # import modules for visualise image\n",
        "import matplotlib.pyplot as plt\n",
        "import matplotlib.image as mpimg\n",
        "import random  # random choose\n",
        "import cv2  # image processing\n",
        "from scipy import ndimage\n",
        "\n",
        "BOX_SIZE = 56\n",
        "PADDING = 2\n",
        "\n",
        "def read_gray(path):  # read image and convert it to grayscale\n",
        "  \"\"\"\n",
        "  return grayscale image in shape (128, 128)\n",
        "  \"\"\"\n",
        "  img = io.imread(path) \n",
        "  img = color.rgb2gray(img)\n",
        "  return img\n",
        "\n",
        "def add_noise(img, noise_function): \n",
        "  \"\"\"\n",
        "  return noised image\n",
        "  \"\"\"\n",
        "  return noise_function(img)\n",
        "\n",
        "def add_gaussian_noise(img, sigma=2):\n",
        "  \"\"\"\n",
        "  add Gaussian filter to image\n",
        "  Use default params: sigma=1\n",
        "  \"\"\"\n",
        "  return ndimage.gaussian_filter(img, sigma=sigma)\n",
        "\n",
        "def square_image(img):\n",
        "  \"\"\"\n",
        "  return image squared to bigger dimension: max(height, width) x max(height, width)\n",
        "  \"\"\"\n",
        "  height, width = img.shape\n",
        "  box_size = max(height, width)  \n",
        "  new_img = np.ones(shape=(box_size, box_size))\n",
        "\n",
        "  left = (box_size-height)//2  # calculate translation factor\n",
        "  right = (box_size-width)//2\n",
        "\n",
        "  new_img[left:left+height, right:right+width] = img  # position image to center of square image\n",
        "  return new_img\n",
        "\n",
        "def resize_image(img, interp):\n",
        "  \"\"\"\n",
        "  resize image with appropriate interpolation\n",
        "  Use of global object: BOX_SIZE\n",
        "  \"\"\"\n",
        "  new_img = np.zeros(shape=(BOX_SIZE, BOX_SIZE), dtype=np.uint8)\n",
        "  new_img.fill(255)\n",
        "  tmp_img = cv2.resize(src=img, dsize=(BOX_SIZE, BOX_SIZE), interpolation=interp)  # imresize with bicubic interpolation\n",
        "  return tmp_img\n",
        "\n",
        "def to8bit(img):  \n",
        "  \"\"\"\n",
        "  convert binary image to 8bit gray image\n",
        "  \"\"\"\n",
        "  for i in range(img.shape[0]):\n",
        "    for j in range(img.shape[1]):\n",
        "        img[i][j] = int(min(img[i][j], 1)*255)  # use max(1,..) to handle small numeric errors\n",
        "  return img\n",
        "\n",
        "import functools\n",
        "def compose(*functions):\n",
        "    return functools.reduce(lambda f, g: lambda x: f(g(x)), functions, lambda x: x)\n",
        "  \n",
        "def parse_image(interp, noise_function):\n",
        "  \"\"\"\n",
        "  return image parser with desired interpolation and noise function\n",
        "  \"\"\"\n",
        "  parser = compose(to8bit, functools.partial(resize_image, interp=interp), square_image, functools.partial(add_noise, noise_function=noise_function), read_gray)\n",
        "  return parser"
      ],
      "execution_count": 0,
      "outputs": []
    },
    {
      "metadata": {
        "id": "UaByaHN6mOg3",
        "colab_type": "code",
        "colab": {}
      },
      "cell_type": "code",
      "source": [
        "parser = parse_image(cv2.INTER_AREA, add_gaussian_noise)"
      ],
      "execution_count": 0,
      "outputs": []
    },
    {
      "metadata": {
        "id": "rulyo8GAmQju",
        "colab_type": "code",
        "outputId": "ce1d5655-c27c-4815-bc8a-13d407b84ce7",
        "colab": {
          "base_uri": "https://localhost:8080/",
          "height": 365
        }
      },
      "cell_type": "code",
      "source": [
        "# Read image with tools\n",
        "PATH = './ImageDisk/cvl-single-digits/train/7-0213-01-01.png'\n",
        "img = parser(PATH)\n",
        "\n",
        "print(img.shape)\n",
        "plt.imshow(img)\n",
        "plt.show()"
      ],
      "execution_count": 13,
      "outputs": [
        {
          "output_type": "stream",
          "text": [
            "(56, 56)\n"
          ],
          "name": "stdout"
        },
        {
          "output_type": "display_data",
          "data": {
            "image/png": "[encoded data removed]",
            "text/plain": [
              "<Figure size 576x396 with 1 Axes>"
            ]
          },
          "metadata": {
            "tags": []
          }
        }
      ]
    },
    {
      "metadata": {
        "id": "NnCNdmHq7jRj",
        "colab_type": "code",
        "outputId": "b3847ead-d507-48f3-dd57-ff95ec6b5bf7",
        "colab": {
          "base_uri": "https://localhost:8080/",
          "height": 365
        }
      },
      "cell_type": "code",
      "source": [
        "PATH = './ImageDisk/cvl-single-digits/valid/8-0073-13-06.png'\n",
        "img = parser(PATH)\n",
        "\n",
        "print(img.shape)\n",
        "plt.imshow(img)\n",
        "plt.show()"
      ],
      "execution_count": 14,
      "outputs": [
        {
          "output_type": "stream",
          "text": [
            "(56, 56)\n"
          ],
          "name": "stdout"
        },
        {
          "output_type": "display_data",
          "data": {
            "image/png": "[encoded data removed]",
            "text/plain": [
              "<Figure size 576x396 with 1 Axes>"
            ]
          },
          "metadata": {
            "tags": []
          }
        }
      ]
    },
    {
      "metadata": {
        "id": "yi9jM0_vmUAp",
        "colab_type": "code",
        "colab": {}
      },
      "cell_type": "code",
      "source": [
        "TRAINPATH = './ImageDisk/cvl-single-digits/train'\n",
        "VALIDPATH = './ImageDisk/cvl-single-digits/valid'\n",
        "TESTPATH = './ImageDisk/cvl-single-digits/eval'"
      ],
      "execution_count": 0,
      "outputs": []
    },
    {
      "metadata": {
        "id": "O6FUAK2AmV_a",
        "colab_type": "code",
        "colab": {}
      },
      "cell_type": "code",
      "source": [
        "def read_data(dirpath):\n",
        "  \"\"\"\n",
        "  read data from entire directory of .png format images\n",
        "  return ordered triple: images, labels, writers\n",
        "  \"\"\"\n",
        "  images = []\n",
        "  labels = []\n",
        "  writers = []\n",
        "  \n",
        "  for imgpath in os.listdir(dirpath):\n",
        "    fullpath = os.path.join(dirpath, imgpath)\n",
        "    images.append(parser(fullpath))\n",
        "    labels.append(int(imgpath.split('-')[0]))\n",
        "    writers.append(int(imgpath.split('-')[1]))\n",
        "    \n",
        "  images, labels = shuffle(images, labels)  # shuffle together\n",
        "    \n",
        "  images = np.array(images)\n",
        "  images = images.reshape(images.shape[0], BOX_SIZE, BOX_SIZE, 1)\n",
        "  images = images.astype('float32')\n",
        "  images /= 255\n",
        "  \n",
        "  return images, OH_L.encode_all(labels), writers"
      ],
      "execution_count": 0,
      "outputs": []
    },
    {
      "metadata": {
        "id": "UxP5hRPQmY6B",
        "colab_type": "code",
        "outputId": "14401c1e-a871-43c8-983c-e579e14a8b82",
        "colab": {
          "base_uri": "https://localhost:8080/",
          "height": 51
        }
      },
      "cell_type": "code",
      "source": [
        "%%time \n",
        "train_images, train_labels, train_writers = read_data(TRAINPATH)"
      ],
      "execution_count": 17,
      "outputs": [
        {
          "output_type": "stream",
          "text": [
            "CPU times: user 37 s, sys: 487 ms, total: 37.5 s\n",
            "Wall time: 37.6 s\n"
          ],
          "name": "stdout"
        }
      ]
    },
    {
      "metadata": {
        "id": "L62NF3qVmgxb",
        "colab_type": "code",
        "outputId": "f6dfca46-b355-4705-fbba-5915871dea56",
        "colab": {
          "base_uri": "https://localhost:8080/",
          "height": 85
        }
      },
      "cell_type": "code",
      "source": [
        "print(train_images.shape)\n",
        "print(train_labels.shape)\n",
        "print('no samples: ', len(train_writers))\n",
        "print('no writers: ', len(set(train_writers)))"
      ],
      "execution_count": 18,
      "outputs": [
        {
          "output_type": "stream",
          "text": [
            "(7000, 56, 56, 1)\n",
            "(7000, 10)\n",
            "no samples:  7000\n",
            "no writers:  67\n"
          ],
          "name": "stdout"
        }
      ]
    },
    {
      "metadata": {
        "id": "glIEVutYpzss",
        "colab_type": "code",
        "outputId": "7e3a33a6-a40b-40c3-b761-7cb678907090",
        "colab": {
          "base_uri": "https://localhost:8080/",
          "height": 51
        }
      },
      "cell_type": "code",
      "source": [
        "%%time \n",
        "valid_images, valid_labels, valid_writers = read_data(VALIDPATH)"
      ],
      "execution_count": 19,
      "outputs": [
        {
          "output_type": "stream",
          "text": [
            "CPU times: user 35.9 s, sys: 339 ms, total: 36.2 s\n",
            "Wall time: 36.3 s\n"
          ],
          "name": "stdout"
        }
      ]
    },
    {
      "metadata": {
        "id": "IqBQWb6wqLnO",
        "colab_type": "code",
        "outputId": "f464d0ab-fa3c-4db7-aae8-a18ce380f18c",
        "colab": {
          "base_uri": "https://localhost:8080/",
          "height": 85
        }
      },
      "cell_type": "code",
      "source": [
        "print(valid_images.shape)\n",
        "print(valid_labels.shape)\n",
        "print('no samples: ', len(valid_writers))\n",
        "print('no writers: ', len(set(valid_writers)))"
      ],
      "execution_count": 20,
      "outputs": [
        {
          "output_type": "stream",
          "text": [
            "(7000, 56, 56, 1)\n",
            "(7000, 10)\n",
            "no samples:  7000\n",
            "no writers:  60\n"
          ],
          "name": "stdout"
        }
      ]
    },
    {
      "metadata": {
        "id": "SPUDp7rRqNIh",
        "colab_type": "code",
        "outputId": "194d195e-2bbf-41f2-bebd-d0752d4a4848",
        "colab": {
          "base_uri": "https://localhost:8080/",
          "height": 51
        }
      },
      "cell_type": "code",
      "source": [
        "%%time \n",
        "test_images, test_labels, test_writers = read_data(TESTPATH)"
      ],
      "execution_count": 21,
      "outputs": [
        {
          "output_type": "stream",
          "text": [
            "CPU times: user 1min 46s, sys: 1.26 s, total: 1min 47s\n",
            "Wall time: 1min 47s\n"
          ],
          "name": "stdout"
        }
      ]
    },
    {
      "metadata": {
        "id": "-V8efzGtqO_R",
        "colab_type": "code",
        "outputId": "15b53c47-bfb8-4713-e654-444c3a356203",
        "colab": {
          "base_uri": "https://localhost:8080/",
          "height": 85
        }
      },
      "cell_type": "code",
      "source": [
        "print(test_images.shape)\n",
        "print(test_labels.shape)\n",
        "print('no samples: ', len(test_writers))\n",
        "print('no writers: ', len(set(test_writers)))"
      ],
      "execution_count": 22,
      "outputs": [
        {
          "output_type": "stream",
          "text": [
            "(21780, 56, 56, 1)\n",
            "(21780, 10)\n",
            "no samples:  21780\n",
            "no writers:  176\n"
          ],
          "name": "stdout"
        }
      ]
    },
    {
      "metadata": {
        "id": "KnMznnQJlnP7",
        "colab_type": "code",
        "outputId": "f8ad3d08-4ee1-4eaa-d073-4073e815e7df",
        "colab": {
          "base_uri": "https://localhost:8080/",
          "height": 399
        }
      },
      "cell_type": "code",
      "source": [
        "img = train_images[0]\n",
        "print(train_labels[0])\n",
        "print(train_writers[0])\n",
        "print(img.shape)\n",
        "plt.imshow(img.reshape(BOX_SIZE, BOX_SIZE))\n",
        "plt.show()"
      ],
      "execution_count": 23,
      "outputs": [
        {
          "output_type": "stream",
          "text": [
            "[0 0 0 1 0 0 0 0 0 0]\n",
            "200\n",
            "(56, 56, 1)\n"
          ],
          "name": "stdout"
        },
        {
          "output_type": "display_data",
          "data": {
            "image/png": "[encoded data removed]",
            "text/plain": [
              "<Figure size 576x396 with 1 Axes>"
            ]
          },
          "metadata": {
            "tags": []
          }
        }
      ]
    },
    {
      "metadata": {
        "id": "PVs7vP78CFou",
        "colab_type": "code",
        "colab": {}
      },
      "cell_type": "code",
      "source": [
        "#trainvalid_images = np.concatenate((train_images, valid_images), axis=0)\n",
        "#trainvalid_images.shape\n",
        "# standardize data\n",
        "#from sklearn import preprocessing\n",
        "#\n",
        "#scaler_tv = preprocessing.StandardScaler()\n",
        "#scaler_tv.fit(trainvalid_images.reshape(-1, BOX_SIZE, BOX_SIZE))\n",
        "#x_train = scaler_tv.transform(x_train)\n",
        "#x_valid = scaler_tv.transform(x_valid)"
      ],
      "execution_count": 0,
      "outputs": []
    },
    {
      "metadata": {
        "id": "F57I2sYosZar",
        "colab_type": "text"
      },
      "cell_type": "markdown",
      "source": [
        "# Model"
      ]
    },
    {
      "metadata": {
        "id": "m4wBVssRsYt7",
        "colab_type": "code",
        "colab": {}
      },
      "cell_type": "code",
      "source": [
        "from keras.models import Model\n",
        "from keras.layers import Input, Conv2D, MaxPool2D, Flatten, Concatenate, Dense, Dropout, BatchNormalization\n",
        "from keras.optimizers import Adam  # First, naive approach\n",
        "from keras.losses import categorical_crossentropy\n",
        "from keras.callbacks import ModelCheckpoint, EarlyStopping, ReduceLROnPlateau, CSVLogger  # Add callbacks to model\n",
        "from keras.models import load_model  # Save model params\n",
        "from keras.layers import LeakyReLU, concatenate\n",
        "from keras.layers.advanced_activations import PReLU\n",
        "from keras.initializers import glorot_normal\n",
        "from keras import regularizers\n",
        "from keras.activations import relu\n",
        "\n",
        "import keras.backend as K"
      ],
      "execution_count": 0,
      "outputs": []
    },
    {
      "metadata": {
        "id": "6_chViMptKBj",
        "colab_type": "code",
        "colab": {}
      },
      "cell_type": "code",
      "source": [
        "#BOX_SIZE = 56                          # (56, 56) images; fixed size; I already preprocessed it\n",
        "image_shape = (BOX_SIZE, BOX_SIZE, 1)  # (56, 56, 1) shape for tensorflow\n",
        "number_of_classes = len(labels)        # 10 classes; 0-9"
      ],
      "execution_count": 0,
      "outputs": []
    },
    {
      "metadata": {
        "id": "a07pKZUItL9q",
        "colab_type": "code",
        "outputId": "0d59552e-e54a-4ba3-eda6-ca29b50bcda9",
        "colab": {
          "base_uri": "https://localhost:8080/",
          "height": 139
        }
      },
      "cell_type": "code",
      "source": [
        "x_input = Input(shape=image_shape)  # shape=(?, 56, 56, 1)\n",
        "\n",
        "x = Conv2D(filters=32, kernel_size=(3,3), strides=(1,1), activation=relu, padding='valid')(x_input)  \n",
        "x = Conv2D(filters=32, kernel_size=(3,3), strides=(1,1), activation=relu, padding='valid')(x) \n",
        "x = BatchNormalization()(x)\n",
        "x = MaxPool2D(pool_size=(2,2), padding='same')(x)                                                     \n",
        "x = Conv2D(filters=48, kernel_size=(3,3), strides=(1,1), activation=relu, padding='valid')(x)        \n",
        "x = Conv2D(filters=48, kernel_size=(3,3), strides=(1,1), activation=relu, padding='valid')(x) \n",
        "x = BatchNormalization()(x)\n",
        "x = MaxPool2D(pool_size=(2,2), padding='same')(x)                                                    \n",
        "x = Conv2D(filters=64, kernel_size=(2,2), strides=(1,1), activation=relu, padding='valid')(x)       \n",
        "x = Conv2D(filters=64, kernel_size=(3,3), strides=(1,1), activation=relu, padding='valid')(x) \n",
        "x = BatchNormalization()(x)\n",
        "x = MaxPool2D(pool_size=(3, 3), padding='same')(x)                                                     \n",
        "x = Flatten()(x)                                                                                       \n",
        "\n",
        "x = Dense(units=768, activation=relu, kernel_regularizer=regularizers.l2(0.02))(x)        \n",
        "x = Dropout(rate=0.3)(x)\n",
        "\n",
        "x = Dense(units=512, activation=relu, kernel_regularizer=regularizers.l2(0.03))(x)                           \n",
        "x = Dropout(rate=0.5)(x) \n",
        "\n",
        "x = Dense(units=256, name='next_to_last', kernel_regularizer=regularizers.l2(0.02))(x)                           \n",
        "x = Dropout(rate=0.3)(x)                          \n",
        "\n",
        "y_output = Dense(units=number_of_classes, activation='softmax')(x)  "
      ],
      "execution_count": 27,
      "outputs": [
        {
          "output_type": "stream",
          "text": [
            "WARNING:tensorflow:From /usr/local/lib/python3.6/dist-packages/tensorflow/python/framework/op_def_library.py:263: colocate_with (from tensorflow.python.framework.ops) is deprecated and will be removed in a future version.\n",
            "Instructions for updating:\n",
            "Colocations handled automatically by placer.\n",
            "WARNING:tensorflow:From /usr/local/lib/python3.6/dist-packages/keras/backend/tensorflow_backend.py:3445: calling dropout (from tensorflow.python.ops.nn_ops) with keep_prob is deprecated and will be removed in a future version.\n",
            "Instructions for updating:\n",
            "Please use `rate` instead of `keep_prob`. Rate should be set to `rate = 1 - keep_prob`.\n"
          ],
          "name": "stdout"
        }
      ]
    },
    {
      "metadata": {
        "id": "BL9081QdtX5p",
        "colab_type": "code",
        "colab": {}
      },
      "cell_type": "code",
      "source": [
        "recognizer = Model(inputs=x_input, outputs=y_output, name='recognizer')"
      ],
      "execution_count": 0,
      "outputs": []
    },
    {
      "metadata": {
        "id": "PsuaxiPwtjdW",
        "colab_type": "code",
        "outputId": "fb34e2b0-0f6a-49ce-cf22-ec74c14b90e3",
        "colab": {
          "base_uri": "https://localhost:8080/",
          "height": 850
        }
      },
      "cell_type": "code",
      "source": [
        "recognizer.summary()"
      ],
      "execution_count": 29,
      "outputs": [
        {
          "output_type": "stream",
          "text": [
            "_________________________________________________________________\n",
            "Layer (type)                 Output Shape              Param #   \n",
            "=================================================================\n",
            "input_1 (InputLayer)         (None, 56, 56, 1)         0         \n",
            "_________________________________________________________________\n",
            "conv2d_1 (Conv2D)            (None, 54, 54, 32)        320       \n",
            "_________________________________________________________________\n",
            "conv2d_2 (Conv2D)            (None, 52, 52, 32)        9248      \n",
            "_________________________________________________________________\n",
            "batch_normalization_1 (Batch (None, 52, 52, 32)        128       \n",
            "_________________________________________________________________\n",
            "max_pooling2d_1 (MaxPooling2 (None, 26, 26, 32)        0         \n",
            "_________________________________________________________________\n",
            "conv2d_3 (Conv2D)            (None, 24, 24, 48)        13872     \n",
            "_________________________________________________________________\n",
            "conv2d_4 (Conv2D)            (None, 22, 22, 48)        20784     \n",
            "_________________________________________________________________\n",
            "batch_normalization_2 (Batch (None, 22, 22, 48)        192       \n",
            "_________________________________________________________________\n",
            "max_pooling2d_2 (MaxPooling2 (None, 11, 11, 48)        0         \n",
            "_________________________________________________________________\n",
            "conv2d_5 (Conv2D)            (None, 10, 10, 64)        12352     \n",
            "_________________________________________________________________\n",
            "conv2d_6 (Conv2D)            (None, 8, 8, 64)          36928     \n",
            "_________________________________________________________________\n",
            "batch_normalization_3 (Batch (None, 8, 8, 64)          256       \n",
            "_________________________________________________________________\n",
            "max_pooling2d_3 (MaxPooling2 (None, 3, 3, 64)          0         \n",
            "_________________________________________________________________\n",
            "flatten_1 (Flatten)          (None, 576)               0         \n",
            "_________________________________________________________________\n",
            "dense_1 (Dense)              (None, 768)               443136    \n",
            "_________________________________________________________________\n",
            "dropout_1 (Dropout)          (None, 768)               0         \n",
            "_________________________________________________________________\n",
            "dense_2 (Dense)              (None, 512)               393728    \n",
            "_________________________________________________________________\n",
            "dropout_2 (Dropout)          (None, 512)               0         \n",
            "_________________________________________________________________\n",
            "next_to_last (Dense)         (None, 256)               131328    \n",
            "_________________________________________________________________\n",
            "dropout_3 (Dropout)          (None, 256)               0         \n",
            "_________________________________________________________________\n",
            "dense_3 (Dense)              (None, 10)                2570      \n",
            "=================================================================\n",
            "Total params: 1,064,842\n",
            "Trainable params: 1,064,554\n",
            "Non-trainable params: 288\n",
            "_________________________________________________________________\n"
          ],
          "name": "stdout"
        }
      ]
    },
    {
      "metadata": {
        "id": "T6bxwh0WtlAO",
        "colab_type": "code",
        "colab": {}
      },
      "cell_type": "code",
      "source": [
        "recognizer.compile(optimizer=Adam(lr=1e-3), loss=categorical_crossentropy, metrics=['accuracy'])   # beta_1=0.9, beta_2=0.999"
      ],
      "execution_count": 0,
      "outputs": []
    },
    {
      "metadata": {
        "id": "aWC4OTfhtn6T",
        "colab_type": "code",
        "colab": {}
      },
      "cell_type": "code",
      "source": [
        "reduce = ReduceLROnPlateau(monitor='val_loss', factor=0.5, patience=1, verbose=1, mode='min', #add min_delta\n",
        "                           cooldown=1, min_le=1e-8)\n",
        "\n",
        "estop = EarlyStopping(monitor='val_loss', min_delta=0, patience=4, verbose=1, mode='min')\n",
        "\n",
        "excel = CSVLogger(filename='./baseline_hacked.csv', separator=',', append=False)\n",
        "\n",
        "checkp = ModelCheckpoint('./best_w.h5', monitor='val_loss', verbose=1, save_best_only=True, save_weights_only=True, mode='auto', period=1)"
      ],
      "execution_count": 0,
      "outputs": []
    },
    {
      "metadata": {
        "id": "V-IB7qNbtpwi",
        "colab_type": "code",
        "outputId": "428e47d1-e858-4807-9b76-f6c7f89bd5dc",
        "colab": {
          "base_uri": "https://localhost:8080/",
          "height": 819
        }
      },
      "cell_type": "code",
      "source": [
        "history = recognizer.fit(x=train_images, y=train_labels,\n",
        "                         batch_size=256, epochs=10, verbose=1, \n",
        "                         callbacks=[reduce, estop, excel, checkp], \n",
        "                         validation_data=(valid_images, valid_labels),          \n",
        "                         shuffle=True)"
      ],
      "execution_count": 32,
      "outputs": [
        {
          "output_type": "stream",
          "text": [
            "WARNING:tensorflow:From /usr/local/lib/python3.6/dist-packages/tensorflow/python/ops/math_ops.py:3066: to_int32 (from tensorflow.python.ops.math_ops) is deprecated and will be removed in a future version.\n",
            "Instructions for updating:\n",
            "Use tf.cast instead.\n",
            "Train on 7000 samples, validate on 7000 samples\n",
            "Epoch 1/10\n",
            "7000/7000 [==============================] - 9s 1ms/step - loss: 31.4907 - acc: 0.5830 - val_loss: 21.8699 - val_acc: 0.6571\n",
            "\n",
            "Epoch 00001: val_loss improved from inf to 21.86986, saving model to ./best_w.h5\n",
            "Epoch 2/10\n",
            "7000/7000 [==============================] - 4s 572us/step - loss: 15.4665 - acc: 0.8717 - val_loss: 10.2871 - val_acc: 0.8791\n",
            "\n",
            "Epoch 00002: val_loss improved from 21.86986 to 10.28706, saving model to ./best_w.h5\n",
            "Epoch 3/10\n",
            "7000/7000 [==============================] - 4s 570us/step - loss: 7.3547 - acc: 0.9220 - val_loss: 5.2050 - val_acc: 0.8439\n",
            "\n",
            "Epoch 00003: val_loss improved from 10.28706 to 5.20498, saving model to ./best_w.h5\n",
            "Epoch 4/10\n",
            "7000/7000 [==============================] - 4s 568us/step - loss: 3.6414 - acc: 0.9430 - val_loss: 3.4401 - val_acc: 0.6161\n",
            "\n",
            "Epoch 00004: val_loss improved from 5.20498 to 3.44010, saving model to ./best_w.h5\n",
            "Epoch 5/10\n",
            "7000/7000 [==============================] - 4s 569us/step - loss: 1.9561 - acc: 0.9546 - val_loss: 2.5429 - val_acc: 0.5116\n",
            "\n",
            "Epoch 00005: val_loss improved from 3.44010 to 2.54294, saving model to ./best_w.h5\n",
            "Epoch 6/10\n",
            "7000/7000 [==============================] - 4s 569us/step - loss: 1.1563 - acc: 0.9654 - val_loss: 1.4781 - val_acc: 0.8940\n",
            "\n",
            "Epoch 00006: val_loss improved from 2.54294 to 1.47807, saving model to ./best_w.h5\n",
            "Epoch 7/10\n",
            "7000/7000 [==============================] - 4s 569us/step - loss: 0.7753 - acc: 0.9687 - val_loss: 2.2627 - val_acc: 0.3427\n",
            "\n",
            "Epoch 00007: ReduceLROnPlateau reducing learning rate to 0.0005000000237487257.\n",
            "\n",
            "Epoch 00007: val_loss did not improve from 1.47807\n",
            "Epoch 8/10\n",
            "7000/7000 [==============================] - 4s 569us/step - loss: 0.5866 - acc: 0.9796 - val_loss: 1.4432 - val_acc: 0.6693\n",
            "\n",
            "Epoch 00008: val_loss improved from 1.47807 to 1.44323, saving model to ./best_w.h5\n",
            "Epoch 9/10\n",
            "7000/7000 [==============================] - 4s 587us/step - loss: 0.5039 - acc: 0.9844 - val_loss: 1.3950 - val_acc: 0.6783\n",
            "\n",
            "Epoch 00009: val_loss improved from 1.44323 to 1.39496, saving model to ./best_w.h5\n",
            "Epoch 10/10\n",
            "7000/7000 [==============================] - 4s 570us/step - loss: 0.4468 - acc: 0.9860 - val_loss: 0.9403 - val_acc: 0.8584\n",
            "\n",
            "Epoch 00010: val_loss improved from 1.39496 to 0.94027, saving model to ./best_w.h5\n"
          ],
          "name": "stdout"
        }
      ]
    },
    {
      "metadata": {
        "id": "ltnUuV5Zvjuf",
        "colab_type": "code",
        "outputId": "08d2d8b3-5683-4432-a303-68fc2071dfbd",
        "colab": {
          "base_uri": "https://localhost:8080/",
          "height": 51
        }
      },
      "cell_type": "code",
      "source": [
        "recognizer.evaluate(x=test_images, y=test_labels, batch_size=256, verbose=1)"
      ],
      "execution_count": 33,
      "outputs": [
        {
          "output_type": "stream",
          "text": [
            "21780/21780 [==============================] - 3s 146us/step\n"
          ],
          "name": "stdout"
        },
        {
          "output_type": "execute_result",
          "data": {
            "text/plain": [
              "[0.9512300308742471, 0.84389348027901]"
            ]
          },
          "metadata": {
            "tags": []
          },
          "execution_count": 33
        }
      ]
    },
    {
      "metadata": {
        "id": "rWPDWAenH3T7",
        "colab_type": "text"
      },
      "cell_type": "markdown",
      "source": [
        "# Loss plot"
      ]
    },
    {
      "metadata": {
        "id": "_XB-DHuO6wN3",
        "colab_type": "code",
        "outputId": "f665e6c1-2a6e-4849-e52b-577679c87d5e",
        "colab": {
          "base_uri": "https://localhost:8080/",
          "height": 34
        }
      },
      "cell_type": "code",
      "source": [
        "print(history.history.keys())"
      ],
      "execution_count": 34,
      "outputs": [
        {
          "output_type": "stream",
          "text": [
            "dict_keys(['val_loss', 'val_acc', 'loss', 'acc', 'lr'])\n"
          ],
          "name": "stdout"
        }
      ]
    },
    {
      "metadata": {
        "id": "LfhS0Uj3H1RT",
        "colab_type": "code",
        "outputId": "12ecc931-ad9c-4a73-c01f-0d94e8569422",
        "colab": {
          "base_uri": "https://localhost:8080/",
          "height": 376
        }
      },
      "cell_type": "code",
      "source": [
        "#  \"Accuracy\"\n",
        "plt.plot(history.history['acc'])\n",
        "plt.plot(history.history['val_acc'])\n",
        "plt.title('model accuracy')\n",
        "plt.ylabel('accuracy')\n",
        "plt.xlabel('epoch')\n",
        "plt.legend(['train', 'validation'], loc='upper left')\n",
        "plt.show()"
      ],
      "execution_count": 35,
      "outputs": [
        {
          "output_type": "display_data",
          "data": {
            "image/png": "[encoded data removed]",
            "text/plain": [
              "<Figure size 576x396 with 1 Axes>"
            ]
          },
          "metadata": {
            "tags": []
          }
        }
      ]
    },
    {
      "metadata": {
        "id": "bfczMaJKIHcH",
        "colab_type": "code",
        "outputId": "9c05be02-0379-4307-8f7e-c955b09f31af",
        "colab": {
          "base_uri": "https://localhost:8080/",
          "height": 376
        }
      },
      "cell_type": "code",
      "source": [
        "# \"Loss\"\n",
        "plt.plot(history.history['loss'])\n",
        "plt.plot(history.history['val_loss'])\n",
        "plt.title('model loss')\n",
        "plt.ylabel('loss')\n",
        "plt.xlabel('epoch')\n",
        "plt.legend(['train', 'validation'], loc='upper left')\n",
        "plt.show()"
      ],
      "execution_count": 36,
      "outputs": [
        {
          "output_type": "display_data",
          "data": {
            "image/png": "[encoded data removed]",
            "text/plain": [
              "<Figure size 576x396 with 1 Axes>"
            ]
          },
          "metadata": {
            "tags": []
          }
        }
      ]
    },
    {
      "metadata": {
        "id": "KzhhYi-maOYf",
        "colab_type": "text"
      },
      "cell_type": "markdown",
      "source": [
        "# Save weights"
      ]
    },
    {
      "metadata": {
        "id": "Bgs_PCy6IKMh",
        "colab_type": "code",
        "colab": {
          "base_uri": "https://localhost:8080/",
          "height": 34
        },
        "outputId": "b1fdf6e9-d298-452b-8643-3a597824e8fb"
      },
      "cell_type": "code",
      "source": [
        "recognizer.input"
      ],
      "execution_count": 37,
      "outputs": [
        {
          "output_type": "execute_result",
          "data": {
            "text/plain": [
              "<tf.Tensor 'input_1:0' shape=(?, 56, 56, 1) dtype=float32>"
            ]
          },
          "metadata": {
            "tags": []
          },
          "execution_count": 37
        }
      ]
    },
    {
      "metadata": {
        "id": "EYyrO2GLbtDk",
        "colab_type": "code",
        "colab": {
          "base_uri": "https://localhost:8080/",
          "height": 34
        },
        "outputId": "79484af7-9332-4950-85e1-11133c6868da"
      },
      "cell_type": "code",
      "source": [
        "recognizer.get_layer('next_to_last').output"
      ],
      "execution_count": 38,
      "outputs": [
        {
          "output_type": "execute_result",
          "data": {
            "text/plain": [
              "<tf.Tensor 'next_to_last/BiasAdd:0' shape=(?, 256) dtype=float32>"
            ]
          },
          "metadata": {
            "tags": []
          },
          "execution_count": 38
        }
      ]
    },
    {
      "metadata": {
        "id": "AH4rUV2bbt50",
        "colab_type": "code",
        "colab": {}
      },
      "cell_type": "code",
      "source": [
        "finder = Model(inputs=recognizer.input, outputs=recognizer.get_layer('next_to_last').output)"
      ],
      "execution_count": 0,
      "outputs": []
    },
    {
      "metadata": {
        "id": "VFE60UPTbRXU",
        "colab_type": "text"
      },
      "cell_type": "markdown",
      "source": [
        "# Clustering by instances"
      ]
    },
    {
      "metadata": {
        "id": "tza1vonLbThZ",
        "colab_type": "code",
        "colab": {
          "base_uri": "https://localhost:8080/",
          "height": 34
        },
        "outputId": "02e3c842-f47e-4c02-f0e1-27618486c847"
      },
      "cell_type": "code",
      "source": [
        "print(labels)"
      ],
      "execution_count": 40,
      "outputs": [
        {
          "output_type": "stream",
          "text": [
            "{0, 1, 2, 3, 4, 5, 6, 7, 8, 9}\n"
          ],
          "name": "stdout"
        }
      ]
    },
    {
      "metadata": {
        "id": "9wzd6PvqcNxG",
        "colab_type": "code",
        "colab": {
          "base_uri": "https://localhost:8080/",
          "height": 34
        },
        "outputId": "c2ba6c8e-9f39-4fa7-94bf-4cc244469c1d"
      },
      "cell_type": "code",
      "source": [
        "IVectors = {}  # Ascii code is key, 48, 49, 50, ...\n",
        "for l in labels:\n",
        "  IVectors[l] = []\n",
        "print(IVectors)"
      ],
      "execution_count": 41,
      "outputs": [
        {
          "output_type": "stream",
          "text": [
            "{0: [], 1: [], 2: [], 3: [], 4: [], 5: [], 6: [], 7: [], 8: [], 9: []}\n"
          ],
          "name": "stdout"
        }
      ]
    },
    {
      "metadata": {
        "id": "F_o8mGbWcmfv",
        "colab_type": "code",
        "colab": {
          "base_uri": "https://localhost:8080/",
          "height": 51
        },
        "outputId": "dbd4fe9e-47d9-42c8-92e7-bd874ed749f6"
      },
      "cell_type": "code",
      "source": [
        "%%time\n",
        "\n",
        "for k in range(0, len(train_images)):\n",
        "  l = int(OH_L.decode(train_labels[k]))\n",
        "  next_to_last = finder.predict(np.array([train_images[k]]))[0]\n",
        "  IVectors[l].append(next_to_last)"
      ],
      "execution_count": 42,
      "outputs": [
        {
          "output_type": "stream",
          "text": [
            "CPU times: user 18.2 s, sys: 1.69 s, total: 19.9 s\n",
            "Wall time: 14.7 s\n"
          ],
          "name": "stdout"
        }
      ]
    },
    {
      "metadata": {
        "id": "5ZPjYwyCcR9S",
        "colab_type": "code",
        "colab": {
          "base_uri": "https://localhost:8080/",
          "height": 51
        },
        "outputId": "f2d08aa6-7e16-47df-b9de-ca2e039422fb"
      },
      "cell_type": "code",
      "source": [
        "%%time\n",
        "\n",
        "for k in range(0, len(valid_images)):\n",
        "  l = int(OH_L.decode(valid_labels[k]))\n",
        "  next_to_last = finder.predict(np.array([valid_images[k]]))[0]\n",
        "  IVectors[l].append(next_to_last)"
      ],
      "execution_count": 43,
      "outputs": [
        {
          "output_type": "stream",
          "text": [
            "CPU times: user 18.3 s, sys: 1.76 s, total: 20.1 s\n",
            "Wall time: 14.9 s\n"
          ],
          "name": "stdout"
        }
      ]
    },
    {
      "metadata": {
        "id": "GL2AAzz9cjQb",
        "colab_type": "code",
        "colab": {
          "base_uri": "https://localhost:8080/",
          "height": 34
        },
        "outputId": "ea7b021e-fbce-49dd-daf9-d8ede61b7f62"
      },
      "cell_type": "code",
      "source": [
        "S = 0\n",
        "for l in IVectors.keys():\n",
        "  S += len(IVectors[l])\n",
        "print(S)"
      ],
      "execution_count": 44,
      "outputs": [
        {
          "output_type": "stream",
          "text": [
            "14000\n"
          ],
          "name": "stdout"
        }
      ]
    },
    {
      "metadata": {
        "id": "2B9zb06xctWR",
        "colab_type": "code",
        "colab": {
          "base_uri": "https://localhost:8080/",
          "height": 34
        },
        "outputId": "97f2fd00-8018-4e1f-cc3d-26ab85d2d799"
      },
      "cell_type": "code",
      "source": [
        "print([len(IVectors[l]) for l in labels])  # broj slika po svakoj labeli"
      ],
      "execution_count": 45,
      "outputs": [
        {
          "output_type": "stream",
          "text": [
            "[1400, 1400, 1400, 1400, 1400, 1400, 1400, 1400, 1400, 1400]\n"
          ],
          "name": "stdout"
        }
      ]
    },
    {
      "metadata": {
        "id": "_25k5D_fcz95",
        "colab_type": "code",
        "colab": {}
      },
      "cell_type": "code",
      "source": [
        "from sklearn.cluster import KMeans\n",
        "ICentroids = {}  # dictionary with centroids for each label\n",
        "kmeans = None"
      ],
      "execution_count": 0,
      "outputs": []
    },
    {
      "metadata": {
        "id": "qmdBXyFpc8dc",
        "colab_type": "code",
        "colab": {
          "base_uri": "https://localhost:8080/",
          "height": 51
        },
        "outputId": "e903aed6-35a4-4bdb-dab0-22fa6d57aec5"
      },
      "cell_type": "code",
      "source": [
        "%%time\n",
        "\n",
        "for i, l in enumerate(labels):\n",
        "  if kmeans!=None:\n",
        "    del kmeans\n",
        "  kmeans = KMeans(n_clusters=10, n_init=10, max_iter=300, tol=1e-4, precompute_distances=False, verbose=0)  # 15, 250/10, 300\n",
        "  \n",
        "  kmeans.fit(IVectors[l])\n",
        "  ICentroids[l] = kmeans.cluster_centers_"
      ],
      "execution_count": 47,
      "outputs": [
        {
          "output_type": "stream",
          "text": [
            "CPU times: user 8.14 s, sys: 4.83 s, total: 13 s\n",
            "Wall time: 6.59 s\n"
          ],
          "name": "stdout"
        }
      ]
    },
    {
      "metadata": {
        "id": "mPdKKnASdDqb",
        "colab_type": "code",
        "colab": {
          "base_uri": "https://localhost:8080/",
          "height": 34
        },
        "outputId": "4c14d500-9df8-4b78-9f57-006cb074cf06"
      },
      "cell_type": "code",
      "source": [
        "ICentroids[0].shape  # Clusters for 'A'; small check"
      ],
      "execution_count": 48,
      "outputs": [
        {
          "output_type": "execute_result",
          "data": {
            "text/plain": [
              "(10, 256)"
            ]
          },
          "metadata": {
            "tags": []
          },
          "execution_count": 48
        }
      ]
    },
    {
      "metadata": {
        "id": "8lcumVnvdGXq",
        "colab_type": "code",
        "colab": {}
      },
      "cell_type": "code",
      "source": [
        "# Normalize clusters; Newly added; Quick fix, small improvements; Normalize together ???\n",
        "for k in ICentroids.keys(): \n",
        "  for j in range(0, ICentroids[k].shape[0]):\n",
        "    ICentroids[k][j] = (ICentroids[k][j] - ICentroids[k][j].mean())/(ICentroids[k][j].std())"
      ],
      "execution_count": 0,
      "outputs": []
    },
    {
      "metadata": {
        "id": "NDA2pEk8dLFA",
        "colab_type": "code",
        "colab": {
          "base_uri": "https://localhost:8080/",
          "height": 187
        },
        "outputId": "480fbfc9-bd58-4d74-e932-399a60c28d00"
      },
      "cell_type": "code",
      "source": [
        "from sklearn.neighbors import KNeighborsClassifier  # Estimate the quality of custers\n",
        "from sklearn.metrics import accuracy_score\n",
        "\n",
        "Ns = [1,2,3,4,5,7,8,9,10,15]\n",
        "\n",
        "X_train = []\n",
        "y_train = []\n",
        "\n",
        "for l in labels:\n",
        "  for j in range(0, ICentroids[l].shape[0]):\n",
        "    X_train.append(ICentroids[l][j])\n",
        "    y_train.append(l)\n",
        "\n",
        "for n in Ns:\n",
        "  knn = KNeighborsClassifier(n_neighbors=n, metric='l2')\n",
        "  knn.fit(X_train, y_train)\n",
        "  \n",
        "  score = accuracy_score(knn.predict(finder.predict(np.array(test_images))), [int(x) for x in OH_L.decode_all(test_labels)])\n",
        "  print('KNN', n, ': ', score)\n",
        "  del knn"
      ],
      "execution_count": 50,
      "outputs": [
        {
          "output_type": "stream",
          "text": [
            "KNN 1 :  0.9226813590449954\n",
            "KNN 2 :  0.9037649219467401\n",
            "KNN 3 :  0.909366391184573\n",
            "KNN 4 :  0.9039944903581267\n",
            "KNN 5 :  0.9067493112947659\n",
            "KNN 7 :  0.9005509641873278\n",
            "KNN 8 :  0.9006427915518824\n",
            "KNN 9 :  0.8980257116620753\n",
            "KNN 10 :  0.8960973370064279\n",
            "KNN 15 :  0.887465564738292\n"
          ],
          "name": "stdout"
        }
      ]
    },
    {
      "metadata": {
        "id": "K4AZPoYCdaw-",
        "colab_type": "text"
      },
      "cell_type": "markdown",
      "source": [
        "# Density class"
      ]
    },
    {
      "metadata": {
        "id": "IhzZZSKDdT5d",
        "colab_type": "code",
        "colab": {}
      },
      "cell_type": "code",
      "source": [
        "import numpy as np\n",
        "from  scipy import stats\n",
        "from matplotlib import pyplot as plt\n",
        "\n",
        "# approximating theta parametar - how much I believe in network/knn (initially 0.5)\n",
        "\n",
        "class CharStatistic():\n",
        "  # label\n",
        "  # alpha = 1 (initial)\n",
        "  # beta = 1 (initial)\n",
        "  \n",
        "  def __init__(self, label, alpha=None, beta=None):\n",
        "    self.label = label\n",
        "    \n",
        "    if alpha is not None:\n",
        "      self.alpha = alpha\n",
        "    else:\n",
        "      self.alpha = 1\n",
        "    if beta is not None:\n",
        "      self.beta = beta\n",
        "    else:\n",
        "      self.beta = 1 # hardcoded initial; start with uniform distribution U[0, 1]\n",
        "   \n",
        "  def get_alpha(self):  # getters\n",
        "    return self.alpha\n",
        "  \n",
        "  def get_beta(self):\n",
        "    return self.beta\n",
        "  \n",
        "  def set_alpha(self, alpha):\n",
        "    self.alpha = alpha\n",
        "    \n",
        "  def set_beta(self, beta):\n",
        "    self.beta = beta\n",
        "  \n",
        "  def get_mean(self):\n",
        "    return self.alpha/(self.alpha+self.beta)  # initaially 0.5\n",
        "    # return stats.beta.mean(self.alpha, self.beta)\n",
        "  \n",
        "  def get_standard_deviation(self):\n",
        "    return np.sqrt(self.alpha*self.beta/((self.alpha+self.beta)**2*(self.alpha+self.beta+1)))  # initially 0.1\n",
        "    # return stats.beta.std(self.alpha, self.beta)\n",
        "  \n",
        "  def update_one(self, winnew):  # winnew==1 if knn wins, else its 0\n",
        "    self.alpha += winnew\n",
        "    self.beta += 1 - winnew\n",
        "    \n",
        "  def update_all(self, winnews):  # winnews = [1, 0, 1, ..] 1 if knn wins else 0\n",
        "    N = len(winnews)\n",
        "    z = sum(winnews)\n",
        "    self.alpha += z\n",
        "    self.beta += N - z\n",
        "    \n",
        "  def print_current_density_function(self):  # print current approximation of beta distribution\n",
        "    x = np.linspace(0, 1, 100)\n",
        "    y = stats.beta.pdf(x, self.alpha, self.beta)\n",
        "    plt.xlabel(\"Density approximation for LABEL: \"+self.label)\n",
        "    plt.ylabel(\"Density\")\n",
        "    plt.plot(x, y)\n",
        "    plt.fill_between(x, 0, y, color=\"#aaaadd\", alpha=0.5)\n",
        "    plt.tight_layout()\n",
        "    plt.show()\n",
        "  \n",
        "  # FUNCTIONS FOR DECISION MAKING, WHOM TO TRUST:\n",
        "    \n",
        "  def __gt__(self, otherCharStatistic):  # Override operator > on density approximation\n",
        "    if not isinstance(otherCharStatistic, CharStatistic):\n",
        "      raise ValueError(\"Error. Operator overloaded for CharStatistic class\")\n",
        "    if self.get_mean()>otherCharStatistic.get_mean(): # TODO: USE .get_standard_deviation()\n",
        "      return True\n",
        "    else:\n",
        "      return False"
      ],
      "execution_count": 0,
      "outputs": []
    },
    {
      "metadata": {
        "id": "pLjva-jEdxmz",
        "colab_type": "text"
      },
      "cell_type": "markdown",
      "source": [
        "# With Stratify, Multiple k idea"
      ]
    },
    {
      "metadata": {
        "id": "tWlblTjzdu2w",
        "colab_type": "code",
        "colab": {
          "base_uri": "https://localhost:8080/",
          "height": 68
        },
        "outputId": "a5ae855d-51f7-48cd-8f5d-350970571f24"
      },
      "cell_type": "code",
      "source": [
        "print(labels)  \n",
        "print(len(labels))\n",
        "\n",
        "testset = set(test_writers)\n",
        "print(len(testset))  # No of different writers"
      ],
      "execution_count": 52,
      "outputs": [
        {
          "output_type": "stream",
          "text": [
            "{0, 1, 2, 3, 4, 5, 6, 7, 8, 9}\n",
            "10\n",
            "176\n"
          ],
          "name": "stdout"
        }
      ]
    },
    {
      "metadata": {
        "id": "Tg6tbPE_d6e_",
        "colab_type": "code",
        "colab": {}
      },
      "cell_type": "code",
      "source": [
        "TESTDATA = {} \n",
        "for writer in testset:\n",
        "  TESTDATA[writer] = [[], []]\n",
        "for i in range(0, len(test_writers)):\n",
        "    TESTDATA[test_writers[i]][0].append(test_images[i])\n",
        "    TESTDATA[test_writers[i]][1].append(test_labels[i])"
      ],
      "execution_count": 0,
      "outputs": []
    },
    {
      "metadata": {
        "id": "513zqij0eHaz",
        "colab_type": "code",
        "colab": {
          "base_uri": "https://localhost:8080/",
          "height": 3009
        },
        "outputId": "00910209-47a6-4bd5-9b5c-3d9ef38f1c2b"
      },
      "cell_type": "code",
      "source": [
        "len(TESTDATA.keys())  # no of test writers\n",
        "for writer in TESTDATA.keys():\n",
        "  print(writer, ':', len(TESTDATA[writer][0]))"
      ],
      "execution_count": 54,
      "outputs": [
        {
          "output_type": "stream",
          "text": [
            "519 : 55\n",
            "520 : 127\n",
            "522 : 124\n",
            "524 : 112\n",
            "525 : 126\n",
            "527 : 121\n",
            "528 : 137\n",
            "410 : 136\n",
            "530 : 136\n",
            "534 : 128\n",
            "535 : 118\n",
            "538 : 56\n",
            "539 : 133\n",
            "540 : 138\n",
            "541 : 111\n",
            "921 : 124\n",
            "547 : 100\n",
            "548 : 95\n",
            "549 : 138\n",
            "550 : 137\n",
            "556 : 135\n",
            "558 : 137\n",
            "560 : 100\n",
            "561 : 77\n",
            "562 : 131\n",
            "564 : 133\n",
            "565 : 122\n",
            "566 : 77\n",
            "567 : 125\n",
            "568 : 89\n",
            "570 : 117\n",
            "571 : 116\n",
            "573 : 115\n",
            "575 : 133\n",
            "577 : 122\n",
            "578 : 129\n",
            "580 : 140\n",
            "582 : 117\n",
            "585 : 147\n",
            "1101 : 132\n",
            "592 : 124\n",
            "1105 : 141\n",
            "598 : 127\n",
            "599 : 130\n",
            "600 : 128\n",
            "602 : 135\n",
            "603 : 124\n",
            "604 : 91\n",
            "1117 : 117\n",
            "606 : 129\n",
            "607 : 133\n",
            "1120 : 124\n",
            "609 : 136\n",
            "1122 : 137\n",
            "1121 : 140\n",
            "612 : 133\n",
            "1124 : 105\n",
            "1130 : 134\n",
            "1133 : 130\n",
            "1139 : 144\n",
            "704 : 137\n",
            "705 : 120\n",
            "706 : 140\n",
            "707 : 125\n",
            "709 : 140\n",
            "710 : 142\n",
            "717 : 132\n",
            "718 : 114\n",
            "246 : 118\n",
            "247 : 123\n",
            "248 : 129\n",
            "249 : 107\n",
            "250 : 130\n",
            "251 : 126\n",
            "252 : 134\n",
            "254 : 90\n",
            "255 : 145\n",
            "256 : 129\n",
            "262 : 121\n",
            "263 : 132\n",
            "265 : 124\n",
            "285 : 143\n",
            "286 : 139\n",
            "287 : 133\n",
            "288 : 135\n",
            "289 : 136\n",
            "290 : 122\n",
            "291 : 108\n",
            "299 : 118\n",
            "309 : 111\n",
            "311 : 94\n",
            "312 : 125\n",
            "313 : 149\n",
            "322 : 132\n",
            "324 : 141\n",
            "327 : 99\n",
            "358 : 115\n",
            "363 : 135\n",
            "368 : 129\n",
            "369 : 138\n",
            "374 : 120\n",
            "894 : 97\n",
            "895 : 140\n",
            "384 : 127\n",
            "383 : 136\n",
            "386 : 99\n",
            "387 : 137\n",
            "388 : 136\n",
            "901 : 136\n",
            "390 : 119\n",
            "391 : 129\n",
            "392 : 116\n",
            "393 : 139\n",
            "394 : 133\n",
            "395 : 148\n",
            "907 : 100\n",
            "396 : 119\n",
            "398 : 139\n",
            "399 : 119\n",
            "400 : 117\n",
            "909 : 122\n",
            "403 : 109\n",
            "405 : 122\n",
            "918 : 120\n",
            "920 : 118\n",
            "408 : 126\n",
            "922 : 134\n",
            "923 : 129\n",
            "411 : 95\n",
            "413 : 122\n",
            "926 : 129\n",
            "927 : 102\n",
            "412 : 112\n",
            "925 : 142\n",
            "418 : 132\n",
            "928 : 121\n",
            "932 : 53\n",
            "934 : 126\n",
            "935 : 131\n",
            "936 : 123\n",
            "937 : 116\n",
            "938 : 115\n",
            "939 : 117\n",
            "425 : 122\n",
            "429 : 136\n",
            "430 : 134\n",
            "431 : 110\n",
            "944 : 123\n",
            "945 : 127\n",
            "941 : 126\n",
            "432 : 131\n",
            "946 : 132\n",
            "948 : 116\n",
            "950 : 138\n",
            "952 : 144\n",
            "953 : 126\n",
            "956 : 103\n",
            "957 : 130\n",
            "960 : 130\n",
            "962 : 118\n",
            "963 : 119\n",
            "964 : 140\n",
            "965 : 110\n",
            "966 : 125\n",
            "968 : 133\n",
            "972 : 141\n",
            "976 : 89\n",
            "476 : 113\n",
            "477 : 123\n",
            "479 : 139\n",
            "992 : 142\n",
            "481 : 123\n",
            "482 : 136\n",
            "485 : 139\n",
            "507 : 128\n",
            "510 : 144\n"
          ],
          "name": "stdout"
        }
      ]
    },
    {
      "metadata": {
        "id": "BXO_PjiheIuf",
        "colab_type": "code",
        "colab": {}
      },
      "cell_type": "code",
      "source": [
        "def find_minimal(i, vector):  # i is the ascii code: 48.49,...,65,66,...,97,...\n",
        "  # Implicit use of dictionary ICentroids[ASCII]\n",
        "  minindex = 0\n",
        "  mineps = np.linalg.norm(vector-ICentroids[i][0])\n",
        "  for j in range(1, ICentroids[i].shape[0]):  \n",
        "    _mineps = np.linalg.norm(vector-ICentroids[i][j])\n",
        "    if _mineps < mineps:\n",
        "      mineps = _mineps\n",
        "      minindex = j\n",
        "      \n",
        "  return ICentroids[i][minindex].copy() "
      ],
      "execution_count": 0,
      "outputs": []
    },
    {
      "metadata": {
        "id": "kc8ScEtLeVFc",
        "colab_type": "code",
        "colab": {}
      },
      "cell_type": "code",
      "source": [
        "winold = 0\n",
        "equal = 0\n",
        "winnew = 0\n",
        "sumS = 0\n",
        "sumS1 = 0\n",
        "sumSboth = 0\n",
        "sumN = 0\n",
        "lenBetterOld = 0\n",
        "lenBetterNew = 0"
      ],
      "execution_count": 0,
      "outputs": []
    },
    {
      "metadata": {
        "id": "ekQ3uRneeXpt",
        "colab_type": "code",
        "colab": {}
      },
      "cell_type": "code",
      "source": [
        "import math\n",
        "ks = [2, 4, 6, 8, 10]  # outer object for configure get_min_label function and evaluation\n",
        "\n",
        "def get_min_label(history, predicted_vector): # return list of predicted label for k in ks\n",
        "  X_search = []\n",
        "  y_search = []\n",
        "  for (_predicted_label, _original_label) in history.keys():  # Na 90% mreza je rekla _predicted_label a bila je _original_label (imam vector i count)\n",
        "      if _predicted_label == predicted_label:\n",
        "        for _ in range(history[(_predicted_label, _original_label)][1]):\n",
        "          X_search.append(history[(_predicted_label, _original_label)][0])\n",
        "          y_search.append(_original_label)      \n",
        "  \n",
        "  results = {}\n",
        "  for k in ks:\n",
        "    if len(X_search)<k:  # if I cant do knn search with respect to specific k\n",
        "      results[k] = None\n",
        "    else:\n",
        "      knn = KNeighborsClassifier(n_neighbors=k, metric='l2')  # empirically confirm; use heuristic instead of min\n",
        "      knn.fit(X_search, y_search)\n",
        "      results[k] = knn.predict(np.array([predicted_vector]))[0]\n",
        "      \n",
        "  return results # return dict of predictions for each k in ks [1, 2, 4, 6, 8]\n",
        "\n",
        "# Who to believe in prediction\n",
        "# input: (baseline prediction, baseline spectar, knns oredictions, knns spectars)\n",
        "def who_to_believe(predicted_label, writer_network_spectar, min_labels, writer_knn_spectars): # Return optimal k or None if baseline is the best\n",
        "  trust = [writer_network_spectar[predicted_label].get_mean()]\n",
        "  for k in ks:\n",
        "    if min_labels[k] is None: # no prediction for that k\n",
        "      trust.append(-1)  # baseline is above 0 in any case\n",
        "    else:\n",
        "      trust.append(writer_knn_spectars[k][min_labels[k]].get_mean())  # mean of density approximation for predicted label for specific k \n",
        "    \n",
        "  maxindex = trust.index(max(trust))\n",
        "  if maxindex is 0:  # baseline is the best\n",
        "    return None\n",
        "  else:              # find proper k (-1 is ok cause of 0 index is for baseline)\n",
        "    return ks[maxindex-1]"
      ],
      "execution_count": 0,
      "outputs": []
    },
    {
      "metadata": {
        "id": "vk4l1P7Gee73",
        "colab_type": "code",
        "colab": {}
      },
      "cell_type": "code",
      "source": [
        "import random\n",
        "from itertools import chain\n",
        "from random import shuffle\n",
        "\n",
        "# Helper function; Simulate unfair coin flip\n",
        "def flip_a_unfair_coin(p): # p is for example 3/10 etc.\n",
        "  return random.random()<p\n",
        "\n",
        "# Hardcoded split 90%:10%\n",
        "# Get images and labels of some writer, and create 90%:10% split\n",
        "# return images and labels (same list) and also m (border line: [0, m), [m, n) split)\n",
        "def stratify_me(images, labels):\n",
        "  X_train = []  # train:test = 90%:10% of writer images\n",
        "  X_test = []\n",
        "  y_train = []\n",
        "  y_test = []\n",
        "  \n",
        "  indexlabels = [i for i in range(0, 10)]  # [48, 49, 50, ..., 65, 66, ..., 97, 98, ...]\n",
        "  freqlabels = [[] for _ in indexlabels]  # 0-9, A-Z, a-z\n",
        "  \n",
        "  n = len(labels)  # size of writer pictures\n",
        "  m = 0            # border for dynamic history ~int(0.9*n)+1\n",
        "  \n",
        "  for i in range(len(labels)):\n",
        "    indx = indexlabels.index(int(labels[i]))  # position in freqlabels with respect to ascii code of label\n",
        "    freqlabels[indx].append(i)                # freqlabels[ascii_code_of_0] contains all indexes for label '0' in writer images\n",
        "    \n",
        "  for freq in freqlabels:\n",
        "    shuffle(freq)\n",
        "    \n",
        "    # first part, enough label\n",
        "    while len(freq)>=10:\n",
        "      _freq = freq[:10]\n",
        "      freq = freq[10:]\n",
        "      \n",
        "                                       # random choose one of ten images for evaluation (I can choose one index, but I want to shuffle also for dynamic history)\n",
        "      X_test.append(images[_freq[0]])  # add one image for evaluation set\n",
        "      y_test.append(labels[_freq[0]])\n",
        "      for f in _freq[1:]:\n",
        "        X_train.append(images[f])  # add nine images to dynamic istory set\n",
        "        y_train.append(labels[f])\n",
        "      m += 9                              # added nine images into dynamic history\n",
        "    \n",
        "    # second part, should I sample from tail (example 3 images instead of 10)\n",
        "    if flip_a_unfair_coin(len(freq)/10)==True:\n",
        "      X_test.append(images[freq[0]])\n",
        "      y_test.append(labels[freq[0]])\n",
        "      freq = freq[1:]\n",
        "      \n",
        "    for f in freq:\n",
        "      X_train.append(images[f])\n",
        "      y_train.append(labels[f])\n",
        "    m += len(freq)  # added rest of the images into dynamic history set\n",
        "    \n",
        "  return X_train+X_test, y_train+y_test, m, n    "
      ],
      "execution_count": 0,
      "outputs": []
    },
    {
      "metadata": {
        "id": "kZF8MRO9etKy",
        "colab_type": "code",
        "colab": {
          "base_uri": "https://localhost:8080/",
          "height": 1428
        },
        "outputId": "5c4748c9-52d8-430d-e2a2-7567800de4a3"
      },
      "cell_type": "code",
      "source": [
        "%%time\n",
        "\n",
        "for writer in TESTDATA.keys():   # [2, 665, 1369]: writer - current writer id\n",
        "  #images9 = TESTDATA[writer][0]  # images9 - images of current writer\n",
        "  #labels9 = TESTDATA[writer][1]  # labels9 - labels of current writer\n",
        "  #n = len(images9)               \n",
        "  #m = int(0.90*n)+1                 # 90% for dynaminc history, 10% for evaluation of new model\n",
        "  images9, labels9, m, n = stratify_me(TESTDATA[writer][0], OH_L.decode_all(TESTDATA[writer][1]))\n",
        "  \n",
        "  #################################################### GET DYNAMIC HISTORY {(predicted_label, original_label):[[vector], count]}\n",
        "  history = {}\n",
        "  for i in range(0, m):\n",
        "    original_label = int(labels9[i])\n",
        "    predicted_label = int(OH_L.decode(recognizer.predict(np.array([images9[i]]))[0]))\n",
        "    predicted_vector = find_minimal(original_label, finder.predict(np.array([images9[i]]))[0])  \n",
        "    if (predicted_label, original_label) not in history.keys():\n",
        "      history[(predicted_label, original_label)]=[predicted_vector, 1]\n",
        "    else:\n",
        "      history[(predicted_label, original_label)][0] += predicted_vector\n",
        "      history[(predicted_label, original_label)][1] += 1      \n",
        "  for (x,y) in sorted(history.keys()):  # find AVG of predicted clusters; DROP THIS PART IN NEW VERSION; MLADEN IDEA\n",
        "    history[(x,y)][0] /= history[(x,y)][1]  \n",
        "\n",
        "  #################################################### GET SPECTARS\n",
        "  writer_network_spectar = {}\n",
        "  writer_knn_spectars = {}  # dict of dictionaries\n",
        "  for k in ks:\n",
        "    writer_knn_spectars[k] = {}  # spectars for each k in ks\n",
        "  for l in labels:   # add statistic for character l to all spectars\n",
        "    writer_network_spectar[l] = CharStatistic(l) # [0, 0]\n",
        "    for k in ks:\n",
        "      writer_knn_spectars[k][l] = CharStatistic(l)\n",
        "  for i in range(0, m):\n",
        "    original_label = int(labels9[i])\n",
        "    predicted_label = int(OH_L.decode(recognizer.predict(np.array([images9[i]]))[0]))\n",
        "    predicted_vector = finder.predict(np.array([images9[i]]))[0]\n",
        "    \n",
        "    ##### writer_network_spectar\n",
        "    if original_label == predicted_label:\n",
        "      writer_network_spectar[predicted_label].update_one(1) # Network says predicted_label and its correct\n",
        "    else:\n",
        "      writer_network_spectar[predicted_label].update_one(0)  # Network says predicted_label and its wrong\n",
        "\n",
        "    ##### writer_knn_spectar\n",
        "    min_labels = get_min_label(history, predicted_vector)\n",
        "    for k in ks:  # get min label is configured with respect to ks\n",
        "      min_label = min_labels[k]\n",
        "      if min_label is None:\n",
        "        min_label = predicted_label  # min label je moje predvidjanje \n",
        "      if min_label == original_label:  # min_label je ono sto ja predvidjam na onih 10%; to i evaluiram \n",
        "        writer_knn_spectars[k][min_label].update_one(1)\n",
        "      else:\n",
        "        writer_knn_spectars[k][min_label].update_one(0)\n",
        "     \n",
        "  #################################################### GET S AND S1\n",
        "  S = 0\n",
        "  S1 = 0\n",
        "  Sboth = 0\n",
        "  N = len(labels9[m:n])\n",
        "  for i in range(m, n):  # slow variant\n",
        "    original_label = int(labels9[i])\n",
        "    predicted_label = int(OH_L.decode(recognizer.predict(np.array([images9[i]]))[0])) # int(string like '48') -> ascii code\n",
        "    predicted_vector = finder.predict(np.array([images9[i]]))[0]\n",
        "    \n",
        "    ##### S1; old one\n",
        "    #print('NN DEBUG: predicted: ', predicted_label, 'original: ', original_label)\n",
        "    #input()\n",
        "    if predicted_label == original_label:\n",
        "      S1 += 1\n",
        "    predicted_label_bkp = predicted_label\n",
        "    ##### S; new approach\n",
        "    min_labels = get_min_label(history, predicted_vector)  # get list of predictions or each k\n",
        "    k = who_to_believe(predicted_label, writer_network_spectar, min_labels, writer_knn_spectars)  # Choose who have biggest mean of all spectars, use it as a aprediction\n",
        "    if k is not None and min_labels[k] is not None:  # believe to specific knn, which have it own prediction\n",
        "      predicted_label = min_labels[k]  # new approach; change network prediction if knn is sure enough  \n",
        "    if predicted_label == original_label:\n",
        "      S += 1\n",
        "  \n",
        "    ##### Sboth\n",
        "    if predicted_label_bkp == original_label or (k is not None and min_labels[k] is not None and min_labels[k]==original_label):\n",
        "      Sboth+=1 \n",
        "      \n",
        "    ########## UPDATE history AND *spectar ##########\n",
        "    # original_label OK\n",
        "    predicted_label = predicted_label_bkp\n",
        "    # predicted_vector OK \n",
        "    \n",
        "    # history\n",
        "    predicted_vector_bkp = find_minimal(original_label, predicted_vector)\n",
        "    if (predicted_label, original_label) not in history.keys():\n",
        "      history[(predicted_label, original_label)]=[predicted_vector_bkp, 1]\n",
        "    else:\n",
        "      history[(predicted_label, original_label)][0] = (history[(predicted_label, original_label)][0]*history[(predicted_label, original_label)][1]+predicted_vector_bkp)/(history[(predicted_label, original_label)][1]+1)\n",
        "      history[(predicted_label, original_label)][1] += 1\n",
        "    \n",
        "    # writer_network_spectar\n",
        "    if original_label == predicted_label:\n",
        "      writer_network_spectar[predicted_label].update_one(1)  # Network says predicted_label and its correct\n",
        "    else:\n",
        "      writer_network_spectar[predicted_label].update_one(0)  # Network says predicted_label and its wrong\n",
        "  \n",
        "    # writer_knn_spectar\n",
        "    min_labels = get_min_label(history, predicted_vector)  # prvo ga ubacim u istoriju - ali kao proseci itd. a onda kasnije trazim min_label; MOZDA INVERZNO? da ne bih nasao istog\n",
        "    for k in ks:\n",
        "      min_label = min_labels[k]\n",
        "      if min_label is None:\n",
        "        min_label = predicted_label  # min label je moje predvidjanje \n",
        "      if min_label == original_label:  # min_label je ono sto ja predvidjam na onih 10%; to i evaluiram \n",
        "        writer_knn_spectars[k][min_label].update_one(1)\n",
        "      else:\n",
        "        writer_knn_spectars[k][min_label].update_one(0)\n",
        "    ########## END UPDATE ##########\n",
        "\n",
        "    \n",
        "  #################################################### PRINT AND UPDATE GLOBAL VALUES\n",
        "  if S!=S1:  # Print only diff\n",
        "    print(\"Writer {0:4d} == mynew: {1:d} ({2:3.2f}%) == old: {3:d} ({4:3.2f}%) == both: {5:d} ({6:3.2f}%), No. of images {7:d}, len(image9)={8:d}\".format(writer, S, float(100*S)/N, S1, float(100*S1)/N, Sboth, float(100.0*Sboth)/N, N, n))\n",
        "  sumS += S\n",
        "  sumS1 += S1\n",
        "  sumSboth += Sboth\n",
        "  sumN += N   \n",
        "  \n",
        "  if S==S1:\n",
        "    equal += 1\n",
        "  elif S>S1:\n",
        "    winnew += 1\n",
        "    lenBetterNew += n\n",
        "  else:\n",
        "    winold += 1\n",
        "    lenBetterOld += n   \n",
        "    \n",
        "  del history\n",
        "  del writer_network_spectar\n",
        "  del writer_knn_spectars    "
      ],
      "execution_count": 59,
      "outputs": [
        {
          "output_type": "stream",
          "text": [
            "Writer  520 == mynew: 8 (80.00%) == old: 9 (90.00%) == both: 9 (90.00%), No. of images 10, len(image9)=127\n",
            "Writer  524 == mynew: 9 (81.82%) == old: 8 (72.73%) == both: 9 (81.82%), No. of images 11, len(image9)=112\n",
            "Writer  410 == mynew: 13 (92.86%) == old: 11 (78.57%) == both: 13 (92.86%), No. of images 14, len(image9)=136\n",
            "Writer  530 == mynew: 14 (100.00%) == old: 13 (92.86%) == both: 14 (100.00%), No. of images 14, len(image9)=136\n",
            "Writer  534 == mynew: 14 (100.00%) == old: 13 (92.86%) == both: 14 (100.00%), No. of images 14, len(image9)=128\n",
            "Writer  541 == mynew: 10 (100.00%) == old: 9 (90.00%) == both: 10 (100.00%), No. of images 10, len(image9)=111\n",
            "Writer  547 == mynew: 7 (63.64%) == old: 6 (54.55%) == both: 9 (81.82%), No. of images 11, len(image9)=100\n",
            "Writer  548 == mynew: 11 (100.00%) == old: 9 (81.82%) == both: 11 (100.00%), No. of images 11, len(image9)=95\n",
            "Writer  549 == mynew: 14 (100.00%) == old: 13 (92.86%) == both: 14 (100.00%), No. of images 14, len(image9)=138\n",
            "Writer  558 == mynew: 14 (93.33%) == old: 13 (86.67%) == both: 14 (93.33%), No. of images 15, len(image9)=137\n",
            "Writer  562 == mynew: 10 (83.33%) == old: 11 (91.67%) == both: 11 (91.67%), No. of images 12, len(image9)=131\n",
            "Writer  565 == mynew: 13 (100.00%) == old: 11 (84.62%) == both: 13 (100.00%), No. of images 13, len(image9)=122\n",
            "Writer  566 == mynew: 3 (50.00%) == old: 2 (33.33%) == both: 3 (50.00%), No. of images 6, len(image9)=77\n",
            "Writer  582 == mynew: 8 (66.67%) == old: 7 (58.33%) == both: 8 (66.67%), No. of images 12, len(image9)=117\n",
            "Writer  585 == mynew: 11 (91.67%) == old: 10 (83.33%) == both: 11 (91.67%), No. of images 12, len(image9)=147\n",
            "Writer  592 == mynew: 11 (100.00%) == old: 10 (90.91%) == both: 11 (100.00%), No. of images 11, len(image9)=124\n",
            "Writer  598 == mynew: 8 (66.67%) == old: 7 (58.33%) == both: 9 (75.00%), No. of images 12, len(image9)=127\n",
            "Writer  599 == mynew: 12 (100.00%) == old: 10 (83.33%) == both: 12 (100.00%), No. of images 12, len(image9)=130\n",
            "Writer  600 == mynew: 12 (92.31%) == old: 11 (84.62%) == both: 12 (92.31%), No. of images 13, len(image9)=128\n",
            "Writer 1117 == mynew: 8 (66.67%) == old: 7 (58.33%) == both: 8 (66.67%), No. of images 12, len(image9)=117\n",
            "Writer 1122 == mynew: 11 (78.57%) == old: 9 (64.29%) == both: 11 (78.57%), No. of images 14, len(image9)=137\n",
            "Writer 1121 == mynew: 11 (78.57%) == old: 10 (71.43%) == both: 11 (78.57%), No. of images 14, len(image9)=140\n",
            "Writer 1124 == mynew: 10 (90.91%) == old: 9 (81.82%) == both: 10 (90.91%), No. of images 11, len(image9)=105\n",
            "Writer 1133 == mynew: 9 (81.82%) == old: 8 (72.73%) == both: 9 (81.82%), No. of images 11, len(image9)=130\n",
            "Writer  704 == mynew: 8 (61.54%) == old: 10 (76.92%) == both: 10 (76.92%), No. of images 13, len(image9)=137\n",
            "Writer  705 == mynew: 11 (91.67%) == old: 9 (75.00%) == both: 11 (91.67%), No. of images 12, len(image9)=120\n",
            "Writer  706 == mynew: 13 (76.47%) == old: 14 (82.35%) == both: 14 (82.35%), No. of images 17, len(image9)=140\n",
            "Writer  707 == mynew: 11 (84.62%) == old: 10 (76.92%) == both: 11 (84.62%), No. of images 13, len(image9)=125\n",
            "Writer  717 == mynew: 10 (76.92%) == old: 9 (69.23%) == both: 10 (76.92%), No. of images 13, len(image9)=132\n",
            "Writer  248 == mynew: 11 (91.67%) == old: 12 (100.00%) == both: 12 (100.00%), No. of images 12, len(image9)=129\n",
            "Writer  249 == mynew: 7 (63.64%) == old: 8 (72.73%) == both: 8 (72.73%), No. of images 11, len(image9)=107\n",
            "Writer  251 == mynew: 12 (100.00%) == old: 11 (91.67%) == both: 12 (100.00%), No. of images 12, len(image9)=126\n",
            "Writer  252 == mynew: 13 (100.00%) == old: 12 (92.31%) == both: 13 (100.00%), No. of images 13, len(image9)=134\n",
            "Writer  254 == mynew: 7 (87.50%) == old: 6 (75.00%) == both: 7 (87.50%), No. of images 8, len(image9)=90\n",
            "Writer  255 == mynew: 16 (100.00%) == old: 15 (93.75%) == both: 16 (100.00%), No. of images 16, len(image9)=145\n",
            "Writer  256 == mynew: 12 (100.00%) == old: 11 (91.67%) == both: 12 (100.00%), No. of images 12, len(image9)=129\n",
            "Writer  262 == mynew: 12 (85.71%) == old: 11 (78.57%) == both: 12 (85.71%), No. of images 14, len(image9)=121\n",
            "Writer  285 == mynew: 9 (69.23%) == old: 11 (84.62%) == both: 11 (84.62%), No. of images 13, len(image9)=143\n",
            "Writer  286 == mynew: 9 (69.23%) == old: 8 (61.54%) == both: 9 (69.23%), No. of images 13, len(image9)=139\n",
            "Writer  287 == mynew: 12 (100.00%) == old: 11 (91.67%) == both: 12 (100.00%), No. of images 12, len(image9)=133\n",
            "Writer  289 == mynew: 11 (78.57%) == old: 9 (64.29%) == both: 11 (78.57%), No. of images 14, len(image9)=136\n",
            "Writer  311 == mynew: 8 (100.00%) == old: 6 (75.00%) == both: 8 (100.00%), No. of images 8, len(image9)=94\n",
            "Writer  313 == mynew: 14 (87.50%) == old: 15 (93.75%) == both: 15 (93.75%), No. of images 16, len(image9)=149\n",
            "Writer  327 == mynew: 10 (100.00%) == old: 9 (90.00%) == both: 10 (100.00%), No. of images 10, len(image9)=99\n",
            "Writer  374 == mynew: 11 (84.62%) == old: 10 (76.92%) == both: 11 (84.62%), No. of images 13, len(image9)=120\n",
            "Writer  895 == mynew: 9 (75.00%) == old: 8 (66.67%) == both: 9 (75.00%), No. of images 12, len(image9)=140\n",
            "Writer  384 == mynew: 9 (75.00%) == old: 8 (66.67%) == both: 9 (75.00%), No. of images 12, len(image9)=127\n",
            "Writer  383 == mynew: 15 (93.75%) == old: 14 (87.50%) == both: 15 (93.75%), No. of images 16, len(image9)=136\n",
            "Writer  387 == mynew: 14 (93.33%) == old: 12 (80.00%) == both: 15 (100.00%), No. of images 15, len(image9)=137\n",
            "Writer  901 == mynew: 13 (100.00%) == old: 11 (84.62%) == both: 13 (100.00%), No. of images 13, len(image9)=136\n",
            "Writer  390 == mynew: 11 (91.67%) == old: 9 (75.00%) == both: 11 (91.67%), No. of images 12, len(image9)=119\n",
            "Writer  391 == mynew: 11 (91.67%) == old: 9 (75.00%) == both: 11 (91.67%), No. of images 12, len(image9)=129\n",
            "Writer  395 == mynew: 14 (87.50%) == old: 12 (75.00%) == both: 14 (87.50%), No. of images 16, len(image9)=148\n",
            "Writer  396 == mynew: 11 (91.67%) == old: 10 (83.33%) == both: 11 (91.67%), No. of images 12, len(image9)=119\n",
            "Writer  398 == mynew: 13 (86.67%) == old: 11 (73.33%) == both: 13 (86.67%), No. of images 15, len(image9)=139\n",
            "Writer  909 == mynew: 11 (91.67%) == old: 10 (83.33%) == both: 11 (91.67%), No. of images 12, len(image9)=122\n",
            "Writer  920 == mynew: 10 (76.92%) == old: 9 (69.23%) == both: 10 (76.92%), No. of images 13, len(image9)=118\n",
            "Writer  922 == mynew: 12 (92.31%) == old: 11 (84.62%) == both: 12 (92.31%), No. of images 13, len(image9)=134\n",
            "Writer  923 == mynew: 11 (73.33%) == old: 12 (80.00%) == both: 12 (80.00%), No. of images 15, len(image9)=129\n",
            "Writer  927 == mynew: 9 (100.00%) == old: 8 (88.89%) == both: 9 (100.00%), No. of images 9, len(image9)=102\n",
            "Writer  412 == mynew: 10 (90.91%) == old: 8 (72.73%) == both: 10 (90.91%), No. of images 11, len(image9)=112\n",
            "Writer  925 == mynew: 14 (87.50%) == old: 11 (68.75%) == both: 14 (87.50%), No. of images 16, len(image9)=142\n",
            "Writer  418 == mynew: 12 (80.00%) == old: 13 (86.67%) == both: 13 (86.67%), No. of images 15, len(image9)=132\n",
            "Writer  928 == mynew: 11 (91.67%) == old: 9 (75.00%) == both: 11 (91.67%), No. of images 12, len(image9)=121\n",
            "Writer  937 == mynew: 11 (84.62%) == old: 10 (76.92%) == both: 11 (84.62%), No. of images 13, len(image9)=116\n",
            "Writer  938 == mynew: 8 (88.89%) == old: 7 (77.78%) == both: 8 (88.89%), No. of images 9, len(image9)=115\n",
            "Writer  425 == mynew: 11 (91.67%) == old: 9 (75.00%) == both: 11 (91.67%), No. of images 12, len(image9)=122\n",
            "Writer  431 == mynew: 12 (92.31%) == old: 11 (84.62%) == both: 12 (92.31%), No. of images 13, len(image9)=110\n",
            "Writer  945 == mynew: 11 (78.57%) == old: 10 (71.43%) == both: 11 (78.57%), No. of images 14, len(image9)=127\n",
            "Writer  946 == mynew: 14 (100.00%) == old: 13 (92.86%) == both: 14 (100.00%), No. of images 14, len(image9)=132\n",
            "Writer  950 == mynew: 14 (93.33%) == old: 13 (86.67%) == both: 14 (93.33%), No. of images 15, len(image9)=138\n",
            "Writer  956 == mynew: 7 (87.50%) == old: 6 (75.00%) == both: 7 (87.50%), No. of images 8, len(image9)=103\n",
            "Writer  960 == mynew: 9 (75.00%) == old: 8 (66.67%) == both: 9 (75.00%), No. of images 12, len(image9)=130\n",
            "Writer  962 == mynew: 11 (91.67%) == old: 10 (83.33%) == both: 11 (91.67%), No. of images 12, len(image9)=118\n",
            "Writer  964 == mynew: 13 (100.00%) == old: 12 (92.31%) == both: 13 (100.00%), No. of images 13, len(image9)=140\n",
            "Writer  972 == mynew: 13 (86.67%) == old: 12 (80.00%) == both: 13 (86.67%), No. of images 15, len(image9)=141\n",
            "Writer  976 == mynew: 10 (100.00%) == old: 9 (90.00%) == both: 10 (100.00%), No. of images 10, len(image9)=89\n",
            "Writer  482 == mynew: 10 (83.33%) == old: 9 (75.00%) == both: 10 (83.33%), No. of images 12, len(image9)=136\n",
            "Writer  485 == mynew: 11 (73.33%) == old: 10 (66.67%) == both: 11 (73.33%), No. of images 15, len(image9)=139\n",
            "Writer  507 == mynew: 11 (91.67%) == old: 10 (83.33%) == both: 11 (91.67%), No. of images 12, len(image9)=128\n",
            "Writer  510 == mynew: 13 (92.86%) == old: 12 (85.71%) == both: 13 (92.86%), No. of images 14, len(image9)=144\n",
            "CPU times: user 5min 44s, sys: 19.6 s, total: 6min 4s\n",
            "Wall time: 5min 1s\n"
          ],
          "name": "stdout"
        }
      ]
    },
    {
      "metadata": {
        "id": "F_HsdOUbfABL",
        "colab_type": "code",
        "colab": {
          "base_uri": "https://localhost:8080/",
          "height": 170
        },
        "outputId": "36012d1b-1a22-4105-a276-bd7ded573c31"
      },
      "cell_type": "code",
      "source": [
        "print('winold: ', winold)\n",
        "print('equal: ', equal)\n",
        "print('winnew: ', winnew)\n",
        "print('S: (new): ', 100.0*sumS/sumN)\n",
        "print('S1: (old): ', 100.0*sumS1/sumN)\n",
        "print('Sboth: (new): ', 100.0*sumSboth/sumN)\n",
        "print('AVG len winold: ', 1.0*lenBetterOld/winold)\n",
        "print('AVG len winnew: ', 1.0*lenBetterNew/winnew)\n",
        "print('No of evaluation images: ', sumN)"
      ],
      "execution_count": 60,
      "outputs": [
        {
          "output_type": "stream",
          "text": [
            "winold:  10\n",
            "equal:  95\n",
            "winnew:  71\n",
            "S: (new):  86.66049096804076\n",
            "S1: (old):  83.04770727188513\n",
            "Sboth: (new):  88.18897637795276\n",
            "AVG len winold:  132.4\n",
            "AVG len winnew:  124.59154929577464\n",
            "No of evaluation images:  2159\n"
          ],
          "name": "stdout"
        }
      ]
    },
    {
      "metadata": {
        "id": "rqbfB_kEyh3V",
        "colab_type": "code",
        "colab": {}
      },
      "cell_type": "code",
      "source": [
        ""
      ],
      "execution_count": 0,
      "outputs": []
    },
    {
      "metadata": {
        "id": "Ng6sPFhTyhfc",
        "colab_type": "code",
        "colab": {}
      },
      "cell_type": "code",
      "source": [
        ""
      ],
      "execution_count": 0,
      "outputs": []
    },
    {
      "metadata": {
        "id": "RyZQQ9jlyhM1",
        "colab_type": "code",
        "colab": {}
      },
      "cell_type": "code",
      "source": [
        ""
      ],
      "execution_count": 0,
      "outputs": []
    },
    {
      "metadata": {
        "id": "nDv_dHlcyg1k",
        "colab_type": "code",
        "colab": {}
      },
      "cell_type": "code",
      "source": [
        ""
      ],
      "execution_count": 0,
      "outputs": []
    },
    {
      "metadata": {
        "id": "w-mmGLrHkoZi",
        "colab_type": "code",
        "colab": {}
      },
      "cell_type": "code",
      "source": [
        "winold = 0\n",
        "equal = 0\n",
        "winnew = 0\n",
        "sumS = 0\n",
        "sumS1 = 0\n",
        "sumSboth = 0\n",
        "sumN = 0\n",
        "lenBetterOld = 0\n",
        "lenBetterNew = 0"
      ],
      "execution_count": 0,
      "outputs": []
    },
    {
      "metadata": {
        "id": "_SklL_sHlQEP",
        "colab_type": "code",
        "colab": {
          "base_uri": "https://localhost:8080/",
          "height": 2788
        },
        "outputId": "f7beb9c6-79d1-4589-befd-99bc6d2a7991"
      },
      "cell_type": "code",
      "source": [
        "%%time\n",
        "\n",
        "NoResample = 10\n",
        "for writer in TESTDATA.keys():   # writer - current writer id\n",
        "  #images9 = TESTDATA[writer][0]  # images9 - images of current writer\n",
        "  #labels9 = TESTDATA[writer][1]  # labels9 - labels of current writer\n",
        "  #n = len(images9)               \n",
        "  #m = int(0.9*n)+1                 # 90% for dynaminc history, 10% for evaluation of new model\n",
        "  \n",
        "  S = 0      # no of images on which new method is correct\n",
        "  S1 = 0     # no of images on which baseline network is correct\n",
        "  Sboth = 0  # no of images on which either baseline or knn is correct\n",
        "  Nall = 0   # no of evaluation images\n",
        "  for _ in range(NoResample):  # Resample\n",
        "    #################################################### STRATIFY AND SHUFFLE INTERNALLY \n",
        "    images9, labels9, m, n = stratify_me(TESTDATA[writer][0], OH_L.decode_all(TESTDATA[writer][1]))\n",
        "    \n",
        "    #################################################### GET DYNAMIC HISTORY {(predicted_label, original_label):[[vector], count]}\n",
        "    history = {}\n",
        "    for i in range(0, m):\n",
        "      original_label = int(labels9[i])\n",
        "      predicted_label = int(OH_L.decode(recognizer.predict(np.array([images9[i]]))[0]))\n",
        "      predicted_vector = find_minimal(original_label, finder.predict(np.array([images9[i]]))[0])  \n",
        "      if (predicted_label, original_label) not in history.keys():\n",
        "        history[(predicted_label, original_label)]=[predicted_vector, 1]\n",
        "      else:\n",
        "        history[(predicted_label, original_label)][0] += predicted_vector\n",
        "        history[(predicted_label, original_label)][1] += 1      \n",
        "    for (x,y) in sorted(history.keys()):  # find AVG of predicted clusters\n",
        "      history[(x,y)][0] /= history[(x,y)][1]  \n",
        "  \n",
        "    #################################################### GET SPECTARS\n",
        "    writer_network_spectar = {}\n",
        "    writer_knn_spectars = {}  # dict of dictionaries\n",
        "    for k in ks:\n",
        "      writer_knn_spectars[k] = {}  # spectars for each k in ks\n",
        "    for l in labels:   # add statistic for character l to all spectars\n",
        "      writer_network_spectar[l] = CharStatistic(l) # [0, 0]\n",
        "      for k in ks:\n",
        "        writer_knn_spectars[k][l] = CharStatistic(l)\n",
        "    \n",
        "    for i in range(0, m):\n",
        "      original_label = int(labels9[i])\n",
        "      predicted_label = int(OH_L.decode(recognizer.predict(np.array([images9[i]]))[0]))\n",
        "      predicted_vector = finder.predict(np.array([images9[i]]))[0]\n",
        "    \n",
        "      ##### writer_network_spectar\n",
        "      if original_label == predicted_label:\n",
        "        writer_network_spectar[predicted_label].update_one(1)  # Network says predicted_label and its correct\n",
        "      else:\n",
        "        writer_network_spectar[predicted_label].update_one(0)  # Network says predicted_label and its wrong\n",
        "         \n",
        "      ##### writer_knn_spectar\n",
        "      min_labels = get_min_label(history, predicted_vector)\n",
        "      for k in ks:  # get min label is configured with respect to ks\n",
        "        min_label = min_labels[k]\n",
        "        if min_label is None:\n",
        "          min_label = predicted_label  # min label je moje predvidjanje \n",
        "        if min_label == original_label:  # min_label je ono sto ja predvidjam na onih 10%; to i evaluiram \n",
        "          writer_knn_spectars[k][min_label].update_one(1)\n",
        "        else:\n",
        "          writer_knn_spectars[k][min_label].update_one(0)\n",
        "  \n",
        "    #################################################### GET S AND S1\n",
        "    s = 0                  # tmp no of images on which knn is correct\n",
        "    s1 = 0                 # tmp no of images on which baseline is correct\n",
        "    sboth = 0              # tmp no of images on which either knn or baseline is correct\n",
        "    N = len(labels9[m:n])  # tmp no of evaluation images\n",
        "    for i in range(m, n): \n",
        "      original_label = int(labels9[i])\n",
        "      predicted_label = int(OH_L.decode(recognizer.predict(np.array([images9[i]]))[0])) # int(string like '48') -> ascii code 48\n",
        "      predicted_vector = finder.predict(np.array([images9[i]]))[0]\n",
        "    \n",
        "      ##### s1; old one\n",
        "      if predicted_label == original_label:\n",
        "        s1 += 1\n",
        "      predicted_label_bkp = predicted_label\n",
        "      ##### s; new approach\n",
        "      min_labels = get_min_label(history, predicted_vector)  # get list of predictions or each k\n",
        "      k = who_to_believe(predicted_label, writer_network_spectar, min_labels, writer_knn_spectars)  # Choose who have biggest mean of all spectars, use it as a aprediction\n",
        "      if k is not None and min_labels[k] is not None:  # believe to specific knn, which have it own prediction\n",
        "        predicted_label = min_labels[k]  # new approach; change network prediction if knn is sure enough  \n",
        "      if predicted_label == original_label:\n",
        "        s += 1\n",
        "  \n",
        "      ##### sboth\n",
        "      if predicted_label_bkp == original_label or (k is not None and min_labels[k] is not None and min_labels[k]==original_label):\n",
        "        sboth+=1 \n",
        "\n",
        "      ########## UPDATE history AND *spectar ##########\n",
        "      # original_label OK\n",
        "      predicted_label = predicted_label_bkp\n",
        "      # predicted_vector OK \n",
        "    \n",
        "      # history\n",
        "      predicted_vector_bkp = find_minimal(original_label, predicted_vector)  # smal bug; fixed; predicted vector is nearest cluster/avg of clusters not next tot last\n",
        "      if (predicted_label, original_label) not in history.keys():\n",
        "        history[(predicted_label, original_label)]=[predicted_vector_bkp, 1]\n",
        "      else:\n",
        "        history[(predicted_label, original_label)][0] = (history[(predicted_label, original_label)][0]*history[(predicted_label, original_label)][1]+predicted_vector_bkp)/(history[(predicted_label, original_label)][1]+1)\n",
        "        history[(predicted_label, original_label)][1] += 1\n",
        "    \n",
        "      # writer_network_spectar\n",
        "      if original_label == predicted_label:\n",
        "        writer_network_spectar[predicted_label].update_one(1)  # Network says predicted_label and its correct\n",
        "      else:\n",
        "        writer_network_spectar[predicted_label].update_one(0)  # Network says predicted_label and its wrong\n",
        "  \n",
        "      # writer_knn_spectar\n",
        "      min_labels = get_min_label(history, predicted_vector)  # prvo ga ubacim u istoriju - ali kao proseci itd. a onda kasnije trazim min_label; MOZDA INVERZNO? da ne bih nasao istog\n",
        "      for k in ks:\n",
        "        min_label = min_labels[k]\n",
        "        if min_label is None:\n",
        "          min_label = predicted_label  # min label je moje predvidjanje \n",
        "        if min_label == original_label:  # min_label je ono sto ja predvidjam na onih 10%; to i evaluiram \n",
        "          writer_knn_spectars[k][min_label].update_one(1)\n",
        "        else:\n",
        "          writer_knn_spectars[k][min_label].update_one(0)\n",
        "      ########## END UPDATE ##########        \n",
        "        \n",
        "        \n",
        "    S += s\n",
        "    S1 += s1\n",
        "    Sboth += sboth\n",
        "    Nall += N\n",
        "    del history\n",
        "    del writer_network_spectar\n",
        "    del writer_knn_spectars\n",
        "    # images9, labels9 = shuffle_both(images9, labels9)  # shuffle images for resampling; final 10% i use for evaluation, first 90% for dynamic history; DONT USE ANYMORE\n",
        "\n",
        "  #################################################### PRINT AND UPDATE GLOBAL VALUES\n",
        "  if S!=S1:  # Print only diff\n",
        "    print(\"Writer {0:4d} == mynew: {1:d} ({2:3.2f}%) == old: {3:d} ({4:3.2f}%) == both: {5:d} ({6:3.2f}%), No. of images {7:d}, len(image9)={8:d}\".format(writer, S, float(100*S)/Nall, S1, float(100*S1)/Nall, Sboth, float(100.0*Sboth)/Nall, Nall, n))\n",
        "  sumS += S\n",
        "  sumS1 += S1\n",
        "  sumSboth += Sboth\n",
        "  sumN += Nall\n",
        "  \n",
        "  if S==S1:     # Update win counts\n",
        "    equal += 1\n",
        "  elif S>S1:\n",
        "    winnew += 1\n",
        "    lenBetterNew += n\n",
        "  else:\n",
        "    winold += 1\n",
        "    lenBetterOld += n"
      ],
      "execution_count": 62,
      "outputs": [
        {
          "output_type": "stream",
          "text": [
            "Writer  520 == mynew: 102 (79.69%) == old: 109 (85.16%) == both: 110 (85.94%), No. of images 128, len(image9)=127\n",
            "Writer  522 == mynew: 100 (82.64%) == old: 102 (84.30%) == both: 105 (86.78%), No. of images 121, len(image9)=124\n",
            "Writer  524 == mynew: 93 (81.58%) == old: 89 (78.07%) == both: 98 (85.96%), No. of images 114, len(image9)=112\n",
            "Writer  527 == mynew: 117 (93.60%) == old: 113 (90.40%) == both: 117 (93.60%), No. of images 125, len(image9)=121\n",
            "Writer  528 == mynew: 115 (79.31%) == old: 120 (82.76%) == both: 126 (86.90%), No. of images 145, len(image9)=137\n",
            "Writer  410 == mynew: 117 (84.78%) == old: 104 (75.36%) == both: 119 (86.23%), No. of images 138, len(image9)=136\n",
            "Writer  530 == mynew: 127 (90.71%) == old: 123 (87.86%) == both: 129 (92.14%), No. of images 140, len(image9)=136\n",
            "Writer  534 == mynew: 105 (81.40%) == old: 101 (78.29%) == both: 111 (86.05%), No. of images 129, len(image9)=128\n",
            "Writer  535 == mynew: 102 (90.27%) == old: 96 (84.96%) == both: 105 (92.92%), No. of images 113, len(image9)=118\n",
            "Writer  539 == mynew: 107 (81.06%) == old: 110 (83.33%) == both: 113 (85.61%), No. of images 132, len(image9)=133\n",
            "Writer  540 == mynew: 131 (92.91%) == old: 125 (88.65%) == both: 131 (92.91%), No. of images 141, len(image9)=138\n",
            "Writer  541 == mynew: 91 (87.50%) == old: 90 (86.54%) == both: 91 (87.50%), No. of images 104, len(image9)=111\n",
            "Writer  921 == mynew: 103 (85.83%) == old: 97 (80.83%) == both: 106 (88.33%), No. of images 120, len(image9)=124\n",
            "Writer  547 == mynew: 87 (88.78%) == old: 79 (80.61%) == both: 87 (88.78%), No. of images 98, len(image9)=100\n",
            "Writer  548 == mynew: 76 (86.36%) == old: 70 (79.55%) == both: 80 (90.91%), No. of images 88, len(image9)=95\n",
            "Writer  550 == mynew: 129 (90.21%) == old: 128 (89.51%) == both: 129 (90.21%), No. of images 143, len(image9)=137\n",
            "Writer  556 == mynew: 115 (81.56%) == old: 113 (80.14%) == both: 115 (81.56%), No. of images 141, len(image9)=135\n",
            "Writer  558 == mynew: 125 (88.65%) == old: 123 (87.23%) == both: 127 (90.07%), No. of images 141, len(image9)=137\n",
            "Writer  560 == mynew: 83 (85.57%) == old: 79 (81.44%) == both: 84 (86.60%), No. of images 97, len(image9)=100\n",
            "Writer  562 == mynew: 124 (90.51%) == old: 121 (88.32%) == both: 128 (93.43%), No. of images 137, len(image9)=131\n",
            "Writer  564 == mynew: 120 (90.23%) == old: 117 (87.97%) == both: 120 (90.23%), No. of images 133, len(image9)=133\n",
            "Writer  565 == mynew: 112 (89.60%) == old: 111 (88.80%) == both: 113 (90.40%), No. of images 125, len(image9)=122\n",
            "Writer  566 == mynew: 71 (87.65%) == old: 64 (79.01%) == both: 71 (87.65%), No. of images 81, len(image9)=77\n",
            "Writer  567 == mynew: 112 (86.15%) == old: 106 (81.54%) == both: 117 (90.00%), No. of images 130, len(image9)=125\n",
            "Writer  568 == mynew: 82 (91.11%) == old: 79 (87.78%) == both: 82 (91.11%), No. of images 90, len(image9)=89\n",
            "Writer  570 == mynew: 87 (75.00%) == old: 86 (74.14%) == both: 88 (75.86%), No. of images 116, len(image9)=117\n",
            "Writer  571 == mynew: 98 (85.96%) == old: 99 (86.84%) == both: 105 (92.11%), No. of images 114, len(image9)=116\n",
            "Writer  575 == mynew: 127 (93.38%) == old: 119 (87.50%) == both: 127 (93.38%), No. of images 136, len(image9)=133\n",
            "Writer  577 == mynew: 105 (86.78%) == old: 101 (83.47%) == both: 105 (86.78%), No. of images 121, len(image9)=122\n",
            "Writer  578 == mynew: 117 (91.41%) == old: 114 (89.06%) == both: 117 (91.41%), No. of images 128, len(image9)=129\n",
            "Writer  580 == mynew: 121 (84.62%) == old: 120 (83.92%) == both: 123 (86.01%), No. of images 143, len(image9)=140\n",
            "Writer  582 == mynew: 90 (82.57%) == old: 89 (81.65%) == both: 94 (86.24%), No. of images 109, len(image9)=117\n",
            "Writer  585 == mynew: 135 (93.10%) == old: 122 (84.14%) == both: 135 (93.10%), No. of images 145, len(image9)=147\n",
            "Writer 1101 == mynew: 128 (96.24%) == old: 115 (86.47%) == both: 128 (96.24%), No. of images 133, len(image9)=132\n",
            "Writer  592 == mynew: 110 (89.43%) == old: 107 (86.99%) == both: 110 (89.43%), No. of images 123, len(image9)=124\n",
            "Writer 1105 == mynew: 126 (86.90%) == old: 117 (80.69%) == both: 126 (86.90%), No. of images 145, len(image9)=141\n",
            "Writer  598 == mynew: 106 (82.81%) == old: 102 (79.69%) == both: 107 (83.59%), No. of images 128, len(image9)=127\n",
            "Writer  599 == mynew: 114 (85.71%) == old: 110 (82.71%) == both: 115 (86.47%), No. of images 133, len(image9)=130\n",
            "Writer  600 == mynew: 117 (91.41%) == old: 104 (81.25%) == both: 117 (91.41%), No. of images 128, len(image9)=128\n",
            "Writer  602 == mynew: 128 (88.89%) == old: 125 (86.81%) == both: 133 (92.36%), No. of images 144, len(image9)=135\n",
            "Writer  603 == mynew: 114 (89.06%) == old: 111 (86.72%) == both: 116 (90.62%), No. of images 128, len(image9)=124\n",
            "Writer  604 == mynew: 82 (93.18%) == old: 80 (90.91%) == both: 82 (93.18%), No. of images 88, len(image9)=91\n",
            "Writer 1117 == mynew: 103 (85.83%) == old: 95 (79.17%) == both: 106 (88.33%), No. of images 120, len(image9)=117\n",
            "Writer  606 == mynew: 112 (87.50%) == old: 115 (89.84%) == both: 115 (89.84%), No. of images 128, len(image9)=129\n",
            "Writer  607 == mynew: 118 (88.72%) == old: 115 (86.47%) == both: 119 (89.47%), No. of images 133, len(image9)=133\n",
            "Writer 1120 == mynew: 118 (92.19%) == old: 116 (90.62%) == both: 121 (94.53%), No. of images 128, len(image9)=124\n",
            "Writer 1122 == mynew: 112 (77.78%) == old: 105 (72.92%) == both: 112 (77.78%), No. of images 144, len(image9)=137\n",
            "Writer 1121 == mynew: 129 (92.81%) == old: 119 (85.61%) == both: 130 (93.53%), No. of images 139, len(image9)=140\n",
            "Writer  612 == mynew: 125 (94.70%) == old: 123 (93.18%) == both: 125 (94.70%), No. of images 132, len(image9)=133\n",
            "Writer 1124 == mynew: 101 (91.82%) == old: 98 (89.09%) == both: 101 (91.82%), No. of images 110, len(image9)=105\n",
            "Writer 1130 == mynew: 113 (90.40%) == old: 111 (88.80%) == both: 114 (91.20%), No. of images 125, len(image9)=134\n",
            "Writer 1133 == mynew: 114 (87.69%) == old: 106 (81.54%) == both: 114 (87.69%), No. of images 130, len(image9)=130\n",
            "Writer 1139 == mynew: 138 (95.83%) == old: 135 (93.75%) == both: 140 (97.22%), No. of images 144, len(image9)=144\n",
            "Writer  704 == mynew: 107 (79.85%) == old: 112 (83.58%) == both: 117 (87.31%), No. of images 134, len(image9)=137\n",
            "Writer  705 == mynew: 116 (94.31%) == old: 112 (91.06%) == both: 116 (94.31%), No. of images 123, len(image9)=120\n",
            "Writer  707 == mynew: 118 (93.65%) == old: 109 (86.51%) == both: 118 (93.65%), No. of images 126, len(image9)=125\n",
            "Writer  709 == mynew: 121 (85.82%) == old: 118 (83.69%) == both: 121 (85.82%), No. of images 141, len(image9)=140\n",
            "Writer  710 == mynew: 120 (87.59%) == old: 118 (86.13%) == both: 122 (89.05%), No. of images 137, len(image9)=142\n",
            "Writer  717 == mynew: 116 (87.88%) == old: 112 (84.85%) == both: 116 (87.88%), No. of images 132, len(image9)=132\n",
            "Writer  718 == mynew: 99 (81.82%) == old: 95 (78.51%) == both: 104 (85.95%), No. of images 121, len(image9)=114\n",
            "Writer  246 == mynew: 104 (94.55%) == old: 99 (90.00%) == both: 104 (94.55%), No. of images 110, len(image9)=118\n",
            "Writer  248 == mynew: 107 (86.99%) == old: 105 (85.37%) == both: 110 (89.43%), No. of images 123, len(image9)=129\n",
            "Writer  250 == mynew: 122 (89.05%) == old: 120 (87.59%) == both: 123 (89.78%), No. of images 137, len(image9)=130\n",
            "Writer  251 == mynew: 110 (90.91%) == old: 101 (83.47%) == both: 110 (90.91%), No. of images 121, len(image9)=126\n",
            "Writer  252 == mynew: 115 (92.00%) == old: 111 (88.80%) == both: 115 (92.00%), No. of images 125, len(image9)=134\n",
            "Writer  254 == mynew: 76 (86.36%) == old: 71 (80.68%) == both: 76 (86.36%), No. of images 88, len(image9)=90\n",
            "Writer  255 == mynew: 133 (88.08%) == old: 127 (84.11%) == both: 136 (90.07%), No. of images 151, len(image9)=145\n",
            "Writer  256 == mynew: 123 (93.18%) == old: 117 (88.64%) == both: 123 (93.18%), No. of images 132, len(image9)=129\n",
            "Writer  263 == mynew: 127 (94.78%) == old: 121 (90.30%) == both: 127 (94.78%), No. of images 134, len(image9)=132\n",
            "Writer  265 == mynew: 106 (84.13%) == old: 96 (76.19%) == both: 110 (87.30%), No. of images 126, len(image9)=124\n",
            "Writer  285 == mynew: 116 (83.45%) == old: 122 (87.77%) == both: 125 (89.93%), No. of images 139, len(image9)=143\n",
            "Writer  286 == mynew: 126 (88.73%) == old: 115 (80.99%) == both: 126 (88.73%), No. of images 142, len(image9)=139\n",
            "Writer  287 == mynew: 126 (93.33%) == old: 117 (86.67%) == both: 126 (93.33%), No. of images 135, len(image9)=133\n",
            "Writer  288 == mynew: 112 (83.58%) == old: 107 (79.85%) == both: 114 (85.07%), No. of images 134, len(image9)=135\n",
            "Writer  289 == mynew: 118 (89.39%) == old: 106 (80.30%) == both: 120 (90.91%), No. of images 132, len(image9)=136\n",
            "Writer  290 == mynew: 93 (80.87%) == old: 98 (85.22%) == both: 98 (85.22%), No. of images 115, len(image9)=122\n",
            "Writer  291 == mynew: 86 (82.69%) == old: 83 (79.81%) == both: 87 (83.65%), No. of images 104, len(image9)=108\n",
            "Writer  299 == mynew: 92 (79.31%) == old: 94 (81.03%) == both: 94 (81.03%), No. of images 116, len(image9)=118\n",
            "Writer  309 == mynew: 93 (87.74%) == old: 89 (83.96%) == both: 95 (89.62%), No. of images 106, len(image9)=111\n",
            "Writer  311 == mynew: 91 (95.79%) == old: 83 (87.37%) == both: 92 (96.84%), No. of images 95, len(image9)=94\n",
            "Writer  312 == mynew: 106 (87.60%) == old: 97 (80.17%) == both: 106 (87.60%), No. of images 121, len(image9)=125\n",
            "Writer  313 == mynew: 119 (80.95%) == old: 115 (78.23%) == both: 120 (81.63%), No. of images 147, len(image9)=149\n",
            "Writer  322 == mynew: 129 (96.99%) == old: 126 (94.74%) == both: 129 (96.99%), No. of images 133, len(image9)=132\n",
            "Writer  324 == mynew: 127 (90.07%) == old: 120 (85.11%) == both: 129 (91.49%), No. of images 141, len(image9)=141\n",
            "Writer  327 == mynew: 90 (89.11%) == old: 86 (85.15%) == both: 92 (91.09%), No. of images 101, len(image9)=99\n",
            "Writer  358 == mynew: 111 (93.28%) == old: 103 (86.55%) == both: 112 (94.12%), No. of images 119, len(image9)=115\n",
            "Writer  363 == mynew: 120 (90.91%) == old: 119 (90.15%) == both: 121 (91.67%), No. of images 132, len(image9)=135\n",
            "Writer  368 == mynew: 104 (78.20%) == old: 109 (81.95%) == both: 110 (82.71%), No. of images 133, len(image9)=129\n",
            "Writer  369 == mynew: 129 (88.36%) == old: 127 (86.99%) == both: 129 (88.36%), No. of images 146, len(image9)=138\n",
            "Writer  374 == mynew: 105 (86.78%) == old: 102 (84.30%) == both: 108 (89.26%), No. of images 121, len(image9)=120\n",
            "Writer  894 == mynew: 79 (88.76%) == old: 77 (86.52%) == both: 81 (91.01%), No. of images 89, len(image9)=97\n",
            "Writer  895 == mynew: 124 (81.58%) == old: 127 (83.55%) == both: 130 (85.53%), No. of images 152, len(image9)=140\n",
            "Writer  383 == mynew: 131 (93.57%) == old: 127 (90.71%) == both: 131 (93.57%), No. of images 140, len(image9)=136\n",
            "Writer  386 == mynew: 95 (91.35%) == old: 93 (89.42%) == both: 95 (91.35%), No. of images 104, len(image9)=99\n",
            "Writer  387 == mynew: 126 (91.30%) == old: 117 (84.78%) == both: 127 (92.03%), No. of images 138, len(image9)=137\n",
            "Writer  388 == mynew: 115 (85.19%) == old: 113 (83.70%) == both: 116 (85.93%), No. of images 135, len(image9)=136\n",
            "Writer  901 == mynew: 124 (91.18%) == old: 113 (83.09%) == both: 126 (92.65%), No. of images 136, len(image9)=136\n",
            "Writer  390 == mynew: 98 (82.35%) == old: 95 (79.83%) == both: 101 (84.87%), No. of images 119, len(image9)=119\n",
            "Writer  391 == mynew: 109 (86.51%) == old: 100 (79.37%) == both: 109 (86.51%), No. of images 126, len(image9)=129\n",
            "Writer  392 == mynew: 89 (77.39%) == old: 95 (82.61%) == both: 99 (86.09%), No. of images 115, len(image9)=116\n",
            "Writer  393 == mynew: 120 (84.51%) == old: 110 (77.46%) == both: 121 (85.21%), No. of images 142, len(image9)=139\n",
            "Writer  395 == mynew: 135 (90.60%) == old: 133 (89.26%) == both: 135 (90.60%), No. of images 149, len(image9)=148\n",
            "Writer  907 == mynew: 87 (87.00%) == old: 86 (86.00%) == both: 87 (87.00%), No. of images 100, len(image9)=100\n",
            "Writer  396 == mynew: 113 (94.17%) == old: 104 (86.67%) == both: 113 (94.17%), No. of images 120, len(image9)=119\n",
            "Writer  398 == mynew: 124 (90.51%) == old: 121 (88.32%) == both: 128 (93.43%), No. of images 137, len(image9)=139\n",
            "Writer  399 == mynew: 100 (84.75%) == old: 92 (77.97%) == both: 103 (87.29%), No. of images 118, len(image9)=119\n",
            "Writer  400 == mynew: 111 (95.69%) == old: 107 (92.24%) == both: 111 (95.69%), No. of images 116, len(image9)=117\n",
            "Writer  909 == mynew: 98 (82.35%) == old: 93 (78.15%) == both: 98 (82.35%), No. of images 119, len(image9)=122\n",
            "Writer  405 == mynew: 100 (84.03%) == old: 101 (84.87%) == both: 101 (84.87%), No. of images 119, len(image9)=122\n",
            "Writer  918 == mynew: 98 (81.67%) == old: 101 (84.17%) == both: 104 (86.67%), No. of images 120, len(image9)=120\n",
            "Writer  920 == mynew: 95 (79.83%) == old: 92 (77.31%) == both: 96 (80.67%), No. of images 119, len(image9)=118\n",
            "Writer  408 == mynew: 102 (79.69%) == old: 98 (76.56%) == both: 102 (79.69%), No. of images 128, len(image9)=126\n",
            "Writer  922 == mynew: 117 (89.31%) == old: 107 (81.68%) == both: 121 (92.37%), No. of images 131, len(image9)=134\n",
            "Writer  923 == mynew: 120 (90.23%) == old: 113 (84.96%) == both: 123 (92.48%), No. of images 133, len(image9)=129\n",
            "Writer  411 == mynew: 86 (93.48%) == old: 80 (86.96%) == both: 86 (93.48%), No. of images 92, len(image9)=95\n",
            "Writer  413 == mynew: 105 (88.24%) == old: 98 (82.35%) == both: 106 (89.08%), No. of images 119, len(image9)=122\n",
            "Writer  926 == mynew: 111 (86.72%) == old: 105 (82.03%) == both: 112 (87.50%), No. of images 128, len(image9)=129\n",
            "Writer  927 == mynew: 99 (91.67%) == old: 91 (84.26%) == both: 99 (91.67%), No. of images 108, len(image9)=102\n",
            "Writer  412 == mynew: 98 (87.50%) == old: 97 (86.61%) == both: 103 (91.96%), No. of images 112, len(image9)=112\n",
            "Writer  925 == mynew: 125 (88.65%) == old: 116 (82.27%) == both: 127 (90.07%), No. of images 141, len(image9)=142\n",
            "Writer  418 == mynew: 113 (87.60%) == old: 118 (91.47%) == both: 119 (92.25%), No. of images 129, len(image9)=132\n",
            "Writer  928 == mynew: 105 (86.78%) == old: 100 (82.64%) == both: 107 (88.43%), No. of images 121, len(image9)=121\n",
            "Writer  932 == mynew: 45 (90.00%) == old: 41 (82.00%) == both: 45 (90.00%), No. of images 50, len(image9)=53\n",
            "Writer  934 == mynew: 111 (86.72%) == old: 108 (84.38%) == both: 111 (86.72%), No. of images 128, len(image9)=126\n",
            "Writer  935 == mynew: 115 (85.82%) == old: 112 (83.58%) == both: 115 (85.82%), No. of images 134, len(image9)=131\n",
            "Writer  936 == mynew: 97 (78.23%) == old: 96 (77.42%) == both: 102 (82.26%), No. of images 124, len(image9)=123\n",
            "Writer  937 == mynew: 98 (83.76%) == old: 100 (85.47%) == both: 105 (89.74%), No. of images 117, len(image9)=116\n",
            "Writer  938 == mynew: 94 (83.93%) == old: 93 (83.04%) == both: 97 (86.61%), No. of images 112, len(image9)=115\n",
            "Writer  939 == mynew: 106 (89.83%) == old: 97 (82.20%) == both: 106 (89.83%), No. of images 118, len(image9)=117\n",
            "Writer  425 == mynew: 97 (86.61%) == old: 91 (81.25%) == both: 99 (88.39%), No. of images 112, len(image9)=122\n",
            "Writer  429 == mynew: 114 (82.01%) == old: 107 (76.98%) == both: 118 (84.89%), No. of images 139, len(image9)=136\n",
            "Writer  430 == mynew: 112 (83.58%) == old: 109 (81.34%) == both: 118 (88.06%), No. of images 134, len(image9)=134\n",
            "Writer  431 == mynew: 95 (90.48%) == old: 93 (88.57%) == both: 95 (90.48%), No. of images 105, len(image9)=110\n",
            "Writer  944 == mynew: 107 (88.43%) == old: 101 (83.47%) == both: 107 (88.43%), No. of images 121, len(image9)=123\n",
            "Writer  945 == mynew: 100 (77.52%) == old: 94 (72.87%) == both: 104 (80.62%), No. of images 129, len(image9)=127\n",
            "Writer  941 == mynew: 117 (89.31%) == old: 116 (88.55%) == both: 118 (90.08%), No. of images 131, len(image9)=126\n",
            "Writer  432 == mynew: 120 (87.59%) == old: 117 (85.40%) == both: 121 (88.32%), No. of images 137, len(image9)=131\n",
            "Writer  946 == mynew: 125 (93.28%) == old: 123 (91.79%) == both: 127 (94.78%), No. of images 134, len(image9)=132\n",
            "Writer  948 == mynew: 112 (93.33%) == old: 106 (88.33%) == both: 112 (93.33%), No. of images 120, len(image9)=116\n",
            "Writer  950 == mynew: 125 (89.93%) == old: 115 (82.73%) == both: 128 (92.09%), No. of images 139, len(image9)=138\n",
            "Writer  953 == mynew: 114 (87.02%) == old: 102 (77.86%) == both: 117 (89.31%), No. of images 131, len(image9)=126\n",
            "Writer  956 == mynew: 90 (87.38%) == old: 86 (83.50%) == both: 90 (87.38%), No. of images 103, len(image9)=103\n",
            "Writer  957 == mynew: 125 (91.24%) == old: 115 (83.94%) == both: 125 (91.24%), No. of images 137, len(image9)=130\n",
            "Writer  960 == mynew: 122 (92.42%) == old: 120 (90.91%) == both: 123 (93.18%), No. of images 132, len(image9)=130\n",
            "Writer  962 == mynew: 98 (83.76%) == old: 90 (76.92%) == both: 101 (86.32%), No. of images 117, len(image9)=118\n",
            "Writer  963 == mynew: 101 (88.60%) == old: 102 (89.47%) == both: 103 (90.35%), No. of images 114, len(image9)=119\n",
            "Writer  964 == mynew: 121 (87.68%) == old: 119 (86.23%) == both: 124 (89.86%), No. of images 138, len(image9)=140\n",
            "Writer  965 == mynew: 97 (87.39%) == old: 91 (81.98%) == both: 98 (88.29%), No. of images 111, len(image9)=110\n",
            "Writer  966 == mynew: 111 (86.05%) == old: 108 (83.72%) == both: 115 (89.15%), No. of images 129, len(image9)=125\n",
            "Writer  968 == mynew: 131 (90.97%) == old: 125 (86.81%) == both: 137 (95.14%), No. of images 144, len(image9)=133\n",
            "Writer  972 == mynew: 129 (88.36%) == old: 123 (84.25%) == both: 129 (88.36%), No. of images 146, len(image9)=141\n",
            "Writer  976 == mynew: 73 (80.22%) == old: 71 (78.02%) == both: 79 (86.81%), No. of images 91, len(image9)=89\n",
            "Writer  476 == mynew: 100 (90.09%) == old: 96 (86.49%) == both: 103 (92.79%), No. of images 111, len(image9)=113\n",
            "Writer  477 == mynew: 103 (86.55%) == old: 99 (83.19%) == both: 104 (87.39%), No. of images 119, len(image9)=123\n",
            "Writer  479 == mynew: 121 (89.63%) == old: 112 (82.96%) == both: 123 (91.11%), No. of images 135, len(image9)=139\n",
            "Writer  992 == mynew: 127 (88.81%) == old: 121 (84.62%) == both: 128 (89.51%), No. of images 143, len(image9)=142\n",
            "Writer  481 == mynew: 107 (86.99%) == old: 106 (86.18%) == both: 109 (88.62%), No. of images 123, len(image9)=123\n",
            "Writer  482 == mynew: 116 (86.57%) == old: 112 (83.58%) == both: 117 (87.31%), No. of images 134, len(image9)=136\n",
            "Writer  485 == mynew: 124 (91.18%) == old: 122 (89.71%) == both: 124 (91.18%), No. of images 136, len(image9)=139\n",
            "Writer  507 == mynew: 118 (88.72%) == old: 108 (81.20%) == both: 118 (88.72%), No. of images 133, len(image9)=128\n",
            "Writer  510 == mynew: 131 (93.57%) == old: 121 (86.43%) == both: 131 (93.57%), No. of images 140, len(image9)=144\n",
            "CPU times: user 57min 24s, sys: 3min 15s, total: 1h 40s\n",
            "Wall time: 50min 3s\n"
          ],
          "name": "stdout"
        }
      ]
    },
    {
      "metadata": {
        "id": "Bzo-Pg2WR__o",
        "colab_type": "code",
        "colab": {
          "base_uri": "https://localhost:8080/",
          "height": 170
        },
        "outputId": "85ecf7c7-3826-4111-9003-ce891ab3c0b8"
      },
      "cell_type": "code",
      "source": [
        "print('winold: ', winold)\n",
        "print('equal: ', equal)\n",
        "print('winnew: ', winnew)\n",
        "print('S: (new): ', 100.0*sumS/sumN)\n",
        "print('S1: (old): ', 100.0*sumS1/sumN)\n",
        "print('Sboth: (new): ', 100.0*sumSboth/sumN)\n",
        "print('AVG len winold: ', 1.0*lenBetterOld/winold)\n",
        "print('AVG len winnew: ', 1.0*lenBetterNew/winnew)\n",
        "print('No of evaluation images: ', sumN)"
      ],
      "execution_count": 63,
      "outputs": [
        {
          "output_type": "stream",
          "text": [
            "winold:  18\n",
            "equal:  15\n",
            "winnew:  143\n",
            "S: (new):  87.5372143086154\n",
            "S1: (old):  84.46846516740713\n",
            "Sboth: (new):  89.12655155040535\n",
            "AVG len winold:  126.66666666666667\n",
            "AVG len winnew:  124.42657342657343\n",
            "No of evaluation images:  21833\n"
          ],
          "name": "stdout"
        }
      ]
    },
    {
      "metadata": {
        "id": "kBY8XtzTSAts",
        "colab_type": "code",
        "colab": {}
      },
      "cell_type": "code",
      "source": [
        ""
      ],
      "execution_count": 0,
      "outputs": []
    }
  ]
}