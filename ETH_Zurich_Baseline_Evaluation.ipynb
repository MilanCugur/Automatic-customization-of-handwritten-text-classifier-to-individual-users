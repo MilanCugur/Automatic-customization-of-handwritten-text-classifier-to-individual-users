{
  "nbformat": 4,
  "nbformat_minor": 0,
  "metadata": {
    "colab": {
      "name": "ETH_Zurich_Baseline_Evaluation.ipynb",
      "version": "0.3.2",
      "provenance": [],
      "collapsed_sections": [],
      "include_colab_link": true
    },
    "kernelspec": {
      "name": "python3",
      "display_name": "Python 3"
    },
    "accelerator": "GPU"
  },
  "cells": [
    {
      "cell_type": "markdown",
      "metadata": {
        "id": "view-in-github",
        "colab_type": "text"
      },
      "source": [
        "<a href=\"https://colab.research.google.com/github/MilanCugur/PUBLISH_ME/blob/master/ETH_Zurich_Baseline_Evaluation.ipynb\" target=\"_parent\"><img src=\"https://colab.research.google.com/assets/colab-badge.svg\" alt=\"Open In Colab\"/></a>"
      ]
    },
    {
      "metadata": {
        "id": "Ci7wOU4JbDCM",
        "colab_type": "code",
        "colab": {
          "base_uri": "https://localhost:8080/",
          "height": 34
        },
        "outputId": "ac8ce9f0-19d6-4c06-e874-28318e391aa8"
      },
      "cell_type": "code",
      "source": [
        "from google.colab import drive\n",
        "drive.mount('/content/drive')"
      ],
      "execution_count": 1,
      "outputs": [
        {
          "output_type": "stream",
          "text": [
            "Drive already mounted at /content/drive; to attempt to forcibly remount, call drive.mount(\"/content/drive\", force_remount=True).\n"
          ],
          "name": "stdout"
        }
      ]
    },
    {
      "metadata": {
        "id": "2RCpmORPpKE4",
        "colab_type": "code",
        "colab": {
          "base_uri": "https://localhost:8080/",
          "height": 34
        },
        "outputId": "b7f0cb79-bcd7-4644-ba40-8107f425c5a5"
      },
      "cell_type": "code",
      "source": [
        "import os\n",
        "import numpy as np\n",
        "from zipfile import ZipFile\n",
        "\n",
        "from keras.utils import Sequence\n",
        "from random import shuffle\n",
        "\n",
        "import matplotlib.pyplot as plt\n",
        "import matplotlib.image as mpimg"
      ],
      "execution_count": 2,
      "outputs": [
        {
          "output_type": "stream",
          "text": [
            "Using TensorFlow backend.\n"
          ],
          "name": "stderr"
        }
      ]
    },
    {
      "metadata": {
        "id": "Rdh9SCZ0rQV4",
        "colab_type": "code",
        "colab": {
          "base_uri": "https://localhost:8080/",
          "height": 51
        },
        "outputId": "56bd1c5c-c7e9-4d1a-b81c-7453be44be66"
      },
      "cell_type": "code",
      "source": [
        "%%time\n",
        "# Extract images to 'ImageDisk' folder\n",
        "\n",
        "path = './drive/My Drive/Eth_Zurich_Dataset/ETH_png_archive.zip'  # Different .zip folder with images\n",
        "archive = ZipFile(path, 'r')\n",
        "archive.extractall('./ImageDisk')  \n",
        "archive.close()"
      ],
      "execution_count": 3,
      "outputs": [
        {
          "output_type": "stream",
          "text": [
            "CPU times: user 31.9 s, sys: 20.3 s, total: 52.2 s\n",
            "Wall time: 1min 2s\n"
          ],
          "name": "stdout"
        }
      ]
    },
    {
      "metadata": {
        "id": "cqnYHiGSrXf6",
        "colab_type": "code",
        "colab": {
          "base_uri": "https://localhost:8080/",
          "height": 34
        },
        "outputId": "6382357e-9eae-43a7-cb8c-e2456d33e121"
      },
      "cell_type": "code",
      "source": [
        "!ls ImageDisk/ | wc -l"
      ],
      "execution_count": 4,
      "outputs": [
        {
          "output_type": "stream",
          "text": [
            "369455\n"
          ],
          "name": "stdout"
        }
      ]
    },
    {
      "metadata": {
        "id": "AzA-8yyYtT_H",
        "colab_type": "text"
      },
      "cell_type": "markdown",
      "source": [
        "# One Hot Encoding"
      ]
    },
    {
      "metadata": {
        "id": "i02iLSjjrojV",
        "colab_type": "code",
        "colab": {}
      },
      "cell_type": "code",
      "source": [
        "# OneHot Encoding\n",
        "class OneHot():  \n",
        "  # classes = list of classes : 0-9, a-z, A-Z\n",
        "  # n = number of classes     : 62\n",
        "  \n",
        "  def __init__(self, classes):\n",
        "    self.classes = classes\n",
        "    self.n = len(classes)\n",
        "    \n",
        "  def encode(self, class_name):\n",
        "    one_hot = np.zeros(shape=(self.n), dtype=np.int8)\n",
        "    class_index = self.classes.index(class_name)\n",
        "    one_hot[class_index] = 1\n",
        "    return one_hot\n",
        "  \n",
        "  def encode_all(self, list_class_names):\n",
        "    return np.array([self.encode(class_name) for class_name in list_class_names])\n",
        "  \n",
        "  def decode(self, one_hot):\n",
        "    class_index = one_hot.argmax()\n",
        "    return self.classes[class_index]\n",
        "  \n",
        "  def decode_all(self, list_one_hots):\n",
        "    return np.array([self.decode(one_hot) for one_hot in list_one_hots])"
      ],
      "execution_count": 0,
      "outputs": []
    },
    {
      "metadata": {
        "id": "AzOYoaFKtWRW",
        "colab_type": "code",
        "colab": {
          "base_uri": "https://localhost:8080/",
          "height": 71
        },
        "outputId": "28234f99-d325-4684-f7cb-3fff3c1699ba"
      },
      "cell_type": "code",
      "source": [
        "alphabet = list(\"0123456789abcdefghijklmnopqrstuvwxyzABCDEFGHIJKLMNOPQRSTUVWXYZ'.,-()/\") \n",
        "alphabet.insert(0, '') # '\\x00' character, i.e., ord(0) to label concatenations.\n",
        "print(alphabet)\n",
        "print(len(alphabet))"
      ],
      "execution_count": 6,
      "outputs": [
        {
          "output_type": "stream",
          "text": [
            "['', '0', '1', '2', '3', '4', '5', '6', '7', '8', '9', 'a', 'b', 'c', 'd', 'e', 'f', 'g', 'h', 'i', 'j', 'k', 'l', 'm', 'n', 'o', 'p', 'q', 'r', 's', 't', 'u', 'v', 'w', 'x', 'y', 'z', 'A', 'B', 'C', 'D', 'E', 'F', 'G', 'H', 'I', 'J', 'K', 'L', 'M', 'N', 'O', 'P', 'Q', 'R', 'S', 'T', 'U', 'V', 'W', 'X', 'Y', 'Z', \"'\", '.', ',', '-', '(', ')', '/']\n",
            "70\n"
          ],
          "name": "stdout"
        }
      ]
    },
    {
      "metadata": {
        "id": "R1j5gY2AwdsC",
        "colab_type": "code",
        "colab": {}
      },
      "cell_type": "code",
      "source": [
        "OH_L = OneHot(sorted(alphabet))"
      ],
      "execution_count": 0,
      "outputs": []
    },
    {
      "metadata": {
        "id": "IGtO29NbxTbO",
        "colab_type": "text"
      },
      "cell_type": "markdown",
      "source": [
        "# Model"
      ]
    },
    {
      "metadata": {
        "id": "ZuhuHfxgxSwD",
        "colab_type": "code",
        "colab": {}
      },
      "cell_type": "code",
      "source": [
        "from keras.models import Model\n",
        "from keras.layers import Input, Conv2D, MaxPool2D, Flatten, Concatenate, Dense, Dropout, BatchNormalization\n",
        "from keras.optimizers import Adam  # First, naive approach\n",
        "from keras.losses import categorical_crossentropy\n",
        "from keras.callbacks import ModelCheckpoint, EarlyStopping, ReduceLROnPlateau, CSVLogger  # Add callbacks to model\n",
        "from keras.models import load_model  # Save model params\n",
        "from keras.layers import LeakyReLU, concatenate\n",
        "from keras.layers.advanced_activations import PReLU\n",
        "from keras.initializers import glorot_normal\n",
        "\n",
        "import keras.backend as K"
      ],
      "execution_count": 0,
      "outputs": []
    },
    {
      "metadata": {
        "id": "m2CCE1trxXJ0",
        "colab_type": "code",
        "colab": {}
      },
      "cell_type": "code",
      "source": [
        "BOX_SIZE = 28                          # (28, 28) images; fixed size; I already preprocessed it\n",
        "image_shape = (BOX_SIZE, BOX_SIZE, 1)  # (28, 28, 1) shape for tensorflow\n",
        "number_of_classes = len(alphabet)"
      ],
      "execution_count": 0,
      "outputs": []
    },
    {
      "metadata": {
        "id": "hW5zVbstxb7a",
        "colab_type": "code",
        "colab": {
          "base_uri": "https://localhost:8080/",
          "height": 139
        },
        "outputId": "3f07aeee-c060-414c-eae7-d8c2cc16daaa"
      },
      "cell_type": "code",
      "source": [
        "x_input = Input(shape=image_shape)  # shape=(?, 24, 24, 1)\n",
        "\n",
        "x = Conv2D(filters=32, kernel_size=(3,3), strides=(1,1), activation='relu', padding='valid')(x_input)  # shape=(?, 62, 62, 32)\n",
        "x = Conv2D(filters=32, kernel_size=(3,3), strides=(1,1), activation='relu', padding='valid')(x) \n",
        "x = BatchNormalization()(x)\n",
        "x = MaxPool2D(pool_size=(2,2), padding='same')(x)                                                      # shape=(?, 31, 31, 32)\n",
        "x = Conv2D(filters=48, kernel_size=(3,3), strides=(1,1), activation='relu', padding='valid')(x)        # shape=(?, 29, 29, 32)\n",
        "x = Conv2D(filters=48, kernel_size=(3,3), strides=(1,1), activation='relu', padding='valid')(x) \n",
        "x = BatchNormalization()(x)\n",
        "x = MaxPool2D(pool_size=(2,2), padding='same')(x)                                                      # shape=(?, 15, 15, 32)\n",
        "x = Conv2D(filters=64, kernel_size=(2,2), strides=(1,1), activation='relu', padding='valid')(x)        # shape=(?, 14, 14, 32)\n",
        "x = Conv2D(filters=64, kernel_size=(3,3), strides=(1,1), activation='relu', padding='valid')(x) \n",
        "x = BatchNormalization()(x)\n",
        "x = MaxPool2D(pool_size=(3, 3), padding='same')(x)                                                     # shape=(?, 5, 5, 32); dim: 800; with (2,2) dim is ~1500\n",
        "x = Flatten()(x)                                                                                       # shape=(?, ?); depends on mini btch size; alternative batch_flatten()\n",
        "\n",
        "x = Dense(units=768, activation='relu')(x)        # shape=(?, 768) \n",
        "x = Dropout(rate=0.25)(x)                          # shape=(?, 768) \n",
        "x = Dense(units=256, name='next_to_last')(x)                           # shape=(?, 256)\n",
        "x = Dropout(rate=0.25)(x)                          # shape=(?, 256)\n",
        "\n",
        "y_output = Dense(units=number_of_classes, activation='softmax')(x)  # shape=(?, 62)"
      ],
      "execution_count": 10,
      "outputs": [
        {
          "output_type": "stream",
          "text": [
            "WARNING:tensorflow:From /usr/local/lib/python3.6/dist-packages/tensorflow/python/framework/op_def_library.py:263: colocate_with (from tensorflow.python.framework.ops) is deprecated and will be removed in a future version.\n",
            "Instructions for updating:\n",
            "Colocations handled automatically by placer.\n",
            "WARNING:tensorflow:From /usr/local/lib/python3.6/dist-packages/keras/backend/tensorflow_backend.py:3445: calling dropout (from tensorflow.python.ops.nn_ops) with keep_prob is deprecated and will be removed in a future version.\n",
            "Instructions for updating:\n",
            "Please use `rate` instead of `keep_prob`. Rate should be set to `rate = 1 - keep_prob`.\n"
          ],
          "name": "stdout"
        }
      ]
    },
    {
      "metadata": {
        "id": "HvzU1CbMxgzM",
        "colab_type": "code",
        "colab": {}
      },
      "cell_type": "code",
      "source": [
        "recognizer = Model(inputs=x_input, outputs=y_output, name='recognizer')"
      ],
      "execution_count": 0,
      "outputs": []
    },
    {
      "metadata": {
        "id": "A0psDU3mxrCd",
        "colab_type": "code",
        "colab": {
          "base_uri": "https://localhost:8080/",
          "height": 782
        },
        "outputId": "917a9ea3-e349-47bc-a0c8-cfcc8483e2de"
      },
      "cell_type": "code",
      "source": [
        "recognizer.summary()"
      ],
      "execution_count": 12,
      "outputs": [
        {
          "output_type": "stream",
          "text": [
            "_________________________________________________________________\n",
            "Layer (type)                 Output Shape              Param #   \n",
            "=================================================================\n",
            "input_1 (InputLayer)         (None, 28, 28, 1)         0         \n",
            "_________________________________________________________________\n",
            "conv2d_1 (Conv2D)            (None, 26, 26, 32)        320       \n",
            "_________________________________________________________________\n",
            "conv2d_2 (Conv2D)            (None, 24, 24, 32)        9248      \n",
            "_________________________________________________________________\n",
            "batch_normalization_1 (Batch (None, 24, 24, 32)        128       \n",
            "_________________________________________________________________\n",
            "max_pooling2d_1 (MaxPooling2 (None, 12, 12, 32)        0         \n",
            "_________________________________________________________________\n",
            "conv2d_3 (Conv2D)            (None, 10, 10, 48)        13872     \n",
            "_________________________________________________________________\n",
            "conv2d_4 (Conv2D)            (None, 8, 8, 48)          20784     \n",
            "_________________________________________________________________\n",
            "batch_normalization_2 (Batch (None, 8, 8, 48)          192       \n",
            "_________________________________________________________________\n",
            "max_pooling2d_2 (MaxPooling2 (None, 4, 4, 48)          0         \n",
            "_________________________________________________________________\n",
            "conv2d_5 (Conv2D)            (None, 3, 3, 64)          12352     \n",
            "_________________________________________________________________\n",
            "conv2d_6 (Conv2D)            (None, 1, 1, 64)          36928     \n",
            "_________________________________________________________________\n",
            "batch_normalization_3 (Batch (None, 1, 1, 64)          256       \n",
            "_________________________________________________________________\n",
            "max_pooling2d_3 (MaxPooling2 (None, 1, 1, 64)          0         \n",
            "_________________________________________________________________\n",
            "flatten_1 (Flatten)          (None, 64)                0         \n",
            "_________________________________________________________________\n",
            "dense_1 (Dense)              (None, 768)               49920     \n",
            "_________________________________________________________________\n",
            "dropout_1 (Dropout)          (None, 768)               0         \n",
            "_________________________________________________________________\n",
            "next_to_last (Dense)         (None, 256)               196864    \n",
            "_________________________________________________________________\n",
            "dropout_2 (Dropout)          (None, 256)               0         \n",
            "_________________________________________________________________\n",
            "dense_2 (Dense)              (None, 70)                17990     \n",
            "=================================================================\n",
            "Total params: 358,854\n",
            "Trainable params: 358,566\n",
            "Non-trainable params: 288\n",
            "_________________________________________________________________\n"
          ],
          "name": "stdout"
        }
      ]
    },
    {
      "metadata": {
        "id": "he23qW9_xtHi",
        "colab_type": "code",
        "colab": {}
      },
      "cell_type": "code",
      "source": [
        "recognizer.compile(optimizer=Adam(lr=1e-3), loss=categorical_crossentropy, metrics=['accuracy'])   # beta_1=0.9, beta_2=0.999"
      ],
      "execution_count": 0,
      "outputs": []
    },
    {
      "metadata": {
        "id": "7Muks18Qxvr4",
        "colab_type": "code",
        "colab": {}
      },
      "cell_type": "code",
      "source": [
        "reduce = ReduceLROnPlateau(monitor='val_loss', factor=0.5, patience=3, verbose=1, mode='min', #add min_delta\n",
        "                           cooldown=1, min_le=1e-8)\n",
        "\n",
        "estop = EarlyStopping(monitor='val_loss', min_delta=0, patience=5, verbose=1, mode='min')\n",
        "\n",
        "excel = CSVLogger(filename='./baseline_hacked.csv', separator=',', append=False)\n",
        "\n",
        "checkp = ModelCheckpoint('./best_w.h5', monitor='val_loss', verbose=1, save_best_only=True, save_weights_only=True, mode='auto', period=1)"
      ],
      "execution_count": 0,
      "outputs": []
    },
    {
      "metadata": {
        "id": "RExLNBJRxzPf",
        "colab_type": "text"
      },
      "cell_type": "markdown",
      "source": [
        "# Data"
      ]
    },
    {
      "metadata": {
        "id": "TC6srrdHxxzJ",
        "colab_type": "code",
        "colab": {}
      },
      "cell_type": "code",
      "source": [
        "writers = {}\n",
        "labels = set()\n",
        "for image in os.listdir('./ImageDisk/'):\n",
        "  imageparsed = image.split('_')  # ['trainimage', 'i28871', 'w10174', 'lo', '261-274.png']\n",
        "  writer = int(imageparsed[2][1:])\n",
        "  label = imageparsed[3][1:]\n",
        "  if writer not in writers:\n",
        "    writers[writer] = 1\n",
        "  else:\n",
        "    writers[writer] += 1\n",
        "    \n",
        "  labels.add(label)"
      ],
      "execution_count": 0,
      "outputs": []
    },
    {
      "metadata": {
        "id": "7YEoltAs5yVu",
        "colab_type": "code",
        "colab": {
          "base_uri": "https://localhost:8080/",
          "height": 71
        },
        "outputId": "9f213aff-756d-463f-a864-0a71750dd1c9"
      },
      "cell_type": "code",
      "source": [
        "print(labels)\n",
        "print(len(labels))"
      ],
      "execution_count": 16,
      "outputs": [
        {
          "output_type": "stream",
          "text": [
            "{'', 'X', 'Q', 'J', \"'\", 'v', 'l', '8', '(', '7', 'D', 'h', 'H', '9', 's', 'Y', 't', 'q', ')', 'e', 'n', 'm', 'b', 'O', 'P', 'r', '1', 'C', 'E', 'F', '.', 'slash', 'u', 'B', '6', '5', 'V', 'S', 'p', ',', 'i', 'W', 'j', 'N', 'M', 'k', 'z', '2', 'a', 'x', 'K', 'U', '0', 'Z', 'g', 'T', '3', 'w', 'f', 'G', 'I', 'y', 'd', 'c', 'L', '-', 'R', 'o', 'A', '4'}\n",
            "70\n"
          ],
          "name": "stdout"
        }
      ]
    },
    {
      "metadata": {
        "id": "bJB4ITQl6iMN",
        "colab_type": "code",
        "colab": {
          "base_uri": "https://localhost:8080/",
          "height": 34
        },
        "outputId": "810c44a8-54ec-40ae-8948-a4edd94fe11c"
      },
      "cell_type": "code",
      "source": [
        "print(len(writers.keys()))"
      ],
      "execution_count": 17,
      "outputs": [
        {
          "output_type": "stream",
          "text": [
            "294\n"
          ],
          "name": "stdout"
        }
      ]
    },
    {
      "metadata": {
        "id": "x070J-Ot9Fpy",
        "colab_type": "code",
        "colab": {
          "base_uri": "https://localhost:8080/",
          "height": 54
        },
        "outputId": "40ad161b-9a91-4c21-e286-390e117a7d18"
      },
      "cell_type": "code",
      "source": [
        "writers = list(writers.items())\n",
        "writers = sorted(writers, key=lambda x: x[1])\n",
        "print(writers)"
      ],
      "execution_count": 18,
      "outputs": [
        {
          "output_type": "stream",
          "text": [
            "[(123483, 182), (123521, 384), (123544, 690), (123528, 801), (123519, 808), (123502, 866), (123461, 880), (10023, 898), (123534, 921), (123485, 930), (123459, 947), (123476, 989), (123546, 999), (123460, 1010), (123518, 1024), (123501, 1028), (123515, 1030), (123545, 1037), (123479, 1047), (10094, 1049), (123499, 1053), (10161, 1054), (10088, 1058), (123524, 1062), (10058, 1065), (123478, 1068), (123482, 1073), (123489, 1090), (123539, 1091), (10096, 1092), (10112, 1093), (10104, 1093), (10070, 1097), (123456, 1097), (10214, 1099), (123527, 1103), (123508, 1104), (10095, 1104), (10066, 1106), (10195, 1109), (123488, 1116), (123540, 1123), (10098, 1125), (123532, 1127), (10127, 1132), (10169, 1133), (10177, 1136), (123471, 1137), (123531, 1139), (10163, 1144), (10156, 1145), (123463, 1149), (10061, 1151), (10062, 1156), (10210, 1156), (10153, 1162), (10102, 1163), (10139, 1164), (123510, 1164), (10131, 1164), (10176, 1165), (123512, 1167), (123504, 1168), (10216, 1168), (123503, 1169), (123516, 1171), (10188, 1171), (10126, 1172), (10203, 1173), (10123, 1173), (10180, 1174), (10099, 1175), (10113, 1176), (123481, 1178), (10141, 1180), (10218, 1180), (10082, 1180), (123469, 1181), (10118, 1181), (10121, 1185), (123513, 1185), (123490, 1187), (10174, 1189), (10221, 1189), (10074, 1190), (10159, 1191), (10045, 1193), (123457, 1193), (10165, 1195), (123498, 1197), (10197, 1198), (10219, 1198), (10009, 1200), (10178, 1200), (10092, 1204), (10107, 1206), (10093, 1206), (10217, 1208), (10152, 1214), (123522, 1215), (10162, 1216), (10111, 1216), (10049, 1217), (10154, 1218), (10071, 1220), (10110, 1221), (123475, 1224), (10209, 1224), (10006, 1226), (123494, 1229), (10134, 1229), (10207, 1230), (10173, 1230), (123467, 1231), (10193, 1231), (123543, 1232), (10181, 1232), (10206, 1235), (10201, 1237), (10150, 1237), (10171, 1237), (123465, 1238), (10196, 1239), (10128, 1239), (123509, 1240), (123495, 1241), (123487, 1242), (10183, 1246), (10115, 1247), (10100, 1248), (123500, 1248), (10185, 1248), (10167, 1250), (123533, 1250), (10192, 1251), (10172, 1253), (10187, 1254), (123468, 1256), (10086, 1258), (10190, 1260), (10116, 1260), (10170, 1261), (10137, 1263), (123484, 1263), (10129, 1264), (10022, 1265), (10168, 1267), (10140, 1268), (10076, 1268), (10158, 1268), (10189, 1269), (123496, 1270), (10179, 1275), (10147, 1276), (10138, 1278), (10091, 1281), (123474, 1281), (10060, 1283), (10105, 1284), (10124, 1285), (10090, 1285), (10078, 1285), (10119, 1285), (10063, 1289), (10108, 1291), (10125, 1293), (123506, 1294), (10067, 1294), (10048, 1296), (10175, 1298), (123536, 1300), (10148, 1301), (10059, 1303), (123464, 1304), (10194, 1305), (10064, 1305), (10085, 1305), (123466, 1307), (123517, 1307), (10041, 1308), (123529, 1311), (10133, 1312), (10080, 1317), (10205, 1317), (10012, 1320), (10053, 1322), (10054, 1323), (10007, 1323), (123549, 1324), (123511, 1324), (10002, 1325), (10056, 1327), (10069, 1327), (10047, 1328), (10164, 1328), (10220, 1330), (10084, 1331), (123530, 1331), (10087, 1332), (10198, 1332), (10120, 1332), (123535, 1332), (10077, 1334), (10057, 1334), (10160, 1335), (123547, 1336), (10145, 1337), (123523, 1338), (10213, 1339), (123462, 1342), (123520, 1343), (10055, 1344), (10075, 1346), (10011, 1347), (10097, 1350), (10204, 1351), (123470, 1352), (10191, 1353), (10073, 1353), (10184, 1355), (10020, 1355), (10042, 1355), (10065, 1356), (10052, 1356), (123493, 1356), (10083, 1358), (10130, 1359), (123458, 1359), (10215, 1360), (10050, 1361), (10157, 1362), (10072, 1362), (10136, 1364), (10155, 1366), (10199, 1367), (10068, 1367), (10208, 1373), (10101, 1374), (123514, 1374), (123525, 1374), (10144, 1378), (123542, 1379), (10109, 1380), (10117, 1382), (123477, 1383), (10149, 1383), (10202, 1383), (123548, 1387), (10046, 1393), (123491, 1395), (123537, 1397), (10051, 1401), (123480, 1402), (123472, 1404), (10186, 1409), (10132, 1410), (10079, 1413), (10081, 1415), (123492, 1416), (10114, 1418), (123507, 1422), (10043, 1423), (10200, 1425), (10089, 1427), (123473, 1428), (10166, 1428), (10122, 1430), (123538, 1431), (123497, 1434), (10010, 1435), (123486, 1438), (10211, 1439), (10212, 1442), (10135, 1443), (10151, 1443), (123526, 1446), (10044, 1451), (10008, 1467), (10017, 1477), (10004, 1478), (10182, 1478), (10014, 1483), (10103, 1489), (10146, 1495), (10021, 1498), (10019, 1514), (10005, 1539), (123541, 1564), (10015, 1576), (10142, 1589), (123505, 1594), (10018, 1600), (10106, 1626), (10143, 1654)]\n"
          ],
          "name": "stdout"
        }
      ]
    },
    {
      "metadata": {
        "id": "qzKn0h1b9KFm",
        "colab_type": "code",
        "colab": {
          "base_uri": "https://localhost:8080/",
          "height": 34
        },
        "outputId": "233edefe-55ae-4bb9-c06b-64cd6f47f55c"
      },
      "cell_type": "code",
      "source": [
        "N = sum([writer[1] for writer in writers])  # No of images\n",
        "N"
      ],
      "execution_count": 19,
      "outputs": [
        {
          "output_type": "execute_result",
          "data": {
            "text/plain": [
              "369455"
            ]
          },
          "metadata": {
            "tags": []
          },
          "execution_count": 19
        }
      ]
    },
    {
      "metadata": {
        "id": "tUY7eDgk-UnT",
        "colab_type": "code",
        "colab": {
          "base_uri": "https://localhost:8080/",
          "height": 71
        },
        "outputId": "6252f1c7-01d8-4151-cc70-d47c5cbbcae2"
      },
      "cell_type": "code",
      "source": [
        "testW = []\n",
        "countImgs = 0\n",
        "while countImgs<N*0.1:\n",
        "  testW.append(writers[-1])\n",
        "  countImgs += writers[-1][1]\n",
        "  writers = writers[:-1]\n",
        "  \n",
        "print(testW) \n",
        "print(len(testW))"
      ],
      "execution_count": 20,
      "outputs": [
        {
          "output_type": "stream",
          "text": [
            "[(10143, 1654), (10106, 1626), (10018, 1600), (123505, 1594), (10142, 1589), (10015, 1576), (123541, 1564), (10005, 1539), (10019, 1514), (10021, 1498), (10146, 1495), (10103, 1489), (10014, 1483), (10182, 1478), (10004, 1478), (10017, 1477), (10008, 1467), (10044, 1451), (123526, 1446), (10151, 1443), (10135, 1443), (10212, 1442), (10211, 1439), (123486, 1438), (10010, 1435)]\n",
            "25\n"
          ],
          "name": "stdout"
        }
      ]
    },
    {
      "metadata": {
        "id": "I0dJAIlM-e2v",
        "colab_type": "code",
        "colab": {}
      },
      "cell_type": "code",
      "source": [
        "# Split and stratify\n",
        "# 80% : 10% : 10%\n",
        "# shuffle(writers)\n",
        "trainW = []\n",
        "validationW = []\n",
        "\n",
        "for i in range(0, len(writers)):\n",
        "  if i%10==5:\n",
        "    validationW.append(writers[i])\n",
        "  else:\n",
        "    trainW.append(writers[i])\n",
        "\n",
        "trainW = set(trainW)\n",
        "validationW = set(validationW)\n",
        "testW = set(testW)"
      ],
      "execution_count": 0,
      "outputs": []
    },
    {
      "metadata": {
        "id": "-il-xcuU-oyE",
        "colab_type": "code",
        "colab": {}
      },
      "cell_type": "code",
      "source": [
        "testW = [x[0] for x in testW]\n",
        "validationW = [x[0] for x in validationW]\n",
        "trainW = [x[0] for x in trainW]"
      ],
      "execution_count": 0,
      "outputs": []
    },
    {
      "metadata": {
        "id": "YggjQP90-rE4",
        "colab_type": "code",
        "colab": {
          "base_uri": "https://localhost:8080/",
          "height": 68
        },
        "outputId": "95ff7653-d9ed-4fad-d61c-61da8c920b5a"
      },
      "cell_type": "code",
      "source": [
        "print(len(trainW))\n",
        "print(len(validationW))\n",
        "print(len(testW))"
      ],
      "execution_count": 23,
      "outputs": [
        {
          "output_type": "stream",
          "text": [
            "242\n",
            "27\n",
            "25\n"
          ],
          "name": "stdout"
        }
      ]
    },
    {
      "metadata": {
        "id": "rQyYtso1-yuQ",
        "colab_type": "code",
        "colab": {
          "base_uri": "https://localhost:8080/",
          "height": 51
        },
        "outputId": "1e6e9f81-6430-4129-efd1-65c8a0627280"
      },
      "cell_type": "code",
      "source": [
        "%%time\n",
        "train_Images = []\n",
        "train_Labels = []\n",
        "train_Writers = []\n",
        "\n",
        "validation_Images = []\n",
        "validation_Labels = []\n",
        "validation_Writers = []\n",
        "\n",
        "test_Images = []\n",
        "test_Labels = []\n",
        "test_Writers = []\n",
        "\n",
        "images = os.listdir('./ImageDisk/')\n",
        "shuffle(images)\n",
        "for image in images:\n",
        "  imageparsed = image.split('_')  # ['trainimage', 'i28871', 'w10174', 'lo', '261-274.png']\n",
        "  writer = int(imageparsed[2][1:])\n",
        "  label = imageparsed[3][1:]\n",
        "  if label=='slash':\n",
        "    label = '/'\n",
        "  img = mpimg.imread(os.path.join('./ImageDisk', image))\n",
        "  if writer in testW:\n",
        "    test_Images.append(img.reshape(28, 28, 1)/255.0)\n",
        "    test_Labels.append(OH_L.encode(label))\n",
        "    test_Writers.append(writer)\n",
        "  elif writer in validationW:\n",
        "    validation_Images.append(img.reshape(28, 28, 1)/255.0)\n",
        "    validation_Labels.append(OH_L.encode(label))\n",
        "    validation_Writers.append(writer)\n",
        "  elif writer in trainW:\n",
        "    train_Images.append(img.reshape(28, 28, 1)/255.0)\n",
        "    train_Labels.append(OH_L.encode(label))\n",
        "    train_Writers.append(writer)\n",
        "  else:\n",
        "    print('Unrecognized writer, ', writer)  # Throw exception"
      ],
      "execution_count": 24,
      "outputs": [
        {
          "output_type": "stream",
          "text": [
            "CPU times: user 27.7 s, sys: 5.82 s, total: 33.6 s\n",
            "Wall time: 34 s\n"
          ],
          "name": "stdout"
        }
      ]
    },
    {
      "metadata": {
        "id": "GuAsbNww_QsZ",
        "colab_type": "code",
        "colab": {
          "base_uri": "https://localhost:8080/",
          "height": 204
        },
        "outputId": "5284b601-6977-4255-8802-7816768bba75"
      },
      "cell_type": "code",
      "source": [
        "print(len(train_Writers))\n",
        "print(len(validation_Writers))\n",
        "print(len(test_Writers))\n",
        "print()\n",
        "print(len(train_Labels))\n",
        "print(len(validation_Labels))\n",
        "print(len(test_Labels))\n",
        "print()\n",
        "print(len(train_Images))\n",
        "print(len(validation_Images))\n",
        "print(len(test_Images))"
      ],
      "execution_count": 25,
      "outputs": [
        {
          "output_type": "stream",
          "text": [
            "298313\n",
            "33484\n",
            "37658\n",
            "\n",
            "298313\n",
            "33484\n",
            "37658\n",
            "\n",
            "298313\n",
            "33484\n",
            "37658\n"
          ],
          "name": "stdout"
        }
      ]
    },
    {
      "metadata": {
        "id": "j9NqKSXJ_0VO",
        "colab_type": "code",
        "colab": {
          "base_uri": "https://localhost:8080/",
          "height": 1567
        },
        "outputId": "665f2279-0345-4b0d-f640-256d3f05ea2c"
      },
      "cell_type": "code",
      "source": [
        "history = recognizer.fit(x=np.array(train_Images), y=np.array(train_Labels),\n",
        "                         batch_size=1024, epochs=20, verbose=1, \n",
        "                         callbacks=[reduce, estop, excel, checkp], \n",
        "                         validation_data=(np.array(validation_Images), np.array(validation_Labels)),          \n",
        "                         shuffle=True)"
      ],
      "execution_count": 26,
      "outputs": [
        {
          "output_type": "stream",
          "text": [
            "WARNING:tensorflow:From /usr/local/lib/python3.6/dist-packages/tensorflow/python/ops/math_ops.py:3066: to_int32 (from tensorflow.python.ops.math_ops) is deprecated and will be removed in a future version.\n",
            "Instructions for updating:\n",
            "Use tf.cast instead.\n",
            "Train on 298313 samples, validate on 33484 samples\n",
            "Epoch 1/20\n",
            "298313/298313 [==============================] - 17s 56us/step - loss: 1.1445 - acc: 0.6825 - val_loss: 12.9226 - val_acc: 0.0706\n",
            "\n",
            "Epoch 00001: val_loss improved from inf to 12.92262, saving model to ./best_w.h5\n",
            "Epoch 2/20\n",
            "298313/298313 [==============================] - 13s 44us/step - loss: 0.6900 - acc: 0.8013 - val_loss: 12.1508 - val_acc: 0.0910\n",
            "\n",
            "Epoch 00002: val_loss improved from 12.92262 to 12.15080, saving model to ./best_w.h5\n",
            "Epoch 3/20\n",
            "298313/298313 [==============================] - 13s 44us/step - loss: 0.6030 - acc: 0.8249 - val_loss: 8.5250 - val_acc: 0.1164\n",
            "\n",
            "Epoch 00003: val_loss improved from 12.15080 to 8.52499, saving model to ./best_w.h5\n",
            "Epoch 4/20\n",
            "298313/298313 [==============================] - 13s 45us/step - loss: 0.5556 - acc: 0.8374 - val_loss: 2.3659 - val_acc: 0.4456\n",
            "\n",
            "Epoch 00004: val_loss improved from 8.52499 to 2.36589, saving model to ./best_w.h5\n",
            "Epoch 5/20\n",
            "298313/298313 [==============================] - 13s 45us/step - loss: 0.5266 - acc: 0.8457 - val_loss: 11.7406 - val_acc: 0.0814\n",
            "\n",
            "Epoch 00005: val_loss did not improve from 2.36589\n",
            "Epoch 6/20\n",
            "298313/298313 [==============================] - 13s 45us/step - loss: 0.5036 - acc: 0.8519 - val_loss: 2.2610 - val_acc: 0.5235\n",
            "\n",
            "Epoch 00006: val_loss improved from 2.36589 to 2.26096, saving model to ./best_w.h5\n",
            "Epoch 7/20\n",
            "298313/298313 [==============================] - 13s 44us/step - loss: 0.4866 - acc: 0.8566 - val_loss: 6.3941 - val_acc: 0.1389\n",
            "\n",
            "Epoch 00007: val_loss did not improve from 2.26096\n",
            "Epoch 8/20\n",
            "298313/298313 [==============================] - 13s 44us/step - loss: 0.4718 - acc: 0.8601 - val_loss: 3.7415 - val_acc: 0.3978\n",
            "\n",
            "Epoch 00008: val_loss did not improve from 2.26096\n",
            "Epoch 9/20\n",
            "298313/298313 [==============================] - 13s 45us/step - loss: 0.4602 - acc: 0.8627 - val_loss: 2.9310 - val_acc: 0.4344\n",
            "\n",
            "Epoch 00009: ReduceLROnPlateau reducing learning rate to 0.0005000000237487257.\n",
            "\n",
            "Epoch 00009: val_loss did not improve from 2.26096\n",
            "Epoch 10/20\n",
            "298313/298313 [==============================] - 13s 45us/step - loss: 0.4235 - acc: 0.8732 - val_loss: 0.8545 - val_acc: 0.7579\n",
            "\n",
            "Epoch 00010: val_loss improved from 2.26096 to 0.85454, saving model to ./best_w.h5\n",
            "Epoch 11/20\n",
            "298313/298313 [==============================] - 13s 44us/step - loss: 0.4138 - acc: 0.8755 - val_loss: 1.1425 - val_acc: 0.7121\n",
            "\n",
            "Epoch 00011: val_loss did not improve from 0.85454\n",
            "Epoch 12/20\n",
            "298313/298313 [==============================] - 13s 44us/step - loss: 0.4075 - acc: 0.8773 - val_loss: 3.4205 - val_acc: 0.4015\n",
            "\n",
            "Epoch 00012: val_loss did not improve from 0.85454\n",
            "Epoch 13/20\n",
            "298313/298313 [==============================] - 13s 44us/step - loss: 0.4037 - acc: 0.8779 - val_loss: 1.3708 - val_acc: 0.6560\n",
            "\n",
            "Epoch 00013: ReduceLROnPlateau reducing learning rate to 0.0002500000118743628.\n",
            "\n",
            "Epoch 00013: val_loss did not improve from 0.85454\n",
            "Epoch 14/20\n",
            "298313/298313 [==============================] - 13s 44us/step - loss: 0.3810 - acc: 0.8843 - val_loss: 0.6335 - val_acc: 0.8148\n",
            "\n",
            "Epoch 00014: val_loss improved from 0.85454 to 0.63347, saving model to ./best_w.h5\n",
            "Epoch 15/20\n",
            "298313/298313 [==============================] - 13s 45us/step - loss: 0.3753 - acc: 0.8852 - val_loss: 0.8281 - val_acc: 0.7721\n",
            "\n",
            "Epoch 00015: val_loss did not improve from 0.63347\n",
            "Epoch 16/20\n",
            "298313/298313 [==============================] - 13s 44us/step - loss: 0.3732 - acc: 0.8863 - val_loss: 3.1714 - val_acc: 0.4297\n",
            "\n",
            "Epoch 00016: val_loss did not improve from 0.63347\n",
            "Epoch 17/20\n",
            "298313/298313 [==============================] - 13s 44us/step - loss: 0.3695 - acc: 0.8874 - val_loss: 1.4836 - val_acc: 0.6110\n",
            "\n",
            "Epoch 00017: ReduceLROnPlateau reducing learning rate to 0.0001250000059371814.\n",
            "\n",
            "Epoch 00017: val_loss did not improve from 0.63347\n",
            "Epoch 18/20\n",
            "298313/298313 [==============================] - 13s 44us/step - loss: 0.3582 - acc: 0.8903 - val_loss: 0.5743 - val_acc: 0.8312\n",
            "\n",
            "Epoch 00018: val_loss improved from 0.63347 to 0.57430, saving model to ./best_w.h5\n",
            "Epoch 19/20\n",
            "298313/298313 [==============================] - 13s 44us/step - loss: 0.3543 - acc: 0.8910 - val_loss: 0.6737 - val_acc: 0.8173\n",
            "\n",
            "Epoch 00019: val_loss did not improve from 0.57430\n",
            "Epoch 20/20\n",
            "298313/298313 [==============================] - 13s 44us/step - loss: 0.3534 - acc: 0.8912 - val_loss: 0.6355 - val_acc: 0.8114\n",
            "\n",
            "Epoch 00020: val_loss did not improve from 0.57430\n"
          ],
          "name": "stdout"
        }
      ]
    },
    {
      "metadata": {
        "id": "0YmwaA7DFlGB",
        "colab_type": "code",
        "colab": {}
      },
      "cell_type": "code",
      "source": [
        "recognizer.load_weights('best_w.h5')"
      ],
      "execution_count": 0,
      "outputs": []
    },
    {
      "metadata": {
        "id": "GvICIOI2_5_S",
        "colab_type": "code",
        "colab": {
          "base_uri": "https://localhost:8080/",
          "height": 51
        },
        "outputId": "6fe5fe12-96e0-4951-f71f-98f588bcb9da"
      },
      "cell_type": "code",
      "source": [
        "recognizer.evaluate(x=np.array(train_Images), y=np.array(train_Labels), batch_size=256, verbose=1)"
      ],
      "execution_count": 28,
      "outputs": [
        {
          "output_type": "stream",
          "text": [
            "298313/298313 [==============================] - 5s 18us/step\n"
          ],
          "name": "stdout"
        },
        {
          "output_type": "execute_result",
          "data": {
            "text/plain": [
              "[0.3994217890618528, 0.876482084246794]"
            ]
          },
          "metadata": {
            "tags": []
          },
          "execution_count": 28
        }
      ]
    },
    {
      "metadata": {
        "id": "TvFCmDt0CtpE",
        "colab_type": "code",
        "colab": {
          "base_uri": "https://localhost:8080/",
          "height": 51
        },
        "outputId": "e661d06d-7574-4c5a-e573-b1d5f52fea2f"
      },
      "cell_type": "code",
      "source": [
        "recognizer.evaluate(x=np.array(validation_Images), y=np.array(validation_Labels), batch_size=256, verbose=1)"
      ],
      "execution_count": 29,
      "outputs": [
        {
          "output_type": "stream",
          "text": [
            "33484/33484 [==============================] - 1s 19us/step\n"
          ],
          "name": "stdout"
        },
        {
          "output_type": "execute_result",
          "data": {
            "text/plain": [
              "[0.5743015290104122, 0.8312029627727758]"
            ]
          },
          "metadata": {
            "tags": []
          },
          "execution_count": 29
        }
      ]
    },
    {
      "metadata": {
        "id": "WJcbb4SxCy1G",
        "colab_type": "code",
        "colab": {
          "base_uri": "https://localhost:8080/",
          "height": 51
        },
        "outputId": "9d75b55e-359d-4b05-9e9d-b8ededf399c6"
      },
      "cell_type": "code",
      "source": [
        "recognizer.evaluate(x=np.array(test_Images), y=np.array(test_Labels), batch_size=256, verbose=1)"
      ],
      "execution_count": 30,
      "outputs": [
        {
          "output_type": "stream",
          "text": [
            "37658/37658 [==============================] - 1s 18us/step\n"
          ],
          "name": "stdout"
        },
        {
          "output_type": "execute_result",
          "data": {
            "text/plain": [
              "[0.6479861144587999, 0.8211800945508536]"
            ]
          },
          "metadata": {
            "tags": []
          },
          "execution_count": 30
        }
      ]
    },
    {
      "metadata": {
        "id": "rMjHrwaeZY6R",
        "colab_type": "text"
      },
      "cell_type": "markdown",
      "source": [
        "# Plot"
      ]
    },
    {
      "metadata": {
        "id": "n6gPUv_gZaWb",
        "colab_type": "code",
        "colab": {}
      },
      "cell_type": "code",
      "source": [
        "history = recognizer.history"
      ],
      "execution_count": 0,
      "outputs": []
    },
    {
      "metadata": {
        "id": "M0iaYQIBZGVK",
        "colab_type": "code",
        "colab": {
          "base_uri": "https://localhost:8080/",
          "height": 295
        },
        "outputId": "70544b89-469a-4bd7-ec1f-bc5dd8bcbd2c"
      },
      "cell_type": "code",
      "source": [
        "#  \"Accuracy\"\n",
        "plt.plot(history.history['acc'])\n",
        "plt.plot(history.history['val_acc'])\n",
        "plt.title('model accuracy')\n",
        "plt.ylabel('accuracy')\n",
        "plt.xlabel('epoch')\n",
        "plt.legend(['train', 'validation'], loc='upper left')\n",
        "plt.show()"
      ],
      "execution_count": 44,
      "outputs": [
        {
          "output_type": "display_data",
          "data": {
            "image/png": "[encoded data removed]",
            "text/plain": [
              "<Figure size 432x288 with 1 Axes>"
            ]
          },
          "metadata": {
            "tags": []
          }
        }
      ]
    },
    {
      "metadata": {
        "id": "X99sdJMyZhMs",
        "colab_type": "code",
        "colab": {
          "base_uri": "https://localhost:8080/",
          "height": 295
        },
        "outputId": "5bfea627-d428-4222-bee0-63f7b18dfb07"
      },
      "cell_type": "code",
      "source": [
        "# \"Loss\"\n",
        "plt.plot(history.history['loss'])\n",
        "plt.plot(history.history['val_loss'])\n",
        "plt.title('model loss')\n",
        "plt.ylabel('loss')\n",
        "plt.xlabel('epoch')\n",
        "plt.legend(['train', 'validation'], loc='upper left')\n",
        "plt.show()"
      ],
      "execution_count": 45,
      "outputs": [
        {
          "output_type": "display_data",
          "data": {
            "image/png": "[encoded data removed]",
            "text/plain": [
              "<Figure size 432x288 with 1 Axes>"
            ]
          },
          "metadata": {
            "tags": []
          }
        }
      ]
    },
    {
      "metadata": {
        "id": "XQFQfmX6XeLP",
        "colab_type": "text"
      },
      "cell_type": "markdown",
      "source": [
        "# Save model"
      ]
    },
    {
      "metadata": {
        "id": "xLnLhdl0C1uQ",
        "colab_type": "code",
        "colab": {}
      },
      "cell_type": "code",
      "source": [
        "recognizer.save_weights('eth_baseline_weights.h5') \n",
        "recognizer.save('eth_baseline_model.h5')"
      ],
      "execution_count": 0,
      "outputs": []
    },
    {
      "metadata": {
        "id": "ehJqWcR-XmfO",
        "colab_type": "code",
        "colab": {}
      },
      "cell_type": "code",
      "source": [
        "!cp './eth_baseline_weights.h5' './drive/My Drive/Eth_Zurich_weights/eth_baseline_weights.h5'\n",
        "!cp './eth_baseline_model.h5' './drive/My Drive/Eth_Zurich_weights/eth_baseline_model.h5'"
      ],
      "execution_count": 0,
      "outputs": []
    },
    {
      "metadata": {
        "id": "AXibUfr4XnMj",
        "colab_type": "code",
        "colab": {
          "base_uri": "https://localhost:8080/",
          "height": 51
        },
        "outputId": "a92f93aa-9fba-4b81-f356-8e675f8256f5"
      },
      "cell_type": "code",
      "source": [
        "from keras.models import load_model\n",
        "r = load_model('./drive/My Drive/Eth_Zurich_Dataset/eth_baseline_model.h5')\n",
        "r.evaluate(x=np.array(test_Images), y=np.array(test_Labels), batch_size=256, verbose=1)"
      ],
      "execution_count": 34,
      "outputs": [
        {
          "output_type": "stream",
          "text": [
            "37658/37658 [==============================] - 1s 25us/step\n"
          ],
          "name": "stdout"
        },
        {
          "output_type": "execute_result",
          "data": {
            "text/plain": [
              "[0.6479861144587999, 0.8211800945508536]"
            ]
          },
          "metadata": {
            "tags": []
          },
          "execution_count": 34
        }
      ]
    },
    {
      "metadata": {
        "id": "BUeAi1lpYAHg",
        "colab_type": "code",
        "colab": {}
      },
      "cell_type": "code",
      "source": [
        "finder = Model(inputs=recognizer.input, outputs=recognizer.get_layer('next_to_last').output)"
      ],
      "execution_count": 0,
      "outputs": []
    },
    {
      "metadata": {
        "id": "rQNDskjiYHSR",
        "colab_type": "code",
        "colab": {}
      },
      "cell_type": "code",
      "source": [
        "finder.save_weights('eth_finder_weights.h5') \n",
        "finder.save('eth_finder_model.h5')"
      ],
      "execution_count": 0,
      "outputs": []
    },
    {
      "metadata": {
        "id": "1mOUT_3zYLQT",
        "colab_type": "code",
        "colab": {}
      },
      "cell_type": "code",
      "source": [
        "!cp './eth_finder_weights.h5' './drive/My Drive/Eth_Zurich_weights/eth_finder_weights.h5'\n",
        "!cp './eth_finder_model.h5' './drive/My Drive/Eth_Zurich_weights/eth_finder_model.h5'"
      ],
      "execution_count": 0,
      "outputs": []
    },
    {
      "metadata": {
        "id": "L7_mlrpMYWtc",
        "colab_type": "code",
        "colab": {}
      },
      "cell_type": "code",
      "source": [
        ""
      ],
      "execution_count": 0,
      "outputs": []
    },
    {
      "metadata": {
        "id": "AT7fVI1HY74D",
        "colab_type": "code",
        "colab": {}
      },
      "cell_type": "code",
      "source": [
        ""
      ],
      "execution_count": 0,
      "outputs": []
    }
  ]
}