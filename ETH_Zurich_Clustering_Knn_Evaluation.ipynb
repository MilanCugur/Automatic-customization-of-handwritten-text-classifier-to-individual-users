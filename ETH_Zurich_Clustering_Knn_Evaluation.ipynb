{
  "nbformat": 4,
  "nbformat_minor": 0,
  "metadata": {
    "colab": {
      "name": "ETH_Zurich_Clustering_Knn_Evaluation.ipynb",
      "version": "0.3.2",
      "provenance": [],
      "collapsed_sections": [],
      "toc_visible": true,
      "include_colab_link": true
    },
    "kernelspec": {
      "name": "python3",
      "display_name": "Python 3"
    },
    "accelerator": "GPU"
  },
  "cells": [
    {
      "cell_type": "markdown",
      "metadata": {
        "id": "view-in-github",
        "colab_type": "text"
      },
      "source": [
        "<a href=\"https://colab.research.google.com/github/MilanCugur/PUBLISH_ME/blob/master/ETH_Zurich_Clustering_Knn_Evaluation.ipynb\" target=\"_parent\"><img src=\"https://colab.research.google.com/assets/colab-badge.svg\" alt=\"Open In Colab\"/></a>"
      ]
    },
    {
      "metadata": {
        "id": "nVr47HLVdnuJ",
        "colab_type": "code",
        "outputId": "93f310d3-1bb5-41f4-be99-98e63ddc34e0",
        "colab": {
          "base_uri": "https://localhost:8080/",
          "height": 122
        }
      },
      "cell_type": "code",
      "source": [
        "from google.colab import drive\n",
        "drive.mount('/content/drive')"
      ],
      "execution_count": 0,
      "outputs": [
        {
          "output_type": "stream",
          "text": [
            "Go to this URL in a browser: https://accounts.google.com/o/oauth2/auth?client_id=947318989803-6bn6qk8qdgf4n4g3pfee6491hc0brc4i.apps.googleusercontent.com&redirect_uri=urn%3Aietf%3Awg%3Aoauth%3A2.0%3Aoob&scope=email%20https%3A%2F%2Fwww.googleapis.com%2Fauth%2Fdocs.test%20https%3A%2F%2Fwww.googleapis.com%2Fauth%2Fdrive%20https%3A%2F%2Fwww.googleapis.com%2Fauth%2Fdrive.photos.readonly%20https%3A%2F%2Fwww.googleapis.com%2Fauth%2Fpeopleapi.readonly&response_type=code\n",
            "\n",
            "Enter your authorization code:\n",
            "··········\n",
            "Mounted at /content/drive\n"
          ],
          "name": "stdout"
        }
      ]
    },
    {
      "metadata": {
        "id": "PvOXDGYSd6uW",
        "colab_type": "code",
        "outputId": "935b03d6-d2dc-4068-a606-0d47bf891515",
        "colab": {
          "base_uri": "https://localhost:8080/",
          "height": 34
        }
      },
      "cell_type": "code",
      "source": [
        "import os\n",
        "import numpy as np\n",
        "from zipfile import ZipFile\n",
        "\n",
        "from keras.utils import Sequence\n",
        "from random import shuffle\n",
        "\n",
        "import matplotlib.pyplot as plt\n",
        "import matplotlib.image as mpimg"
      ],
      "execution_count": 0,
      "outputs": [
        {
          "output_type": "stream",
          "text": [
            "Using TensorFlow backend.\n"
          ],
          "name": "stderr"
        }
      ]
    },
    {
      "metadata": {
        "id": "j6QSV_rdekIu",
        "colab_type": "code",
        "outputId": "3f0363c5-79bc-4b66-aecb-6c37cc702518",
        "colab": {
          "base_uri": "https://localhost:8080/",
          "height": 51
        }
      },
      "cell_type": "code",
      "source": [
        "%%time\n",
        "# Extract images to 'ImageDisk' folder\n",
        "\n",
        "path = './drive/My Drive/Eth_Zurich_Dataset/ETH_png_archive.zip'  # Different .zip folder with images\n",
        "archive = ZipFile(path, 'r')\n",
        "archive.extractall('./ImageDisk')  \n",
        "archive.close()"
      ],
      "execution_count": 0,
      "outputs": [
        {
          "output_type": "stream",
          "text": [
            "CPU times: user 25.2 s, sys: 12.2 s, total: 37.4 s\n",
            "Wall time: 42.7 s\n"
          ],
          "name": "stdout"
        }
      ]
    },
    {
      "metadata": {
        "id": "bA5tYaOHemdi",
        "colab_type": "code",
        "outputId": "7a7d8c46-02b6-4d8a-dd60-84bad87eb6db",
        "colab": {
          "base_uri": "https://localhost:8080/",
          "height": 34
        }
      },
      "cell_type": "code",
      "source": [
        "!ls ImageDisk/ | wc -l"
      ],
      "execution_count": 0,
      "outputs": [
        {
          "output_type": "stream",
          "text": [
            "369455\n"
          ],
          "name": "stdout"
        }
      ]
    },
    {
      "metadata": {
        "id": "qWA0hr2Rerua",
        "colab_type": "text"
      },
      "cell_type": "markdown",
      "source": [
        "# OneHot Encoding"
      ]
    },
    {
      "metadata": {
        "id": "YeKS6O-beqWq",
        "colab_type": "code",
        "colab": {}
      },
      "cell_type": "code",
      "source": [
        "# OneHot Encoding\n",
        "class OneHot():  \n",
        "  # classes = list of classes : 0-9, a-z, A-Z\n",
        "  # n = number of classes     : 62\n",
        "  \n",
        "  def __init__(self, classes):\n",
        "    self.classes = classes\n",
        "    self.n = len(classes)\n",
        "    \n",
        "  def encode(self, class_name):\n",
        "    one_hot = np.zeros(shape=(self.n), dtype=np.int8)\n",
        "    class_index = self.classes.index(class_name)\n",
        "    one_hot[class_index] = 1\n",
        "    return one_hot\n",
        "  \n",
        "  def encode_all(self, list_class_names):\n",
        "    return np.array([self.encode(class_name) for class_name in list_class_names])\n",
        "  \n",
        "  def decode(self, one_hot):\n",
        "    class_index = one_hot.argmax()\n",
        "    return self.classes[class_index]\n",
        "  \n",
        "  def decode_all(self, list_one_hots):\n",
        "    return np.array([self.decode(one_hot) for one_hot in list_one_hots])"
      ],
      "execution_count": 0,
      "outputs": []
    },
    {
      "metadata": {
        "id": "MkaXwPLcexKF",
        "colab_type": "code",
        "outputId": "4b1b9a08-295e-48a9-e10c-2f593db8770b",
        "colab": {
          "base_uri": "https://localhost:8080/",
          "height": 71
        }
      },
      "cell_type": "code",
      "source": [
        "alphabet = list(\"0123456789abcdefghijklmnopqrstuvwxyzABCDEFGHIJKLMNOPQRSTUVWXYZ'.,-()/\") \n",
        "alphabet.insert(0, '') # '\\x00' character, i.e., ord(0) to label concatenations.\n",
        "print(alphabet)\n",
        "print(len(alphabet))"
      ],
      "execution_count": 0,
      "outputs": [
        {
          "output_type": "stream",
          "text": [
            "['', '0', '1', '2', '3', '4', '5', '6', '7', '8', '9', 'a', 'b', 'c', 'd', 'e', 'f', 'g', 'h', 'i', 'j', 'k', 'l', 'm', 'n', 'o', 'p', 'q', 'r', 's', 't', 'u', 'v', 'w', 'x', 'y', 'z', 'A', 'B', 'C', 'D', 'E', 'F', 'G', 'H', 'I', 'J', 'K', 'L', 'M', 'N', 'O', 'P', 'Q', 'R', 'S', 'T', 'U', 'V', 'W', 'X', 'Y', 'Z', \"'\", '.', ',', '-', '(', ')', '/']\n",
            "70\n"
          ],
          "name": "stdout"
        }
      ]
    },
    {
      "metadata": {
        "id": "jkh7JItxe1AD",
        "colab_type": "code",
        "colab": {}
      },
      "cell_type": "code",
      "source": [
        "OH_L = OneHot(sorted(alphabet))"
      ],
      "execution_count": 0,
      "outputs": []
    },
    {
      "metadata": {
        "id": "TITK5Hhle863",
        "colab_type": "text"
      },
      "cell_type": "markdown",
      "source": [
        "# Data"
      ]
    },
    {
      "metadata": {
        "id": "tdNGWxPFe3RR",
        "colab_type": "code",
        "colab": {}
      },
      "cell_type": "code",
      "source": [
        "writers = {}\n",
        "labels = set()\n",
        "for image in os.listdir('./ImageDisk/'):\n",
        "  imageparsed = image.split('_')  # ['trainimage', 'i28871', 'w10174', 'lo', '261-274.png']\n",
        "  writer = int(imageparsed[2][1:])\n",
        "  label = imageparsed[3][1:]\n",
        "  if writer not in writers:\n",
        "    writers[writer] = 1\n",
        "  else:\n",
        "    writers[writer] += 1\n",
        "    \n",
        "  labels.add(label)"
      ],
      "execution_count": 0,
      "outputs": []
    },
    {
      "metadata": {
        "id": "n6zaw_xOfCRm",
        "colab_type": "code",
        "outputId": "1bb9b77c-5403-4f82-804f-315764a75424",
        "colab": {
          "base_uri": "https://localhost:8080/",
          "height": 71
        }
      },
      "cell_type": "code",
      "source": [
        "print(labels)\n",
        "print(len(labels))"
      ],
      "execution_count": 0,
      "outputs": [
        {
          "output_type": "stream",
          "text": [
            "{'', 'e', '-', 'l', 'm', '8', 'g', '4', 'P', 'a', 'S', 'V', '0', 'slash', 'B', 'J', 'R', '.', 'Z', 'C', 'k', 'X', 'j', 'h', 'Y', 'z', '6', 'W', 'T', 'E', 'r', \"'\", 'K', 'N', 'n', 'y', 'q', 'x', 'D', 'o', 'w', 't', 'O', 'H', 'M', '(', 'u', 'p', 'd', 'c', 'G', 's', 'I', '5', '3', ')', '2', 'L', 'U', ',', 'i', 'f', '9', 'Q', 'F', 'A', '7', 'v', '1', 'b'}\n",
            "70\n"
          ],
          "name": "stdout"
        }
      ]
    },
    {
      "metadata": {
        "id": "z4OkSjTLfD6S",
        "colab_type": "code",
        "outputId": "92f99db0-1482-4150-8bfe-081c854041d7",
        "colab": {
          "base_uri": "https://localhost:8080/",
          "height": 34
        }
      },
      "cell_type": "code",
      "source": [
        "print(len(writers.keys()))"
      ],
      "execution_count": 0,
      "outputs": [
        {
          "output_type": "stream",
          "text": [
            "294\n"
          ],
          "name": "stdout"
        }
      ]
    },
    {
      "metadata": {
        "id": "T7z7kv0AfGw4",
        "colab_type": "code",
        "outputId": "06bde0ac-eaf7-4ea9-81c8-3efedef4318b",
        "colab": {
          "base_uri": "https://localhost:8080/",
          "height": 54
        }
      },
      "cell_type": "code",
      "source": [
        "writers = list(writers.items())\n",
        "writers = sorted(writers, key=lambda x: x[1])\n",
        "print(writers)"
      ],
      "execution_count": 0,
      "outputs": [
        {
          "output_type": "stream",
          "text": [
            "[(123483, 182), (123521, 384), (123544, 690), (123528, 801), (123519, 808), (123502, 866), (123461, 880), (10023, 898), (123534, 921), (123485, 930), (123459, 947), (123476, 989), (123546, 999), (123460, 1010), (123518, 1024), (123501, 1028), (123515, 1030), (123545, 1037), (123479, 1047), (10094, 1049), (123499, 1053), (10161, 1054), (10088, 1058), (123524, 1062), (10058, 1065), (123478, 1068), (123482, 1073), (123489, 1090), (123539, 1091), (10096, 1092), (10112, 1093), (10104, 1093), (10070, 1097), (123456, 1097), (10214, 1099), (123527, 1103), (123508, 1104), (10095, 1104), (10066, 1106), (10195, 1109), (123488, 1116), (123540, 1123), (10098, 1125), (123532, 1127), (10127, 1132), (10169, 1133), (10177, 1136), (123471, 1137), (123531, 1139), (10163, 1144), (10156, 1145), (123463, 1149), (10061, 1151), (10062, 1156), (10210, 1156), (10153, 1162), (10102, 1163), (10139, 1164), (123510, 1164), (10131, 1164), (10176, 1165), (123512, 1167), (123504, 1168), (10216, 1168), (123503, 1169), (123516, 1171), (10188, 1171), (10126, 1172), (10203, 1173), (10123, 1173), (10180, 1174), (10099, 1175), (10113, 1176), (123481, 1178), (10141, 1180), (10218, 1180), (10082, 1180), (123469, 1181), (10118, 1181), (10121, 1185), (123513, 1185), (123490, 1187), (10174, 1189), (10221, 1189), (10074, 1190), (10159, 1191), (10045, 1193), (123457, 1193), (10165, 1195), (123498, 1197), (10197, 1198), (10219, 1198), (10009, 1200), (10178, 1200), (10092, 1204), (10107, 1206), (10093, 1206), (10217, 1208), (10152, 1214), (123522, 1215), (10162, 1216), (10111, 1216), (10049, 1217), (10154, 1218), (10071, 1220), (10110, 1221), (123475, 1224), (10209, 1224), (10006, 1226), (123494, 1229), (10134, 1229), (10207, 1230), (10173, 1230), (123467, 1231), (10193, 1231), (123543, 1232), (10181, 1232), (10206, 1235), (10201, 1237), (10150, 1237), (10171, 1237), (123465, 1238), (10196, 1239), (10128, 1239), (123509, 1240), (123495, 1241), (123487, 1242), (10183, 1246), (10115, 1247), (10100, 1248), (123500, 1248), (10185, 1248), (10167, 1250), (123533, 1250), (10192, 1251), (10172, 1253), (10187, 1254), (123468, 1256), (10086, 1258), (10190, 1260), (10116, 1260), (10170, 1261), (10137, 1263), (123484, 1263), (10129, 1264), (10022, 1265), (10168, 1267), (10140, 1268), (10076, 1268), (10158, 1268), (10189, 1269), (123496, 1270), (10179, 1275), (10147, 1276), (10138, 1278), (10091, 1281), (123474, 1281), (10060, 1283), (10105, 1284), (10124, 1285), (10090, 1285), (10078, 1285), (10119, 1285), (10063, 1289), (10108, 1291), (10125, 1293), (123506, 1294), (10067, 1294), (10048, 1296), (10175, 1298), (123536, 1300), (10148, 1301), (10059, 1303), (123464, 1304), (10194, 1305), (10064, 1305), (10085, 1305), (123466, 1307), (123517, 1307), (10041, 1308), (123529, 1311), (10133, 1312), (10080, 1317), (10205, 1317), (10012, 1320), (10053, 1322), (10054, 1323), (10007, 1323), (123549, 1324), (123511, 1324), (10002, 1325), (10056, 1327), (10069, 1327), (10047, 1328), (10164, 1328), (10220, 1330), (10084, 1331), (123530, 1331), (10087, 1332), (10198, 1332), (10120, 1332), (123535, 1332), (10077, 1334), (10057, 1334), (10160, 1335), (123547, 1336), (10145, 1337), (123523, 1338), (10213, 1339), (123462, 1342), (123520, 1343), (10055, 1344), (10075, 1346), (10011, 1347), (10097, 1350), (10204, 1351), (123470, 1352), (10191, 1353), (10073, 1353), (10184, 1355), (10020, 1355), (10042, 1355), (10065, 1356), (10052, 1356), (123493, 1356), (10083, 1358), (10130, 1359), (123458, 1359), (10215, 1360), (10050, 1361), (10157, 1362), (10072, 1362), (10136, 1364), (10155, 1366), (10199, 1367), (10068, 1367), (10208, 1373), (10101, 1374), (123514, 1374), (123525, 1374), (10144, 1378), (123542, 1379), (10109, 1380), (10117, 1382), (123477, 1383), (10149, 1383), (10202, 1383), (123548, 1387), (10046, 1393), (123491, 1395), (123537, 1397), (10051, 1401), (123480, 1402), (123472, 1404), (10186, 1409), (10132, 1410), (10079, 1413), (10081, 1415), (123492, 1416), (10114, 1418), (123507, 1422), (10043, 1423), (10200, 1425), (10089, 1427), (123473, 1428), (10166, 1428), (10122, 1430), (123538, 1431), (123497, 1434), (10010, 1435), (123486, 1438), (10211, 1439), (10212, 1442), (10135, 1443), (10151, 1443), (123526, 1446), (10044, 1451), (10008, 1467), (10017, 1477), (10004, 1478), (10182, 1478), (10014, 1483), (10103, 1489), (10146, 1495), (10021, 1498), (10019, 1514), (10005, 1539), (123541, 1564), (10015, 1576), (10142, 1589), (123505, 1594), (10018, 1600), (10106, 1626), (10143, 1654)]\n"
          ],
          "name": "stdout"
        }
      ]
    },
    {
      "metadata": {
        "id": "BxRIgQYufJI5",
        "colab_type": "code",
        "outputId": "e8a3bad1-4223-4350-eccb-7d384e1a1baf",
        "colab": {
          "base_uri": "https://localhost:8080/",
          "height": 34
        }
      },
      "cell_type": "code",
      "source": [
        "N = sum([writer[1] for writer in writers])  # No of images\n",
        "N"
      ],
      "execution_count": 0,
      "outputs": [
        {
          "output_type": "execute_result",
          "data": {
            "text/plain": [
              "369455"
            ]
          },
          "metadata": {
            "tags": []
          },
          "execution_count": 12
        }
      ]
    },
    {
      "metadata": {
        "id": "qzRnHhLxfMqj",
        "colab_type": "code",
        "outputId": "3a3322b2-d10a-44c1-fae6-a25d35e76d51",
        "colab": {
          "base_uri": "https://localhost:8080/",
          "height": 71
        }
      },
      "cell_type": "code",
      "source": [
        "testW = []\n",
        "countImgs = 0\n",
        "while countImgs<N*0.1:\n",
        "  testW.append(writers[-1])\n",
        "  countImgs += writers[-1][1]\n",
        "  writers = writers[:-1]\n",
        "  \n",
        "print(testW) \n",
        "print(len(testW))"
      ],
      "execution_count": 0,
      "outputs": [
        {
          "output_type": "stream",
          "text": [
            "[(10143, 1654), (10106, 1626), (10018, 1600), (123505, 1594), (10142, 1589), (10015, 1576), (123541, 1564), (10005, 1539), (10019, 1514), (10021, 1498), (10146, 1495), (10103, 1489), (10014, 1483), (10182, 1478), (10004, 1478), (10017, 1477), (10008, 1467), (10044, 1451), (123526, 1446), (10151, 1443), (10135, 1443), (10212, 1442), (10211, 1439), (123486, 1438), (10010, 1435)]\n",
            "25\n"
          ],
          "name": "stdout"
        }
      ]
    },
    {
      "metadata": {
        "id": "BWANvDVpfOtN",
        "colab_type": "code",
        "colab": {}
      },
      "cell_type": "code",
      "source": [
        "# Split and stratify\n",
        "# 80% : 10% : 10%\n",
        "# shuffle(writers)\n",
        "trainW = []\n",
        "validationW = []\n",
        "\n",
        "for i in range(0, len(writers)):\n",
        "  if i%10==5:\n",
        "    validationW.append(writers[i])\n",
        "  else:\n",
        "    trainW.append(writers[i])\n",
        "\n",
        "trainW = set(trainW)\n",
        "validationW = set(validationW)\n",
        "testW = set(testW)"
      ],
      "execution_count": 0,
      "outputs": []
    },
    {
      "metadata": {
        "id": "A-kT0B2hfRLG",
        "colab_type": "code",
        "colab": {}
      },
      "cell_type": "code",
      "source": [
        "testW = [x[0] for x in testW]\n",
        "validationW = [x[0] for x in validationW]\n",
        "trainW = [x[0] for x in trainW]"
      ],
      "execution_count": 0,
      "outputs": []
    },
    {
      "metadata": {
        "id": "VlZcNMuifTEJ",
        "colab_type": "code",
        "outputId": "ffe49b0f-c3cb-41b9-91d0-9d0597ebc520",
        "colab": {
          "base_uri": "https://localhost:8080/",
          "height": 68
        }
      },
      "cell_type": "code",
      "source": [
        "print(len(trainW))\n",
        "print(len(validationW))\n",
        "print(len(testW))"
      ],
      "execution_count": 0,
      "outputs": [
        {
          "output_type": "stream",
          "text": [
            "242\n",
            "27\n",
            "25\n"
          ],
          "name": "stdout"
        }
      ]
    },
    {
      "metadata": {
        "id": "bG8Q8I7jfVHZ",
        "colab_type": "code",
        "outputId": "8708d1e9-a182-4887-cf71-0a5ddbfaa897",
        "colab": {
          "base_uri": "https://localhost:8080/",
          "height": 51
        }
      },
      "cell_type": "code",
      "source": [
        "%%time\n",
        "train_Images = []\n",
        "train_Labels = []\n",
        "train_Writers = []\n",
        "\n",
        "validation_Images = []\n",
        "validation_Labels = []\n",
        "validation_Writers = []\n",
        "\n",
        "test_Images = []\n",
        "test_Labels = []\n",
        "test_Writers = []\n",
        "\n",
        "images = os.listdir('./ImageDisk/')\n",
        "shuffle(images)\n",
        "for image in images:\n",
        "  imageparsed = image.split('_')  # ['trainimage', 'i28871', 'w10174', 'lo', '261-274.png']\n",
        "  writer = int(imageparsed[2][1:])\n",
        "  label = imageparsed[3][1:]\n",
        "  if label=='slash':\n",
        "    label = '/'\n",
        "  img = mpimg.imread(os.path.join('./ImageDisk', image))\n",
        "  if writer in testW:\n",
        "    test_Images.append(img.reshape(28, 28, 1)/255.0)\n",
        "    test_Labels.append(OH_L.encode(label))\n",
        "    test_Writers.append(writer)\n",
        "  elif writer in validationW:\n",
        "    validation_Images.append(img.reshape(28, 28, 1)/255.0)\n",
        "    validation_Labels.append(OH_L.encode(label))\n",
        "    validation_Writers.append(writer)\n",
        "  elif writer in trainW:\n",
        "    train_Images.append(img.reshape(28, 28, 1)/255.0)\n",
        "    train_Labels.append(OH_L.encode(label))\n",
        "    train_Writers.append(writer)\n",
        "  else:\n",
        "    print('Unrecognized writer, ', writer)  # Throw exception"
      ],
      "execution_count": 0,
      "outputs": [
        {
          "output_type": "stream",
          "text": [
            "CPU times: user 27.4 s, sys: 5.12 s, total: 32.5 s\n",
            "Wall time: 33.1 s\n"
          ],
          "name": "stdout"
        }
      ]
    },
    {
      "metadata": {
        "id": "kjhZRiYGfY_M",
        "colab_type": "code",
        "outputId": "86555428-f9c4-4fb9-ca15-5b0ba88a4efd",
        "colab": {
          "base_uri": "https://localhost:8080/",
          "height": 204
        }
      },
      "cell_type": "code",
      "source": [
        "print(len(train_Writers))\n",
        "print(len(validation_Writers))\n",
        "print(len(test_Writers))\n",
        "print()\n",
        "print(len(train_Labels))\n",
        "print(len(validation_Labels))\n",
        "print(len(test_Labels))\n",
        "print()\n",
        "print(len(train_Images))\n",
        "print(len(validation_Images))\n",
        "print(len(test_Images))"
      ],
      "execution_count": 0,
      "outputs": [
        {
          "output_type": "stream",
          "text": [
            "298313\n",
            "33484\n",
            "37658\n",
            "\n",
            "298313\n",
            "33484\n",
            "37658\n",
            "\n",
            "298313\n",
            "33484\n",
            "37658\n"
          ],
          "name": "stdout"
        }
      ]
    },
    {
      "metadata": {
        "id": "amOiFSRY6_3f",
        "colab_type": "text"
      },
      "cell_type": "markdown",
      "source": [
        "## Visualise Data"
      ]
    },
    {
      "metadata": {
        "id": "cEDPEMhY6-oK",
        "colab_type": "code",
        "colab": {}
      },
      "cell_type": "code",
      "source": [
        "_writers = {}\n",
        "_labels = {}\n",
        "\n",
        "for image in os.listdir('./ImageDisk/'):\n",
        "  path = image.split('_')  # ['trainimage', 'i23653', 'w10087', 'li', '110-120.png']\n",
        "  writer = int(path[2][1:])\n",
        "  label = path[3][1:]\n",
        "  \n",
        "  if writer not in _writers:\n",
        "    _writers[writer] = 1\n",
        "  else:\n",
        "    _writers[writer] += 1\n",
        "  if label == 'slash':\n",
        "    label = '/'\n",
        "  if label=='':\n",
        "    label = ' '\n",
        "  if label not in _labels:\n",
        "    _labels[label] = 1\n",
        "  else:\n",
        "    _labels[label] += 1"
      ],
      "execution_count": 0,
      "outputs": []
    },
    {
      "metadata": {
        "id": "tHg6jB9c9Qsy",
        "colab_type": "code",
        "outputId": "46737202-7e76-413c-e569-3f0c23436ea0",
        "colab": {
          "base_uri": "https://localhost:8080/",
          "height": 410
        }
      },
      "cell_type": "code",
      "source": [
        "fig = plt.figure(figsize=(29,6))\n",
        "xs = range(0, len(_writers.keys()))\n",
        "ys = [_writers[writer] for writer in _writers.keys()]\n",
        "plt.bar(xs, ys , width=0.2, color='blue')\n",
        "plt.plot(xs, ys, 'o', color='blue') \n",
        "plt.title('No of images per writer')\n",
        "plt.show()"
      ],
      "execution_count": 0,
      "outputs": [
        {
          "output_type": "display_data",
          "data": {
            "image/png": "[encoded data removed]",
            "text/plain": [
              "<Figure size 2088x432 with 1 Axes>"
            ]
          },
          "metadata": {
            "tags": []
          }
        }
      ]
    },
    {
      "metadata": {
        "id": "COsL-zBKBsc4",
        "colab_type": "code",
        "outputId": "7f2161e5-e23b-4776-8cf7-2d1cfcdb7bbb",
        "colab": {
          "base_uri": "https://localhost:8080/",
          "height": 350
        }
      },
      "cell_type": "code",
      "source": [
        "fig = plt.figure(figsize=(20,5))\n",
        "xs = range(0, len(_labels.keys()))\n",
        "ys = [_labels[label] for label in _labels.keys()]\n",
        "plt.bar(xs, ys, width=0.2, color='red')\n",
        "plt.plot(xs, ys, 'o', color='red') \n",
        "plt.title('No of images per label')\n",
        "plt.xlabel([l for l in _labels.keys()])\n",
        "plt.show()"
      ],
      "execution_count": 0,
      "outputs": [
        {
          "output_type": "display_data",
          "data": {
            "image/png": "[encoded data removed]",
            "text/plain": [
              "<Figure size 1440x360 with 1 Axes>"
            ]
          },
          "metadata": {
            "tags": []
          }
        }
      ]
    },
    {
      "metadata": {
        "id": "HzI0dPVAOYlf",
        "colab_type": "code",
        "colab": {
          "base_uri": "https://localhost:8080/",
          "height": 387
        },
        "outputId": "5f3959e9-38e3-458d-ce64-6e0c67141993"
      },
      "cell_type": "code",
      "source": [
        "# Goodlabels\n",
        "goodlabels = {}\n",
        "for label in OH_L.decode_all(TESTDATA[10017][1]):\n",
        "  if label not in goodlabels:\n",
        "    goodlabels[label] = 1\n",
        "  else:\n",
        "    goodlabels[label] += 1 \n",
        "    \n",
        "fig = plt.figure(figsize=(20,5))\n",
        "xs = range(0, len(goodlabels.keys()))\n",
        "ys = [goodlabels[label] for label in goodlabels.keys()]\n",
        "plt.bar(xs, ys, width=0.2, color='red')\n",
        "plt.plot(xs, ys, 'o', color='red') \n",
        "plt.title('No of images per label')\n",
        "plt.xlabel([l for l in goodlabels.keys()])\n",
        "print(len(goodlabels.keys()))\n",
        "plt.show()    "
      ],
      "execution_count": 199,
      "outputs": [
        {
          "output_type": "stream",
          "text": [
            "50\n"
          ],
          "name": "stdout"
        },
        {
          "output_type": "display_data",
          "data": {
            "image/png": "[encoded data removed]",
            "text/plain": [
              "<Figure size 1440x360 with 1 Axes>"
            ]
          },
          "metadata": {
            "tags": []
          }
        }
      ]
    },
    {
      "metadata": {
        "id": "re8By-dlOJOh",
        "colab_type": "code",
        "colab": {
          "base_uri": "https://localhost:8080/",
          "height": 387
        },
        "outputId": "ed754094-a587-414e-88ca-0d4a43415a3b"
      },
      "cell_type": "code",
      "source": [
        "# Goodlabels\n",
        "goodlabels = {}\n",
        "for label in OH_L.decode_all(TESTDATA[123486][1]):\n",
        "  if label not in goodlabels:\n",
        "    goodlabels[label] = 1\n",
        "  else:\n",
        "    goodlabels[label] += 1 \n",
        "    \n",
        "fig = plt.figure(figsize=(20,5))\n",
        "xs = range(0, len(goodlabels.keys()))\n",
        "ys = [goodlabels[label] for label in goodlabels.keys()]\n",
        "plt.bar(xs, ys, width=0.2, color='red')\n",
        "plt.plot(xs, ys, 'o', color='red') \n",
        "plt.title('No of images per label')\n",
        "plt.xlabel([l for l in goodlabels.keys()])\n",
        "print(len(goodlabels.keys()))\n",
        "plt.show()    "
      ],
      "execution_count": 200,
      "outputs": [
        {
          "output_type": "stream",
          "text": [
            "46\n"
          ],
          "name": "stdout"
        },
        {
          "output_type": "display_data",
          "data": {
            "image/png": "[encoded data removed]",
            "text/plain": [
              "<Figure size 1440x360 with 1 Axes>"
            ]
          },
          "metadata": {
            "tags": []
          }
        }
      ]
    },
    {
      "metadata": {
        "id": "1ltgntTSfsBe",
        "colab_type": "text"
      },
      "cell_type": "markdown",
      "source": [
        "# Load model"
      ]
    },
    {
      "metadata": {
        "id": "WLbgTpipfbR-",
        "colab_type": "code",
        "outputId": "5561f515-cbc2-4ad6-c711-1b264ae4a571",
        "colab": {
          "base_uri": "https://localhost:8080/",
          "height": 190
        }
      },
      "cell_type": "code",
      "source": [
        "from keras.models import Model\n",
        "from keras.models import load_model\n",
        "\n",
        "recognizer = load_model('./drive/My Drive/Eth_Zurich_weights/eth_baseline_model.h5')\n",
        "finder = Model(inputs=recognizer.input, outputs=recognizer.get_layer('next_to_last').output)"
      ],
      "execution_count": 0,
      "outputs": [
        {
          "output_type": "stream",
          "text": [
            "WARNING:tensorflow:From /usr/local/lib/python3.6/dist-packages/tensorflow/python/framework/op_def_library.py:263: colocate_with (from tensorflow.python.framework.ops) is deprecated and will be removed in a future version.\n",
            "Instructions for updating:\n",
            "Colocations handled automatically by placer.\n",
            "WARNING:tensorflow:From /usr/local/lib/python3.6/dist-packages/keras/backend/tensorflow_backend.py:3445: calling dropout (from tensorflow.python.ops.nn_ops) with keep_prob is deprecated and will be removed in a future version.\n",
            "Instructions for updating:\n",
            "Please use `rate` instead of `keep_prob`. Rate should be set to `rate = 1 - keep_prob`.\n",
            "WARNING:tensorflow:From /usr/local/lib/python3.6/dist-packages/tensorflow/python/ops/math_ops.py:3066: to_int32 (from tensorflow.python.ops.math_ops) is deprecated and will be removed in a future version.\n",
            "Instructions for updating:\n",
            "Use tf.cast instead.\n"
          ],
          "name": "stdout"
        }
      ]
    },
    {
      "metadata": {
        "id": "PybIgZGDf1cz",
        "colab_type": "code",
        "outputId": "ad9db28b-0d2d-482b-ac97-fe47f94da31c",
        "colab": {
          "base_uri": "https://localhost:8080/",
          "height": 51
        }
      },
      "cell_type": "code",
      "source": [
        "recognizer.evaluate(x=np.array(train_Images), y=np.array(train_Labels), batch_size=256, verbose=1)"
      ],
      "execution_count": 0,
      "outputs": [
        {
          "output_type": "stream",
          "text": [
            "298313/298313 [==============================] - 9s 30us/step\n"
          ],
          "name": "stdout"
        },
        {
          "output_type": "execute_result",
          "data": {
            "text/plain": [
              "[0.39942178925746263, 0.8764820842557852]"
            ]
          },
          "metadata": {
            "tags": []
          },
          "execution_count": 20
        }
      ]
    },
    {
      "metadata": {
        "id": "v83Blolcf5F5",
        "colab_type": "code",
        "outputId": "a6ac2479-590c-4450-edc7-7f4acb9c1afe",
        "colab": {
          "base_uri": "https://localhost:8080/",
          "height": 51
        }
      },
      "cell_type": "code",
      "source": [
        "recognizer.evaluate(x=np.array(validation_Images), y=np.array(validation_Labels), batch_size=256, verbose=1)"
      ],
      "execution_count": 0,
      "outputs": [
        {
          "output_type": "stream",
          "text": [
            "33484/33484 [==============================] - 1s 22us/step\n"
          ],
          "name": "stdout"
        },
        {
          "output_type": "execute_result",
          "data": {
            "text/plain": [
              "[0.5743015335603308, 0.831202962509322]"
            ]
          },
          "metadata": {
            "tags": []
          },
          "execution_count": 21
        }
      ]
    },
    {
      "metadata": {
        "id": "DYgCAEf-f7dS",
        "colab_type": "code",
        "outputId": "a8874990-2525-499d-beda-db81b0ac4c7e",
        "colab": {
          "base_uri": "https://localhost:8080/",
          "height": 51
        }
      },
      "cell_type": "code",
      "source": [
        "recognizer.evaluate(x=np.array(test_Images), y=np.array(test_Labels), batch_size=256, verbose=1)"
      ],
      "execution_count": 0,
      "outputs": [
        {
          "output_type": "stream",
          "text": [
            "37658/37658 [==============================] - 1s 23us/step\n"
          ],
          "name": "stdout"
        },
        {
          "output_type": "execute_result",
          "data": {
            "text/plain": [
              "[0.6479861148339209, 0.8211800945160322]"
            ]
          },
          "metadata": {
            "tags": []
          },
          "execution_count": 22
        }
      ]
    },
    {
      "metadata": {
        "id": "qwGi_olHf_QW",
        "colab_type": "text"
      },
      "cell_type": "markdown",
      "source": [
        "# Clustering by labels + KNN"
      ]
    },
    {
      "metadata": {
        "id": "2ubM8-Y3gHss",
        "colab_type": "text"
      },
      "cell_type": "markdown",
      "source": [
        "## Clustering by instances"
      ]
    },
    {
      "metadata": {
        "id": "5ApnOXwbf-jW",
        "colab_type": "code",
        "outputId": "ed6fc846-8eee-440e-89a0-97fc817d5a77",
        "colab": {
          "base_uri": "https://localhost:8080/",
          "height": 54
        }
      },
      "cell_type": "code",
      "source": [
        "labels = sorted(alphabet)\n",
        "print(labels)"
      ],
      "execution_count": 0,
      "outputs": [
        {
          "output_type": "stream",
          "text": [
            "['', \"'\", '(', ')', ',', '-', '.', '/', '0', '1', '2', '3', '4', '5', '6', '7', '8', '9', 'A', 'B', 'C', 'D', 'E', 'F', 'G', 'H', 'I', 'J', 'K', 'L', 'M', 'N', 'O', 'P', 'Q', 'R', 'S', 'T', 'U', 'V', 'W', 'X', 'Y', 'Z', 'a', 'b', 'c', 'd', 'e', 'f', 'g', 'h', 'i', 'j', 'k', 'l', 'm', 'n', 'o', 'p', 'q', 'r', 's', 't', 'u', 'v', 'w', 'x', 'y', 'z']\n"
          ],
          "name": "stdout"
        }
      ]
    },
    {
      "metadata": {
        "id": "gMQF1ESYgLdj",
        "colab_type": "code",
        "outputId": "9a16ed0d-2b0d-432b-8710-7ebd391b7d53",
        "colab": {
          "base_uri": "https://localhost:8080/",
          "height": 54
        }
      },
      "cell_type": "code",
      "source": [
        "IVectors = {}  # Key is 'a', 'b', ...\n",
        "for l in labels:\n",
        "  IVectors[l] = []\n",
        "print(IVectors)"
      ],
      "execution_count": 0,
      "outputs": [
        {
          "output_type": "stream",
          "text": [
            "{'': [], \"'\": [], '(': [], ')': [], ',': [], '-': [], '.': [], '/': [], '0': [], '1': [], '2': [], '3': [], '4': [], '5': [], '6': [], '7': [], '8': [], '9': [], 'A': [], 'B': [], 'C': [], 'D': [], 'E': [], 'F': [], 'G': [], 'H': [], 'I': [], 'J': [], 'K': [], 'L': [], 'M': [], 'N': [], 'O': [], 'P': [], 'Q': [], 'R': [], 'S': [], 'T': [], 'U': [], 'V': [], 'W': [], 'X': [], 'Y': [], 'Z': [], 'a': [], 'b': [], 'c': [], 'd': [], 'e': [], 'f': [], 'g': [], 'h': [], 'i': [], 'j': [], 'k': [], 'l': [], 'm': [], 'n': [], 'o': [], 'p': [], 'q': [], 'r': [], 's': [], 't': [], 'u': [], 'v': [], 'w': [], 'x': [], 'y': [], 'z': []}\n"
          ],
          "name": "stdout"
        }
      ]
    },
    {
      "metadata": {
        "id": "E7e56Fn-gk-i",
        "colab_type": "code",
        "outputId": "4a531080-a9b7-485d-f625-af4a4c7bc158",
        "colab": {
          "base_uri": "https://localhost:8080/",
          "height": 51
        }
      },
      "cell_type": "code",
      "source": [
        "%%time\n",
        "\n",
        "for k in range(0, len(validation_Images)):\n",
        "  l = OH_L.decode(validation_Labels[k])\n",
        "  next_to_last = finder.predict(np.array([validation_Images[k]]))[0]\n",
        "  IVectors[l].append(next_to_last)"
      ],
      "execution_count": 0,
      "outputs": [
        {
          "output_type": "stream",
          "text": [
            "CPU times: user 1min 2s, sys: 4.37 s, total: 1min 7s\n",
            "Wall time: 45.9 s\n"
          ],
          "name": "stdout"
        }
      ]
    },
    {
      "metadata": {
        "id": "yZ63B9uMgeYK",
        "colab_type": "code",
        "outputId": "9b24d3bc-74a5-482c-9c1f-a21206df3f82",
        "colab": {
          "base_uri": "https://localhost:8080/",
          "height": 51
        }
      },
      "cell_type": "code",
      "source": [
        "%%time\n",
        "\n",
        "for k in range(0, len(train_Images)):\n",
        "  l = OH_L.decode(train_Labels[k])\n",
        "  next_to_last = finder.predict(np.array([train_Images[k]]))[0]\n",
        "  IVectors[l].append(next_to_last)"
      ],
      "execution_count": 0,
      "outputs": [
        {
          "output_type": "stream",
          "text": [
            "CPU times: user 9min 18s, sys: 36.7 s, total: 9min 55s\n",
            "Wall time: 6min 45s\n"
          ],
          "name": "stdout"
        }
      ]
    },
    {
      "metadata": {
        "id": "n7Mp43oRgl7J",
        "colab_type": "code",
        "outputId": "a27b79f5-a0aa-4425-89ea-099be50077ec",
        "colab": {
          "base_uri": "https://localhost:8080/",
          "height": 34
        }
      },
      "cell_type": "code",
      "source": [
        "S = 0\n",
        "for l in IVectors.keys():\n",
        "  S += len(IVectors[l])\n",
        "print(S)"
      ],
      "execution_count": 0,
      "outputs": [
        {
          "output_type": "stream",
          "text": [
            "331797\n"
          ],
          "name": "stdout"
        }
      ]
    },
    {
      "metadata": {
        "id": "UngNqs4KhB7f",
        "colab_type": "code",
        "outputId": "c79ff34b-ac29-45cb-ffe6-547b5e091552",
        "colab": {
          "base_uri": "https://localhost:8080/",
          "height": 122
        }
      },
      "cell_type": "code",
      "source": [
        "print(len(validation_Images))\n",
        "print(len(train_Images))\n",
        "print(len(validation_Images)+len(train_Images))\n",
        "\n",
        "print(labels)\n",
        "print(len(labels))"
      ],
      "execution_count": 0,
      "outputs": [
        {
          "output_type": "stream",
          "text": [
            "33484\n",
            "298313\n",
            "331797\n",
            "['', \"'\", '(', ')', ',', '-', '.', '/', '0', '1', '2', '3', '4', '5', '6', '7', '8', '9', 'A', 'B', 'C', 'D', 'E', 'F', 'G', 'H', 'I', 'J', 'K', 'L', 'M', 'N', 'O', 'P', 'Q', 'R', 'S', 'T', 'U', 'V', 'W', 'X', 'Y', 'Z', 'a', 'b', 'c', 'd', 'e', 'f', 'g', 'h', 'i', 'j', 'k', 'l', 'm', 'n', 'o', 'p', 'q', 'r', 's', 't', 'u', 'v', 'w', 'x', 'y', 'z']\n",
            "70\n"
          ],
          "name": "stdout"
        }
      ]
    },
    {
      "metadata": {
        "id": "-kz_wkS1k--A",
        "colab_type": "code",
        "outputId": "48933c49-19cf-4041-d1bc-63fd4a6fb97e",
        "colab": {
          "base_uri": "https://localhost:8080/",
          "height": 54
        }
      },
      "cell_type": "code",
      "source": [
        "print([len(IVectors[l]) for l in labels])  # broj slika po svakoj labeli"
      ],
      "execution_count": 0,
      "outputs": [
        {
          "output_type": "stream",
          "text": [
            "[471, 443, 1, 19, 20, 32, 240, 2, 154, 350, 151, 89, 78, 118, 89, 72, 41, 146, 888, 672, 567, 347, 262, 329, 301, 851, 1240, 191, 86, 312, 706, 359, 357, 352, 34, 276, 882, 1469, 95, 94, 625, 5, 215, 21, 25531, 4636, 8506, 13395, 41317, 7145, 6482, 18761, 21925, 282, 2592, 13053, 7639, 21874, 24547, 5977, 361, 19413, 20109, 28678, 9322, 3052, 6451, 571, 5941, 185]\n"
          ],
          "name": "stdout"
        }
      ]
    },
    {
      "metadata": {
        "id": "GUgxIk-AlFQt",
        "colab_type": "code",
        "outputId": "0fb4db99-6a21-4720-9a52-a6263d99506e",
        "colab": {
          "base_uri": "https://localhost:8080/",
          "height": 71
        }
      },
      "cell_type": "code",
      "source": [
        "N_clusters = [int(min(len(IVectors[l]), 30, 1+max(len(IVectors[l])/1000, 4))) for i, l in enumerate(labels)]  # CHANGE THIS!\n",
        "print(N_clusters)\n",
        "print(sum(N_clusters))"
      ],
      "execution_count": 0,
      "outputs": [
        {
          "output_type": "stream",
          "text": [
            "[5, 5, 5, 5, 5, 5, 5, 5, 5, 5, 5, 26, 5, 9, 14, 30, 8, 7, 19, 22, 5, 5, 14, 8, 22, 25, 6, 5, 20, 21, 29, 10, 5, 7, 5, 6, 5, 5, 5, 5, 5, 5, 5, 5, 5, 5, 5, 5, 5, 5, 5, 5, 5, 5, 5, 5, 5, 5, 5, 5, 5, 5, 5, 5, 5, 5, 5, 1, 5, 2]\n",
            "551\n"
          ],
          "name": "stdout"
        }
      ]
    },
    {
      "metadata": {
        "id": "FUAXxmZOlMPy",
        "colab_type": "code",
        "colab": {}
      },
      "cell_type": "code",
      "source": [
        "from sklearn.cluster import KMeans\n",
        "ICentroids = {}  # dictionary with centroids for each label\n",
        "kmeans = None"
      ],
      "execution_count": 0,
      "outputs": []
    },
    {
      "metadata": {
        "id": "ag1pBJjWlTYp",
        "colab_type": "code",
        "outputId": "5bb4c310-c316-4374-b806-f2da1afc8fb8",
        "colab": {
          "base_uri": "https://localhost:8080/",
          "height": 51
        }
      },
      "cell_type": "code",
      "source": [
        "%%time\n",
        "\n",
        "for i, l in enumerate(labels):\n",
        "  if kmeans!=None:\n",
        "    del kmeans\n",
        "  kmeans = KMeans(n_clusters=N_clusters[i], n_init=10, max_iter=300, tol=1e-4, precompute_distances=False, verbose=0)  # 15, 250/10, 300\n",
        "  \n",
        "  kmeans.fit(IVectors[l])\n",
        "  ICentroids[l] = kmeans.cluster_centers_"
      ],
      "execution_count": 0,
      "outputs": [
        {
          "output_type": "stream",
          "text": [
            "CPU times: user 7min 33s, sys: 49.1 s, total: 8min 23s\n",
            "Wall time: 6min 59s\n"
          ],
          "name": "stdout"
        }
      ]
    },
    {
      "metadata": {
        "id": "46SEk2QdlYCz",
        "colab_type": "code",
        "outputId": "54d9e66c-b1ea-48f1-c0c7-1d8fa57bc57b",
        "colab": {
          "base_uri": "https://localhost:8080/",
          "height": 34
        }
      },
      "cell_type": "code",
      "source": [
        "ICentroids['A'].shape  # Clusters for 'A'; small check"
      ],
      "execution_count": 0,
      "outputs": [
        {
          "output_type": "execute_result",
          "data": {
            "text/plain": [
              "(5, 256)"
            ]
          },
          "metadata": {
            "tags": []
          },
          "execution_count": 82
        }
      ]
    },
    {
      "metadata": {
        "id": "5aWBul34lp_j",
        "colab_type": "code",
        "colab": {}
      },
      "cell_type": "code",
      "source": [
        "# Normalize clusters; Newly added; Quick fix, small improvements; Normalize together ???\n",
        "for k in ICentroids.keys(): \n",
        "  for j in range(0, ICentroids[k].shape[0]):\n",
        "    ICentroids[k][j] = (ICentroids[k][j] - ICentroids[k][j].mean())/(ICentroids[k][j].std())"
      ],
      "execution_count": 0,
      "outputs": []
    },
    {
      "metadata": {
        "id": "blWR2twbmFI-",
        "colab_type": "code",
        "outputId": "578430da-38b5-4f16-b142-f69531bf17da",
        "colab": {
          "base_uri": "https://localhost:8080/",
          "height": 187
        }
      },
      "cell_type": "code",
      "source": [
        "from sklearn.neighbors import KNeighborsClassifier  # Estimate the quality of custers\n",
        "from sklearn.metrics import accuracy_score\n",
        "\n",
        "Ns = [1,2,3,4,5,7,8,9,10,15]\n",
        "\n",
        "X_train = []\n",
        "y_train = []\n",
        "\n",
        "for l in labels:\n",
        "  for j in range(0, ICentroids[l].shape[0]):\n",
        "    X_train.append(ICentroids[l][j])\n",
        "    y_train.append(l)\n",
        "\n",
        "for n in Ns:\n",
        "  knn = KNeighborsClassifier(n_neighbors=n, metric='l2')\n",
        "  knn.fit(X_train, y_train)\n",
        "  \n",
        "  score = accuracy_score(knn.predict(finder.predict(np.array(test_Images))), [x for x in OH_L.decode_all(test_Labels)])\n",
        "  print('KNN', n, ': ', score)\n",
        "  del knn"
      ],
      "execution_count": 0,
      "outputs": [
        {
          "output_type": "stream",
          "text": [
            "KNN 1 :  0.7742577938286686\n",
            "KNN 2 :  0.6954166445376813\n",
            "KNN 3 :  0.7611131764830846\n",
            "KNN 4 :  0.764751181687822\n",
            "KNN 5 :  0.7759838546922301\n",
            "KNN 7 :  0.7798608529396144\n",
            "KNN 8 :  0.7743905677412501\n",
            "KNN 9 :  0.7820648998884699\n",
            "KNN 10 :  0.7804185033724573\n",
            "KNN 15 :  0.776222847734877\n"
          ],
          "name": "stdout"
        }
      ]
    },
    {
      "metadata": {
        "id": "OZLVoyFOmJc2",
        "colab_type": "text"
      },
      "cell_type": "markdown",
      "source": [
        "# Density class"
      ]
    },
    {
      "metadata": {
        "id": "F2nQGwKKmHv_",
        "colab_type": "code",
        "colab": {}
      },
      "cell_type": "code",
      "source": [
        "import numpy as np\n",
        "from  scipy import stats\n",
        "from matplotlib import pyplot as plt"
      ],
      "execution_count": 0,
      "outputs": []
    },
    {
      "metadata": {
        "id": "LFEFOlPsn9Vm",
        "colab_type": "code",
        "colab": {}
      },
      "cell_type": "code",
      "source": [
        "# approximating theta parametar - how much I believe in network/knn (initially 0.5)\n",
        "\n",
        "class CharStatistic():\n",
        "  # label\n",
        "  # alpha = 1 (initial)\n",
        "  # beta = 1 (initial)\n",
        "  \n",
        "  def __init__(self, label, alpha=None, beta=None):\n",
        "    self.label = label\n",
        "    \n",
        "    if alpha is not None:\n",
        "      self.alpha = alpha\n",
        "    else:\n",
        "      self.alpha = 1\n",
        "    if beta is not None:\n",
        "      self.beta = beta\n",
        "    else:\n",
        "      self.beta = 1 # hardcoded initial; start with uniform distribution U[0, 1]\n",
        "   \n",
        "  def get_alpha(self):  # getters\n",
        "    return self.alpha\n",
        "  \n",
        "  def get_beta(self):\n",
        "    return self.beta\n",
        "  \n",
        "  def set_alpha(self, alpha):\n",
        "    self.alpha = alpha\n",
        "    \n",
        "  def set_beta(self, beta):\n",
        "    self.beta = beta\n",
        "  \n",
        "  def get_mean(self):\n",
        "    return self.alpha/(self.alpha+self.beta)  # initaially 0.5\n",
        "    # return stats.beta.mean(self.alpha, self.beta)\n",
        "  \n",
        "  def get_standard_deviation(self):\n",
        "    return np.sqrt(self.alpha*self.beta/((self.alpha+self.beta)**2*(self.alpha+self.beta+1)))  # initially 0.1\n",
        "    # return stats.beta.std(self.alpha, self.beta)\n",
        "  \n",
        "  def update_one(self, winnew):  # winnew==1 if knn wins, else its 0\n",
        "    self.alpha += winnew\n",
        "    self.beta += 1 - winnew\n",
        "    \n",
        "  def update_all(self, winnews):  # winnews = [1, 0, 1, ..] 1 if knn wins else 0\n",
        "    N = len(winnews)\n",
        "    z = sum(winnews)\n",
        "    self.alpha += z\n",
        "    self.beta += N - z\n",
        "    \n",
        "  def print_current_density_function(self):  # print current approximation of beta distribution\n",
        "    x = np.linspace(0, 1, 100)\n",
        "    y = stats.beta.pdf(x, self.alpha, self.beta)\n",
        "    plt.xlabel(\"Density approximation for LABEL: \"+self.label)\n",
        "    plt.ylabel(\"Density\")\n",
        "    plt.plot(x, y)\n",
        "    plt.fill_between(x, 0, y, color=\"#aaaadd\", alpha=0.5)\n",
        "    plt.tight_layout()\n",
        "    plt.show()\n",
        "  \n",
        "  # FUNCTIONS FOR DECISION MAKING, WHOM TO TRUST:\n",
        "    \n",
        "  def __gt__(self, otherCharStatistic):  # Override operator > on density approximation\n",
        "    if not isinstance(otherCharStatistic, CharStatistic):\n",
        "      raise ValueError(\"Error. Operator overloaded for CharStatistic class\")\n",
        "    if self.get_mean()>otherCharStatistic.get_mean(): # TODO: USE .get_standard_deviation()\n",
        "      return True\n",
        "    else:\n",
        "      return False"
      ],
      "execution_count": 0,
      "outputs": []
    },
    {
      "metadata": {
        "id": "YTARnhV9oNBC",
        "colab_type": "code",
        "outputId": "37030491-77cd-44a9-a482-ef56cc70f760",
        "colab": {
          "base_uri": "https://localhost:8080/",
          "height": 34
        }
      },
      "cell_type": "code",
      "source": [
        "S = CharStatistic('A')\n",
        "S1 = CharStatistic('B')\n",
        "S.get_standard_deviation()"
      ],
      "execution_count": 0,
      "outputs": [
        {
          "output_type": "execute_result",
          "data": {
            "text/plain": [
              "0.28867513459481287"
            ]
          },
          "metadata": {
            "tags": []
          },
          "execution_count": 87
        }
      ]
    },
    {
      "metadata": {
        "id": "47QuTuXkoP8k",
        "colab_type": "code",
        "outputId": "804b67de-d484-4ffa-ab4c-35464aa52c66",
        "colab": {
          "base_uri": "https://localhost:8080/",
          "height": 297
        }
      },
      "cell_type": "code",
      "source": [
        "S.print_current_density_function()"
      ],
      "execution_count": 0,
      "outputs": [
        {
          "output_type": "display_data",
          "data": {
            "image/png": "[encoded data removed]",
            "text/plain": [
              "<Figure size 432x288 with 1 Axes>"
            ]
          },
          "metadata": {
            "tags": []
          }
        }
      ]
    },
    {
      "metadata": {
        "id": "ULyM2A9MoUeB",
        "colab_type": "text"
      },
      "cell_type": "markdown",
      "source": [
        "# With Stratify, Multiple k idea"
      ]
    },
    {
      "metadata": {
        "id": "wSWdsVPSoRyf",
        "colab_type": "code",
        "outputId": "f6342052-55bb-47a1-d749-346cc775f7ab",
        "colab": {
          "base_uri": "https://localhost:8080/",
          "height": 88
        }
      },
      "cell_type": "code",
      "source": [
        "labels = alphabet\n",
        "print(labels)  \n",
        "print(len(labels))\n",
        "\n",
        "testset = set(test_Writers)\n",
        "print(len(testset))  # No of different writers\n",
        "\n",
        "# TESTDATA[Writer] = [testImagesOfWriter, testLabelsOfWriter]; example: TESTDATA[9] = [testImages9, testLabels9]\n",
        "TESTDATA = {} \n",
        "for writer in testset:\n",
        "  TESTDATA[writer] = [[], []]\n",
        "for i in range(0, len(test_Writers)):\n",
        "    TESTDATA[test_Writers[i]][0].append(test_Images[i])\n",
        "    TESTDATA[test_Writers[i]][1].append(test_Labels[i])\n",
        "\n",
        "def find_minimal(i, vector):  # i is the ascii code: 48.49,...,65,66,...,97,...\n",
        "  # Implicit use of dictionary ICentroids[ASCII]\n",
        "  minindex = 0\n",
        "  mineps = np.linalg.norm(vector-ICentroids[i][0])\n",
        "  for j in range(1, ICentroids[i].shape[0]):  \n",
        "    _mineps = np.linalg.norm(vector-ICentroids[i][j])\n",
        "    if _mineps < mineps:\n",
        "      mineps = _mineps\n",
        "      minindex = j\n",
        "      \n",
        "  return ICentroids[i][minindex].copy()"
      ],
      "execution_count": 0,
      "outputs": [
        {
          "output_type": "stream",
          "text": [
            "['', '0', '1', '2', '3', '4', '5', '6', '7', '8', '9', 'a', 'b', 'c', 'd', 'e', 'f', 'g', 'h', 'i', 'j', 'k', 'l', 'm', 'n', 'o', 'p', 'q', 'r', 's', 't', 'u', 'v', 'w', 'x', 'y', 'z', 'A', 'B', 'C', 'D', 'E', 'F', 'G', 'H', 'I', 'J', 'K', 'L', 'M', 'N', 'O', 'P', 'Q', 'R', 'S', 'T', 'U', 'V', 'W', 'X', 'Y', 'Z', \"'\", '.', ',', '-', '(', ')', '/']\n",
            "70\n",
            "25\n"
          ],
          "name": "stdout"
        }
      ]
    },
    {
      "metadata": {
        "id": "vvir1MAfoc6I",
        "colab_type": "code",
        "colab": {}
      },
      "cell_type": "code",
      "source": [
        "winold = 0\n",
        "equal = 0\n",
        "winnew = 0\n",
        "sumS = 0\n",
        "sumS1 = 0\n",
        "sumSboth = 0\n",
        "sumN = 0\n",
        "lenBetterOld = 0\n",
        "lenBetterNew = 0"
      ],
      "execution_count": 0,
      "outputs": []
    },
    {
      "metadata": {
        "id": "AIZvqj32om7Q",
        "colab_type": "code",
        "colab": {}
      },
      "cell_type": "code",
      "source": [
        "import math\n",
        "ks = [2, 4, 6, 8, 10]  # outer object for configure get_min_label function and evaluation\n",
        "\n",
        "def get_min_label(history, predicted_vector): # return list of predicted label for k in ks\n",
        "  X_search = []\n",
        "  y_search = []\n",
        "  for (_predicted_label, _original_label) in history.keys():  # Na 90% mreza je rekla _predicted_label a bila je _original_label (imam vector i count)\n",
        "      if _predicted_label == predicted_label:\n",
        "        for _ in range(history[(_predicted_label, _original_label)][1]):\n",
        "          X_search.append(history[(_predicted_label, _original_label)][0])\n",
        "          y_search.append(_original_label)      \n",
        "  \n",
        "  results = {}\n",
        "  for k in ks:\n",
        "    if len(X_search)<k:  # if I cant do knn search with respect to specific k\n",
        "      results[k] = None\n",
        "    else:\n",
        "      knn = KNeighborsClassifier(n_neighbors=k, metric='l2')  # empirically confirm; use heuristic instead of min\n",
        "      knn.fit(X_search, y_search)\n",
        "      results[k] = knn.predict(np.array([predicted_vector]))[0]\n",
        "      \n",
        "  return results # return dict of predictions for each k in ks [1, 2, 4, 6, 8]\n",
        "\n",
        "# Who to believe in prediction\n",
        "# input: (baseline prediction, baseline spectar, knns oredictions, knns spectars)\n",
        "def who_to_believe(predicted_label, writer_network_spectar, min_labels, writer_knn_spectars): # Return optimal k or None if baseline is the best\n",
        "  trust = [writer_network_spectar[predicted_label].get_mean()]\n",
        "  for k in ks:\n",
        "    if min_labels[k] is None: # no prediction for that k\n",
        "      trust.append(-1)  # baseline is above 0 in any case\n",
        "    else:\n",
        "      trust.append(writer_knn_spectars[k][min_labels[k]].get_mean())  # mean of density approximation for predicted label for specific k \n",
        "    \n",
        "  maxindex = trust.index(max(trust))\n",
        "  if maxindex is 0:  # baseline is the best\n",
        "    return None\n",
        "  else:              # find proper k (-1 is ok cause of 0 index is for baseline)\n",
        "    return ks[maxindex-1]"
      ],
      "execution_count": 0,
      "outputs": []
    },
    {
      "metadata": {
        "id": "sIJSWwRhopNr",
        "colab_type": "code",
        "colab": {}
      },
      "cell_type": "code",
      "source": [
        "import random\n",
        "from itertools import chain\n",
        "from random import shuffle\n",
        "\n",
        "# Helper function; Simulate unfair coin flip\n",
        "def flip_a_unfair_coin(p): # p is for example 3/10 etc.\n",
        "  return random.random()<p\n",
        "\n",
        "# Hardcoded split 90%:10%\n",
        "# Get images and labels of some writer, and create 90%:10% split\n",
        "# return images and labels (same list) and also m (border line: [0, m), [m, n) split)\n",
        "def stratify_me(images, labels):\n",
        "  X_train = []  # train:test = 90%:10% of writer images\n",
        "  X_test = []\n",
        "  y_train = []\n",
        "  y_test = []\n",
        "  \n",
        "  indexlabels = sorted(alphabet) # [48, 49, 50, ..., 65, 66, ..., 97, 98, ...]\n",
        "  freqlabels = [[] for _ in indexlabels]  # 0-9, A-Z, a-z\n",
        "  \n",
        "  n = len(labels)  # size of writer pictures\n",
        "  m = 0            # border for dynamic history ~int(0.9*n)+1\n",
        "  \n",
        "  for i in range(len(labels)):\n",
        "    indx = indexlabels.index(labels[i])  # position in freqlabels with respect to ascii code of label\n",
        "    freqlabels[indx].append(i)                # freqlabels[ascii_code_of_0] contains all indexes for label '0' in writer images\n",
        "    \n",
        "  for freq in freqlabels:\n",
        "    shuffle(freq)\n",
        "    \n",
        "    # first part, enough label\n",
        "    while len(freq)>=10:\n",
        "      _freq = freq[:10]\n",
        "      freq = freq[10:]\n",
        "      \n",
        "                                       # random choose one of ten images for evaluation (I can choose one index, but I want to shuffle also for dynamic history)\n",
        "      X_test.append(images[_freq[0]])  # add one image for evaluation set\n",
        "      y_test.append(labels[_freq[0]])\n",
        "      for f in _freq[1:]:\n",
        "        X_train.append(images[f])  # add nine images to dynamic istory set\n",
        "        y_train.append(labels[f])\n",
        "      m += 9                              # added nine images into dynamic history\n",
        "    \n",
        "    # second part, should I sample from tail (example 3 images instead of 10)\n",
        "    if flip_a_unfair_coin(len(freq)/10)==True:\n",
        "      X_test.append(images[freq[0]])\n",
        "      y_test.append(labels[freq[0]])\n",
        "      freq = freq[1:]\n",
        "      \n",
        "    for f in freq:\n",
        "      X_train.append(images[f])\n",
        "      y_train.append(labels[f])\n",
        "    m += len(freq)  # added rest of the images into dynamic history set\n",
        "    \n",
        "  return X_train+X_test, y_train+y_test, m, n"
      ],
      "execution_count": 0,
      "outputs": []
    },
    {
      "metadata": {
        "id": "qtwjm_h3ovme",
        "colab_type": "code",
        "outputId": "6d6117a7-4bc2-4099-eda3-2d424e8989d0",
        "colab": {
          "base_uri": "https://localhost:8080/",
          "height": 459
        }
      },
      "cell_type": "code",
      "source": [
        "%%time\n",
        "\n",
        "for writer in TESTDATA.keys():   # [2, 665, 1369]: writer - current writer id\n",
        "  #images9 = TESTDATA[writer][0]  # images9 - images of current writer\n",
        "  #labels9 = TESTDATA[writer][1]  # labels9 - labels of current writer\n",
        "  #n = len(images9)               \n",
        "  #m = int(0.90*n)+1                 # 90% for dynaminc history, 10% for evaluation of new model\n",
        "  images9, labels9, m, n = stratify_me(TESTDATA[writer][0], OH_L.decode_all(TESTDATA[writer][1]))\n",
        "  \n",
        "  \n",
        "  #################################################### GET DYNAMIC HISTORY {(predicted_label, original_label):[[vector], count]}\n",
        "  history = {}\n",
        "  for i in range(0, m):\n",
        "    original_label = labels9[i]\n",
        "    predicted_label = OH_L.decode(recognizer.predict(np.array([images9[i]]))[0])\n",
        "    predicted_vector = find_minimal(original_label, finder.predict(np.array([images9[i]]))[0])  \n",
        "    if (predicted_label, original_label) not in history.keys():\n",
        "      history[(predicted_label, original_label)]=[predicted_vector, 1]\n",
        "    else:\n",
        "      history[(predicted_label, original_label)][0] += predicted_vector\n",
        "      history[(predicted_label, original_label)][1] += 1      \n",
        "  for (x,y) in sorted(history.keys()):  # find AVG of predicted clusters; DROP THIS PART IN NEW VERSION; MLADEN IDEA\n",
        "    history[(x,y)][0] /= history[(x,y)][1]  \n",
        "  \n",
        "  #################################################### GET SPECTARS\n",
        "  writer_network_spectar = {}\n",
        "  writer_knn_spectars = {}  # dict of dictionaries\n",
        "  for k in ks:\n",
        "    writer_knn_spectars[k] = {}  # spectars for each k in ks\n",
        "  for l in labels:   # add statistic for character l to all spectars\n",
        "    writer_network_spectar[l] = CharStatistic(l) # [0, 0]\n",
        "    for k in ks:\n",
        "      writer_knn_spectars[k][l] = CharStatistic(l)\n",
        "    \n",
        "  for i in range(0, m):\n",
        "    original_label = labels9[i]\n",
        "    predicted_label = OH_L.decode(recognizer.predict(np.array([images9[i]]))[0])\n",
        "    predicted_vector = finder.predict(np.array([images9[i]]))[0]\n",
        "    \n",
        "    ##### writer_network_spectar\n",
        "    if original_label == predicted_label:\n",
        "      writer_network_spectar[predicted_label].update_one(1) # Network says predicted_label and its correct\n",
        "    else:\n",
        "      writer_network_spectar[predicted_label].update_one(0)  # Network says predicted_label and its wrong\n",
        "         \n",
        "    ##### writer_knn_spectar\n",
        "    min_labels = get_min_label(history, predicted_vector)\n",
        "    for k in ks:  # get min label is configured with respect to ks\n",
        "      min_label = min_labels[k]\n",
        "      if min_label is None:\n",
        "        min_label = predicted_label  # min label je moje predvidjanje \n",
        "      if min_label == original_label:  # min_label je ono sto ja predvidjam na onih 10%; to i evaluiram \n",
        "        writer_knn_spectars[k][min_label].update_one(1)\n",
        "      else:\n",
        "        writer_knn_spectars[k][min_label].update_one(0)\n",
        "  \n",
        "  #################################################### GET S AND S1\n",
        "  S = 0\n",
        "  S1 = 0\n",
        "  Sboth = 0\n",
        "  N = len(labels9[m:n])\n",
        "  for i in range(m, n):  # slow variant\n",
        "    original_label = labels9[i]\n",
        "    predicted_label = OH_L.decode(recognizer.predict(np.array([images9[i]]))[0]) # int(string like '48') -> ascii code\n",
        "    predicted_vector = finder.predict(np.array([images9[i]]))[0]\n",
        "    \n",
        "    ##### S1; old one\n",
        "    #print('NN DEBUG: predicted: ', predicted_label, 'original: ', original_label)\n",
        "    #input()\n",
        "    if predicted_label == original_label:\n",
        "      S1 += 1\n",
        "    predicted_label_bkp = predicted_label\n",
        "    ##### S; new approach\n",
        "    min_labels = get_min_label(history, predicted_vector)  # get list of predictions or each k\n",
        "    k = who_to_believe(predicted_label, writer_network_spectar, min_labels, writer_knn_spectars)  # Choose who have biggest mean of all spectars, use it as a aprediction\n",
        "    if k is not None and min_labels[k] is not None:  # believe to specific knn, which have it own prediction\n",
        "      predicted_label = min_labels[k]  # new approach; change network prediction if knn is sure enough  \n",
        "    if predicted_label == original_label:\n",
        "      S += 1\n",
        "  \n",
        "    ##### Sboth\n",
        "    if predicted_label_bkp == original_label or (k is not None and min_labels[k] is not None and min_labels[k]==original_label):\n",
        "      Sboth+=1 \n",
        "  \n",
        "    ########## UPDATE history AND *spectar ##########\n",
        "    # original_label OK\n",
        "    predicted_label = predicted_label_bkp\n",
        "    # predicted_vector OK \n",
        "    \n",
        "    # history\n",
        "    predicted_vector_bkp = find_minimal(original_label, predicted_vector)\n",
        "    if (predicted_label, original_label) not in history.keys():\n",
        "      history[(predicted_label, original_label)]=[predicted_vector_bkp, 1]\n",
        "    else:\n",
        "      history[(predicted_label, original_label)][0] = (history[(predicted_label, original_label)][0]*history[(predicted_label, original_label)][1]+predicted_vector_bkp)/(history[(predicted_label, original_label)][1]+1)\n",
        "      history[(predicted_label, original_label)][1] += 1\n",
        "    \n",
        "    # writer_network_spectar\n",
        "    if original_label == predicted_label:\n",
        "      writer_network_spectar[predicted_label].update_one(1)  # Network says predicted_label and its correct\n",
        "    else:\n",
        "      writer_network_spectar[predicted_label].update_one(0)  # Network says predicted_label and its wrong\n",
        "  \n",
        "    # writer_knn_spectar\n",
        "    min_labels = get_min_label(history, predicted_vector)  # prvo ga ubacim u istoriju - ali kao proseci itd. a onda kasnije trazim min_label; MOZDA INVERZNO? da ne bih nasao istog\n",
        "    for k in ks:\n",
        "      min_label = min_labels[k]\n",
        "      if min_label is None:\n",
        "        min_label = predicted_label  # min label je moje predvidjanje \n",
        "      if min_label == original_label:  # min_label je ono sto ja predvidjam na onih 10%; to i evaluiram \n",
        "        writer_knn_spectars[k][min_label].update_one(1)\n",
        "      else:\n",
        "        writer_knn_spectars[k][min_label].update_one(0)\n",
        "    ########## END UPDATE ##########\n",
        "    \n",
        "  #################################################### PRINT AND UPDATE GLOBAL VALUES\n",
        "  if S!=S1:  # Print only diff\n",
        "    print(\"Writer {0:4d} == mynew: {1:d} ({2:3.2f}%) == old: {3:d} ({4:3.2f}%) == both: {5:d} ({6:3.2f}%), No. of images {7:d}, len(image9)={8:d}\".format(writer, S, float(100*S)/N, S1, float(100*S1)/N, Sboth, float(100.0*Sboth)/N, N, n))\n",
        "  sumS += S\n",
        "  sumS1 += S1\n",
        "  sumSboth += Sboth\n",
        "  sumN += N   \n",
        "  \n",
        "  if S==S1:\n",
        "    equal += 1\n",
        "  elif S>S1:\n",
        "    winnew += 1\n",
        "    lenBetterNew += n\n",
        "  else:\n",
        "    winold += 1\n",
        "    lenBetterOld += n   \n",
        "    \n",
        "  del history\n",
        "  del writer_network_spectar\n",
        "  del writer_knn_spectars"
      ],
      "execution_count": 0,
      "outputs": [
        {
          "output_type": "stream",
          "text": [
            "Writer 123526 == mynew: 129 (88.97%) == old: 127 (87.59%) == both: 129 (88.97%), No. of images 145, len(image9)=1446\n",
            "Writer 10004 == mynew: 136 (93.15%) == old: 135 (92.47%) == both: 139 (95.21%), No. of images 146, len(image9)=1478\n",
            "Writer 10005 == mynew: 128 (85.33%) == old: 116 (77.33%) == both: 129 (86.00%), No. of images 150, len(image9)=1539\n",
            "Writer 123541 == mynew: 145 (93.55%) == old: 141 (90.97%) == both: 145 (93.55%), No. of images 155, len(image9)=1564\n",
            "Writer 10135 == mynew: 136 (93.15%) == old: 133 (91.10%) == both: 138 (94.52%), No. of images 146, len(image9)=1443\n",
            "Writer 10008 == mynew: 130 (89.04%) == old: 125 (85.62%) == both: 131 (89.73%), No. of images 146, len(image9)=1467\n",
            "Writer 10010 == mynew: 101 (68.71%) == old: 94 (63.95%) == both: 104 (70.75%), No. of images 147, len(image9)=1435\n",
            "Writer 10142 == mynew: 147 (90.74%) == old: 146 (90.12%) == both: 148 (91.36%), No. of images 162, len(image9)=1589\n",
            "Writer 10015 == mynew: 143 (89.94%) == old: 137 (86.16%) == both: 144 (90.57%), No. of images 159, len(image9)=1576\n",
            "Writer 10017 == mynew: 129 (86.00%) == old: 132 (88.00%) == both: 134 (89.33%), No. of images 150, len(image9)=1477\n",
            "Writer 10146 == mynew: 127 (86.39%) == old: 119 (80.95%) == both: 127 (86.39%), No. of images 147, len(image9)=1495\n",
            "Writer 10019 == mynew: 82 (53.95%) == old: 81 (53.29%) == both: 91 (59.87%), No. of images 152, len(image9)=1514\n",
            "Writer 10018 == mynew: 144 (91.72%) == old: 141 (89.81%) == both: 144 (91.72%), No. of images 157, len(image9)=1600\n",
            "Writer 10021 == mynew: 104 (68.87%) == old: 99 (65.56%) == both: 107 (70.86%), No. of images 151, len(image9)=1498\n",
            "Writer 10014 == mynew: 116 (75.32%) == old: 112 (72.73%) == both: 119 (77.27%), No. of images 154, len(image9)=1483\n",
            "Writer 10151 == mynew: 126 (88.73%) == old: 125 (88.03%) == both: 128 (90.14%), No. of images 142, len(image9)=1443\n",
            "Writer 10044 == mynew: 129 (89.58%) == old: 123 (85.42%) == both: 129 (89.58%), No. of images 144, len(image9)=1451\n",
            "Writer 10182 == mynew: 127 (83.55%) == old: 122 (80.26%) == both: 129 (84.87%), No. of images 152, len(image9)=1478\n",
            "Writer 123486 == mynew: 93 (65.96%) == old: 79 (56.03%) == both: 96 (68.09%), No. of images 141, len(image9)=1438\n",
            "Writer 10211 == mynew: 112 (76.71%) == old: 117 (80.14%) == both: 120 (82.19%), No. of images 146, len(image9)=1439\n",
            "Writer 10212 == mynew: 121 (85.21%) == old: 117 (82.39%) == both: 123 (86.62%), No. of images 142, len(image9)=1442\n",
            "Writer 123505 == mynew: 144 (92.31%) == old: 132 (84.62%) == both: 144 (92.31%), No. of images 156, len(image9)=1594\n",
            "Writer 10103 == mynew: 131 (87.92%) == old: 122 (81.88%) == both: 132 (88.59%), No. of images 149, len(image9)=1489\n",
            "Writer 10106 == mynew: 147 (87.50%) == old: 143 (85.12%) == both: 147 (87.50%), No. of images 168, len(image9)=1626\n",
            "CPU times: user 8min 52s, sys: 17.4 s, total: 9min 10s\n",
            "Wall time: 7min 22s\n"
          ],
          "name": "stdout"
        }
      ]
    },
    {
      "metadata": {
        "id": "AziQYSygpNIo",
        "colab_type": "code",
        "outputId": "ebabd812-2eb9-43d7-af92-a2b729f38ea7",
        "colab": {
          "base_uri": "https://localhost:8080/",
          "height": 170
        }
      },
      "cell_type": "code",
      "source": [
        "print('winold: ', winold)\n",
        "print('equal: ', equal)\n",
        "print('winnew: ', winnew)\n",
        "print('S: (new): ', 100.0*sumS/sumN)\n",
        "print('S1: (old): ', 100.0*sumS1/sumN)\n",
        "print('Sboth: (new): ', 100.0*sumSboth/sumN)\n",
        "print('AVG len winold: ', 1.0*lenBetterOld/winold)\n",
        "print('AVG len winnew: ', 1.0*lenBetterNew/winnew)\n",
        "print('No of evaluation images: ', sumN)"
      ],
      "execution_count": 0,
      "outputs": [
        {
          "output_type": "stream",
          "text": [
            "winold:  2\n",
            "equal:  1\n",
            "winnew:  22\n",
            "S: (new):  84.0541257628018\n",
            "S1: (old):  81.16211196603874\n",
            "Sboth: (new):  85.43380206951446\n",
            "AVG len winold:  1458.0\n",
            "AVG len winnew:  1504.0\n",
            "No of evaluation images:  3769\n"
          ],
          "name": "stdout"
        }
      ]
    },
    {
      "metadata": {
        "id": "-TjnXLRRrzYc",
        "colab_type": "text"
      },
      "cell_type": "markdown",
      "source": [
        "# With resampling x5"
      ]
    },
    {
      "metadata": {
        "id": "_XSonFEWrooo",
        "colab_type": "code",
        "outputId": "d9ed0b7b-aa22-4416-8057-6b99da7c10e4",
        "colab": {
          "base_uri": "https://localhost:8080/",
          "height": 88
        }
      },
      "cell_type": "code",
      "source": [
        "labels = alphabet\n",
        "print(labels)  \n",
        "print(len(labels))\n",
        "\n",
        "testset = set(test_Writers)\n",
        "print(len(testset))  # No of different writers\n",
        "\n",
        "# TESTDATA[Writer] = [testImagesOfWriter, testLabelsOfWriter]; example: TESTDATA[9] = [testImages9, testLabels9]\n",
        "TESTDATA = {} \n",
        "for writer in testset:\n",
        "  TESTDATA[writer] = [[], []]\n",
        "for i in range(0, len(test_Writers)):\n",
        "    TESTDATA[test_Writers[i]][0].append(test_Images[i])\n",
        "    TESTDATA[test_Writers[i]][1].append(test_Labels[i])\n",
        "\n",
        "def find_minimal(i, vector):  # i is the ascii code: 48.49,...,65,66,...,97,...\n",
        "  # Implicit use of dictionary ICentroids[ASCII]\n",
        "  minindex = 0\n",
        "  mineps = np.linalg.norm(vector-ICentroids[i][0])\n",
        "  for j in range(1, ICentroids[i].shape[0]):  \n",
        "    _mineps = np.linalg.norm(vector-ICentroids[i][j])\n",
        "    if _mineps < mineps:\n",
        "      mineps = _mineps\n",
        "      minindex = j\n",
        "      \n",
        "  return ICentroids[i][minindex].copy()"
      ],
      "execution_count": 0,
      "outputs": [
        {
          "output_type": "stream",
          "text": [
            "['', '0', '1', '2', '3', '4', '5', '6', '7', '8', '9', 'a', 'b', 'c', 'd', 'e', 'f', 'g', 'h', 'i', 'j', 'k', 'l', 'm', 'n', 'o', 'p', 'q', 'r', 's', 't', 'u', 'v', 'w', 'x', 'y', 'z', 'A', 'B', 'C', 'D', 'E', 'F', 'G', 'H', 'I', 'J', 'K', 'L', 'M', 'N', 'O', 'P', 'Q', 'R', 'S', 'T', 'U', 'V', 'W', 'X', 'Y', 'Z', \"'\", '.', ',', '-', '(', ')', '/']\n",
            "70\n",
            "25\n"
          ],
          "name": "stdout"
        }
      ]
    },
    {
      "metadata": {
        "id": "tGPyAWGir6b6",
        "colab_type": "code",
        "colab": {}
      },
      "cell_type": "code",
      "source": [
        "winold = 0\n",
        "equal = 0\n",
        "winnew = 0\n",
        "sumS = 0\n",
        "sumS1 = 0\n",
        "sumSboth = 0\n",
        "sumN = 0\n",
        "lenBetterOld = 0\n",
        "lenBetterNew = 0"
      ],
      "execution_count": 0,
      "outputs": []
    },
    {
      "metadata": {
        "id": "aVt9Gkazr8xz",
        "colab_type": "code",
        "colab": {}
      },
      "cell_type": "code",
      "source": [
        "import math\n",
        "ks = [2, 4, 6, 8, 10]  # outer object for configure get_min_label function and evaluation\n",
        "\n",
        "def get_min_label(history, predicted_vector): # return list of predicted label for k in ks\n",
        "  X_search = []\n",
        "  y_search = []\n",
        "  for (_predicted_label, _original_label) in history.keys():  # Na 90% mreza je rekla _predicted_label a bila je _original_label (imam vector i count)\n",
        "      if _predicted_label == predicted_label:\n",
        "        for _ in range(history[(_predicted_label, _original_label)][1]):\n",
        "          X_search.append(history[(_predicted_label, _original_label)][0])\n",
        "          y_search.append(_original_label)      \n",
        "  \n",
        "  results = {}\n",
        "  for k in ks:\n",
        "    if len(X_search)<k:  # if I cant do knn search with respect to specific k\n",
        "      results[k] = None\n",
        "    else:\n",
        "      knn = KNeighborsClassifier(n_neighbors=k, metric='l2')  # empirically confirm; use heuristic instead of min\n",
        "      knn.fit(X_search, y_search)\n",
        "      results[k] = knn.predict(np.array([predicted_vector]))[0]\n",
        "      \n",
        "  return results # return dict of predictions for each k in ks [1, 2, 4, 6, 8]\n",
        "\n",
        "# Who to believe in prediction\n",
        "# input: (baseline prediction, baseline spectar, knns oredictions, knns spectars)\n",
        "def who_to_believe(predicted_label, writer_network_spectar, min_labels, writer_knn_spectars): # Return optimal k or None if baseline is the best\n",
        "  trust = [writer_network_spectar[predicted_label].get_mean()]\n",
        "  for k in ks:\n",
        "    if min_labels[k] is None: # no prediction for that k\n",
        "      trust.append(-1)  # baseline is above 0 in any case\n",
        "    else:\n",
        "      trust.append(writer_knn_spectars[k][min_labels[k]].get_mean())  # mean of density approximation for predicted label for specific k \n",
        "    \n",
        "  maxindex = trust.index(max(trust))\n",
        "  if maxindex is 0:  # baseline is the best\n",
        "    return None\n",
        "  else:              # find proper k (-1 is ok cause of 0 index is for baseline)\n",
        "    return ks[maxindex-1]"
      ],
      "execution_count": 0,
      "outputs": []
    },
    {
      "metadata": {
        "id": "JeqmJ2_bsAdp",
        "colab_type": "code",
        "colab": {}
      },
      "cell_type": "code",
      "source": [
        "import random\n",
        "from itertools import chain\n",
        "from random import shuffle\n",
        "\n",
        "# Helper function; Simulate unfair coin flip\n",
        "def flip_a_unfair_coin(p): # p is for example 3/10 etc.\n",
        "  return random.random()<p\n",
        "\n",
        "# Hardcoded split 90%:10%\n",
        "# Get images and labels of some writer, and create 90%:10% split\n",
        "# return images and labels (same list) and also m (border line: [0, m), [m, n) split)\n",
        "def stratify_me(images, labels):\n",
        "  X_train = []  # train:test = 90%:10% of writer images\n",
        "  X_test = []\n",
        "  y_train = []\n",
        "  y_test = []\n",
        "  \n",
        "  indexlabels = sorted(alphabet) # [48, 49, 50, ..., 65, 66, ..., 97, 98, ...]\n",
        "  freqlabels = [[] for _ in indexlabels]  # 0-9, A-Z, a-z\n",
        "  \n",
        "  n = len(labels)  # size of writer pictures\n",
        "  m = 0            # border for dynamic history ~int(0.9*n)+1\n",
        "  \n",
        "  for i in range(len(labels)):\n",
        "    indx = indexlabels.index(labels[i])  # position in freqlabels with respect to ascii code of label\n",
        "    freqlabels[indx].append(i)                # freqlabels[ascii_code_of_0] contains all indexes for label '0' in writer images\n",
        "    \n",
        "  for freq in freqlabels:\n",
        "    shuffle(freq)\n",
        "    \n",
        "    # first part, enough label\n",
        "    while len(freq)>=10:\n",
        "      _freq = freq[:10]\n",
        "      freq = freq[10:]\n",
        "      \n",
        "                                       # random choose one of ten images for evaluation (I can choose one index, but I want to shuffle also for dynamic history)\n",
        "      X_test.append(images[_freq[0]])  # add one image for evaluation set\n",
        "      y_test.append(labels[_freq[0]])\n",
        "      for f in _freq[1:]:\n",
        "        X_train.append(images[f])  # add nine images to dynamic istory set\n",
        "        y_train.append(labels[f])\n",
        "      m += 9                              # added nine images into dynamic history\n",
        "    \n",
        "    # second part, should I sample from tail (example 3 images instead of 10)\n",
        "    if flip_a_unfair_coin(len(freq)/10)==True:\n",
        "      X_test.append(images[freq[0]])\n",
        "      y_test.append(labels[freq[0]])\n",
        "      freq = freq[1:]\n",
        "      \n",
        "    for f in freq:\n",
        "      X_train.append(images[f])\n",
        "      y_train.append(labels[f])\n",
        "    m += len(freq)  # added rest of the images into dynamic history set\n",
        "    \n",
        "  return X_train+X_test, y_train+y_test, m, n"
      ],
      "execution_count": 0,
      "outputs": []
    },
    {
      "metadata": {
        "id": "zHZH1mI_sEQF",
        "colab_type": "code",
        "colab": {}
      },
      "cell_type": "code",
      "source": [
        "NoResample = 5"
      ],
      "execution_count": 0,
      "outputs": []
    },
    {
      "metadata": {
        "id": "rJCiWVfisMyu",
        "colab_type": "code",
        "outputId": "f3187e24-a3ca-454e-e2e7-672a5533d1d1",
        "colab": {
          "base_uri": "https://localhost:8080/",
          "height": 459
        }
      },
      "cell_type": "code",
      "source": [
        "%%time\n",
        "\n",
        "for writer in TESTDATA.keys():   # writer - current writer id\n",
        "  #images9 = TESTDATA[writer][0]  # images9 - images of current writer\n",
        "  #labels9 = TESTDATA[writer][1]  # labels9 - labels of current writer\n",
        "  #n = len(images9)               \n",
        "  #m = int(0.9*n)+1                 # 90% for dynaminc history, 10% for evaluation of new model\n",
        "  \n",
        "  S = 0      # no of images on which new method is correct\n",
        "  S1 = 0     # no of images on which baseline network is correct\n",
        "  Sboth = 0  # no of images on which either baseline or knn is correct\n",
        "  Nall = 0   # no of evaluation images\n",
        "  for _ in range(NoResample):  # Resample\n",
        "    #################################################### STRATIFY AND SHUFFLE INTERNALLY \n",
        "    images9, labels9, m, n = stratify_me(TESTDATA[writer][0], OH_L.decode_all(TESTDATA[writer][1]))\n",
        "    \n",
        "    #################################################### GET DYNAMIC HISTORY {(predicted_label, original_label):[[vector], count]}\n",
        "    history = {}\n",
        "    for i in range(0, m):\n",
        "      original_label = labels9[i]\n",
        "      predicted_label = OH_L.decode(recognizer.predict(np.array([images9[i]]))[0])\n",
        "      predicted_vector = find_minimal(original_label, finder.predict(np.array([images9[i]]))[0])  \n",
        "      if (predicted_label, original_label) not in history.keys():\n",
        "        history[(predicted_label, original_label)]=[predicted_vector, 1]\n",
        "      else:\n",
        "        history[(predicted_label, original_label)][0] += predicted_vector\n",
        "        history[(predicted_label, original_label)][1] += 1      \n",
        "    for (x,y) in sorted(history.keys()):  # find AVG of predicted clusters\n",
        "      history[(x,y)][0] /= history[(x,y)][1]  \n",
        "  \n",
        "    #################################################### GET SPECTARS\n",
        "    writer_network_spectar = {}\n",
        "    writer_knn_spectars = {}  # dict of dictionaries\n",
        "    for k in ks:\n",
        "      writer_knn_spectars[k] = {}  # spectars for each k in ks\n",
        "    for l in labels:   # add statistic for character l to all spectars\n",
        "      writer_network_spectar[l] = CharStatistic(l) # [0, 0]\n",
        "      for k in ks:\n",
        "        writer_knn_spectars[k][l] = CharStatistic(l)\n",
        "    \n",
        "    for i in range(0, m):\n",
        "      original_label = labels9[i]\n",
        "      predicted_label = OH_L.decode(recognizer.predict(np.array([images9[i]]))[0])\n",
        "      predicted_vector = finder.predict(np.array([images9[i]]))[0]\n",
        "    \n",
        "      ##### writer_network_spectar\n",
        "      if original_label == predicted_label:\n",
        "        writer_network_spectar[predicted_label].update_one(1)  # Network says predicted_label and its correct\n",
        "      else:\n",
        "        writer_network_spectar[predicted_label].update_one(0)  # Network says predicted_label and its wrong\n",
        "         \n",
        "      ##### writer_knn_spectar\n",
        "      min_labels = get_min_label(history, predicted_vector)\n",
        "      for k in ks:  # get min label is configured with respect to ks\n",
        "        min_label = min_labels[k]\n",
        "        if min_label is None:\n",
        "          min_label = predicted_label  # min label je moje predvidjanje \n",
        "        if min_label == original_label:  # min_label je ono sto ja predvidjam na onih 10%; to i evaluiram \n",
        "          writer_knn_spectars[k][min_label].update_one(1)\n",
        "        else:\n",
        "          writer_knn_spectars[k][min_label].update_one(0)\n",
        "  \n",
        "    #################################################### GET S AND S1\n",
        "    s = 0                  # tmp no of images on which knn is correct\n",
        "    s1 = 0                 # tmp no of images on which baseline is correct\n",
        "    sboth = 0              # tmp no of images on which either knn or baseline is correct\n",
        "    N = len(labels9[m:n])  # tmp no of evaluation images\n",
        "    for i in range(m, n): \n",
        "      original_label = labels9[i]\n",
        "      predicted_label = OH_L.decode(recognizer.predict(np.array([images9[i]]))[0]) # int(string like '48') -> ascii code 48\n",
        "      predicted_vector = finder.predict(np.array([images9[i]]))[0]\n",
        "    \n",
        "      ##### s1; old one\n",
        "      if predicted_label == original_label:\n",
        "        s1 += 1\n",
        "      predicted_label_bkp = predicted_label\n",
        "      ##### s; new approach\n",
        "      min_labels = get_min_label(history, predicted_vector)  # get list of predictions or each k\n",
        "      k = who_to_believe(predicted_label, writer_network_spectar, min_labels, writer_knn_spectars)  # Choose who have biggest mean of all spectars, use it as a aprediction\n",
        "      if k is not None and min_labels[k] is not None:  # believe to specific knn, which have it own prediction\n",
        "        predicted_label = min_labels[k]  # new approach; change network prediction if knn is sure enough  \n",
        "      if predicted_label == original_label:\n",
        "        s += 1\n",
        "  \n",
        "      ##### sboth\n",
        "      if predicted_label_bkp == original_label or (k is not None and min_labels[k] is not None and min_labels[k]==original_label):\n",
        "        sboth+=1 \n",
        "\n",
        "      ########## UPDATE history AND *spectar ##########\n",
        "      # original_label OK\n",
        "      predicted_label = predicted_label_bkp\n",
        "      # predicted_vector OK \n",
        "    \n",
        "      # history\n",
        "      predicted_vector_bkp = find_minimal(original_label, predicted_vector)  # smal bug; fixed; predicted vector is nearest cluster/avg of clusters not next tot last\n",
        "      if (predicted_label, original_label) not in history.keys():\n",
        "        history[(predicted_label, original_label)]=[predicted_vector_bkp, 1]\n",
        "      else:\n",
        "        history[(predicted_label, original_label)][0] = (history[(predicted_label, original_label)][0]*history[(predicted_label, original_label)][1]+predicted_vector_bkp)/(history[(predicted_label, original_label)][1]+1)\n",
        "        history[(predicted_label, original_label)][1] += 1\n",
        "    \n",
        "      # writer_network_spectar\n",
        "      if original_label == predicted_label:\n",
        "        writer_network_spectar[predicted_label].update_one(1)  # Network says predicted_label and its correct\n",
        "      else:\n",
        "        writer_network_spectar[predicted_label].update_one(0)  # Network says predicted_label and its wrong\n",
        "  \n",
        "      # writer_knn_spectar\n",
        "      min_labels = get_min_label(history, predicted_vector)  # prvo ga ubacim u istoriju - ali kao proseci itd. a onda kasnije trazim min_label; MOZDA INVERZNO? da ne bih nasao istog\n",
        "      for k in ks:\n",
        "        min_label = min_labels[k]\n",
        "        if min_label is None:\n",
        "          min_label = predicted_label  # min label je moje predvidjanje \n",
        "        if min_label == original_label:  # min_label je ono sto ja predvidjam na onih 10%; to i evaluiram \n",
        "          writer_knn_spectars[k][min_label].update_one(1)\n",
        "        else:\n",
        "          writer_knn_spectars[k][min_label].update_one(0)\n",
        "      ########## END UPDATE ##########        \n",
        "        \n",
        "        \n",
        "    S += s\n",
        "    S1 += s1\n",
        "    Sboth += sboth\n",
        "    Nall += N\n",
        "    del history\n",
        "    del writer_network_spectar\n",
        "    del writer_knn_spectars\n",
        "    # images9, labels9 = shuffle_both(images9, labels9)  # shuffle images for resampling; final 10% i use for evaluation, first 90% for dynamic history; DONT USE ANYMORE\n",
        "\n",
        "  #################################################### PRINT AND UPDATE GLOBAL VALUES\n",
        "  if S!=S1:  # Print only diff\n",
        "    print(\"Writer {0:4d} == mynew: {1:d} ({2:3.2f}%) == old: {3:d} ({4:3.2f}%) == both: {5:d} ({6:3.2f}%), No. of images {7:d}, len(image9)={8:d}\".format(writer, S, float(100*S)/Nall, S1, float(100*S1)/Nall, Sboth, float(100.0*Sboth)/Nall, Nall, n))\n",
        "  sumS += S\n",
        "  sumS1 += S1\n",
        "  sumSboth += Sboth\n",
        "  sumN += Nall\n",
        "  \n",
        "  if S==S1:     # Update win counts\n",
        "    equal += 1\n",
        "  elif S>S1:\n",
        "    winnew += 1\n",
        "    lenBetterNew += n\n",
        "  else:\n",
        "    winold += 1\n",
        "    lenBetterOld += n"
      ],
      "execution_count": 0,
      "outputs": [
        {
          "output_type": "stream",
          "text": [
            "Writer 123526 == mynew: 650 (89.53%) == old: 639 (88.02%) == both: 657 (90.50%), No. of images 726, len(image9)=1446\n",
            "Writer 10004 == mynew: 705 (95.53%) == old: 697 (94.44%) == both: 711 (96.34%), No. of images 738, len(image9)=1478\n",
            "Writer 10005 == mynew: 643 (83.72%) == old: 605 (78.78%) == both: 653 (85.03%), No. of images 768, len(image9)=1539\n",
            "Writer 123541 == mynew: 733 (93.38%) == old: 713 (90.83%) == both: 735 (93.63%), No. of images 785, len(image9)=1564\n",
            "Writer 10135 == mynew: 684 (95.13%) == old: 661 (91.93%) == both: 688 (95.69%), No. of images 719, len(image9)=1443\n",
            "Writer 10008 == mynew: 628 (85.44%) == old: 619 (84.22%) == both: 647 (88.03%), No. of images 735, len(image9)=1467\n",
            "Writer 10010 == mynew: 498 (69.17%) == old: 446 (61.94%) == both: 509 (70.69%), No. of images 720, len(image9)=1435\n",
            "Writer 10142 == mynew: 731 (91.49%) == old: 726 (90.86%) == both: 735 (91.99%), No. of images 799, len(image9)=1589\n",
            "Writer 10143 == mynew: 754 (90.52%) == old: 737 (88.48%) == both: 762 (91.48%), No. of images 833, len(image9)=1654\n",
            "Writer 10015 == mynew: 675 (86.98%) == old: 664 (85.57%) == both: 686 (88.40%), No. of images 776, len(image9)=1576\n",
            "Writer 10017 == mynew: 654 (87.90%) == old: 643 (86.42%) == both: 668 (89.78%), No. of images 744, len(image9)=1477\n",
            "Writer 10146 == mynew: 618 (81.96%) == old: 596 (79.05%) == both: 633 (83.95%), No. of images 754, len(image9)=1495\n",
            "Writer 10019 == mynew: 486 (63.53%) == old: 477 (62.35%) == both: 532 (69.54%), No. of images 765, len(image9)=1514\n",
            "Writer 10018 == mynew: 746 (94.31%) == old: 741 (93.68%) == both: 750 (94.82%), No. of images 791, len(image9)=1600\n",
            "Writer 10021 == mynew: 527 (70.74%) == old: 508 (68.19%) == both: 556 (74.63%), No. of images 745, len(image9)=1498\n",
            "Writer 10014 == mynew: 608 (82.27%) == old: 596 (80.65%) == both: 623 (84.30%), No. of images 739, len(image9)=1483\n",
            "Writer 10044 == mynew: 667 (91.00%) == old: 637 (86.90%) == both: 670 (91.41%), No. of images 733, len(image9)=1451\n",
            "Writer 10182 == mynew: 610 (81.55%) == old: 603 (80.61%) == both: 630 (84.22%), No. of images 748, len(image9)=1478\n",
            "Writer 123486 == mynew: 517 (72.31%) == old: 451 (63.08%) == both: 531 (74.27%), No. of images 715, len(image9)=1438\n",
            "Writer 10211 == mynew: 586 (81.84%) == old: 583 (81.42%) == both: 603 (84.22%), No. of images 716, len(image9)=1439\n",
            "Writer 10212 == mynew: 581 (81.60%) == old: 565 (79.35%) == both: 598 (83.99%), No. of images 712, len(image9)=1442\n",
            "Writer 123505 == mynew: 716 (89.28%) == old: 638 (79.55%) == both: 718 (89.53%), No. of images 802, len(image9)=1594\n",
            "Writer 10103 == mynew: 645 (86.69%) == old: 620 (83.33%) == both: 655 (88.04%), No. of images 744, len(image9)=1489\n",
            "Writer 10106 == mynew: 724 (88.29%) == old: 707 (86.22%) == both: 729 (88.90%), No. of images 820, len(image9)=1626\n",
            "CPU times: user 44min 29s, sys: 1min 27s, total: 45min 56s\n",
            "Wall time: 36min 54s\n"
          ],
          "name": "stdout"
        }
      ]
    },
    {
      "metadata": {
        "id": "Gsho1URAsr1O",
        "colab_type": "code",
        "outputId": "84c60802-6023-4d33-de57-35af3b5a14eb",
        "colab": {
          "base_uri": "https://localhost:8080/",
          "height": 153
        }
      },
      "cell_type": "code",
      "source": [
        "print('winold: ', winold)\n",
        "print('equal: ', equal)\n",
        "print('winnew: ', winnew)\n",
        "print('S: (new): ', 100.0*sumS/sumN)\n",
        "print('S1: (old): ', 100.0*sumS1/sumN)\n",
        "print('Sboth: (new): ', 100.0*sumSboth/sumN)\n",
        "if winold!=0:\n",
        "  print('AVG len winold: ', 1.0*lenBetterOld/winold)\n",
        "if winnew!=0:\n",
        "  print('AVG len winnew: ', 1.0*lenBetterNew/winnew)\n",
        "print('No of evaluation images: ', sumN)"
      ],
      "execution_count": 0,
      "outputs": [
        {
          "output_type": "stream",
          "text": [
            "winold:  0\n",
            "equal:  1\n",
            "winnew:  24\n",
            "S: (new):  85.06235075616874\n",
            "S1: (old):  82.33483682674449\n",
            "Sboth: (new):  86.69143008755638\n",
            "AVG len winnew:  1508.9583333333333\n",
            "No of evaluation images:  18845\n"
          ],
          "name": "stdout"
        }
      ]
    },
    {
      "metadata": {
        "id": "2gq5rBW56pYs",
        "colab_type": "code",
        "colab": {}
      },
      "cell_type": "code",
      "source": [
        "# +2.73%/+4.36%"
      ],
      "execution_count": 0,
      "outputs": []
    },
    {
      "metadata": {
        "colab_type": "text",
        "id": "P-tnJM42o8h4"
      },
      "cell_type": "markdown",
      "source": [
        "# With resampling x10"
      ]
    },
    {
      "metadata": {
        "colab_type": "code",
        "outputId": "3b60f3be-d887-4a22-807d-ff598f83624c",
        "id": "hdZxE1-9o8i7",
        "colab": {
          "base_uri": "https://localhost:8080/",
          "height": 88
        }
      },
      "cell_type": "code",
      "source": [
        "labels = alphabet\n",
        "print(labels)  \n",
        "print(len(labels))\n",
        "\n",
        "testset = set(test_Writers)\n",
        "print(len(testset))  # No of different writers\n",
        "\n",
        "# TESTDATA[Writer] = [testImagesOfWriter, testLabelsOfWriter]; example: TESTDATA[9] = [testImages9, testLabels9]\n",
        "TESTDATA = {} \n",
        "for writer in testset:\n",
        "  TESTDATA[writer] = [[], []]\n",
        "for i in range(0, len(test_Writers)):\n",
        "    TESTDATA[test_Writers[i]][0].append(test_Images[i])\n",
        "    TESTDATA[test_Writers[i]][1].append(test_Labels[i])\n",
        "\n",
        "def find_minimal(i, vector):  # i is the ascii code: 48.49,...,65,66,...,97,...\n",
        "  # Implicit use of dictionary ICentroids[ASCII]\n",
        "  minindex = 0\n",
        "  mineps = np.linalg.norm(vector-ICentroids[i][0])\n",
        "  for j in range(1, ICentroids[i].shape[0]):  \n",
        "    _mineps = np.linalg.norm(vector-ICentroids[i][j])\n",
        "    if _mineps < mineps:\n",
        "      mineps = _mineps\n",
        "      minindex = j\n",
        "      \n",
        "  return ICentroids[i][minindex].copy()"
      ],
      "execution_count": 0,
      "outputs": [
        {
          "output_type": "stream",
          "text": [
            "['', '0', '1', '2', '3', '4', '5', '6', '7', '8', '9', 'a', 'b', 'c', 'd', 'e', 'f', 'g', 'h', 'i', 'j', 'k', 'l', 'm', 'n', 'o', 'p', 'q', 'r', 's', 't', 'u', 'v', 'w', 'x', 'y', 'z', 'A', 'B', 'C', 'D', 'E', 'F', 'G', 'H', 'I', 'J', 'K', 'L', 'M', 'N', 'O', 'P', 'Q', 'R', 'S', 'T', 'U', 'V', 'W', 'X', 'Y', 'Z', \"'\", '.', ',', '-', '(', ')', '/']\n",
            "70\n",
            "25\n"
          ],
          "name": "stdout"
        }
      ]
    },
    {
      "metadata": {
        "colab_type": "code",
        "id": "512rSdpeo8jG",
        "colab": {}
      },
      "cell_type": "code",
      "source": [
        "winold = 0\n",
        "equal = 0\n",
        "winnew = 0\n",
        "sumS = 0\n",
        "sumS1 = 0\n",
        "sumSboth = 0\n",
        "sumN = 0\n",
        "lenBetterOld = 0\n",
        "lenBetterNew = 0"
      ],
      "execution_count": 0,
      "outputs": []
    },
    {
      "metadata": {
        "colab_type": "code",
        "id": "vAT5IjuKo8jN",
        "colab": {}
      },
      "cell_type": "code",
      "source": [
        "import math\n",
        "ks = [2, 4, 6, 8, 10]  # outer object for configure get_min_label function and evaluation\n",
        "\n",
        "def get_min_label(history, predicted_vector): # return list of predicted label for k in ks\n",
        "  X_search = []\n",
        "  y_search = []\n",
        "  for (_predicted_label, _original_label) in history.keys():  # Na 90% mreza je rekla _predicted_label a bila je _original_label (imam vector i count)\n",
        "      if _predicted_label == predicted_label:\n",
        "        for _ in range(history[(_predicted_label, _original_label)][1]):\n",
        "          X_search.append(history[(_predicted_label, _original_label)][0])\n",
        "          y_search.append(_original_label)      \n",
        "  \n",
        "  results = {}\n",
        "  for k in ks:\n",
        "    if len(X_search)<k:  # if I cant do knn search with respect to specific k\n",
        "      results[k] = None\n",
        "    else:\n",
        "      knn = KNeighborsClassifier(n_neighbors=k, metric='l2')  # empirically confirm; use heuristic instead of min\n",
        "      knn.fit(X_search, y_search)\n",
        "      results[k] = knn.predict(np.array([predicted_vector]))[0]\n",
        "      \n",
        "  return results # return dict of predictions for each k in ks [1, 2, 4, 6, 8]\n",
        "\n",
        "# Who to believe in prediction\n",
        "# input: (baseline prediction, baseline spectar, knns oredictions, knns spectars)\n",
        "def who_to_believe(predicted_label, writer_network_spectar, min_labels, writer_knn_spectars): # Return optimal k or None if baseline is the best\n",
        "  trust = [writer_network_spectar[predicted_label].get_mean()]\n",
        "  for k in ks:\n",
        "    if min_labels[k] is None: # no prediction for that k\n",
        "      trust.append(-1)  # baseline is above 0 in any case\n",
        "    else:\n",
        "      trust.append(writer_knn_spectars[k][min_labels[k]].get_mean())  # mean of density approximation for predicted label for specific k \n",
        "    \n",
        "  maxindex = trust.index(max(trust))\n",
        "  if maxindex is 0:  # baseline is the best\n",
        "    return None\n",
        "  else:              # find proper k (-1 is ok cause of 0 index is for baseline)\n",
        "    return ks[maxindex-1]"
      ],
      "execution_count": 0,
      "outputs": []
    },
    {
      "metadata": {
        "colab_type": "code",
        "id": "QCkhv0Gdo8jb",
        "colab": {}
      },
      "cell_type": "code",
      "source": [
        "import random\n",
        "from itertools import chain\n",
        "from random import shuffle\n",
        "\n",
        "# Helper function; Simulate unfair coin flip\n",
        "def flip_a_unfair_coin(p): # p is for example 3/10 etc.\n",
        "  return random.random()<p\n",
        "\n",
        "# Hardcoded split 90%:10%\n",
        "# Get images and labels of some writer, and create 90%:10% split\n",
        "# return images and labels (same list) and also m (border line: [0, m), [m, n) split)\n",
        "def stratify_me(images, labels):\n",
        "  X_train = []  # train:test = 90%:10% of writer images\n",
        "  X_test = []\n",
        "  y_train = []\n",
        "  y_test = []\n",
        "  \n",
        "  indexlabels = sorted(alphabet) # [48, 49, 50, ..., 65, 66, ..., 97, 98, ...]\n",
        "  freqlabels = [[] for _ in indexlabels]  # 0-9, A-Z, a-z\n",
        "  \n",
        "  n = len(labels)  # size of writer pictures\n",
        "  m = 0            # border for dynamic history ~int(0.9*n)+1\n",
        "  \n",
        "  for i in range(len(labels)):\n",
        "    indx = indexlabels.index(labels[i])  # position in freqlabels with respect to ascii code of label\n",
        "    freqlabels[indx].append(i)                # freqlabels[ascii_code_of_0] contains all indexes for label '0' in writer images\n",
        "    \n",
        "  for freq in freqlabels:\n",
        "    shuffle(freq)\n",
        "    \n",
        "    # first part, enough label\n",
        "    while len(freq)>=10:\n",
        "      _freq = freq[:10]\n",
        "      freq = freq[10:]\n",
        "      \n",
        "                                       # random choose one of ten images for evaluation (I can choose one index, but I want to shuffle also for dynamic history)\n",
        "      X_test.append(images[_freq[0]])  # add one image for evaluation set\n",
        "      y_test.append(labels[_freq[0]])\n",
        "      for f in _freq[1:]:\n",
        "        X_train.append(images[f])  # add nine images to dynamic istory set\n",
        "        y_train.append(labels[f])\n",
        "      m += 9                              # added nine images into dynamic history\n",
        "    \n",
        "    # second part, should I sample from tail (example 3 images instead of 10)\n",
        "    if flip_a_unfair_coin(len(freq)/10)==True:\n",
        "      X_test.append(images[freq[0]])\n",
        "      y_test.append(labels[freq[0]])\n",
        "      freq = freq[1:]\n",
        "      \n",
        "    for f in freq:\n",
        "      X_train.append(images[f])\n",
        "      y_train.append(labels[f])\n",
        "    m += len(freq)  # added rest of the images into dynamic history set\n",
        "    \n",
        "  return X_train+X_test, y_train+y_test, m, n"
      ],
      "execution_count": 0,
      "outputs": []
    },
    {
      "metadata": {
        "colab_type": "code",
        "id": "mZAVD4pZo8ji",
        "colab": {}
      },
      "cell_type": "code",
      "source": [
        "NoResample = 10"
      ],
      "execution_count": 0,
      "outputs": []
    },
    {
      "metadata": {
        "colab_type": "code",
        "outputId": "e3d17e7d-2f0d-45e4-86ef-2622baf786fe",
        "id": "CbM4JYv6o8jx",
        "colab": {
          "base_uri": "https://localhost:8080/",
          "height": 476
        }
      },
      "cell_type": "code",
      "source": [
        "%%time\n",
        "\n",
        "for writer in TESTDATA.keys():   # writer - current writer id\n",
        "  #images9 = TESTDATA[writer][0]  # images9 - images of current writer\n",
        "  #labels9 = TESTDATA[writer][1]  # labels9 - labels of current writer\n",
        "  #n = len(images9)               \n",
        "  #m = int(0.9*n)+1                 # 90% for dynaminc history, 10% for evaluation of new model\n",
        "  \n",
        "  S = 0      # no of images on which new method is correct\n",
        "  S1 = 0     # no of images on which baseline network is correct\n",
        "  Sboth = 0  # no of images on which either baseline or knn is correct\n",
        "  Nall = 0   # no of evaluation images\n",
        "  for _ in range(NoResample):  # Resample\n",
        "    #################################################### STRATIFY AND SHUFFLE INTERNALLY \n",
        "    images9, labels9, m, n = stratify_me(TESTDATA[writer][0], OH_L.decode_all(TESTDATA[writer][1]))\n",
        "    \n",
        "    #################################################### GET DYNAMIC HISTORY {(predicted_label, original_label):[[vector], count]}\n",
        "    history = {}\n",
        "    for i in range(0, m):\n",
        "      original_label = labels9[i]\n",
        "      predicted_label = OH_L.decode(recognizer.predict(np.array([images9[i]]))[0])\n",
        "      predicted_vector = find_minimal(original_label, finder.predict(np.array([images9[i]]))[0])  \n",
        "      if (predicted_label, original_label) not in history.keys():\n",
        "        history[(predicted_label, original_label)]=[predicted_vector, 1]\n",
        "      else:\n",
        "        history[(predicted_label, original_label)][0] += predicted_vector\n",
        "        history[(predicted_label, original_label)][1] += 1      \n",
        "    for (x,y) in sorted(history.keys()):  # find AVG of predicted clusters\n",
        "      history[(x,y)][0] /= history[(x,y)][1]  \n",
        "  \n",
        "    #################################################### GET SPECTARS\n",
        "    writer_network_spectar = {}\n",
        "    writer_knn_spectars = {}  # dict of dictionaries\n",
        "    for k in ks:\n",
        "      writer_knn_spectars[k] = {}  # spectars for each k in ks\n",
        "    for l in labels:   # add statistic for character l to all spectars\n",
        "      writer_network_spectar[l] = CharStatistic(l) # [0, 0]\n",
        "      for k in ks:\n",
        "        writer_knn_spectars[k][l] = CharStatistic(l)\n",
        "    \n",
        "    for i in range(0, m):\n",
        "      original_label = labels9[i]\n",
        "      predicted_label = OH_L.decode(recognizer.predict(np.array([images9[i]]))[0])\n",
        "      predicted_vector = finder.predict(np.array([images9[i]]))[0]\n",
        "    \n",
        "      ##### writer_network_spectar\n",
        "      if original_label == predicted_label:\n",
        "        writer_network_spectar[predicted_label].update_one(1)  # Network says predicted_label and its correct\n",
        "      else:\n",
        "        writer_network_spectar[predicted_label].update_one(0)  # Network says predicted_label and its wrong\n",
        "         \n",
        "      ##### writer_knn_spectar\n",
        "      min_labels = get_min_label(history, predicted_vector)\n",
        "      for k in ks:  # get min label is configured with respect to ks\n",
        "        min_label = min_labels[k]\n",
        "        if min_label is None:\n",
        "          min_label = predicted_label  # min label je moje predvidjanje \n",
        "        if min_label == original_label:  # min_label je ono sto ja predvidjam na onih 10%; to i evaluiram \n",
        "          writer_knn_spectars[k][min_label].update_one(1)\n",
        "        else:\n",
        "          writer_knn_spectars[k][min_label].update_one(0)\n",
        "  \n",
        "    #################################################### GET S AND S1\n",
        "    s = 0                  # tmp no of images on which knn is correct\n",
        "    s1 = 0                 # tmp no of images on which baseline is correct\n",
        "    sboth = 0              # tmp no of images on which either knn or baseline is correct\n",
        "    N = len(labels9[m:n])  # tmp no of evaluation images\n",
        "    for i in range(m, n): \n",
        "      original_label = labels9[i]\n",
        "      predicted_label = OH_L.decode(recognizer.predict(np.array([images9[i]]))[0]) # int(string like '48') -> ascii code 48\n",
        "      predicted_vector = finder.predict(np.array([images9[i]]))[0]\n",
        "    \n",
        "      ##### s1; old one\n",
        "      if predicted_label == original_label:\n",
        "        s1 += 1\n",
        "      predicted_label_bkp = predicted_label\n",
        "      ##### s; new approach\n",
        "      min_labels = get_min_label(history, predicted_vector)  # get list of predictions or each k\n",
        "      k = who_to_believe(predicted_label, writer_network_spectar, min_labels, writer_knn_spectars)  # Choose who have biggest mean of all spectars, use it as a aprediction\n",
        "      if k is not None and min_labels[k] is not None:  # believe to specific knn, which have it own prediction\n",
        "        predicted_label = min_labels[k]  # new approach; change network prediction if knn is sure enough  \n",
        "      if predicted_label == original_label:\n",
        "        s += 1\n",
        "  \n",
        "      ##### sboth\n",
        "      if predicted_label_bkp == original_label or (k is not None and min_labels[k] is not None and min_labels[k]==original_label):\n",
        "        sboth+=1 \n",
        "\n",
        "      ########## UPDATE history AND *spectar ##########\n",
        "      # original_label OK\n",
        "      predicted_label = predicted_label_bkp\n",
        "      # predicted_vector OK \n",
        "    \n",
        "      # history\n",
        "      predicted_vector_bkp = find_minimal(original_label, predicted_vector)  # smal bug; fixed; predicted vector is nearest cluster/avg of clusters not next tot last\n",
        "      if (predicted_label, original_label) not in history.keys():\n",
        "        history[(predicted_label, original_label)]=[predicted_vector_bkp, 1]\n",
        "      else:\n",
        "        history[(predicted_label, original_label)][0] = (history[(predicted_label, original_label)][0]*history[(predicted_label, original_label)][1]+predicted_vector_bkp)/(history[(predicted_label, original_label)][1]+1)\n",
        "        history[(predicted_label, original_label)][1] += 1\n",
        "    \n",
        "      # writer_network_spectar\n",
        "      if original_label == predicted_label:\n",
        "        writer_network_spectar[predicted_label].update_one(1)  # Network says predicted_label and its correct\n",
        "      else:\n",
        "        writer_network_spectar[predicted_label].update_one(0)  # Network says predicted_label and its wrong\n",
        "  \n",
        "      # writer_knn_spectar\n",
        "      min_labels = get_min_label(history, predicted_vector)  # prvo ga ubacim u istoriju - ali kao proseci itd. a onda kasnije trazim min_label; MOZDA INVERZNO? da ne bih nasao istog\n",
        "      for k in ks:\n",
        "        min_label = min_labels[k]\n",
        "        if min_label is None:\n",
        "          min_label = predicted_label  # min label je moje predvidjanje \n",
        "        if min_label == original_label:  # min_label je ono sto ja predvidjam na onih 10%; to i evaluiram \n",
        "          writer_knn_spectars[k][min_label].update_one(1)\n",
        "        else:\n",
        "          writer_knn_spectars[k][min_label].update_one(0)\n",
        "      ########## END UPDATE ##########        \n",
        "        \n",
        "        \n",
        "    S += s\n",
        "    S1 += s1\n",
        "    Sboth += sboth\n",
        "    Nall += N\n",
        "    del history\n",
        "    del writer_network_spectar\n",
        "    del writer_knn_spectars\n",
        "    # images9, labels9 = shuffle_both(images9, labels9)  # shuffle images for resampling; final 10% i use for evaluation, first 90% for dynamic history; DONT USE ANYMORE\n",
        "\n",
        "  #################################################### PRINT AND UPDATE GLOBAL VALUES\n",
        "  if S!=S1:  # Print only diff\n",
        "    print(\"Writer {0:4d} == mynew: {1:d} ({2:3.2f}%) == old: {3:d} ({4:3.2f}%) == both: {5:d} ({6:3.2f}%), No. of images {7:d}, len(image9)={8:d}\".format(writer, S, float(100*S)/Nall, S1, float(100*S1)/Nall, Sboth, float(100.0*Sboth)/Nall, Nall, n))\n",
        "  sumS += S\n",
        "  sumS1 += S1\n",
        "  sumSboth += Sboth\n",
        "  sumN += Nall\n",
        "  \n",
        "  if S==S1:     # Update win counts\n",
        "    equal += 1\n",
        "  elif S>S1:\n",
        "    winnew += 1\n",
        "    lenBetterNew += n\n",
        "  else:\n",
        "    winold += 1\n",
        "    lenBetterOld += n"
      ],
      "execution_count": 0,
      "outputs": [
        {
          "output_type": "stream",
          "text": [
            "Writer 123526 == mynew: 1289 (89.33%) == old: 1270 (88.01%) == both: 1309 (90.71%), No. of images 1443, len(image9)=1446\n",
            "Writer 10004 == mynew: 1398 (94.52%) == old: 1385 (93.64%) == both: 1417 (95.81%), No. of images 1479, len(image9)=1478\n",
            "Writer 10005 == mynew: 1261 (82.42%) == old: 1176 (76.86%) == both: 1282 (83.79%), No. of images 1530, len(image9)=1539\n",
            "Writer 123541 == mynew: 1473 (93.05%) == old: 1441 (91.03%) == both: 1479 (93.43%), No. of images 1583, len(image9)=1564\n",
            "Writer 10135 == mynew: 1348 (93.16%) == old: 1328 (91.78%) == both: 1366 (94.40%), No. of images 1447, len(image9)=1443\n",
            "Writer 10008 == mynew: 1253 (85.47%) == old: 1234 (84.17%) == both: 1286 (87.72%), No. of images 1466, len(image9)=1467\n",
            "Writer 10010 == mynew: 988 (69.24%) == old: 895 (62.72%) == both: 1022 (71.62%), No. of images 1427, len(image9)=1435\n",
            "Writer 10142 == mynew: 1450 (91.02%) == old: 1446 (90.77%) == both: 1462 (91.78%), No. of images 1593, len(image9)=1589\n",
            "Writer 10143 == mynew: 1494 (89.78%) == old: 1465 (88.04%) == both: 1504 (90.38%), No. of images 1664, len(image9)=1654\n",
            "Writer 10015 == mynew: 1397 (87.53%) == old: 1372 (85.96%) == both: 1415 (88.66%), No. of images 1596, len(image9)=1576\n",
            "Writer 10017 == mynew: 1309 (89.11%) == old: 1320 (89.86%) == both: 1348 (91.76%), No. of images 1469, len(image9)=1477\n",
            "Writer 10146 == mynew: 1225 (81.94%) == old: 1178 (78.80%) == both: 1254 (83.88%), No. of images 1495, len(image9)=1495\n",
            "Writer 10019 == mynew: 960 (63.79%) == old: 923 (61.33%) == both: 1015 (67.44%), No. of images 1505, len(image9)=1514\n",
            "Writer 10018 == mynew: 1492 (92.67%) == old: 1484 (92.17%) == both: 1505 (93.48%), No. of images 1610, len(image9)=1600\n",
            "Writer 10021 == mynew: 1043 (70.24%) == old: 984 (66.26%) == both: 1083 (72.93%), No. of images 1485, len(image9)=1498\n",
            "Writer 10014 == mynew: 1213 (81.52%) == old: 1191 (80.04%) == both: 1256 (84.41%), No. of images 1488, len(image9)=1483\n",
            "Writer 10151 == mynew: 1288 (89.51%) == old: 1277 (88.74%) == both: 1307 (90.83%), No. of images 1439, len(image9)=1443\n",
            "Writer 10044 == mynew: 1295 (90.62%) == old: 1256 (87.89%) == both: 1305 (91.32%), No. of images 1429, len(image9)=1451\n",
            "Writer 10182 == mynew: 1227 (83.30%) == old: 1184 (80.38%) == both: 1253 (85.06%), No. of images 1473, len(image9)=1478\n",
            "Writer 123486 == mynew: 1063 (73.46%) == old: 888 (61.37%) == both: 1084 (74.91%), No. of images 1447, len(image9)=1438\n",
            "Writer 10211 == mynew: 1188 (82.16%) == old: 1171 (80.98%) == both: 1218 (84.23%), No. of images 1446, len(image9)=1439\n",
            "Writer 10212 == mynew: 1149 (79.13%) == old: 1128 (77.69%) == both: 1192 (82.09%), No. of images 1452, len(image9)=1442\n",
            "Writer 123505 == mynew: 1438 (90.04%) == old: 1275 (79.84%) == both: 1449 (90.73%), No. of images 1597, len(image9)=1594\n",
            "Writer 10103 == mynew: 1252 (84.54%) == old: 1226 (82.78%) == both: 1275 (86.09%), No. of images 1481, len(image9)=1489\n",
            "Writer 10106 == mynew: 1441 (88.51%) == old: 1414 (86.86%) == both: 1456 (89.43%), No. of images 1628, len(image9)=1626\n",
            "CPU times: user 1h 28min 49s, sys: 2min 52s, total: 1h 31min 41s\n",
            "Wall time: 1h 13min 38s\n"
          ],
          "name": "stdout"
        }
      ]
    },
    {
      "metadata": {
        "colab_type": "code",
        "outputId": "9c2af85a-4f76-4c70-dede-f00c607a4a04",
        "id": "8WgGSSpdo8j7",
        "colab": {
          "base_uri": "https://localhost:8080/",
          "height": 170
        }
      },
      "cell_type": "code",
      "source": [
        "print('winold: ', winold)\n",
        "print('equal: ', equal)\n",
        "print('winnew: ', winnew)\n",
        "print('S: (new): ', 100.0*sumS/sumN)\n",
        "print('S1: (old): ', 100.0*sumS1/sumN)\n",
        "print('Sboth: (new): ', 100.0*sumSboth/sumN)\n",
        "if winold!=0:\n",
        "  print('AVG len winold: ', 1.0*lenBetterOld/winold)\n",
        "if winnew!=0:\n",
        "  print('AVG len winnew: ', 1.0*lenBetterNew/winnew)\n",
        "print('No of evaluation images: ', sumN)"
      ],
      "execution_count": 0,
      "outputs": [
        {
          "output_type": "stream",
          "text": [
            "winold:  1\n",
            "equal:  0\n",
            "winnew:  24\n",
            "S: (new):  84.76852834996815\n",
            "S1: (old):  82.05298364833298\n",
            "Sboth: (new):  86.38245912083245\n",
            "AVG len winold:  1477.0\n",
            "AVG len winnew:  1507.5416666666667\n",
            "No of evaluation images:  37672\n"
          ],
          "name": "stdout"
        }
      ]
    },
    {
      "metadata": {
        "colab_type": "code",
        "id": "tY7qZqxSo8kM",
        "colab": {}
      },
      "cell_type": "code",
      "source": [
        "# +2.72%/+4.33%"
      ],
      "execution_count": 0,
      "outputs": []
    }
  ]
}