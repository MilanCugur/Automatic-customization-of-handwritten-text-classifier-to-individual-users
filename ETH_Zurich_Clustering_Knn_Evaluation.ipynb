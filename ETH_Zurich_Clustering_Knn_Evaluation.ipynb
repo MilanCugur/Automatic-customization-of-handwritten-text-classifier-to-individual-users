{
  "nbformat": 4,
  "nbformat_minor": 0,
  "metadata": {
    "colab": {
      "name": "ETH_Zurich_Clustering_Knn_Evaluation.ipynb",
      "version": "0.3.2",
      "provenance": [],
      "collapsed_sections": [],
      "include_colab_link": true
    },
    "kernelspec": {
      "name": "python3",
      "display_name": "Python 3"
    },
    "accelerator": "GPU"
  },
  "cells": [
    {
      "cell_type": "markdown",
      "metadata": {
        "id": "view-in-github",
        "colab_type": "text"
      },
      "source": [
        "<a href=\"https://colab.research.google.com/github/MilanCugur/PUBLISH_ME/blob/master/ETH_Zurich_Clustering_Knn_Evaluation.ipynb\" target=\"_parent\"><img src=\"https://colab.research.google.com/assets/colab-badge.svg\" alt=\"Open In Colab\"/></a>"
      ]
    },
    {
      "metadata": {
        "id": "nVr47HLVdnuJ",
        "colab_type": "code",
        "colab": {
          "base_uri": "https://localhost:8080/",
          "height": 122
        },
        "outputId": "b7a0cdaa-9175-49b0-e4da-131f7750e163"
      },
      "cell_type": "code",
      "source": [
        "from google.colab import drive\n",
        "drive.mount('/content/drive')"
      ],
      "execution_count": 1,
      "outputs": [
        {
          "output_type": "stream",
          "text": [
            "Go to this URL in a browser: https://accounts.google.com/o/oauth2/auth?client_id=947318989803-6bn6qk8qdgf4n4g3pfee6491hc0brc4i.apps.googleusercontent.com&redirect_uri=urn%3Aietf%3Awg%3Aoauth%3A2.0%3Aoob&scope=email%20https%3A%2F%2Fwww.googleapis.com%2Fauth%2Fdocs.test%20https%3A%2F%2Fwww.googleapis.com%2Fauth%2Fdrive%20https%3A%2F%2Fwww.googleapis.com%2Fauth%2Fdrive.photos.readonly%20https%3A%2F%2Fwww.googleapis.com%2Fauth%2Fpeopleapi.readonly&response_type=code\n",
            "\n",
            "Enter your authorization code:\n",
            "··········\n",
            "Mounted at /content/drive\n"
          ],
          "name": "stdout"
        }
      ]
    },
    {
      "metadata": {
        "id": "PvOXDGYSd6uW",
        "colab_type": "code",
        "colab": {
          "base_uri": "https://localhost:8080/",
          "height": 34
        },
        "outputId": "7b272192-87f2-43b5-8224-c82720607841"
      },
      "cell_type": "code",
      "source": [
        "import os\n",
        "import numpy as np\n",
        "from zipfile import ZipFile\n",
        "\n",
        "from keras.utils import Sequence\n",
        "from random import shuffle\n",
        "\n",
        "import matplotlib.pyplot as plt\n",
        "import matplotlib.image as mpimg"
      ],
      "execution_count": 2,
      "outputs": [
        {
          "output_type": "stream",
          "text": [
            "Using TensorFlow backend.\n"
          ],
          "name": "stderr"
        }
      ]
    },
    {
      "metadata": {
        "id": "j6QSV_rdekIu",
        "colab_type": "code",
        "colab": {
          "base_uri": "https://localhost:8080/",
          "height": 51
        },
        "outputId": "6a6c606e-9e70-4df4-8cf4-ccc3c9d31d18"
      },
      "cell_type": "code",
      "source": [
        "%%time\n",
        "# Extract images to 'ImageDisk' folder\n",
        "\n",
        "path = './drive/My Drive/Eth_Zurich_Dataset/ETH_png_archive.zip'  # Different .zip folder with images\n",
        "archive = ZipFile(path, 'r')\n",
        "archive.extractall('./ImageDisk')  \n",
        "archive.close()"
      ],
      "execution_count": 3,
      "outputs": [
        {
          "output_type": "stream",
          "text": [
            "CPU times: user 28.7 s, sys: 14.4 s, total: 43.1 s\n",
            "Wall time: 45.9 s\n"
          ],
          "name": "stdout"
        }
      ]
    },
    {
      "metadata": {
        "id": "bA5tYaOHemdi",
        "colab_type": "code",
        "colab": {
          "base_uri": "https://localhost:8080/",
          "height": 34
        },
        "outputId": "ee4a9671-3cd8-41c8-8af4-1feb54c50802"
      },
      "cell_type": "code",
      "source": [
        "!ls ImageDisk/ | wc -l"
      ],
      "execution_count": 4,
      "outputs": [
        {
          "output_type": "stream",
          "text": [
            "369455\n"
          ],
          "name": "stdout"
        }
      ]
    },
    {
      "metadata": {
        "id": "qWA0hr2Rerua",
        "colab_type": "text"
      },
      "cell_type": "markdown",
      "source": [
        "# OneHot Encoding"
      ]
    },
    {
      "metadata": {
        "id": "YeKS6O-beqWq",
        "colab_type": "code",
        "colab": {}
      },
      "cell_type": "code",
      "source": [
        "# OneHot Encoding\n",
        "class OneHot():  \n",
        "  # classes = list of classes : 0-9, a-z, A-Z\n",
        "  # n = number of classes     : 62\n",
        "  \n",
        "  def __init__(self, classes):\n",
        "    self.classes = classes\n",
        "    self.n = len(classes)\n",
        "    \n",
        "  def encode(self, class_name):\n",
        "    one_hot = np.zeros(shape=(self.n), dtype=np.int8)\n",
        "    class_index = self.classes.index(class_name)\n",
        "    one_hot[class_index] = 1\n",
        "    return one_hot\n",
        "  \n",
        "  def encode_all(self, list_class_names):\n",
        "    return np.array([self.encode(class_name) for class_name in list_class_names])\n",
        "  \n",
        "  def decode(self, one_hot):\n",
        "    class_index = one_hot.argmax()\n",
        "    return self.classes[class_index]\n",
        "  \n",
        "  def decode_all(self, list_one_hots):\n",
        "    return np.array([self.decode(one_hot) for one_hot in list_one_hots])"
      ],
      "execution_count": 0,
      "outputs": []
    },
    {
      "metadata": {
        "id": "MkaXwPLcexKF",
        "colab_type": "code",
        "colab": {
          "base_uri": "https://localhost:8080/",
          "height": 71
        },
        "outputId": "5912be28-d29e-4f06-c409-7973dc44df5e"
      },
      "cell_type": "code",
      "source": [
        "alphabet = list(\"0123456789abcdefghijklmnopqrstuvwxyzABCDEFGHIJKLMNOPQRSTUVWXYZ'.,-()/\") \n",
        "alphabet.insert(0, '') # '\\x00' character, i.e., ord(0) to label concatenations.\n",
        "print(alphabet)\n",
        "print(len(alphabet))"
      ],
      "execution_count": 7,
      "outputs": [
        {
          "output_type": "stream",
          "text": [
            "['', '0', '1', '2', '3', '4', '5', '6', '7', '8', '9', 'a', 'b', 'c', 'd', 'e', 'f', 'g', 'h', 'i', 'j', 'k', 'l', 'm', 'n', 'o', 'p', 'q', 'r', 's', 't', 'u', 'v', 'w', 'x', 'y', 'z', 'A', 'B', 'C', 'D', 'E', 'F', 'G', 'H', 'I', 'J', 'K', 'L', 'M', 'N', 'O', 'P', 'Q', 'R', 'S', 'T', 'U', 'V', 'W', 'X', 'Y', 'Z', \"'\", '.', ',', '-', '(', ')', '/']\n",
            "70\n"
          ],
          "name": "stdout"
        }
      ]
    },
    {
      "metadata": {
        "id": "jkh7JItxe1AD",
        "colab_type": "code",
        "colab": {}
      },
      "cell_type": "code",
      "source": [
        "OH_L = OneHot(sorted(alphabet))"
      ],
      "execution_count": 0,
      "outputs": []
    },
    {
      "metadata": {
        "id": "TITK5Hhle863",
        "colab_type": "text"
      },
      "cell_type": "markdown",
      "source": [
        "# Data"
      ]
    },
    {
      "metadata": {
        "id": "tdNGWxPFe3RR",
        "colab_type": "code",
        "colab": {}
      },
      "cell_type": "code",
      "source": [
        "writers = {}\n",
        "labels = set()\n",
        "for image in os.listdir('./ImageDisk/'):\n",
        "  imageparsed = image.split('_')  # ['trainimage', 'i28871', 'w10174', 'lo', '261-274.png']\n",
        "  writer = int(imageparsed[2][1:])\n",
        "  label = imageparsed[3][1:]\n",
        "  if writer not in writers:\n",
        "    writers[writer] = 1\n",
        "  else:\n",
        "    writers[writer] += 1\n",
        "    \n",
        "  labels.add(label)"
      ],
      "execution_count": 0,
      "outputs": []
    },
    {
      "metadata": {
        "id": "n6zaw_xOfCRm",
        "colab_type": "code",
        "colab": {
          "base_uri": "https://localhost:8080/",
          "height": 71
        },
        "outputId": "8566ee7f-8ac3-4e40-b8a4-d7e405b724d8"
      },
      "cell_type": "code",
      "source": [
        "print(labels)\n",
        "print(len(labels))"
      ],
      "execution_count": 10,
      "outputs": [
        {
          "output_type": "stream",
          "text": [
            "{'', 'Y', 'e', 'y', 'D', 'C', 'W', '.', 'z', 'X', '5', 'c', '6', 'p', 'h', 'm', 't', ',', 'x', 'E', 'd', 'B', 'S', 'O', 'L', 'K', 'k', 'r', '8', 's', 'a', 'T', 'o', 'u', 'U', '3', '9', 'G', 'J', 'Z', 'v', 'M', 'q', 'b', 'R', '0', 'l', '4', 'i', '1', 'f', '(', 'I', \"'\", '2', 'w', 'j', 'Q', 'V', 'g', '-', ')', 'N', 'F', 'slash', '7', 'n', 'P', 'A', 'H'}\n",
            "70\n"
          ],
          "name": "stdout"
        }
      ]
    },
    {
      "metadata": {
        "id": "z4OkSjTLfD6S",
        "colab_type": "code",
        "colab": {
          "base_uri": "https://localhost:8080/",
          "height": 34
        },
        "outputId": "c7031f8b-547b-4cfd-c6ee-8ce0113cd861"
      },
      "cell_type": "code",
      "source": [
        "print(len(writers.keys()))"
      ],
      "execution_count": 11,
      "outputs": [
        {
          "output_type": "stream",
          "text": [
            "294\n"
          ],
          "name": "stdout"
        }
      ]
    },
    {
      "metadata": {
        "id": "T7z7kv0AfGw4",
        "colab_type": "code",
        "colab": {
          "base_uri": "https://localhost:8080/",
          "height": 54
        },
        "outputId": "013ef60f-668e-40fd-dc9b-5769ee15978b"
      },
      "cell_type": "code",
      "source": [
        "writers = list(writers.items())\n",
        "writers = sorted(writers, key=lambda x: x[1])\n",
        "print(writers)"
      ],
      "execution_count": 12,
      "outputs": [
        {
          "output_type": "stream",
          "text": [
            "[(123483, 182), (123521, 384), (123544, 690), (123528, 801), (123519, 808), (123502, 866), (123461, 880), (10023, 898), (123534, 921), (123485, 930), (123459, 947), (123476, 989), (123546, 999), (123460, 1010), (123518, 1024), (123501, 1028), (123515, 1030), (123545, 1037), (123479, 1047), (10094, 1049), (123499, 1053), (10161, 1054), (10088, 1058), (123524, 1062), (10058, 1065), (123478, 1068), (123482, 1073), (123489, 1090), (123539, 1091), (10096, 1092), (10112, 1093), (10104, 1093), (10070, 1097), (123456, 1097), (10214, 1099), (123527, 1103), (123508, 1104), (10095, 1104), (10066, 1106), (10195, 1109), (123488, 1116), (123540, 1123), (10098, 1125), (123532, 1127), (10127, 1132), (10169, 1133), (10177, 1136), (123471, 1137), (123531, 1139), (10163, 1144), (10156, 1145), (123463, 1149), (10061, 1151), (10062, 1156), (10210, 1156), (10153, 1162), (10102, 1163), (10139, 1164), (123510, 1164), (10131, 1164), (10176, 1165), (123512, 1167), (123504, 1168), (10216, 1168), (123503, 1169), (123516, 1171), (10188, 1171), (10126, 1172), (10203, 1173), (10123, 1173), (10180, 1174), (10099, 1175), (10113, 1176), (123481, 1178), (10141, 1180), (10218, 1180), (10082, 1180), (123469, 1181), (10118, 1181), (10121, 1185), (123513, 1185), (123490, 1187), (10174, 1189), (10221, 1189), (10074, 1190), (10159, 1191), (10045, 1193), (123457, 1193), (10165, 1195), (123498, 1197), (10197, 1198), (10219, 1198), (10009, 1200), (10178, 1200), (10092, 1204), (10107, 1206), (10093, 1206), (10217, 1208), (10152, 1214), (123522, 1215), (10162, 1216), (10111, 1216), (10049, 1217), (10154, 1218), (10071, 1220), (10110, 1221), (123475, 1224), (10209, 1224), (10006, 1226), (123494, 1229), (10134, 1229), (10207, 1230), (10173, 1230), (123467, 1231), (10193, 1231), (123543, 1232), (10181, 1232), (10206, 1235), (10201, 1237), (10150, 1237), (10171, 1237), (123465, 1238), (10196, 1239), (10128, 1239), (123509, 1240), (123495, 1241), (123487, 1242), (10183, 1246), (10115, 1247), (10100, 1248), (123500, 1248), (10185, 1248), (10167, 1250), (123533, 1250), (10192, 1251), (10172, 1253), (10187, 1254), (123468, 1256), (10086, 1258), (10190, 1260), (10116, 1260), (10170, 1261), (10137, 1263), (123484, 1263), (10129, 1264), (10022, 1265), (10168, 1267), (10140, 1268), (10076, 1268), (10158, 1268), (10189, 1269), (123496, 1270), (10179, 1275), (10147, 1276), (10138, 1278), (10091, 1281), (123474, 1281), (10060, 1283), (10105, 1284), (10124, 1285), (10090, 1285), (10078, 1285), (10119, 1285), (10063, 1289), (10108, 1291), (10125, 1293), (123506, 1294), (10067, 1294), (10048, 1296), (10175, 1298), (123536, 1300), (10148, 1301), (10059, 1303), (123464, 1304), (10194, 1305), (10064, 1305), (10085, 1305), (123466, 1307), (123517, 1307), (10041, 1308), (123529, 1311), (10133, 1312), (10080, 1317), (10205, 1317), (10012, 1320), (10053, 1322), (10054, 1323), (10007, 1323), (123549, 1324), (123511, 1324), (10002, 1325), (10056, 1327), (10069, 1327), (10047, 1328), (10164, 1328), (10220, 1330), (10084, 1331), (123530, 1331), (10087, 1332), (10198, 1332), (10120, 1332), (123535, 1332), (10077, 1334), (10057, 1334), (10160, 1335), (123547, 1336), (10145, 1337), (123523, 1338), (10213, 1339), (123462, 1342), (123520, 1343), (10055, 1344), (10075, 1346), (10011, 1347), (10097, 1350), (10204, 1351), (123470, 1352), (10191, 1353), (10073, 1353), (10184, 1355), (10020, 1355), (10042, 1355), (10065, 1356), (10052, 1356), (123493, 1356), (10083, 1358), (10130, 1359), (123458, 1359), (10215, 1360), (10050, 1361), (10157, 1362), (10072, 1362), (10136, 1364), (10155, 1366), (10199, 1367), (10068, 1367), (10208, 1373), (10101, 1374), (123514, 1374), (123525, 1374), (10144, 1378), (123542, 1379), (10109, 1380), (10117, 1382), (123477, 1383), (10149, 1383), (10202, 1383), (123548, 1387), (10046, 1393), (123491, 1395), (123537, 1397), (10051, 1401), (123480, 1402), (123472, 1404), (10186, 1409), (10132, 1410), (10079, 1413), (10081, 1415), (123492, 1416), (10114, 1418), (123507, 1422), (10043, 1423), (10200, 1425), (10089, 1427), (123473, 1428), (10166, 1428), (10122, 1430), (123538, 1431), (123497, 1434), (10010, 1435), (123486, 1438), (10211, 1439), (10212, 1442), (10135, 1443), (10151, 1443), (123526, 1446), (10044, 1451), (10008, 1467), (10017, 1477), (10004, 1478), (10182, 1478), (10014, 1483), (10103, 1489), (10146, 1495), (10021, 1498), (10019, 1514), (10005, 1539), (123541, 1564), (10015, 1576), (10142, 1589), (123505, 1594), (10018, 1600), (10106, 1626), (10143, 1654)]\n"
          ],
          "name": "stdout"
        }
      ]
    },
    {
      "metadata": {
        "id": "BxRIgQYufJI5",
        "colab_type": "code",
        "colab": {
          "base_uri": "https://localhost:8080/",
          "height": 34
        },
        "outputId": "d97853e7-fb13-4289-dc47-7b5d8bdbd1a5"
      },
      "cell_type": "code",
      "source": [
        "N = sum([writer[1] for writer in writers])  # No of images\n",
        "N"
      ],
      "execution_count": 13,
      "outputs": [
        {
          "output_type": "execute_result",
          "data": {
            "text/plain": [
              "369455"
            ]
          },
          "metadata": {
            "tags": []
          },
          "execution_count": 13
        }
      ]
    },
    {
      "metadata": {
        "id": "qzRnHhLxfMqj",
        "colab_type": "code",
        "colab": {
          "base_uri": "https://localhost:8080/",
          "height": 71
        },
        "outputId": "6cdfedfd-472c-452f-9c9e-cd076be04686"
      },
      "cell_type": "code",
      "source": [
        "testW = []\n",
        "countImgs = 0\n",
        "while countImgs<N*0.1:\n",
        "  testW.append(writers[-1])\n",
        "  countImgs += writers[-1][1]\n",
        "  writers = writers[:-1]\n",
        "  \n",
        "print(testW) \n",
        "print(len(testW))"
      ],
      "execution_count": 14,
      "outputs": [
        {
          "output_type": "stream",
          "text": [
            "[(10143, 1654), (10106, 1626), (10018, 1600), (123505, 1594), (10142, 1589), (10015, 1576), (123541, 1564), (10005, 1539), (10019, 1514), (10021, 1498), (10146, 1495), (10103, 1489), (10014, 1483), (10182, 1478), (10004, 1478), (10017, 1477), (10008, 1467), (10044, 1451), (123526, 1446), (10151, 1443), (10135, 1443), (10212, 1442), (10211, 1439), (123486, 1438), (10010, 1435)]\n",
            "25\n"
          ],
          "name": "stdout"
        }
      ]
    },
    {
      "metadata": {
        "id": "BWANvDVpfOtN",
        "colab_type": "code",
        "colab": {}
      },
      "cell_type": "code",
      "source": [
        "# Split and stratify\n",
        "# 80% : 10% : 10%\n",
        "# shuffle(writers)\n",
        "trainW = []\n",
        "validationW = []\n",
        "\n",
        "for i in range(0, len(writers)):\n",
        "  if i%10==5:\n",
        "    validationW.append(writers[i])\n",
        "  else:\n",
        "    trainW.append(writers[i])\n",
        "\n",
        "trainW = set(trainW)\n",
        "validationW = set(validationW)\n",
        "testW = set(testW)"
      ],
      "execution_count": 0,
      "outputs": []
    },
    {
      "metadata": {
        "id": "A-kT0B2hfRLG",
        "colab_type": "code",
        "colab": {}
      },
      "cell_type": "code",
      "source": [
        "testW = [x[0] for x in testW]\n",
        "validationW = [x[0] for x in validationW]\n",
        "trainW = [x[0] for x in trainW]"
      ],
      "execution_count": 0,
      "outputs": []
    },
    {
      "metadata": {
        "id": "VlZcNMuifTEJ",
        "colab_type": "code",
        "colab": {
          "base_uri": "https://localhost:8080/",
          "height": 68
        },
        "outputId": "cf6af8c7-6faf-4b71-da4e-d32a5dbe1aae"
      },
      "cell_type": "code",
      "source": [
        "print(len(trainW))\n",
        "print(len(validationW))\n",
        "print(len(testW))"
      ],
      "execution_count": 17,
      "outputs": [
        {
          "output_type": "stream",
          "text": [
            "242\n",
            "27\n",
            "25\n"
          ],
          "name": "stdout"
        }
      ]
    },
    {
      "metadata": {
        "id": "bG8Q8I7jfVHZ",
        "colab_type": "code",
        "colab": {
          "base_uri": "https://localhost:8080/",
          "height": 51
        },
        "outputId": "ba5183d3-a5d5-4f34-b6e2-da43c70ae588"
      },
      "cell_type": "code",
      "source": [
        "%%time\n",
        "train_Images = []\n",
        "train_Labels = []\n",
        "train_Writers = []\n",
        "\n",
        "validation_Images = []\n",
        "validation_Labels = []\n",
        "validation_Writers = []\n",
        "\n",
        "test_Images = []\n",
        "test_Labels = []\n",
        "test_Writers = []\n",
        "\n",
        "images = os.listdir('./ImageDisk/')\n",
        "shuffle(images)\n",
        "for image in images:\n",
        "  imageparsed = image.split('_')  # ['trainimage', 'i28871', 'w10174', 'lo', '261-274.png']\n",
        "  writer = int(imageparsed[2][1:])\n",
        "  label = imageparsed[3][1:]\n",
        "  if label=='slash':\n",
        "    label = '/'\n",
        "  img = mpimg.imread(os.path.join('./ImageDisk', image))\n",
        "  if writer in testW:\n",
        "    test_Images.append(img.reshape(28, 28, 1)/255.0)\n",
        "    test_Labels.append(OH_L.encode(label))\n",
        "    test_Writers.append(writer)\n",
        "  elif writer in validationW:\n",
        "    validation_Images.append(img.reshape(28, 28, 1)/255.0)\n",
        "    validation_Labels.append(OH_L.encode(label))\n",
        "    validation_Writers.append(writer)\n",
        "  elif writer in trainW:\n",
        "    train_Images.append(img.reshape(28, 28, 1)/255.0)\n",
        "    train_Labels.append(OH_L.encode(label))\n",
        "    train_Writers.append(writer)\n",
        "  else:\n",
        "    print('Unrecognized writer, ', writer)  # Throw exception"
      ],
      "execution_count": 18,
      "outputs": [
        {
          "output_type": "stream",
          "text": [
            "CPU times: user 30.2 s, sys: 5.9 s, total: 36.1 s\n",
            "Wall time: 36.8 s\n"
          ],
          "name": "stdout"
        }
      ]
    },
    {
      "metadata": {
        "id": "kjhZRiYGfY_M",
        "colab_type": "code",
        "colab": {
          "base_uri": "https://localhost:8080/",
          "height": 204
        },
        "outputId": "54ca0c03-2b7b-494b-b9ae-04533ab634c0"
      },
      "cell_type": "code",
      "source": [
        "print(len(train_Writers))\n",
        "print(len(validation_Writers))\n",
        "print(len(test_Writers))\n",
        "print()\n",
        "print(len(train_Labels))\n",
        "print(len(validation_Labels))\n",
        "print(len(test_Labels))\n",
        "print()\n",
        "print(len(train_Images))\n",
        "print(len(validation_Images))\n",
        "print(len(test_Images))"
      ],
      "execution_count": 19,
      "outputs": [
        {
          "output_type": "stream",
          "text": [
            "298313\n",
            "33484\n",
            "37658\n",
            "\n",
            "298313\n",
            "33484\n",
            "37658\n",
            "\n",
            "298313\n",
            "33484\n",
            "37658\n"
          ],
          "name": "stdout"
        }
      ]
    },
    {
      "metadata": {
        "id": "1ltgntTSfsBe",
        "colab_type": "text"
      },
      "cell_type": "markdown",
      "source": [
        "# Load model"
      ]
    },
    {
      "metadata": {
        "id": "WLbgTpipfbR-",
        "colab_type": "code",
        "colab": {
          "base_uri": "https://localhost:8080/",
          "height": 190
        },
        "outputId": "0d1dd0f7-96dd-45a4-968d-f6d258c3b3f0"
      },
      "cell_type": "code",
      "source": [
        "from keras.models import Model\n",
        "from keras.models import load_model\n",
        "\n",
        "recognizer = load_model('./drive/My Drive/Eth_Zurich_weights/eth_baseline_model.h5')\n",
        "finder = Model(inputs=recognizer.input, outputs=recognizer.get_layer('next_to_last').output)"
      ],
      "execution_count": 20,
      "outputs": [
        {
          "output_type": "stream",
          "text": [
            "WARNING:tensorflow:From /usr/local/lib/python3.6/dist-packages/tensorflow/python/framework/op_def_library.py:263: colocate_with (from tensorflow.python.framework.ops) is deprecated and will be removed in a future version.\n",
            "Instructions for updating:\n",
            "Colocations handled automatically by placer.\n",
            "WARNING:tensorflow:From /usr/local/lib/python3.6/dist-packages/keras/backend/tensorflow_backend.py:3445: calling dropout (from tensorflow.python.ops.nn_ops) with keep_prob is deprecated and will be removed in a future version.\n",
            "Instructions for updating:\n",
            "Please use `rate` instead of `keep_prob`. Rate should be set to `rate = 1 - keep_prob`.\n",
            "WARNING:tensorflow:From /usr/local/lib/python3.6/dist-packages/tensorflow/python/ops/math_ops.py:3066: to_int32 (from tensorflow.python.ops.math_ops) is deprecated and will be removed in a future version.\n",
            "Instructions for updating:\n",
            "Use tf.cast instead.\n"
          ],
          "name": "stdout"
        }
      ]
    },
    {
      "metadata": {
        "id": "PybIgZGDf1cz",
        "colab_type": "code",
        "colab": {
          "base_uri": "https://localhost:8080/",
          "height": 51
        },
        "outputId": "61acca29-42ee-44a2-b232-ce54421aa1e2"
      },
      "cell_type": "code",
      "source": [
        "recognizer.evaluate(x=np.array(train_Images), y=np.array(train_Labels), batch_size=256, verbose=1)"
      ],
      "execution_count": 21,
      "outputs": [
        {
          "output_type": "stream",
          "text": [
            "298313/298313 [==============================] - 9s 31us/step\n"
          ],
          "name": "stdout"
        },
        {
          "output_type": "execute_result",
          "data": {
            "text/plain": [
              "[0.39942179027257557, 0.876482084246794]"
            ]
          },
          "metadata": {
            "tags": []
          },
          "execution_count": 21
        }
      ]
    },
    {
      "metadata": {
        "id": "v83Blolcf5F5",
        "colab_type": "code",
        "colab": {
          "base_uri": "https://localhost:8080/",
          "height": 51
        },
        "outputId": "7abc1a37-7a20-4019-9744-eb94e771e14b"
      },
      "cell_type": "code",
      "source": [
        "recognizer.evaluate(x=np.array(validation_Images), y=np.array(validation_Labels), batch_size=256, verbose=1)"
      ],
      "execution_count": 23,
      "outputs": [
        {
          "output_type": "stream",
          "text": [
            "33484/33484 [==============================] - 1s 22us/step\n"
          ],
          "name": "stdout"
        },
        {
          "output_type": "execute_result",
          "data": {
            "text/plain": [
              "[0.5743015284051806, 0.8312029626588499]"
            ]
          },
          "metadata": {
            "tags": []
          },
          "execution_count": 23
        }
      ]
    },
    {
      "metadata": {
        "id": "DYgCAEf-f7dS",
        "colab_type": "code",
        "colab": {
          "base_uri": "https://localhost:8080/",
          "height": 51
        },
        "outputId": "6ab613d8-6635-4cf2-bbaf-4d57c3e31edc"
      },
      "cell_type": "code",
      "source": [
        "recognizer.evaluate(x=np.array(test_Images), y=np.array(test_Labels), batch_size=256, verbose=1)"
      ],
      "execution_count": 24,
      "outputs": [
        {
          "output_type": "stream",
          "text": [
            "37658/37658 [==============================] - 1s 21us/step\n"
          ],
          "name": "stdout"
        },
        {
          "output_type": "execute_result",
          "data": {
            "text/plain": [
              "[0.6479861186183679, 0.8211800945445225]"
            ]
          },
          "metadata": {
            "tags": []
          },
          "execution_count": 24
        }
      ]
    },
    {
      "metadata": {
        "id": "qwGi_olHf_QW",
        "colab_type": "text"
      },
      "cell_type": "markdown",
      "source": [
        "# Clustering by labels + KNN"
      ]
    },
    {
      "metadata": {
        "id": "2ubM8-Y3gHss",
        "colab_type": "text"
      },
      "cell_type": "markdown",
      "source": [
        "## Clustering by instances"
      ]
    },
    {
      "metadata": {
        "id": "5ApnOXwbf-jW",
        "colab_type": "code",
        "colab": {
          "base_uri": "https://localhost:8080/",
          "height": 54
        },
        "outputId": "2ed8a62d-2606-4808-e4a2-92f53308b90d"
      },
      "cell_type": "code",
      "source": [
        "labels = sorted(alphabet)\n",
        "print(labels)"
      ],
      "execution_count": 40,
      "outputs": [
        {
          "output_type": "stream",
          "text": [
            "['', \"'\", '(', ')', ',', '-', '.', '/', '0', '1', '2', '3', '4', '5', '6', '7', '8', '9', 'A', 'B', 'C', 'D', 'E', 'F', 'G', 'H', 'I', 'J', 'K', 'L', 'M', 'N', 'O', 'P', 'Q', 'R', 'S', 'T', 'U', 'V', 'W', 'X', 'Y', 'Z', 'a', 'b', 'c', 'd', 'e', 'f', 'g', 'h', 'i', 'j', 'k', 'l', 'm', 'n', 'o', 'p', 'q', 'r', 's', 't', 'u', 'v', 'w', 'x', 'y', 'z']\n"
          ],
          "name": "stdout"
        }
      ]
    },
    {
      "metadata": {
        "id": "gMQF1ESYgLdj",
        "colab_type": "code",
        "colab": {
          "base_uri": "https://localhost:8080/",
          "height": 54
        },
        "outputId": "2c70923f-80c4-422d-8e94-de96fbe2d3bf"
      },
      "cell_type": "code",
      "source": [
        "IVectors = {}  # Key is 'a', 'b', ...\n",
        "for l in labels:\n",
        "  IVectors[l] = []\n",
        "print(IVectors)"
      ],
      "execution_count": 41,
      "outputs": [
        {
          "output_type": "stream",
          "text": [
            "{'': [], \"'\": [], '(': [], ')': [], ',': [], '-': [], '.': [], '/': [], '0': [], '1': [], '2': [], '3': [], '4': [], '5': [], '6': [], '7': [], '8': [], '9': [], 'A': [], 'B': [], 'C': [], 'D': [], 'E': [], 'F': [], 'G': [], 'H': [], 'I': [], 'J': [], 'K': [], 'L': [], 'M': [], 'N': [], 'O': [], 'P': [], 'Q': [], 'R': [], 'S': [], 'T': [], 'U': [], 'V': [], 'W': [], 'X': [], 'Y': [], 'Z': [], 'a': [], 'b': [], 'c': [], 'd': [], 'e': [], 'f': [], 'g': [], 'h': [], 'i': [], 'j': [], 'k': [], 'l': [], 'm': [], 'n': [], 'o': [], 'p': [], 'q': [], 'r': [], 's': [], 't': [], 'u': [], 'v': [], 'w': [], 'x': [], 'y': [], 'z': []}\n"
          ],
          "name": "stdout"
        }
      ]
    },
    {
      "metadata": {
        "id": "E7e56Fn-gk-i",
        "colab_type": "code",
        "colab": {
          "base_uri": "https://localhost:8080/",
          "height": 51
        },
        "outputId": "b74f9901-4975-4800-fbfb-a3da22bfe4a6"
      },
      "cell_type": "code",
      "source": [
        "%%time\n",
        "\n",
        "for k in range(0, len(validation_Images)):\n",
        "  l = OH_L.decode(validation_Labels[k])\n",
        "  next_to_last = finder.predict(np.array([validation_Images[k]]))[0]\n",
        "  IVectors[l].append(next_to_last)"
      ],
      "execution_count": 42,
      "outputs": [
        {
          "output_type": "stream",
          "text": [
            "CPU times: user 1min 6s, sys: 4.26 s, total: 1min 10s\n",
            "Wall time: 48.1 s\n"
          ],
          "name": "stdout"
        }
      ]
    },
    {
      "metadata": {
        "id": "yZ63B9uMgeYK",
        "colab_type": "code",
        "colab": {
          "base_uri": "https://localhost:8080/",
          "height": 51
        },
        "outputId": "f11a7758-b41b-46c8-d2cc-fcf81a5e80e0"
      },
      "cell_type": "code",
      "source": [
        "%%time\n",
        "\n",
        "for k in range(0, len(train_Images)):\n",
        "  l = OH_L.decode(train_Labels[k])\n",
        "  next_to_last = finder.predict(np.array([train_Images[k]]))[0]\n",
        "  IVectors[l].append(next_to_last)"
      ],
      "execution_count": 43,
      "outputs": [
        {
          "output_type": "stream",
          "text": [
            "CPU times: user 10min 2s, sys: 39.3 s, total: 10min 41s\n",
            "Wall time: 7min 16s\n"
          ],
          "name": "stdout"
        }
      ]
    },
    {
      "metadata": {
        "id": "n7Mp43oRgl7J",
        "colab_type": "code",
        "colab": {
          "base_uri": "https://localhost:8080/",
          "height": 34
        },
        "outputId": "96df927d-b6fa-4d37-d6f8-267234678328"
      },
      "cell_type": "code",
      "source": [
        "S = 0\n",
        "for l in IVectors.keys():\n",
        "  S += len(IVectors[l])\n",
        "print(S)"
      ],
      "execution_count": 44,
      "outputs": [
        {
          "output_type": "stream",
          "text": [
            "331797\n"
          ],
          "name": "stdout"
        }
      ]
    },
    {
      "metadata": {
        "id": "UngNqs4KhB7f",
        "colab_type": "code",
        "colab": {
          "base_uri": "https://localhost:8080/",
          "height": 122
        },
        "outputId": "cf4d4ce5-b1ea-47a4-91cb-28ac8a0e6ef1"
      },
      "cell_type": "code",
      "source": [
        "print(len(validation_Images))\n",
        "print(len(train_Images))\n",
        "print(len(validation_Images)+len(train_Images))\n",
        "\n",
        "print(labels)\n",
        "print(len(labels))"
      ],
      "execution_count": 45,
      "outputs": [
        {
          "output_type": "stream",
          "text": [
            "33484\n",
            "298313\n",
            "331797\n",
            "['', \"'\", '(', ')', ',', '-', '.', '/', '0', '1', '2', '3', '4', '5', '6', '7', '8', '9', 'A', 'B', 'C', 'D', 'E', 'F', 'G', 'H', 'I', 'J', 'K', 'L', 'M', 'N', 'O', 'P', 'Q', 'R', 'S', 'T', 'U', 'V', 'W', 'X', 'Y', 'Z', 'a', 'b', 'c', 'd', 'e', 'f', 'g', 'h', 'i', 'j', 'k', 'l', 'm', 'n', 'o', 'p', 'q', 'r', 's', 't', 'u', 'v', 'w', 'x', 'y', 'z']\n",
            "70\n"
          ],
          "name": "stdout"
        }
      ]
    },
    {
      "metadata": {
        "id": "-kz_wkS1k--A",
        "colab_type": "code",
        "colab": {
          "base_uri": "https://localhost:8080/",
          "height": 54
        },
        "outputId": "1bd06fb0-666a-49f2-871f-505b154be5e2"
      },
      "cell_type": "code",
      "source": [
        "print([len(IVectors[l]) for l in labels])  # broj slika po svakoj labeli"
      ],
      "execution_count": 46,
      "outputs": [
        {
          "output_type": "stream",
          "text": [
            "[471, 443, 1, 19, 20, 32, 240, 2, 154, 350, 151, 89, 78, 118, 89, 72, 41, 146, 888, 672, 567, 347, 262, 329, 301, 851, 1240, 191, 86, 312, 706, 359, 357, 352, 34, 276, 882, 1469, 95, 94, 625, 5, 215, 21, 25531, 4636, 8506, 13395, 41317, 7145, 6482, 18761, 21925, 282, 2592, 13053, 7639, 21874, 24547, 5977, 361, 19413, 20109, 28678, 9322, 3052, 6451, 571, 5941, 185]\n"
          ],
          "name": "stdout"
        }
      ]
    },
    {
      "metadata": {
        "id": "GUgxIk-AlFQt",
        "colab_type": "code",
        "colab": {
          "base_uri": "https://localhost:8080/",
          "height": 71
        },
        "outputId": "a5ed338f-3918-4b7c-ffa6-d614786164b2"
      },
      "cell_type": "code",
      "source": [
        "N_clusters = [int(min(len(IVectors[l]), 30, 1+max(len(IVectors[l])/1000, 4))) for i, l in enumerate(labels)]  # CHANGE THIS!\n",
        "print(N_clusters)\n",
        "print(sum(N_clusters))"
      ],
      "execution_count": 51,
      "outputs": [
        {
          "output_type": "stream",
          "text": [
            "[5, 5, 1, 5, 5, 5, 5, 2, 5, 5, 5, 5, 5, 5, 5, 5, 5, 5, 5, 5, 5, 5, 5, 5, 5, 5, 5, 5, 5, 5, 5, 5, 5, 5, 5, 5, 5, 5, 5, 5, 5, 5, 5, 5, 26, 5, 9, 14, 30, 8, 7, 19, 22, 5, 5, 14, 8, 22, 25, 6, 5, 20, 21, 29, 10, 5, 7, 5, 6, 5]\n",
            "551\n"
          ],
          "name": "stdout"
        }
      ]
    },
    {
      "metadata": {
        "id": "FUAXxmZOlMPy",
        "colab_type": "code",
        "colab": {}
      },
      "cell_type": "code",
      "source": [
        "from sklearn.cluster import KMeans\n",
        "ICentroids = {}  # dictionary with centroids for each label\n",
        "kmeans = None"
      ],
      "execution_count": 0,
      "outputs": []
    },
    {
      "metadata": {
        "id": "ag1pBJjWlTYp",
        "colab_type": "code",
        "colab": {
          "base_uri": "https://localhost:8080/",
          "height": 51
        },
        "outputId": "b4ca6e89-1770-4975-eec9-53071847b572"
      },
      "cell_type": "code",
      "source": [
        "%%time\n",
        "\n",
        "for i, l in enumerate(labels):\n",
        "  if kmeans!=None:\n",
        "    del kmeans\n",
        "  kmeans = KMeans(n_clusters=N_clusters[i], n_init=10, max_iter=300, tol=1e-4, precompute_distances=False, verbose=0)  # 15, 250/10, 300\n",
        "  \n",
        "  kmeans.fit(IVectors[l])\n",
        "  ICentroids[l] = kmeans.cluster_centers_"
      ],
      "execution_count": 53,
      "outputs": [
        {
          "output_type": "stream",
          "text": [
            "CPU times: user 7min 50s, sys: 50.3 s, total: 8min 40s\n",
            "Wall time: 7min 12s\n"
          ],
          "name": "stdout"
        }
      ]
    },
    {
      "metadata": {
        "id": "46SEk2QdlYCz",
        "colab_type": "code",
        "colab": {
          "base_uri": "https://localhost:8080/",
          "height": 34
        },
        "outputId": "3797effc-922a-46b3-991d-67e603659c23"
      },
      "cell_type": "code",
      "source": [
        "ICentroids['A'].shape  # Clusters for 'A'; small check"
      ],
      "execution_count": 54,
      "outputs": [
        {
          "output_type": "execute_result",
          "data": {
            "text/plain": [
              "(5, 256)"
            ]
          },
          "metadata": {
            "tags": []
          },
          "execution_count": 54
        }
      ]
    },
    {
      "metadata": {
        "id": "5aWBul34lp_j",
        "colab_type": "code",
        "colab": {}
      },
      "cell_type": "code",
      "source": [
        "# Normalize clusters; Newly added; Quick fix, small improvements; Normalize together ???\n",
        "for k in ICentroids.keys(): \n",
        "  for j in range(0, ICentroids[k].shape[0]):\n",
        "    ICentroids[k][j] = (ICentroids[k][j] - ICentroids[k][j].mean())/(ICentroids[k][j].std())"
      ],
      "execution_count": 0,
      "outputs": []
    },
    {
      "metadata": {
        "id": "blWR2twbmFI-",
        "colab_type": "code",
        "colab": {
          "base_uri": "https://localhost:8080/",
          "height": 187
        },
        "outputId": "122f62f1-1fc5-4258-f00c-1e5a7e946a4d"
      },
      "cell_type": "code",
      "source": [
        "from sklearn.neighbors import KNeighborsClassifier  # Estimate the quality of custers\n",
        "from sklearn.metrics import accuracy_score\n",
        "\n",
        "Ns = [1,2,3,4,5,7,8,9,10,15]\n",
        "\n",
        "X_train = []\n",
        "y_train = []\n",
        "\n",
        "for l in labels:\n",
        "  for j in range(0, ICentroids[l].shape[0]):\n",
        "    X_train.append(ICentroids[l][j])\n",
        "    y_train.append(l)\n",
        "\n",
        "for n in Ns:\n",
        "  knn = KNeighborsClassifier(n_neighbors=n, metric='l2')\n",
        "  knn.fit(X_train, y_train)\n",
        "  \n",
        "  score = accuracy_score(knn.predict(finder.predict(np.array(test_Images))), [x for x in OH_L.decode_all(test_Labels)])\n",
        "  print('KNN', n, ': ', score)\n",
        "  del knn"
      ],
      "execution_count": 57,
      "outputs": [
        {
          "output_type": "stream",
          "text": [
            "KNN 1 :  0.772770726007754\n",
            "KNN 2 :  0.6920972967231398\n",
            "KNN 3 :  0.7600509851824313\n",
            "KNN 4 :  0.7620691486536725\n",
            "KNN 5 :  0.7751075468691911\n",
            "KNN 7 :  0.7810558181528493\n",
            "KNN 8 :  0.7756651973020341\n",
            "KNN 9 :  0.7832333103191885\n",
            "KNN 10 :  0.780949599022784\n",
            "KNN 15 :  0.7793297572892878\n"
          ],
          "name": "stdout"
        }
      ]
    },
    {
      "metadata": {
        "id": "OZLVoyFOmJc2",
        "colab_type": "text"
      },
      "cell_type": "markdown",
      "source": [
        "# Density class"
      ]
    },
    {
      "metadata": {
        "id": "F2nQGwKKmHv_",
        "colab_type": "code",
        "colab": {}
      },
      "cell_type": "code",
      "source": [
        "import numpy as np\n",
        "from  scipy import stats\n",
        "from matplotlib import pyplot as plt"
      ],
      "execution_count": 0,
      "outputs": []
    },
    {
      "metadata": {
        "id": "LFEFOlPsn9Vm",
        "colab_type": "code",
        "colab": {}
      },
      "cell_type": "code",
      "source": [
        "# approximating theta parametar - how much I believe in network/knn (initially 0.5)\n",
        "\n",
        "class CharStatistic():\n",
        "  # label\n",
        "  # alpha = 1 (initial)\n",
        "  # beta = 1 (initial)\n",
        "  \n",
        "  def __init__(self, label, alpha=None, beta=None):\n",
        "    self.label = label\n",
        "    \n",
        "    if alpha is not None:\n",
        "      self.alpha = alpha\n",
        "    else:\n",
        "      self.alpha = 1\n",
        "    if beta is not None:\n",
        "      self.beta = beta\n",
        "    else:\n",
        "      self.beta = 1 # hardcoded initial; start with uniform distribution U[0, 1]\n",
        "   \n",
        "  def get_alpha(self):  # getters\n",
        "    return self.alpha\n",
        "  \n",
        "  def get_beta(self):\n",
        "    return self.beta\n",
        "  \n",
        "  def set_alpha(self, alpha):\n",
        "    self.alpha = alpha\n",
        "    \n",
        "  def set_beta(self, beta):\n",
        "    self.beta = beta\n",
        "  \n",
        "  def get_mean(self):\n",
        "    return self.alpha/(self.alpha+self.beta)  # initaially 0.5\n",
        "    # return stats.beta.mean(self.alpha, self.beta)\n",
        "  \n",
        "  def get_standard_deviation(self):\n",
        "    return np.sqrt(self.alpha*self.beta/((self.alpha+self.beta)**2*(self.alpha+self.beta+1)))  # initially 0.1\n",
        "    # return stats.beta.std(self.alpha, self.beta)\n",
        "  \n",
        "  def update_one(self, winnew):  # winnew==1 if knn wins, else its 0\n",
        "    self.alpha += winnew\n",
        "    self.beta += 1 - winnew\n",
        "    \n",
        "  def update_all(self, winnews):  # winnews = [1, 0, 1, ..] 1 if knn wins else 0\n",
        "    N = len(winnews)\n",
        "    z = sum(winnews)\n",
        "    self.alpha += z\n",
        "    self.beta += N - z\n",
        "    \n",
        "  def print_current_density_function(self):  # print current approximation of beta distribution\n",
        "    x = np.linspace(0, 1, 100)\n",
        "    y = stats.beta.pdf(x, self.alpha, self.beta)\n",
        "    plt.xlabel(\"Density approximation for LABEL: \"+self.label)\n",
        "    plt.ylabel(\"Density\")\n",
        "    plt.plot(x, y)\n",
        "    plt.fill_between(x, 0, y, color=\"#aaaadd\", alpha=0.5)\n",
        "    plt.tight_layout()\n",
        "    plt.show()\n",
        "  \n",
        "  # FUNCTIONS FOR DECISION MAKING, WHOM TO TRUST:\n",
        "    \n",
        "  def __gt__(self, otherCharStatistic):  # Override operator > on density approximation\n",
        "    if not isinstance(otherCharStatistic, CharStatistic):\n",
        "      raise ValueError(\"Error. Operator overloaded for CharStatistic class\")\n",
        "    if self.get_mean()>otherCharStatistic.get_mean(): # TODO: USE .get_standard_deviation()\n",
        "      return True\n",
        "    else:\n",
        "      return False"
      ],
      "execution_count": 0,
      "outputs": []
    },
    {
      "metadata": {
        "id": "YTARnhV9oNBC",
        "colab_type": "code",
        "colab": {
          "base_uri": "https://localhost:8080/",
          "height": 34
        },
        "outputId": "cdafed27-4f40-43c6-f6c0-65fd300cb842"
      },
      "cell_type": "code",
      "source": [
        "S = CharStatistic('A')\n",
        "S1 = CharStatistic('B')\n",
        "S.get_standard_deviation()"
      ],
      "execution_count": 60,
      "outputs": [
        {
          "output_type": "execute_result",
          "data": {
            "text/plain": [
              "0.28867513459481287"
            ]
          },
          "metadata": {
            "tags": []
          },
          "execution_count": 60
        }
      ]
    },
    {
      "metadata": {
        "id": "47QuTuXkoP8k",
        "colab_type": "code",
        "colab": {
          "base_uri": "https://localhost:8080/",
          "height": 297
        },
        "outputId": "c4c18207-cdcb-43b8-f637-db1a4407564c"
      },
      "cell_type": "code",
      "source": [
        "S.print_current_density_function()"
      ],
      "execution_count": 61,
      "outputs": [
        {
          "output_type": "display_data",
          "data": {
            "image/png": "[encoded data removed]",
            "text/plain": [
              "<Figure size 432x288 with 1 Axes>"
            ]
          },
          "metadata": {
            "tags": []
          }
        }
      ]
    },
    {
      "metadata": {
        "id": "ULyM2A9MoUeB",
        "colab_type": "text"
      },
      "cell_type": "markdown",
      "source": [
        "# With Stratify, Multiple k idea"
      ]
    },
    {
      "metadata": {
        "id": "wSWdsVPSoRyf",
        "colab_type": "code",
        "colab": {
          "base_uri": "https://localhost:8080/",
          "height": 88
        },
        "outputId": "53ee1d36-543f-4306-e1d3-4debe96d79d2"
      },
      "cell_type": "code",
      "source": [
        "labels = alphabet\n",
        "print(labels)  \n",
        "print(len(labels))\n",
        "\n",
        "testset = set(test_Writers)\n",
        "print(len(testset))  # No of different writers\n",
        "\n",
        "# TESTDATA[Writer] = [testImagesOfWriter, testLabelsOfWriter]; example: TESTDATA[9] = [testImages9, testLabels9]\n",
        "TESTDATA = {} \n",
        "for writer in testset:\n",
        "  TESTDATA[writer] = [[], []]\n",
        "for i in range(0, len(test_Writers)):\n",
        "    TESTDATA[test_Writers[i]][0].append(test_Images[i])\n",
        "    TESTDATA[test_Writers[i]][1].append(test_Labels[i])\n",
        "\n",
        "def find_minimal(i, vector):  # i is the ascii code: 48.49,...,65,66,...,97,...\n",
        "  # Implicit use of dictionary ICentroids[ASCII]\n",
        "  minindex = 0\n",
        "  mineps = np.linalg.norm(vector-ICentroids[i][0])\n",
        "  for j in range(1, ICentroids[i].shape[0]):  \n",
        "    _mineps = np.linalg.norm(vector-ICentroids[i][j])\n",
        "    if _mineps < mineps:\n",
        "      mineps = _mineps\n",
        "      minindex = j\n",
        "      \n",
        "  return ICentroids[i][minindex].copy()"
      ],
      "execution_count": 63,
      "outputs": [
        {
          "output_type": "stream",
          "text": [
            "['', '0', '1', '2', '3', '4', '5', '6', '7', '8', '9', 'a', 'b', 'c', 'd', 'e', 'f', 'g', 'h', 'i', 'j', 'k', 'l', 'm', 'n', 'o', 'p', 'q', 'r', 's', 't', 'u', 'v', 'w', 'x', 'y', 'z', 'A', 'B', 'C', 'D', 'E', 'F', 'G', 'H', 'I', 'J', 'K', 'L', 'M', 'N', 'O', 'P', 'Q', 'R', 'S', 'T', 'U', 'V', 'W', 'X', 'Y', 'Z', \"'\", '.', ',', '-', '(', ')', '/']\n",
            "70\n",
            "25\n"
          ],
          "name": "stdout"
        }
      ]
    },
    {
      "metadata": {
        "id": "vvir1MAfoc6I",
        "colab_type": "code",
        "colab": {}
      },
      "cell_type": "code",
      "source": [
        "winold = 0\n",
        "equal = 0\n",
        "winnew = 0\n",
        "sumS = 0\n",
        "sumS1 = 0\n",
        "sumSboth = 0\n",
        "sumN = 0\n",
        "lenBetterOld = 0\n",
        "lenBetterNew = 0"
      ],
      "execution_count": 0,
      "outputs": []
    },
    {
      "metadata": {
        "id": "AIZvqj32om7Q",
        "colab_type": "code",
        "colab": {}
      },
      "cell_type": "code",
      "source": [
        "import math\n",
        "ks = [2, 4, 6, 8, 10]  # outer object for configure get_min_label function and evaluation\n",
        "\n",
        "def get_min_label(history, predicted_vector): # return list of predicted label for k in ks\n",
        "  X_search = []\n",
        "  y_search = []\n",
        "  for (_predicted_label, _original_label) in history.keys():  # Na 90% mreza je rekla _predicted_label a bila je _original_label (imam vector i count)\n",
        "      if _predicted_label == predicted_label:\n",
        "        for _ in range(history[(_predicted_label, _original_label)][1]):\n",
        "          X_search.append(history[(_predicted_label, _original_label)][0])\n",
        "          y_search.append(_original_label)      \n",
        "  \n",
        "  results = {}\n",
        "  for k in ks:\n",
        "    if len(X_search)<k:  # if I cant do knn search with respect to specific k\n",
        "      results[k] = None\n",
        "    else:\n",
        "      knn = KNeighborsClassifier(n_neighbors=k, metric='l2')  # empirically confirm; use heuristic instead of min\n",
        "      knn.fit(X_search, y_search)\n",
        "      results[k] = knn.predict(np.array([predicted_vector]))[0]\n",
        "      \n",
        "  return results # return dict of predictions for each k in ks [1, 2, 4, 6, 8]\n",
        "\n",
        "# Who to believe in prediction\n",
        "# input: (baseline prediction, baseline spectar, knns oredictions, knns spectars)\n",
        "def who_to_believe(predicted_label, writer_network_spectar, min_labels, writer_knn_spectars): # Return optimal k or None if baseline is the best\n",
        "  trust = [writer_network_spectar[predicted_label].get_mean()]\n",
        "  for k in ks:\n",
        "    if min_labels[k] is None: # no prediction for that k\n",
        "      trust.append(-1)  # baseline is above 0 in any case\n",
        "    else:\n",
        "      trust.append(writer_knn_spectars[k][min_labels[k]].get_mean())  # mean of density approximation for predicted label for specific k \n",
        "    \n",
        "  maxindex = trust.index(max(trust))\n",
        "  if maxindex is 0:  # baseline is the best\n",
        "    return None\n",
        "  else:              # find proper k (-1 is ok cause of 0 index is for baseline)\n",
        "    return ks[maxindex-1]"
      ],
      "execution_count": 0,
      "outputs": []
    },
    {
      "metadata": {
        "id": "sIJSWwRhopNr",
        "colab_type": "code",
        "colab": {}
      },
      "cell_type": "code",
      "source": [
        "import random\n",
        "from itertools import chain\n",
        "from random import shuffle\n",
        "\n",
        "# Helper function; Simulate unfair coin flip\n",
        "def flip_a_unfair_coin(p): # p is for example 3/10 etc.\n",
        "  return random.random()<p\n",
        "\n",
        "# Hardcoded split 90%:10%\n",
        "# Get images and labels of some writer, and create 90%:10% split\n",
        "# return images and labels (same list) and also m (border line: [0, m), [m, n) split)\n",
        "def stratify_me(images, labels):\n",
        "  X_train = []  # train:test = 90%:10% of writer images\n",
        "  X_test = []\n",
        "  y_train = []\n",
        "  y_test = []\n",
        "  \n",
        "  indexlabels = sorted(alphabet) # [48, 49, 50, ..., 65, 66, ..., 97, 98, ...]\n",
        "  freqlabels = [[] for _ in indexlabels]  # 0-9, A-Z, a-z\n",
        "  \n",
        "  n = len(labels)  # size of writer pictures\n",
        "  m = 0            # border for dynamic history ~int(0.9*n)+1\n",
        "  \n",
        "  for i in range(len(labels)):\n",
        "    indx = indexlabels.index(labels[i])  # position in freqlabels with respect to ascii code of label\n",
        "    freqlabels[indx].append(i)                # freqlabels[ascii_code_of_0] contains all indexes for label '0' in writer images\n",
        "    \n",
        "  for freq in freqlabels:\n",
        "    shuffle(freq)\n",
        "    \n",
        "    # first part, enough label\n",
        "    while len(freq)>=10:\n",
        "      _freq = freq[:10]\n",
        "      freq = freq[10:]\n",
        "      \n",
        "                                       # random choose one of ten images for evaluation (I can choose one index, but I want to shuffle also for dynamic history)\n",
        "      X_test.append(images[_freq[0]])  # add one image for evaluation set\n",
        "      y_test.append(labels[_freq[0]])\n",
        "      for f in _freq[1:]:\n",
        "        X_train.append(images[f])  # add nine images to dynamic istory set\n",
        "        y_train.append(labels[f])\n",
        "      m += 9                              # added nine images into dynamic history\n",
        "    \n",
        "    # second part, should I sample from tail (example 3 images instead of 10)\n",
        "    if flip_a_unfair_coin(len(freq)/10)==True:\n",
        "      X_test.append(images[freq[0]])\n",
        "      y_test.append(labels[freq[0]])\n",
        "      freq = freq[1:]\n",
        "      \n",
        "    for f in freq:\n",
        "      X_train.append(images[f])\n",
        "      y_train.append(labels[f])\n",
        "    m += len(freq)  # added rest of the images into dynamic history set\n",
        "    \n",
        "  return X_train+X_test, y_train+y_test, m, n"
      ],
      "execution_count": 0,
      "outputs": []
    },
    {
      "metadata": {
        "id": "qtwjm_h3ovme",
        "colab_type": "code",
        "colab": {
          "base_uri": "https://localhost:8080/",
          "height": 425
        },
        "outputId": "0093933b-ed19-488d-b577-74fdf449b30d"
      },
      "cell_type": "code",
      "source": [
        "%%time\n",
        "\n",
        "for writer in TESTDATA.keys():   # [2, 665, 1369]: writer - current writer id\n",
        "  #images9 = TESTDATA[writer][0]  # images9 - images of current writer\n",
        "  #labels9 = TESTDATA[writer][1]  # labels9 - labels of current writer\n",
        "  #n = len(images9)               \n",
        "  #m = int(0.90*n)+1                 # 90% for dynaminc history, 10% for evaluation of new model\n",
        "  images9, labels9, m, n = stratify_me(TESTDATA[writer][0], OH_L.decode_all(TESTDATA[writer][1]))\n",
        "  \n",
        "  \n",
        "  #################################################### GET DYNAMIC HISTORY {(predicted_label, original_label):[[vector], count]}\n",
        "  history = {}\n",
        "  for i in range(0, m):\n",
        "    original_label = labels9[i]\n",
        "    predicted_label = OH_L.decode(recognizer.predict(np.array([images9[i]]))[0])\n",
        "    predicted_vector = find_minimal(original_label, finder.predict(np.array([images9[i]]))[0])  \n",
        "    if (predicted_label, original_label) not in history.keys():\n",
        "      history[(predicted_label, original_label)]=[predicted_vector, 1]\n",
        "    else:\n",
        "      history[(predicted_label, original_label)][0] += predicted_vector\n",
        "      history[(predicted_label, original_label)][1] += 1      \n",
        "  for (x,y) in sorted(history.keys()):  # find AVG of predicted clusters; DROP THIS PART IN NEW VERSION; MLADEN IDEA\n",
        "    history[(x,y)][0] /= history[(x,y)][1]  \n",
        "  \n",
        "  #################################################### GET SPECTARS\n",
        "  writer_network_spectar = {}\n",
        "  writer_knn_spectars = {}  # dict of dictionaries\n",
        "  for k in ks:\n",
        "    writer_knn_spectars[k] = {}  # spectars for each k in ks\n",
        "  for l in labels:   # add statistic for character l to all spectars\n",
        "    writer_network_spectar[l] = CharStatistic(l) # [0, 0]\n",
        "    for k in ks:\n",
        "      writer_knn_spectars[k][l] = CharStatistic(l)\n",
        "    \n",
        "  for i in range(0, m):\n",
        "    original_label = labels9[i]\n",
        "    predicted_label = OH_L.decode(recognizer.predict(np.array([images9[i]]))[0])\n",
        "    predicted_vector = finder.predict(np.array([images9[i]]))[0]\n",
        "    \n",
        "    ##### writer_network_spectar\n",
        "    if original_label == predicted_label:\n",
        "      writer_network_spectar[predicted_label].update_one(1) # Network says predicted_label and its correct\n",
        "    else:\n",
        "      writer_network_spectar[predicted_label].update_one(0)  # Network says predicted_label and its wrong\n",
        "         \n",
        "    ##### writer_knn_spectar\n",
        "    min_labels = get_min_label(history, predicted_vector)\n",
        "    for k in ks:  # get min label is configured with respect to ks\n",
        "      min_label = min_labels[k]\n",
        "      if min_label is None:\n",
        "        min_label = predicted_label  # min label je moje predvidjanje \n",
        "      if min_label == original_label:  # min_label je ono sto ja predvidjam na onih 10%; to i evaluiram \n",
        "        writer_knn_spectars[k][min_label].update_one(1)\n",
        "      else:\n",
        "        writer_knn_spectars[k][min_label].update_one(0)\n",
        "  \n",
        "  #################################################### GET S AND S1\n",
        "  S = 0\n",
        "  S1 = 0\n",
        "  Sboth = 0\n",
        "  N = len(labels9[m:n])\n",
        "  for i in range(m, n):  # slow variant\n",
        "    original_label = labels9[i]\n",
        "    predicted_label = OH_L.decode(recognizer.predict(np.array([images9[i]]))[0]) # int(string like '48') -> ascii code\n",
        "    predicted_vector = finder.predict(np.array([images9[i]]))[0]\n",
        "    \n",
        "    ##### S1; old one\n",
        "    #print('NN DEBUG: predicted: ', predicted_label, 'original: ', original_label)\n",
        "    #input()\n",
        "    if predicted_label == original_label:\n",
        "      S1 += 1\n",
        "    predicted_label_bkp = predicted_label\n",
        "    ##### S; new approach\n",
        "    min_labels = get_min_label(history, predicted_vector)  # get list of predictions or each k\n",
        "    k = who_to_believe(predicted_label, writer_network_spectar, min_labels, writer_knn_spectars)  # Choose who have biggest mean of all spectars, use it as a aprediction\n",
        "    if k is not None and min_labels[k] is not None:  # believe to specific knn, which have it own prediction\n",
        "      predicted_label = min_labels[k]  # new approach; change network prediction if knn is sure enough  \n",
        "    if predicted_label == original_label:\n",
        "      S += 1\n",
        "  \n",
        "    ##### Sboth\n",
        "    if predicted_label_bkp == original_label or (k is not None and min_labels[k] is not None and min_labels[k]==original_label):\n",
        "      Sboth+=1 \n",
        "  \n",
        "    ########## UPDATE history AND *spectar ##########\n",
        "    # original_label OK\n",
        "    predicted_label = predicted_label_bkp\n",
        "    # predicted_vector OK \n",
        "    \n",
        "    # history\n",
        "    predicted_vector_bkp = find_minimal(original_label, predicted_vector)\n",
        "    if (predicted_label, original_label) not in history.keys():\n",
        "      history[(predicted_label, original_label)]=[predicted_vector_bkp, 1]\n",
        "    else:\n",
        "      history[(predicted_label, original_label)][0] = (history[(predicted_label, original_label)][0]*history[(predicted_label, original_label)][1]+predicted_vector_bkp)/(history[(predicted_label, original_label)][1]+1)\n",
        "      history[(predicted_label, original_label)][1] += 1\n",
        "    \n",
        "    # writer_network_spectar\n",
        "    if original_label == predicted_label:\n",
        "      writer_network_spectar[predicted_label].update_one(1)  # Network says predicted_label and its correct\n",
        "    else:\n",
        "      writer_network_spectar[predicted_label].update_one(0)  # Network says predicted_label and its wrong\n",
        "  \n",
        "    # writer_knn_spectar\n",
        "    min_labels = get_min_label(history, predicted_vector)  # prvo ga ubacim u istoriju - ali kao proseci itd. a onda kasnije trazim min_label; MOZDA INVERZNO? da ne bih nasao istog\n",
        "    for k in ks:\n",
        "      min_label = min_labels[k]\n",
        "      if min_label is None:\n",
        "        min_label = predicted_label  # min label je moje predvidjanje \n",
        "      if min_label == original_label:  # min_label je ono sto ja predvidjam na onih 10%; to i evaluiram \n",
        "        writer_knn_spectars[k][min_label].update_one(1)\n",
        "      else:\n",
        "        writer_knn_spectars[k][min_label].update_one(0)\n",
        "    ########## END UPDATE ##########\n",
        "    \n",
        "  #################################################### PRINT AND UPDATE GLOBAL VALUES\n",
        "  if S!=S1:  # Print only diff\n",
        "    print(\"Writer {0:4d} == mynew: {1:d} ({2:3.2f}%) == old: {3:d} ({4:3.2f}%) == both: {5:d} ({6:3.2f}%), No. of images {7:d}, len(image9)={8:d}\".format(writer, S, float(100*S)/N, S1, float(100*S1)/N, Sboth, float(100.0*Sboth)/N, N, n))\n",
        "  sumS += S\n",
        "  sumS1 += S1\n",
        "  sumSboth += Sboth\n",
        "  sumN += N   \n",
        "  \n",
        "  if S==S1:\n",
        "    equal += 1\n",
        "  elif S>S1:\n",
        "    winnew += 1\n",
        "    lenBetterNew += n\n",
        "  else:\n",
        "    winold += 1\n",
        "    lenBetterOld += n   \n",
        "    \n",
        "  del history\n",
        "  del writer_network_spectar\n",
        "  del writer_knn_spectars"
      ],
      "execution_count": 72,
      "outputs": [
        {
          "output_type": "stream",
          "text": [
            "Writer 123526 == mynew: 131 (90.34%) == old: 127 (87.59%) == both: 132 (91.03%), No. of images 145, len(image9)=1446\n",
            "Writer 10004 == mynew: 141 (95.92%) == old: 137 (93.20%) == both: 142 (96.60%), No. of images 147, len(image9)=1478\n",
            "Writer 10005 == mynew: 132 (86.84%) == old: 121 (79.61%) == both: 133 (87.50%), No. of images 152, len(image9)=1539\n",
            "Writer 123541 == mynew: 151 (95.57%) == old: 147 (93.04%) == both: 151 (95.57%), No. of images 158, len(image9)=1564\n",
            "Writer 10135 == mynew: 135 (91.84%) == old: 132 (89.80%) == both: 137 (93.20%), No. of images 147, len(image9)=1443\n",
            "Writer 10008 == mynew: 128 (88.89%) == old: 129 (89.58%) == both: 131 (90.97%), No. of images 144, len(image9)=1467\n",
            "Writer 10010 == mynew: 101 (72.14%) == old: 88 (62.86%) == both: 104 (74.29%), No. of images 140, len(image9)=1435\n",
            "Writer 10142 == mynew: 145 (90.62%) == old: 143 (89.38%) == both: 146 (91.25%), No. of images 160, len(image9)=1589\n",
            "Writer 10143 == mynew: 143 (85.63%) == old: 146 (87.43%) == both: 147 (88.02%), No. of images 167, len(image9)=1654\n",
            "Writer 10015 == mynew: 140 (88.61%) == old: 139 (87.97%) == both: 142 (89.87%), No. of images 158, len(image9)=1576\n",
            "Writer 10017 == mynew: 132 (91.03%) == old: 130 (89.66%) == both: 138 (95.17%), No. of images 145, len(image9)=1477\n",
            "Writer 10146 == mynew: 124 (81.58%) == old: 119 (78.29%) == both: 127 (83.55%), No. of images 152, len(image9)=1495\n",
            "Writer 10019 == mynew: 93 (63.27%) == old: 85 (57.82%) == both: 97 (65.99%), No. of images 147, len(image9)=1514\n",
            "Writer 10021 == mynew: 104 (67.53%) == old: 95 (61.69%) == both: 107 (69.48%), No. of images 154, len(image9)=1498\n",
            "Writer 10014 == mynew: 123 (82.55%) == old: 119 (79.87%) == both: 125 (83.89%), No. of images 149, len(image9)=1483\n",
            "Writer 10044 == mynew: 134 (92.41%) == old: 128 (88.28%) == both: 134 (92.41%), No. of images 145, len(image9)=1451\n",
            "Writer 10182 == mynew: 127 (84.67%) == old: 119 (79.33%) == both: 128 (85.33%), No. of images 150, len(image9)=1478\n",
            "Writer 123486 == mynew: 99 (68.75%) == old: 82 (56.94%) == both: 101 (70.14%), No. of images 144, len(image9)=1438\n",
            "Writer 10212 == mynew: 114 (80.28%) == old: 112 (78.87%) == both: 119 (83.80%), No. of images 142, len(image9)=1442\n",
            "Writer 123505 == mynew: 139 (85.80%) == old: 121 (74.69%) == both: 141 (87.04%), No. of images 162, len(image9)=1594\n",
            "Writer 10103 == mynew: 127 (83.01%) == old: 124 (81.05%) == both: 129 (84.31%), No. of images 153, len(image9)=1489\n",
            "Writer 10106 == mynew: 142 (86.59%) == old: 139 (84.76%) == both: 144 (87.80%), No. of images 164, len(image9)=1626\n",
            "CPU times: user 9min 48s, sys: 22.6 s, total: 10min 11s\n",
            "Wall time: 8min 12s\n"
          ],
          "name": "stdout"
        }
      ]
    },
    {
      "metadata": {
        "id": "AziQYSygpNIo",
        "colab_type": "code",
        "colab": {
          "base_uri": "https://localhost:8080/",
          "height": 170
        },
        "outputId": "18dcf00f-ad41-43d2-ba7f-150b7b094ead"
      },
      "cell_type": "code",
      "source": [
        "print('winold: ', winold)\n",
        "print('equal: ', equal)\n",
        "print('winnew: ', winnew)\n",
        "print('S: (new): ', 100.0*sumS/sumN)\n",
        "print('S1: (old): ', 100.0*sumS1/sumN)\n",
        "print('Sboth: (new): ', 100.0*sumSboth/sumN)\n",
        "print('AVG len winold: ', 1.0*lenBetterOld/winold)\n",
        "print('AVG len winnew: ', 1.0*lenBetterNew/winnew)\n",
        "print('No of evaluation images: ', sumN)"
      ],
      "execution_count": 73,
      "outputs": [
        {
          "output_type": "stream",
          "text": [
            "winold:  2\n",
            "equal:  3\n",
            "winnew:  20\n",
            "S: (new):  84.85411140583554\n",
            "S1: (old):  81.59151193633953\n",
            "Sboth: (new):  86.39257294429709\n",
            "AVG len winold:  1560.5\n",
            "AVG len winnew:  1502.75\n",
            "No of evaluation images:  3770\n"
          ],
          "name": "stdout"
        }
      ]
    },
    {
      "metadata": {
        "id": "-TjnXLRRrzYc",
        "colab_type": "text"
      },
      "cell_type": "markdown",
      "source": [
        "# With resampling x5"
      ]
    },
    {
      "metadata": {
        "id": "_XSonFEWrooo",
        "colab_type": "code",
        "colab": {
          "base_uri": "https://localhost:8080/",
          "height": 88
        },
        "outputId": "ffa62202-7b85-49c6-bdc2-1d3cd035a4f9"
      },
      "cell_type": "code",
      "source": [
        "labels = alphabet\n",
        "print(labels)  \n",
        "print(len(labels))\n",
        "\n",
        "testset = set(test_Writers)\n",
        "print(len(testset))  # No of different writers\n",
        "\n",
        "# TESTDATA[Writer] = [testImagesOfWriter, testLabelsOfWriter]; example: TESTDATA[9] = [testImages9, testLabels9]\n",
        "TESTDATA = {} \n",
        "for writer in testset:\n",
        "  TESTDATA[writer] = [[], []]\n",
        "for i in range(0, len(test_Writers)):\n",
        "    TESTDATA[test_Writers[i]][0].append(test_Images[i])\n",
        "    TESTDATA[test_Writers[i]][1].append(test_Labels[i])\n",
        "\n",
        "def find_minimal(i, vector):  # i is the ascii code: 48.49,...,65,66,...,97,...\n",
        "  # Implicit use of dictionary ICentroids[ASCII]\n",
        "  minindex = 0\n",
        "  mineps = np.linalg.norm(vector-ICentroids[i][0])\n",
        "  for j in range(1, ICentroids[i].shape[0]):  \n",
        "    _mineps = np.linalg.norm(vector-ICentroids[i][j])\n",
        "    if _mineps < mineps:\n",
        "      mineps = _mineps\n",
        "      minindex = j\n",
        "      \n",
        "  return ICentroids[i][minindex].copy()"
      ],
      "execution_count": 74,
      "outputs": [
        {
          "output_type": "stream",
          "text": [
            "['', '0', '1', '2', '3', '4', '5', '6', '7', '8', '9', 'a', 'b', 'c', 'd', 'e', 'f', 'g', 'h', 'i', 'j', 'k', 'l', 'm', 'n', 'o', 'p', 'q', 'r', 's', 't', 'u', 'v', 'w', 'x', 'y', 'z', 'A', 'B', 'C', 'D', 'E', 'F', 'G', 'H', 'I', 'J', 'K', 'L', 'M', 'N', 'O', 'P', 'Q', 'R', 'S', 'T', 'U', 'V', 'W', 'X', 'Y', 'Z', \"'\", '.', ',', '-', '(', ')', '/']\n",
            "70\n",
            "25\n"
          ],
          "name": "stdout"
        }
      ]
    },
    {
      "metadata": {
        "id": "tGPyAWGir6b6",
        "colab_type": "code",
        "colab": {}
      },
      "cell_type": "code",
      "source": [
        "winold = 0\n",
        "equal = 0\n",
        "winnew = 0\n",
        "sumS = 0\n",
        "sumS1 = 0\n",
        "sumSboth = 0\n",
        "sumN = 0\n",
        "lenBetterOld = 0\n",
        "lenBetterNew = 0"
      ],
      "execution_count": 0,
      "outputs": []
    },
    {
      "metadata": {
        "id": "aVt9Gkazr8xz",
        "colab_type": "code",
        "colab": {}
      },
      "cell_type": "code",
      "source": [
        "import math\n",
        "ks = [2, 4, 6, 8, 10]  # outer object for configure get_min_label function and evaluation\n",
        "\n",
        "def get_min_label(history, predicted_vector): # return list of predicted label for k in ks\n",
        "  X_search = []\n",
        "  y_search = []\n",
        "  for (_predicted_label, _original_label) in history.keys():  # Na 90% mreza je rekla _predicted_label a bila je _original_label (imam vector i count)\n",
        "      if _predicted_label == predicted_label:\n",
        "        for _ in range(history[(_predicted_label, _original_label)][1]):\n",
        "          X_search.append(history[(_predicted_label, _original_label)][0])\n",
        "          y_search.append(_original_label)      \n",
        "  \n",
        "  results = {}\n",
        "  for k in ks:\n",
        "    if len(X_search)<k:  # if I cant do knn search with respect to specific k\n",
        "      results[k] = None\n",
        "    else:\n",
        "      knn = KNeighborsClassifier(n_neighbors=k, metric='l2')  # empirically confirm; use heuristic instead of min\n",
        "      knn.fit(X_search, y_search)\n",
        "      results[k] = knn.predict(np.array([predicted_vector]))[0]\n",
        "      \n",
        "  return results # return dict of predictions for each k in ks [1, 2, 4, 6, 8]\n",
        "\n",
        "# Who to believe in prediction\n",
        "# input: (baseline prediction, baseline spectar, knns oredictions, knns spectars)\n",
        "def who_to_believe(predicted_label, writer_network_spectar, min_labels, writer_knn_spectars): # Return optimal k or None if baseline is the best\n",
        "  trust = [writer_network_spectar[predicted_label].get_mean()]\n",
        "  for k in ks:\n",
        "    if min_labels[k] is None: # no prediction for that k\n",
        "      trust.append(-1)  # baseline is above 0 in any case\n",
        "    else:\n",
        "      trust.append(writer_knn_spectars[k][min_labels[k]].get_mean())  # mean of density approximation for predicted label for specific k \n",
        "    \n",
        "  maxindex = trust.index(max(trust))\n",
        "  if maxindex is 0:  # baseline is the best\n",
        "    return None\n",
        "  else:              # find proper k (-1 is ok cause of 0 index is for baseline)\n",
        "    return ks[maxindex-1]"
      ],
      "execution_count": 0,
      "outputs": []
    },
    {
      "metadata": {
        "id": "JeqmJ2_bsAdp",
        "colab_type": "code",
        "colab": {}
      },
      "cell_type": "code",
      "source": [
        "import random\n",
        "from itertools import chain\n",
        "from random import shuffle\n",
        "\n",
        "# Helper function; Simulate unfair coin flip\n",
        "def flip_a_unfair_coin(p): # p is for example 3/10 etc.\n",
        "  return random.random()<p\n",
        "\n",
        "# Hardcoded split 90%:10%\n",
        "# Get images and labels of some writer, and create 90%:10% split\n",
        "# return images and labels (same list) and also m (border line: [0, m), [m, n) split)\n",
        "def stratify_me(images, labels):\n",
        "  X_train = []  # train:test = 90%:10% of writer images\n",
        "  X_test = []\n",
        "  y_train = []\n",
        "  y_test = []\n",
        "  \n",
        "  indexlabels = sorted(alphabet) # [48, 49, 50, ..., 65, 66, ..., 97, 98, ...]\n",
        "  freqlabels = [[] for _ in indexlabels]  # 0-9, A-Z, a-z\n",
        "  \n",
        "  n = len(labels)  # size of writer pictures\n",
        "  m = 0            # border for dynamic history ~int(0.9*n)+1\n",
        "  \n",
        "  for i in range(len(labels)):\n",
        "    indx = indexlabels.index(labels[i])  # position in freqlabels with respect to ascii code of label\n",
        "    freqlabels[indx].append(i)                # freqlabels[ascii_code_of_0] contains all indexes for label '0' in writer images\n",
        "    \n",
        "  for freq in freqlabels:\n",
        "    shuffle(freq)\n",
        "    \n",
        "    # first part, enough label\n",
        "    while len(freq)>=10:\n",
        "      _freq = freq[:10]\n",
        "      freq = freq[10:]\n",
        "      \n",
        "                                       # random choose one of ten images for evaluation (I can choose one index, but I want to shuffle also for dynamic history)\n",
        "      X_test.append(images[_freq[0]])  # add one image for evaluation set\n",
        "      y_test.append(labels[_freq[0]])\n",
        "      for f in _freq[1:]:\n",
        "        X_train.append(images[f])  # add nine images to dynamic istory set\n",
        "        y_train.append(labels[f])\n",
        "      m += 9                              # added nine images into dynamic history\n",
        "    \n",
        "    # second part, should I sample from tail (example 3 images instead of 10)\n",
        "    if flip_a_unfair_coin(len(freq)/10)==True:\n",
        "      X_test.append(images[freq[0]])\n",
        "      y_test.append(labels[freq[0]])\n",
        "      freq = freq[1:]\n",
        "      \n",
        "    for f in freq:\n",
        "      X_train.append(images[f])\n",
        "      y_train.append(labels[f])\n",
        "    m += len(freq)  # added rest of the images into dynamic history set\n",
        "    \n",
        "  return X_train+X_test, y_train+y_test, m, n"
      ],
      "execution_count": 0,
      "outputs": []
    },
    {
      "metadata": {
        "id": "zHZH1mI_sEQF",
        "colab_type": "code",
        "colab": {}
      },
      "cell_type": "code",
      "source": [
        "NoResample = 5"
      ],
      "execution_count": 0,
      "outputs": []
    },
    {
      "metadata": {
        "id": "rJCiWVfisMyu",
        "colab_type": "code",
        "colab": {
          "base_uri": "https://localhost:8080/",
          "height": 476
        },
        "outputId": "65578f7e-3081-4d09-b166-9ebf21b20f8f"
      },
      "cell_type": "code",
      "source": [
        "%%time\n",
        "\n",
        "for writer in TESTDATA.keys():   # writer - current writer id\n",
        "  #images9 = TESTDATA[writer][0]  # images9 - images of current writer\n",
        "  #labels9 = TESTDATA[writer][1]  # labels9 - labels of current writer\n",
        "  #n = len(images9)               \n",
        "  #m = int(0.9*n)+1                 # 90% for dynaminc history, 10% for evaluation of new model\n",
        "  \n",
        "  S = 0      # no of images on which new method is correct\n",
        "  S1 = 0     # no of images on which baseline network is correct\n",
        "  Sboth = 0  # no of images on which either baseline or knn is correct\n",
        "  Nall = 0   # no of evaluation images\n",
        "  for _ in range(NoResample):  # Resample\n",
        "    #################################################### STRATIFY AND SHUFFLE INTERNALLY \n",
        "    images9, labels9, m, n = stratify_me(TESTDATA[writer][0], OH_L.decode_all(TESTDATA[writer][1]))\n",
        "    \n",
        "    #################################################### GET DYNAMIC HISTORY {(predicted_label, original_label):[[vector], count]}\n",
        "    history = {}\n",
        "    for i in range(0, m):\n",
        "      original_label = labels9[i]\n",
        "      predicted_label = OH_L.decode(recognizer.predict(np.array([images9[i]]))[0])\n",
        "      predicted_vector = find_minimal(original_label, finder.predict(np.array([images9[i]]))[0])  \n",
        "      if (predicted_label, original_label) not in history.keys():\n",
        "        history[(predicted_label, original_label)]=[predicted_vector, 1]\n",
        "      else:\n",
        "        history[(predicted_label, original_label)][0] += predicted_vector\n",
        "        history[(predicted_label, original_label)][1] += 1      \n",
        "    for (x,y) in sorted(history.keys()):  # find AVG of predicted clusters\n",
        "      history[(x,y)][0] /= history[(x,y)][1]  \n",
        "  \n",
        "    #################################################### GET SPECTARS\n",
        "    writer_network_spectar = {}\n",
        "    writer_knn_spectars = {}  # dict of dictionaries\n",
        "    for k in ks:\n",
        "      writer_knn_spectars[k] = {}  # spectars for each k in ks\n",
        "    for l in labels:   # add statistic for character l to all spectars\n",
        "      writer_network_spectar[l] = CharStatistic(l) # [0, 0]\n",
        "      for k in ks:\n",
        "        writer_knn_spectars[k][l] = CharStatistic(l)\n",
        "    \n",
        "    for i in range(0, m):\n",
        "      original_label = labels9[i]\n",
        "      predicted_label = OH_L.decode(recognizer.predict(np.array([images9[i]]))[0])\n",
        "      predicted_vector = finder.predict(np.array([images9[i]]))[0]\n",
        "    \n",
        "      ##### writer_network_spectar\n",
        "      if original_label == predicted_label:\n",
        "        writer_network_spectar[predicted_label].update_one(1)  # Network says predicted_label and its correct\n",
        "      else:\n",
        "        writer_network_spectar[predicted_label].update_one(0)  # Network says predicted_label and its wrong\n",
        "         \n",
        "      ##### writer_knn_spectar\n",
        "      min_labels = get_min_label(history, predicted_vector)\n",
        "      for k in ks:  # get min label is configured with respect to ks\n",
        "        min_label = min_labels[k]\n",
        "        if min_label is None:\n",
        "          min_label = predicted_label  # min label je moje predvidjanje \n",
        "        if min_label == original_label:  # min_label je ono sto ja predvidjam na onih 10%; to i evaluiram \n",
        "          writer_knn_spectars[k][min_label].update_one(1)\n",
        "        else:\n",
        "          writer_knn_spectars[k][min_label].update_one(0)\n",
        "  \n",
        "    #################################################### GET S AND S1\n",
        "    s = 0                  # tmp no of images on which knn is correct\n",
        "    s1 = 0                 # tmp no of images on which baseline is correct\n",
        "    sboth = 0              # tmp no of images on which either knn or baseline is correct\n",
        "    N = len(labels9[m:n])  # tmp no of evaluation images\n",
        "    for i in range(m, n): \n",
        "      original_label = labels9[i]\n",
        "      predicted_label = OH_L.decode(recognizer.predict(np.array([images9[i]]))[0]) # int(string like '48') -> ascii code 48\n",
        "      predicted_vector = finder.predict(np.array([images9[i]]))[0]\n",
        "    \n",
        "      ##### s1; old one\n",
        "      if predicted_label == original_label:\n",
        "        s1 += 1\n",
        "      predicted_label_bkp = predicted_label\n",
        "      ##### s; new approach\n",
        "      min_labels = get_min_label(history, predicted_vector)  # get list of predictions or each k\n",
        "      k = who_to_believe(predicted_label, writer_network_spectar, min_labels, writer_knn_spectars)  # Choose who have biggest mean of all spectars, use it as a aprediction\n",
        "      if k is not None and min_labels[k] is not None:  # believe to specific knn, which have it own prediction\n",
        "        predicted_label = min_labels[k]  # new approach; change network prediction if knn is sure enough  \n",
        "      if predicted_label == original_label:\n",
        "        s += 1\n",
        "  \n",
        "      ##### sboth\n",
        "      if predicted_label_bkp == original_label or (k is not None and min_labels[k] is not None and min_labels[k]==original_label):\n",
        "        sboth+=1 \n",
        "\n",
        "      ########## UPDATE history AND *spectar ##########\n",
        "      # original_label OK\n",
        "      predicted_label = predicted_label_bkp\n",
        "      # predicted_vector OK \n",
        "    \n",
        "      # history\n",
        "      predicted_vector_bkp = find_minimal(original_label, predicted_vector)  # smal bug; fixed; predicted vector is nearest cluster/avg of clusters not next tot last\n",
        "      if (predicted_label, original_label) not in history.keys():\n",
        "        history[(predicted_label, original_label)]=[predicted_vector_bkp, 1]\n",
        "      else:\n",
        "        history[(predicted_label, original_label)][0] = (history[(predicted_label, original_label)][0]*history[(predicted_label, original_label)][1]+predicted_vector_bkp)/(history[(predicted_label, original_label)][1]+1)\n",
        "        history[(predicted_label, original_label)][1] += 1\n",
        "    \n",
        "      # writer_network_spectar\n",
        "      if original_label == predicted_label:\n",
        "        writer_network_spectar[predicted_label].update_one(1)  # Network says predicted_label and its correct\n",
        "      else:\n",
        "        writer_network_spectar[predicted_label].update_one(0)  # Network says predicted_label and its wrong\n",
        "  \n",
        "      # writer_knn_spectar\n",
        "      min_labels = get_min_label(history, predicted_vector)  # prvo ga ubacim u istoriju - ali kao proseci itd. a onda kasnije trazim min_label; MOZDA INVERZNO? da ne bih nasao istog\n",
        "      for k in ks:\n",
        "        min_label = min_labels[k]\n",
        "        if min_label is None:\n",
        "          min_label = predicted_label  # min label je moje predvidjanje \n",
        "        if min_label == original_label:  # min_label je ono sto ja predvidjam na onih 10%; to i evaluiram \n",
        "          writer_knn_spectars[k][min_label].update_one(1)\n",
        "        else:\n",
        "          writer_knn_spectars[k][min_label].update_one(0)\n",
        "      ########## END UPDATE ##########        \n",
        "        \n",
        "        \n",
        "    S += s\n",
        "    S1 += s1\n",
        "    Sboth += sboth\n",
        "    Nall += N\n",
        "    del history\n",
        "    del writer_network_spectar\n",
        "    del writer_knn_spectars\n",
        "    # images9, labels9 = shuffle_both(images9, labels9)  # shuffle images for resampling; final 10% i use for evaluation, first 90% for dynamic history; DONT USE ANYMORE\n",
        "\n",
        "  #################################################### PRINT AND UPDATE GLOBAL VALUES\n",
        "  if S!=S1:  # Print only diff\n",
        "    print(\"Writer {0:4d} == mynew: {1:d} ({2:3.2f}%) == old: {3:d} ({4:3.2f}%) == both: {5:d} ({6:3.2f}%), No. of images {7:d}, len(image9)={8:d}\".format(writer, S, float(100*S)/Nall, S1, float(100*S1)/Nall, Sboth, float(100.0*Sboth)/Nall, Nall, n))\n",
        "  sumS += S\n",
        "  sumS1 += S1\n",
        "  sumSboth += Sboth\n",
        "  sumN += Nall\n",
        "  \n",
        "  if S==S1:     # Update win counts\n",
        "    equal += 1\n",
        "  elif S>S1:\n",
        "    winnew += 1\n",
        "    lenBetterNew += n\n",
        "  else:\n",
        "    winold += 1\n",
        "    lenBetterOld += n"
      ],
      "execution_count": 79,
      "outputs": [
        {
          "output_type": "stream",
          "text": [
            "Writer 123526 == mynew: 644 (89.69%) == old: 639 (89.00%) == both: 649 (90.39%), No. of images 718, len(image9)=1446\n",
            "Writer 10004 == mynew: 696 (94.69%) == old: 695 (94.56%) == both: 710 (96.60%), No. of images 735, len(image9)=1478\n",
            "Writer 10005 == mynew: 642 (83.70%) == old: 614 (80.05%) == both: 659 (85.92%), No. of images 767, len(image9)=1539\n",
            "Writer 123541 == mynew: 726 (93.56%) == old: 707 (91.11%) == both: 730 (94.07%), No. of images 776, len(image9)=1564\n",
            "Writer 10135 == mynew: 687 (93.47%) == old: 666 (90.61%) == both: 691 (94.01%), No. of images 735, len(image9)=1443\n",
            "Writer 10008 == mynew: 644 (87.26%) == old: 625 (84.69%) == both: 658 (89.16%), No. of images 738, len(image9)=1467\n",
            "Writer 10010 == mynew: 492 (68.52%) == old: 436 (60.72%) == both: 510 (71.03%), No. of images 718, len(image9)=1435\n",
            "Writer 10142 == mynew: 743 (93.22%) == old: 748 (93.85%) == both: 751 (94.23%), No. of images 797, len(image9)=1589\n",
            "Writer 10143 == mynew: 738 (89.89%) == old: 728 (88.67%) == both: 749 (91.23%), No. of images 821, len(image9)=1654\n",
            "Writer 10015 == mynew: 687 (87.52%) == old: 671 (85.48%) == both: 693 (88.28%), No. of images 785, len(image9)=1576\n",
            "Writer 10017 == mynew: 663 (89.11%) == old: 661 (88.84%) == both: 690 (92.74%), No. of images 744, len(image9)=1477\n",
            "Writer 10018 == mynew: 741 (92.51%) == old: 732 (91.39%) == both: 746 (93.13%), No. of images 801, len(image9)=1600\n",
            "Writer 10146 == mynew: 626 (82.80%) == old: 600 (79.37%) == both: 644 (85.19%), No. of images 756, len(image9)=1495\n",
            "Writer 10019 == mynew: 486 (64.54%) == old: 470 (62.42%) == both: 520 (69.06%), No. of images 753, len(image9)=1514\n",
            "Writer 10021 == mynew: 525 (71.04%) == old: 504 (68.20%) == both: 552 (74.70%), No. of images 739, len(image9)=1498\n",
            "Writer 10014 == mynew: 603 (80.83%) == old: 610 (81.77%) == both: 633 (84.85%), No. of images 746, len(image9)=1483\n",
            "Writer 10151 == mynew: 635 (88.56%) == old: 633 (88.28%) == both: 646 (90.10%), No. of images 717, len(image9)=1443\n",
            "Writer 10044 == mynew: 645 (90.08%) == old: 624 (87.15%) == both: 651 (90.92%), No. of images 716, len(image9)=1451\n",
            "Writer 10182 == mynew: 621 (83.02%) == old: 604 (80.75%) == both: 642 (85.83%), No. of images 748, len(image9)=1478\n",
            "Writer 123486 == mynew: 502 (70.41%) == old: 415 (58.20%) == both: 517 (72.51%), No. of images 713, len(image9)=1438\n",
            "Writer 10211 == mynew: 588 (81.78%) == old: 579 (80.53%) == both: 602 (83.73%), No. of images 719, len(image9)=1439\n",
            "Writer 10212 == mynew: 584 (81.45%) == old: 555 (77.41%) == both: 598 (83.40%), No. of images 717, len(image9)=1442\n",
            "Writer 123505 == mynew: 722 (90.14%) == old: 640 (79.90%) == both: 725 (90.51%), No. of images 801, len(image9)=1594\n",
            "Writer 10103 == mynew: 641 (86.62%) == old: 621 (83.92%) == both: 654 (88.38%), No. of images 740, len(image9)=1489\n",
            "Writer 10106 == mynew: 711 (86.92%) == old: 693 (84.72%) == both: 717 (87.65%), No. of images 818, len(image9)=1626\n",
            "CPU times: user 48min 47s, sys: 1min 41s, total: 50min 28s\n",
            "Wall time: 40min 36s\n"
          ],
          "name": "stdout"
        }
      ]
    },
    {
      "metadata": {
        "id": "Gsho1URAsr1O",
        "colab_type": "code",
        "colab": {
          "base_uri": "https://localhost:8080/",
          "height": 170
        },
        "outputId": "d04a51c2-d71c-4dac-c280-6c861effa582"
      },
      "cell_type": "code",
      "source": [
        "print('winold: ', winold)\n",
        "print('equal: ', equal)\n",
        "print('winnew: ', winnew)\n",
        "print('S: (new): ', 100.0*sumS/sumN)\n",
        "print('S1: (old): ', 100.0*sumS1/sumN)\n",
        "print('Sboth: (new): ', 100.0*sumSboth/sumN)\n",
        "print('AVG len winold: ', 1.0*lenBetterOld/winold)\n",
        "print('AVG len winnew: ', 1.0*lenBetterNew/winnew)\n",
        "print('No of evaluation images: ', sumN)"
      ],
      "execution_count": 80,
      "outputs": [
        {
          "output_type": "stream",
          "text": [
            "winold:  2\n",
            "equal:  0\n",
            "winnew:  23\n",
            "S: (new):  84.98246359868212\n",
            "S1: (old):  82.20852375385269\n",
            "Sboth: (new):  86.81581464555214\n",
            "AVG len winold:  1536.0\n",
            "AVG len winnew:  1503.7391304347825\n",
            "No of evaluation images:  18818\n"
          ],
          "name": "stdout"
        }
      ]
    },
    {
      "metadata": {
        "id": "j7VGCyvps3Y6",
        "colab_type": "code",
        "colab": {}
      },
      "cell_type": "code",
      "source": [
        ""
      ],
      "execution_count": 0,
      "outputs": []
    }
  ]
}